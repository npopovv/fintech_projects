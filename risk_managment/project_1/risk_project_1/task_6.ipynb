{
  "cells": [
    {
      "cell_type": "code",
      "execution_count": null,
      "id": "50194e32",
      "metadata": {
        "id": "50194e32"
      },
      "outputs": [],
      "source": [
        "import pandas as pd\n",
        "pd.set_option('display.max_columns', None)\n",
        "import numpy as np\n",
        "from scipy import stats\n",
        "from scipy.stats import norm\n",
        "\n",
        "import warnings\n",
        "warnings.filterwarnings('ignore')\n",
        "\n",
        "import matplotlib.pyplot as plt\n",
        "import seaborn as sns"
      ]
    },
    {
      "cell_type": "code",
      "source": [
        "from google.colab import drive\n",
        "drive.mount('/content/drive')"
      ],
      "metadata": {
        "colab": {
          "base_uri": "https://localhost:8080/"
        },
        "id": "V2jCWh1ivDUC",
        "outputId": "c6214596-6c01-4895-b88f-8a7d99e65b90"
      },
      "id": "V2jCWh1ivDUC",
      "execution_count": null,
      "outputs": [
        {
          "output_type": "stream",
          "name": "stdout",
          "text": [
            "Drive already mounted at /content/drive; to attempt to forcibly remount, call drive.mount(\"/content/drive\", force_remount=True).\n"
          ]
        }
      ]
    },
    {
      "cell_type": "code",
      "source": [
        "%cd /content/drive/MyDrive/Вшэ/Риск менеджмент/RM project 1/"
      ],
      "metadata": {
        "colab": {
          "base_uri": "https://localhost:8080/"
        },
        "id": "6UOmF9Zcu-tE",
        "outputId": "0b71ebb3-5678-4246-9590-01c2f79c0369"
      },
      "id": "6UOmF9Zcu-tE",
      "execution_count": null,
      "outputs": [
        {
          "output_type": "stream",
          "name": "stdout",
          "text": [
            "/content/drive/MyDrive/Вшэ/Риск менеджмент/RM project 1\n"
          ]
        }
      ]
    },
    {
      "cell_type": "code",
      "execution_count": null,
      "id": "e43957c6-1e1b-491b-a627-6ebe2ad9bf8f",
      "metadata": {
        "id": "e43957c6-1e1b-491b-a627-6ebe2ad9bf8f"
      },
      "outputs": [],
      "source": [
        "oot = pd.read_csv('task6_oot.csv')\n",
        "oos = pd.read_csv('task6_test.csv')\n",
        "train = pd.read_csv('task6_train.csv')"
      ]
    },
    {
      "cell_type": "code",
      "execution_count": null,
      "id": "9916361d-b453-4a51-a6dc-c3f078fc2ef9",
      "metadata": {
        "colab": {
          "base_uri": "https://localhost:8080/",
          "height": 206
        },
        "id": "9916361d-b453-4a51-a6dc-c3f078fc2ef9",
        "outputId": "0737b764-4b17-4330-d793-d471bf75a90e"
      },
      "outputs": [
        {
          "output_type": "execute_result",
          "data": {
            "text/plain": [
              "   Unnamed: 0  funded_amnt  train_pred     issue_d\n",
              "0           0      35000.0    0.065911  2015-07-01\n",
              "1           1      21000.0    0.440009  2016-02-01\n",
              "2           2      17575.0    0.460386  2014-01-01\n",
              "3           3       7000.0    0.006583  2014-07-01\n",
              "4           4      13000.0    0.006125  2014-05-01"
            ],
            "text/html": [
              "\n",
              "  <div id=\"df-3c289a55-f47c-4087-ab73-b3c8c32dd05f\" class=\"colab-df-container\">\n",
              "    <div>\n",
              "<style scoped>\n",
              "    .dataframe tbody tr th:only-of-type {\n",
              "        vertical-align: middle;\n",
              "    }\n",
              "\n",
              "    .dataframe tbody tr th {\n",
              "        vertical-align: top;\n",
              "    }\n",
              "\n",
              "    .dataframe thead th {\n",
              "        text-align: right;\n",
              "    }\n",
              "</style>\n",
              "<table border=\"1\" class=\"dataframe\">\n",
              "  <thead>\n",
              "    <tr style=\"text-align: right;\">\n",
              "      <th></th>\n",
              "      <th>Unnamed: 0</th>\n",
              "      <th>funded_amnt</th>\n",
              "      <th>train_pred</th>\n",
              "      <th>issue_d</th>\n",
              "    </tr>\n",
              "  </thead>\n",
              "  <tbody>\n",
              "    <tr>\n",
              "      <th>0</th>\n",
              "      <td>0</td>\n",
              "      <td>35000.0</td>\n",
              "      <td>0.065911</td>\n",
              "      <td>2015-07-01</td>\n",
              "    </tr>\n",
              "    <tr>\n",
              "      <th>1</th>\n",
              "      <td>1</td>\n",
              "      <td>21000.0</td>\n",
              "      <td>0.440009</td>\n",
              "      <td>2016-02-01</td>\n",
              "    </tr>\n",
              "    <tr>\n",
              "      <th>2</th>\n",
              "      <td>2</td>\n",
              "      <td>17575.0</td>\n",
              "      <td>0.460386</td>\n",
              "      <td>2014-01-01</td>\n",
              "    </tr>\n",
              "    <tr>\n",
              "      <th>3</th>\n",
              "      <td>3</td>\n",
              "      <td>7000.0</td>\n",
              "      <td>0.006583</td>\n",
              "      <td>2014-07-01</td>\n",
              "    </tr>\n",
              "    <tr>\n",
              "      <th>4</th>\n",
              "      <td>4</td>\n",
              "      <td>13000.0</td>\n",
              "      <td>0.006125</td>\n",
              "      <td>2014-05-01</td>\n",
              "    </tr>\n",
              "  </tbody>\n",
              "</table>\n",
              "</div>\n",
              "    <div class=\"colab-df-buttons\">\n",
              "\n",
              "  <div class=\"colab-df-container\">\n",
              "    <button class=\"colab-df-convert\" onclick=\"convertToInteractive('df-3c289a55-f47c-4087-ab73-b3c8c32dd05f')\"\n",
              "            title=\"Convert this dataframe to an interactive table.\"\n",
              "            style=\"display:none;\">\n",
              "\n",
              "  <svg xmlns=\"http://www.w3.org/2000/svg\" height=\"24px\" viewBox=\"0 -960 960 960\">\n",
              "    <path d=\"M120-120v-720h720v720H120Zm60-500h600v-160H180v160Zm220 220h160v-160H400v160Zm0 220h160v-160H400v160ZM180-400h160v-160H180v160Zm440 0h160v-160H620v160ZM180-180h160v-160H180v160Zm440 0h160v-160H620v160Z\"/>\n",
              "  </svg>\n",
              "    </button>\n",
              "\n",
              "  <style>\n",
              "    .colab-df-container {\n",
              "      display:flex;\n",
              "      gap: 12px;\n",
              "    }\n",
              "\n",
              "    .colab-df-convert {\n",
              "      background-color: #E8F0FE;\n",
              "      border: none;\n",
              "      border-radius: 50%;\n",
              "      cursor: pointer;\n",
              "      display: none;\n",
              "      fill: #1967D2;\n",
              "      height: 32px;\n",
              "      padding: 0 0 0 0;\n",
              "      width: 32px;\n",
              "    }\n",
              "\n",
              "    .colab-df-convert:hover {\n",
              "      background-color: #E2EBFA;\n",
              "      box-shadow: 0px 1px 2px rgba(60, 64, 67, 0.3), 0px 1px 3px 1px rgba(60, 64, 67, 0.15);\n",
              "      fill: #174EA6;\n",
              "    }\n",
              "\n",
              "    .colab-df-buttons div {\n",
              "      margin-bottom: 4px;\n",
              "    }\n",
              "\n",
              "    [theme=dark] .colab-df-convert {\n",
              "      background-color: #3B4455;\n",
              "      fill: #D2E3FC;\n",
              "    }\n",
              "\n",
              "    [theme=dark] .colab-df-convert:hover {\n",
              "      background-color: #434B5C;\n",
              "      box-shadow: 0px 1px 3px 1px rgba(0, 0, 0, 0.15);\n",
              "      filter: drop-shadow(0px 1px 2px rgba(0, 0, 0, 0.3));\n",
              "      fill: #FFFFFF;\n",
              "    }\n",
              "  </style>\n",
              "\n",
              "    <script>\n",
              "      const buttonEl =\n",
              "        document.querySelector('#df-3c289a55-f47c-4087-ab73-b3c8c32dd05f button.colab-df-convert');\n",
              "      buttonEl.style.display =\n",
              "        google.colab.kernel.accessAllowed ? 'block' : 'none';\n",
              "\n",
              "      async function convertToInteractive(key) {\n",
              "        const element = document.querySelector('#df-3c289a55-f47c-4087-ab73-b3c8c32dd05f');\n",
              "        const dataTable =\n",
              "          await google.colab.kernel.invokeFunction('convertToInteractive',\n",
              "                                                    [key], {});\n",
              "        if (!dataTable) return;\n",
              "\n",
              "        const docLinkHtml = 'Like what you see? Visit the ' +\n",
              "          '<a target=\"_blank\" href=https://colab.research.google.com/notebooks/data_table.ipynb>data table notebook</a>'\n",
              "          + ' to learn more about interactive tables.';\n",
              "        element.innerHTML = '';\n",
              "        dataTable['output_type'] = 'display_data';\n",
              "        await google.colab.output.renderOutput(dataTable, element);\n",
              "        const docLink = document.createElement('div');\n",
              "        docLink.innerHTML = docLinkHtml;\n",
              "        element.appendChild(docLink);\n",
              "      }\n",
              "    </script>\n",
              "  </div>\n",
              "\n",
              "\n",
              "<div id=\"df-49f08225-020f-4f2d-be74-829c9e2bc8f8\">\n",
              "  <button class=\"colab-df-quickchart\" onclick=\"quickchart('df-49f08225-020f-4f2d-be74-829c9e2bc8f8')\"\n",
              "            title=\"Suggest charts\"\n",
              "            style=\"display:none;\">\n",
              "\n",
              "<svg xmlns=\"http://www.w3.org/2000/svg\" height=\"24px\"viewBox=\"0 0 24 24\"\n",
              "     width=\"24px\">\n",
              "    <g>\n",
              "        <path d=\"M19 3H5c-1.1 0-2 .9-2 2v14c0 1.1.9 2 2 2h14c1.1 0 2-.9 2-2V5c0-1.1-.9-2-2-2zM9 17H7v-7h2v7zm4 0h-2V7h2v10zm4 0h-2v-4h2v4z\"/>\n",
              "    </g>\n",
              "</svg>\n",
              "  </button>\n",
              "\n",
              "<style>\n",
              "  .colab-df-quickchart {\n",
              "      --bg-color: #E8F0FE;\n",
              "      --fill-color: #1967D2;\n",
              "      --hover-bg-color: #E2EBFA;\n",
              "      --hover-fill-color: #174EA6;\n",
              "      --disabled-fill-color: #AAA;\n",
              "      --disabled-bg-color: #DDD;\n",
              "  }\n",
              "\n",
              "  [theme=dark] .colab-df-quickchart {\n",
              "      --bg-color: #3B4455;\n",
              "      --fill-color: #D2E3FC;\n",
              "      --hover-bg-color: #434B5C;\n",
              "      --hover-fill-color: #FFFFFF;\n",
              "      --disabled-bg-color: #3B4455;\n",
              "      --disabled-fill-color: #666;\n",
              "  }\n",
              "\n",
              "  .colab-df-quickchart {\n",
              "    background-color: var(--bg-color);\n",
              "    border: none;\n",
              "    border-radius: 50%;\n",
              "    cursor: pointer;\n",
              "    display: none;\n",
              "    fill: var(--fill-color);\n",
              "    height: 32px;\n",
              "    padding: 0;\n",
              "    width: 32px;\n",
              "  }\n",
              "\n",
              "  .colab-df-quickchart:hover {\n",
              "    background-color: var(--hover-bg-color);\n",
              "    box-shadow: 0 1px 2px rgba(60, 64, 67, 0.3), 0 1px 3px 1px rgba(60, 64, 67, 0.15);\n",
              "    fill: var(--button-hover-fill-color);\n",
              "  }\n",
              "\n",
              "  .colab-df-quickchart-complete:disabled,\n",
              "  .colab-df-quickchart-complete:disabled:hover {\n",
              "    background-color: var(--disabled-bg-color);\n",
              "    fill: var(--disabled-fill-color);\n",
              "    box-shadow: none;\n",
              "  }\n",
              "\n",
              "  .colab-df-spinner {\n",
              "    border: 2px solid var(--fill-color);\n",
              "    border-color: transparent;\n",
              "    border-bottom-color: var(--fill-color);\n",
              "    animation:\n",
              "      spin 1s steps(1) infinite;\n",
              "  }\n",
              "\n",
              "  @keyframes spin {\n",
              "    0% {\n",
              "      border-color: transparent;\n",
              "      border-bottom-color: var(--fill-color);\n",
              "      border-left-color: var(--fill-color);\n",
              "    }\n",
              "    20% {\n",
              "      border-color: transparent;\n",
              "      border-left-color: var(--fill-color);\n",
              "      border-top-color: var(--fill-color);\n",
              "    }\n",
              "    30% {\n",
              "      border-color: transparent;\n",
              "      border-left-color: var(--fill-color);\n",
              "      border-top-color: var(--fill-color);\n",
              "      border-right-color: var(--fill-color);\n",
              "    }\n",
              "    40% {\n",
              "      border-color: transparent;\n",
              "      border-right-color: var(--fill-color);\n",
              "      border-top-color: var(--fill-color);\n",
              "    }\n",
              "    60% {\n",
              "      border-color: transparent;\n",
              "      border-right-color: var(--fill-color);\n",
              "    }\n",
              "    80% {\n",
              "      border-color: transparent;\n",
              "      border-right-color: var(--fill-color);\n",
              "      border-bottom-color: var(--fill-color);\n",
              "    }\n",
              "    90% {\n",
              "      border-color: transparent;\n",
              "      border-bottom-color: var(--fill-color);\n",
              "    }\n",
              "  }\n",
              "</style>\n",
              "\n",
              "  <script>\n",
              "    async function quickchart(key) {\n",
              "      const quickchartButtonEl =\n",
              "        document.querySelector('#' + key + ' button');\n",
              "      quickchartButtonEl.disabled = true;  // To prevent multiple clicks.\n",
              "      quickchartButtonEl.classList.add('colab-df-spinner');\n",
              "      try {\n",
              "        const charts = await google.colab.kernel.invokeFunction(\n",
              "            'suggestCharts', [key], {});\n",
              "      } catch (error) {\n",
              "        console.error('Error during call to suggestCharts:', error);\n",
              "      }\n",
              "      quickchartButtonEl.classList.remove('colab-df-spinner');\n",
              "      quickchartButtonEl.classList.add('colab-df-quickchart-complete');\n",
              "    }\n",
              "    (() => {\n",
              "      let quickchartButtonEl =\n",
              "        document.querySelector('#df-49f08225-020f-4f2d-be74-829c9e2bc8f8 button');\n",
              "      quickchartButtonEl.style.display =\n",
              "        google.colab.kernel.accessAllowed ? 'block' : 'none';\n",
              "    })();\n",
              "  </script>\n",
              "</div>\n",
              "    </div>\n",
              "  </div>\n"
            ],
            "application/vnd.google.colaboratory.intrinsic+json": {
              "type": "dataframe",
              "variable_name": "train"
            }
          },
          "metadata": {},
          "execution_count": 7
        }
      ],
      "source": [
        "train.head()"
      ]
    },
    {
      "cell_type": "code",
      "execution_count": null,
      "id": "70168f4d-7624-4a92-a1dd-42d2a478fae8",
      "metadata": {
        "id": "70168f4d-7624-4a92-a1dd-42d2a478fae8"
      },
      "outputs": [],
      "source": [
        "oot=oot.rename(columns={'oot_pred':'pd'})\n",
        "oos=oos.rename(columns={'test_pred':'pd'})\n",
        "train=train.rename(columns={'train_pred':'pd'})"
      ]
    },
    {
      "cell_type": "code",
      "execution_count": null,
      "id": "363edb37-971d-457e-8163-1b663d7144e3",
      "metadata": {
        "id": "363edb37-971d-457e-8163-1b663d7144e3"
      },
      "outputs": [],
      "source": [
        "df_inter=pd.concat([oot,oos,train])"
      ]
    },
    {
      "cell_type": "code",
      "execution_count": null,
      "id": "890aeb2c-dbdb-4a5b-8d4a-4f6c91f8c43d",
      "metadata": {
        "id": "890aeb2c-dbdb-4a5b-8d4a-4f6c91f8c43d"
      },
      "outputs": [],
      "source": [
        "df_inter = df_inter.loc[df_inter.issue_d>='2017-01-01', ['funded_amnt','pd']]"
      ]
    },
    {
      "cell_type": "code",
      "execution_count": null,
      "id": "29249b39-554a-4db4-897f-261b78596dcd",
      "metadata": {
        "colab": {
          "base_uri": "https://localhost:8080/",
          "height": 424
        },
        "id": "29249b39-554a-4db4-897f-261b78596dcd",
        "outputId": "b87aa360-d57c-485c-c1ad-a4e377d35186"
      },
      "outputs": [
        {
          "output_type": "execute_result",
          "data": {
            "text/plain": [
              "         funded_amnt        pd\n",
              "0            10000.0  0.007069\n",
              "1            12550.0  0.009449\n",
              "2            20500.0  0.013328\n",
              "3            24000.0  0.018211\n",
              "4             5000.0  0.005445\n",
              "...              ...       ...\n",
              "1298848      40000.0  0.044734\n",
              "1298849      25000.0  0.464248\n",
              "1298851      12000.0  0.786167\n",
              "1298852      16000.0  0.103304\n",
              "1298854      12000.0  0.721980\n",
              "\n",
              "[938821 rows x 2 columns]"
            ],
            "text/html": [
              "\n",
              "  <div id=\"df-438a75e3-ace7-4a78-8002-3de36c301514\" class=\"colab-df-container\">\n",
              "    <div>\n",
              "<style scoped>\n",
              "    .dataframe tbody tr th:only-of-type {\n",
              "        vertical-align: middle;\n",
              "    }\n",
              "\n",
              "    .dataframe tbody tr th {\n",
              "        vertical-align: top;\n",
              "    }\n",
              "\n",
              "    .dataframe thead th {\n",
              "        text-align: right;\n",
              "    }\n",
              "</style>\n",
              "<table border=\"1\" class=\"dataframe\">\n",
              "  <thead>\n",
              "    <tr style=\"text-align: right;\">\n",
              "      <th></th>\n",
              "      <th>funded_amnt</th>\n",
              "      <th>pd</th>\n",
              "    </tr>\n",
              "  </thead>\n",
              "  <tbody>\n",
              "    <tr>\n",
              "      <th>0</th>\n",
              "      <td>10000.0</td>\n",
              "      <td>0.007069</td>\n",
              "    </tr>\n",
              "    <tr>\n",
              "      <th>1</th>\n",
              "      <td>12550.0</td>\n",
              "      <td>0.009449</td>\n",
              "    </tr>\n",
              "    <tr>\n",
              "      <th>2</th>\n",
              "      <td>20500.0</td>\n",
              "      <td>0.013328</td>\n",
              "    </tr>\n",
              "    <tr>\n",
              "      <th>3</th>\n",
              "      <td>24000.0</td>\n",
              "      <td>0.018211</td>\n",
              "    </tr>\n",
              "    <tr>\n",
              "      <th>4</th>\n",
              "      <td>5000.0</td>\n",
              "      <td>0.005445</td>\n",
              "    </tr>\n",
              "    <tr>\n",
              "      <th>...</th>\n",
              "      <td>...</td>\n",
              "      <td>...</td>\n",
              "    </tr>\n",
              "    <tr>\n",
              "      <th>1298848</th>\n",
              "      <td>40000.0</td>\n",
              "      <td>0.044734</td>\n",
              "    </tr>\n",
              "    <tr>\n",
              "      <th>1298849</th>\n",
              "      <td>25000.0</td>\n",
              "      <td>0.464248</td>\n",
              "    </tr>\n",
              "    <tr>\n",
              "      <th>1298851</th>\n",
              "      <td>12000.0</td>\n",
              "      <td>0.786167</td>\n",
              "    </tr>\n",
              "    <tr>\n",
              "      <th>1298852</th>\n",
              "      <td>16000.0</td>\n",
              "      <td>0.103304</td>\n",
              "    </tr>\n",
              "    <tr>\n",
              "      <th>1298854</th>\n",
              "      <td>12000.0</td>\n",
              "      <td>0.721980</td>\n",
              "    </tr>\n",
              "  </tbody>\n",
              "</table>\n",
              "<p>938821 rows × 2 columns</p>\n",
              "</div>\n",
              "    <div class=\"colab-df-buttons\">\n",
              "\n",
              "  <div class=\"colab-df-container\">\n",
              "    <button class=\"colab-df-convert\" onclick=\"convertToInteractive('df-438a75e3-ace7-4a78-8002-3de36c301514')\"\n",
              "            title=\"Convert this dataframe to an interactive table.\"\n",
              "            style=\"display:none;\">\n",
              "\n",
              "  <svg xmlns=\"http://www.w3.org/2000/svg\" height=\"24px\" viewBox=\"0 -960 960 960\">\n",
              "    <path d=\"M120-120v-720h720v720H120Zm60-500h600v-160H180v160Zm220 220h160v-160H400v160Zm0 220h160v-160H400v160ZM180-400h160v-160H180v160Zm440 0h160v-160H620v160ZM180-180h160v-160H180v160Zm440 0h160v-160H620v160Z\"/>\n",
              "  </svg>\n",
              "    </button>\n",
              "\n",
              "  <style>\n",
              "    .colab-df-container {\n",
              "      display:flex;\n",
              "      gap: 12px;\n",
              "    }\n",
              "\n",
              "    .colab-df-convert {\n",
              "      background-color: #E8F0FE;\n",
              "      border: none;\n",
              "      border-radius: 50%;\n",
              "      cursor: pointer;\n",
              "      display: none;\n",
              "      fill: #1967D2;\n",
              "      height: 32px;\n",
              "      padding: 0 0 0 0;\n",
              "      width: 32px;\n",
              "    }\n",
              "\n",
              "    .colab-df-convert:hover {\n",
              "      background-color: #E2EBFA;\n",
              "      box-shadow: 0px 1px 2px rgba(60, 64, 67, 0.3), 0px 1px 3px 1px rgba(60, 64, 67, 0.15);\n",
              "      fill: #174EA6;\n",
              "    }\n",
              "\n",
              "    .colab-df-buttons div {\n",
              "      margin-bottom: 4px;\n",
              "    }\n",
              "\n",
              "    [theme=dark] .colab-df-convert {\n",
              "      background-color: #3B4455;\n",
              "      fill: #D2E3FC;\n",
              "    }\n",
              "\n",
              "    [theme=dark] .colab-df-convert:hover {\n",
              "      background-color: #434B5C;\n",
              "      box-shadow: 0px 1px 3px 1px rgba(0, 0, 0, 0.15);\n",
              "      filter: drop-shadow(0px 1px 2px rgba(0, 0, 0, 0.3));\n",
              "      fill: #FFFFFF;\n",
              "    }\n",
              "  </style>\n",
              "\n",
              "    <script>\n",
              "      const buttonEl =\n",
              "        document.querySelector('#df-438a75e3-ace7-4a78-8002-3de36c301514 button.colab-df-convert');\n",
              "      buttonEl.style.display =\n",
              "        google.colab.kernel.accessAllowed ? 'block' : 'none';\n",
              "\n",
              "      async function convertToInteractive(key) {\n",
              "        const element = document.querySelector('#df-438a75e3-ace7-4a78-8002-3de36c301514');\n",
              "        const dataTable =\n",
              "          await google.colab.kernel.invokeFunction('convertToInteractive',\n",
              "                                                    [key], {});\n",
              "        if (!dataTable) return;\n",
              "\n",
              "        const docLinkHtml = 'Like what you see? Visit the ' +\n",
              "          '<a target=\"_blank\" href=https://colab.research.google.com/notebooks/data_table.ipynb>data table notebook</a>'\n",
              "          + ' to learn more about interactive tables.';\n",
              "        element.innerHTML = '';\n",
              "        dataTable['output_type'] = 'display_data';\n",
              "        await google.colab.output.renderOutput(dataTable, element);\n",
              "        const docLink = document.createElement('div');\n",
              "        docLink.innerHTML = docLinkHtml;\n",
              "        element.appendChild(docLink);\n",
              "      }\n",
              "    </script>\n",
              "  </div>\n",
              "\n",
              "\n",
              "<div id=\"df-fd476aab-6bd3-4f28-ad25-8c5e18dacc0a\">\n",
              "  <button class=\"colab-df-quickchart\" onclick=\"quickchart('df-fd476aab-6bd3-4f28-ad25-8c5e18dacc0a')\"\n",
              "            title=\"Suggest charts\"\n",
              "            style=\"display:none;\">\n",
              "\n",
              "<svg xmlns=\"http://www.w3.org/2000/svg\" height=\"24px\"viewBox=\"0 0 24 24\"\n",
              "     width=\"24px\">\n",
              "    <g>\n",
              "        <path d=\"M19 3H5c-1.1 0-2 .9-2 2v14c0 1.1.9 2 2 2h14c1.1 0 2-.9 2-2V5c0-1.1-.9-2-2-2zM9 17H7v-7h2v7zm4 0h-2V7h2v10zm4 0h-2v-4h2v4z\"/>\n",
              "    </g>\n",
              "</svg>\n",
              "  </button>\n",
              "\n",
              "<style>\n",
              "  .colab-df-quickchart {\n",
              "      --bg-color: #E8F0FE;\n",
              "      --fill-color: #1967D2;\n",
              "      --hover-bg-color: #E2EBFA;\n",
              "      --hover-fill-color: #174EA6;\n",
              "      --disabled-fill-color: #AAA;\n",
              "      --disabled-bg-color: #DDD;\n",
              "  }\n",
              "\n",
              "  [theme=dark] .colab-df-quickchart {\n",
              "      --bg-color: #3B4455;\n",
              "      --fill-color: #D2E3FC;\n",
              "      --hover-bg-color: #434B5C;\n",
              "      --hover-fill-color: #FFFFFF;\n",
              "      --disabled-bg-color: #3B4455;\n",
              "      --disabled-fill-color: #666;\n",
              "  }\n",
              "\n",
              "  .colab-df-quickchart {\n",
              "    background-color: var(--bg-color);\n",
              "    border: none;\n",
              "    border-radius: 50%;\n",
              "    cursor: pointer;\n",
              "    display: none;\n",
              "    fill: var(--fill-color);\n",
              "    height: 32px;\n",
              "    padding: 0;\n",
              "    width: 32px;\n",
              "  }\n",
              "\n",
              "  .colab-df-quickchart:hover {\n",
              "    background-color: var(--hover-bg-color);\n",
              "    box-shadow: 0 1px 2px rgba(60, 64, 67, 0.3), 0 1px 3px 1px rgba(60, 64, 67, 0.15);\n",
              "    fill: var(--button-hover-fill-color);\n",
              "  }\n",
              "\n",
              "  .colab-df-quickchart-complete:disabled,\n",
              "  .colab-df-quickchart-complete:disabled:hover {\n",
              "    background-color: var(--disabled-bg-color);\n",
              "    fill: var(--disabled-fill-color);\n",
              "    box-shadow: none;\n",
              "  }\n",
              "\n",
              "  .colab-df-spinner {\n",
              "    border: 2px solid var(--fill-color);\n",
              "    border-color: transparent;\n",
              "    border-bottom-color: var(--fill-color);\n",
              "    animation:\n",
              "      spin 1s steps(1) infinite;\n",
              "  }\n",
              "\n",
              "  @keyframes spin {\n",
              "    0% {\n",
              "      border-color: transparent;\n",
              "      border-bottom-color: var(--fill-color);\n",
              "      border-left-color: var(--fill-color);\n",
              "    }\n",
              "    20% {\n",
              "      border-color: transparent;\n",
              "      border-left-color: var(--fill-color);\n",
              "      border-top-color: var(--fill-color);\n",
              "    }\n",
              "    30% {\n",
              "      border-color: transparent;\n",
              "      border-left-color: var(--fill-color);\n",
              "      border-top-color: var(--fill-color);\n",
              "      border-right-color: var(--fill-color);\n",
              "    }\n",
              "    40% {\n",
              "      border-color: transparent;\n",
              "      border-right-color: var(--fill-color);\n",
              "      border-top-color: var(--fill-color);\n",
              "    }\n",
              "    60% {\n",
              "      border-color: transparent;\n",
              "      border-right-color: var(--fill-color);\n",
              "    }\n",
              "    80% {\n",
              "      border-color: transparent;\n",
              "      border-right-color: var(--fill-color);\n",
              "      border-bottom-color: var(--fill-color);\n",
              "    }\n",
              "    90% {\n",
              "      border-color: transparent;\n",
              "      border-bottom-color: var(--fill-color);\n",
              "    }\n",
              "  }\n",
              "</style>\n",
              "\n",
              "  <script>\n",
              "    async function quickchart(key) {\n",
              "      const quickchartButtonEl =\n",
              "        document.querySelector('#' + key + ' button');\n",
              "      quickchartButtonEl.disabled = true;  // To prevent multiple clicks.\n",
              "      quickchartButtonEl.classList.add('colab-df-spinner');\n",
              "      try {\n",
              "        const charts = await google.colab.kernel.invokeFunction(\n",
              "            'suggestCharts', [key], {});\n",
              "      } catch (error) {\n",
              "        console.error('Error during call to suggestCharts:', error);\n",
              "      }\n",
              "      quickchartButtonEl.classList.remove('colab-df-spinner');\n",
              "      quickchartButtonEl.classList.add('colab-df-quickchart-complete');\n",
              "    }\n",
              "    (() => {\n",
              "      let quickchartButtonEl =\n",
              "        document.querySelector('#df-fd476aab-6bd3-4f28-ad25-8c5e18dacc0a button');\n",
              "      quickchartButtonEl.style.display =\n",
              "        google.colab.kernel.accessAllowed ? 'block' : 'none';\n",
              "    })();\n",
              "  </script>\n",
              "</div>\n",
              "    </div>\n",
              "  </div>\n"
            ],
            "application/vnd.google.colaboratory.intrinsic+json": {
              "type": "dataframe",
              "variable_name": "df_inter"
            }
          },
          "metadata": {},
          "execution_count": 11
        }
      ],
      "source": [
        "df_inter"
      ]
    },
    {
      "cell_type": "code",
      "execution_count": null,
      "id": "8cf891a5-0c16-4028-8618-84153b57c051",
      "metadata": {
        "colab": {
          "base_uri": "https://localhost:8080/"
        },
        "id": "8cf891a5-0c16-4028-8618-84153b57c051",
        "outputId": "0e58a546-f44d-4193-baf9-4471e85d1033"
      },
      "outputs": [
        {
          "output_type": "execute_result",
          "data": {
            "text/plain": [
              "14521220225.0"
            ]
          },
          "metadata": {},
          "execution_count": 12
        }
      ],
      "source": [
        "df_inter.funded_amnt.sum()"
      ]
    },
    {
      "cell_type": "code",
      "execution_count": null,
      "id": "3aba30be-bd12-43be-9909-3a34ce19b818",
      "metadata": {
        "id": "3aba30be-bd12-43be-9909-3a34ce19b818"
      },
      "outputs": [],
      "source": [
        "df_uninter = pd.read_csv('task_6.csv')"
      ]
    },
    {
      "cell_type": "code",
      "execution_count": null,
      "id": "a8fd84ab-6044-49d9-b291-e8be87fd08e5",
      "metadata": {
        "id": "a8fd84ab-6044-49d9-b291-e8be87fd08e5",
        "outputId": "8b9305cf-22aa-4205-e06a-75400aae823c"
      },
      "outputs": [
        {
          "data": {
            "text/html": [
              "<div>\n",
              "<style scoped>\n",
              "    .dataframe tbody tr th:only-of-type {\n",
              "        vertical-align: middle;\n",
              "    }\n",
              "\n",
              "    .dataframe tbody tr th {\n",
              "        vertical-align: top;\n",
              "    }\n",
              "\n",
              "    .dataframe thead th {\n",
              "        text-align: right;\n",
              "    }\n",
              "</style>\n",
              "<table border=\"1\" class=\"dataframe\">\n",
              "  <thead>\n",
              "    <tr style=\"text-align: right;\">\n",
              "      <th></th>\n",
              "      <th>funded_amnt</th>\n",
              "      <th>pd</th>\n",
              "    </tr>\n",
              "  </thead>\n",
              "  <tbody>\n",
              "    <tr>\n",
              "      <th>6</th>\n",
              "      <td>25000.0</td>\n",
              "      <td>0.009956</td>\n",
              "    </tr>\n",
              "    <tr>\n",
              "      <th>10</th>\n",
              "      <td>22000.0</td>\n",
              "      <td>0.005948</td>\n",
              "    </tr>\n",
              "    <tr>\n",
              "      <th>12</th>\n",
              "      <td>15600.0</td>\n",
              "      <td>0.003453</td>\n",
              "    </tr>\n",
              "    <tr>\n",
              "      <th>16</th>\n",
              "      <td>30000.0</td>\n",
              "      <td>0.011286</td>\n",
              "    </tr>\n",
              "    <tr>\n",
              "      <th>22</th>\n",
              "      <td>15000.0</td>\n",
              "      <td>0.796503</td>\n",
              "    </tr>\n",
              "    <tr>\n",
              "      <th>...</th>\n",
              "      <td>...</td>\n",
              "      <td>...</td>\n",
              "    </tr>\n",
              "    <tr>\n",
              "      <th>2029947</th>\n",
              "      <td>24000.0</td>\n",
              "      <td>0.002911</td>\n",
              "    </tr>\n",
              "    <tr>\n",
              "      <th>2029948</th>\n",
              "      <td>3000.0</td>\n",
              "      <td>0.020787</td>\n",
              "    </tr>\n",
              "    <tr>\n",
              "      <th>2029949</th>\n",
              "      <td>3200.0</td>\n",
              "      <td>0.047023</td>\n",
              "    </tr>\n",
              "    <tr>\n",
              "      <th>2029950</th>\n",
              "      <td>15000.0</td>\n",
              "      <td>0.052022</td>\n",
              "    </tr>\n",
              "    <tr>\n",
              "      <th>2029951</th>\n",
              "      <td>10000.0</td>\n",
              "      <td>0.550416</td>\n",
              "    </tr>\n",
              "  </tbody>\n",
              "</table>\n",
              "<p>938821 rows × 2 columns</p>\n",
              "</div>"
            ],
            "text/plain": [
              "         funded_amnt        pd\n",
              "6            25000.0  0.009956\n",
              "10           22000.0  0.005948\n",
              "12           15600.0  0.003453\n",
              "16           30000.0  0.011286\n",
              "22           15000.0  0.796503\n",
              "...              ...       ...\n",
              "2029947      24000.0  0.002911\n",
              "2029948       3000.0  0.020787\n",
              "2029949       3200.0  0.047023\n",
              "2029950      15000.0  0.052022\n",
              "2029951      10000.0  0.550416\n",
              "\n",
              "[938821 rows x 2 columns]"
            ]
          },
          "execution_count": 183,
          "metadata": {},
          "output_type": "execute_result"
        }
      ],
      "source": [
        "df_uninter=df_uninter.rename(columns={'pred':'pd'})\n",
        "df_uninter = df_uninter.loc[df_uninter.issue_d>='2017-01-01', ['funded_amnt','pd']]\n",
        "df_uninter"
      ]
    },
    {
      "cell_type": "markdown",
      "id": "087362e8-a854-4f61-889b-7bdf23d3cfbe",
      "metadata": {
        "id": "087362e8-a854-4f61-889b-7bdf23d3cfbe"
      },
      "source": [
        "## Ожидаемые и неожидаемые убытки\n",
        "Портфель состоящий из *n* кредитов.\n",
        "\n",
        "Ожидаемые убытки (EL) портфеля за определенный временной промежуток (обычно 1 год):\n",
        "$$\n",
        "EL = PD_i * EAD_i * LGD_i\n",
        "$$\n",
        "\n",
        "Неожидаемые убытки (UL) портфеля за определенный временной промежуток (иногда эту величину называют кредитным VaR/credit VaR):\n",
        "\n",
        "$$\n",
        "UL = VaR_{99.9\\%} - EL\n",
        "$$\n",
        "\n",
        "Этот показатель отражает степень, в которой EL может быть превышен в экстремальных сценариях за данный период и для заданного доверительного интервала.\n",
        "Для рассчета неожидаемых убытков необходимо определить распределение убытков портфеля, которое оценивается с помощью однофакторной модели Васичека."
      ]
    },
    {
      "cell_type": "markdown",
      "id": "aaad296f-86fa-4a37-b6cd-25e018c076b7",
      "metadata": {
        "id": "aaad296f-86fa-4a37-b6cd-25e018c076b7"
      },
      "source": [
        "## Модель Васичека\n",
        "\n",
        "Модель Васичека учитывает 2 причины дефолта: систематический риск (общий фактор экономики/сектора) и идиосинкратический риск конкретного контрагента.\n",
        "Вероятность дефолта одного кредита выражается через случайную величину $X_i$:\n",
        "\n",
        "$$\n",
        "X_i = \\sqrt{\\rho} * Z + \\sqrt{1 - \\rho} * \\phi_i\n",
        "$$\n",
        "\n",
        "where:\n",
        "   - $\\rho$ корреляция между дефолтами всех заёмщиков, отражает влияние систематического риска.\n",
        "   - $Z$ стандарная нормальная случайная величина, описывающая макроэкономическую ситуацию.\n",
        "   - $\\phi_i$ стандарная нормальная случайная величина, описывающая макроэкономическую ситуацию.  \n",
        "\n",
        "Кредит *i* считается в дефолте, если $X_i$ меньше расстояния до дефолта: $X_i < C_{thr}$."
      ]
    },
    {
      "cell_type": "markdown",
      "id": "30b4125a-eb45-4e37-83df-a2130fbc7f8d",
      "metadata": {
        "id": "30b4125a-eb45-4e37-83df-a2130fbc7f8d"
      },
      "source": [
        "### Interpretable model"
      ]
    },
    {
      "cell_type": "markdown",
      "id": "b2134c60-5f2e-458e-9cdf-54342cad890b",
      "metadata": {
        "id": "b2134c60-5f2e-458e-9cdf-54342cad890b"
      },
      "source": [
        "Expected loss counter"
      ]
    },
    {
      "cell_type": "code",
      "execution_count": null,
      "id": "9a026c27-245b-4050-8a8c-10f264c48949",
      "metadata": {
        "id": "9a026c27-245b-4050-8a8c-10f264c48949"
      },
      "outputs": [],
      "source": [
        "EAD = df_inter['funded_amnt']\n",
        "PD = df_inter['pd']\n",
        "\n",
        "df_inter['EL'] = PD*EAD #LGD=100%\n",
        "EL_inter = np.sum(df_inter['EL'])"
      ]
    },
    {
      "cell_type": "markdown",
      "id": "35887e53-b638-4712-b791-f4c299a8d22d",
      "metadata": {
        "id": "35887e53-b638-4712-b791-f4c299a8d22d"
      },
      "source": [
        "Var_99.9%"
      ]
    },
    {
      "cell_type": "code",
      "execution_count": null,
      "id": "ba883beb-b343-4b1a-b905-b5dda34b926d",
      "metadata": {
        "id": "ba883beb-b343-4b1a-b905-b5dda34b926d"
      },
      "outputs": [],
      "source": [
        "#calculation based on Vasiceka model\n",
        "N = df_inter.shape[0]\n",
        "\n",
        "PD = df_inter['pd']\n",
        "cred_thresholds = norm.ppf(PD)\n",
        "\n",
        "N_sim = 100\n",
        "Z = np.random.normal(size=N_sim)\n",
        "phi = np.random.normal(size=(N_sim, N))\n",
        "\n",
        "p1 = 0\n",
        "p2 = 0.06"
      ]
    },
    {
      "cell_type": "code",
      "execution_count": null,
      "id": "b634ad0c-3331-4eb0-99f0-9f8c641573df",
      "metadata": {
        "id": "b634ad0c-3331-4eb0-99f0-9f8c641573df"
      },
      "outputs": [],
      "source": [
        "#w/o correlation btw defaults\n",
        "loss_inter_1 = np.zeros(N_sim)\n",
        "\n",
        "for i in range(N_sim):\n",
        "    X = np.sqrt(p1) * Z[i] + np.sqrt(1-p1) * phi[i]\n",
        "    loss_inter_1[i] = np.dot(np.array(X < cred_thresholds), EAD)#LGD=100%\n",
        "\n",
        "#with correlation btw defaults\n",
        "loss_inter_2 = np.zeros(N_sim)\n",
        "\n",
        "for i in range(N_sim):\n",
        "    X = np.sqrt(p2) * Z[i] + np.sqrt(1-p2) * phi[i]\n",
        "    loss_inter_2[i] = np.dot(np.array(X < cred_thresholds), EAD)#LGD=100%"
      ]
    },
    {
      "cell_type": "markdown",
      "id": "170eda80-514d-4dc9-8501-fca4f9eb87a3",
      "metadata": {
        "id": "170eda80-514d-4dc9-8501-fca4f9eb87a3"
      },
      "source": [
        "Results for interpretable model:"
      ]
    },
    {
      "cell_type": "code",
      "execution_count": null,
      "id": "10516ffb-80ee-4f95-806d-74e3514fa4fb",
      "metadata": {
        "id": "10516ffb-80ee-4f95-806d-74e3514fa4fb",
        "outputId": "693e7ae6-18f4-454e-fd36-f9265a2124d5"
      },
      "outputs": [
        {
          "name": "stdout",
          "output_type": "stream",
          "text": [
            "EL_inter =  1263331997.2060091\n",
            "\n",
            " w/o corr btw defaults:\n",
            "UL_inter (point estimate) =  1264194066.0\n",
            "UL_inter (confidence interval) =  (1263014526.2052822, 1265373605.7947178)\n",
            "\n",
            " with corr btw defaults:\n",
            "UL_inter (point estimate) =  1239877328.0\n",
            "UL_inter (confidence interval) =  (1143234418.8583853, 1336520237.1416156)\n"
          ]
        }
      ],
      "source": [
        "print('EL_inter = ', EL_inter)\n",
        "\n",
        "print('\\n w/o corr btw defaults:')\n",
        "print('Var_99.9%_inter (point estimate) = ', loss_inter_1.mean())\n",
        "ci_inter_1 = norm.interval(confidence=0.999, loc=loss_inter_1.mean(), scale=stats.sem(loss_inter_1))\n",
        "print('Var_99.9%_inter (confidence interval) = ', ci_inter_1)\n",
        "\n",
        "print('\\n with corr btw defaults:')\n",
        "print('Var_99.9%_inter (point estimate) = ', loss_inter_2.mean())\n",
        "ci_inter_2 = norm.interval(confidence=0.999, loc=loss_inter_2.mean(), scale=stats.sem(loss_inter_2))\n",
        "print('Var_99.9%_inter (confidence interval) = ', ci_inter_2)"
      ]
    },
    {
      "cell_type": "markdown",
      "id": "9b68699d-b0bc-4a10-b672-ee62f2fd1314",
      "metadata": {
        "id": "9b68699d-b0bc-4a10-b672-ee62f2fd1314"
      },
      "source": [
        "#### Final capital (== UL) w/o corr btw defaults for interpretable model:"
      ]
    },
    {
      "cell_type": "code",
      "execution_count": null,
      "id": "d99f4208-1e69-4f66-ba1f-137b67aa8db7",
      "metadata": {
        "id": "d99f4208-1e69-4f66-ba1f-137b67aa8db7",
        "outputId": "81eb6f70-9dad-48f2-91cb-689b2374aa92"
      },
      "outputs": [
        {
          "name": "stdout",
          "output_type": "stream",
          "text": [
            "Point estimate of capital =  862068.7939908504\n",
            "Confidence interval of capital =  [-317471.00072694 2041608.58870864]\n"
          ]
        }
      ],
      "source": [
        "print('Point estimate of capital = ', loss_inter_1.mean() - EL_inter)\n",
        "print('Confidence interval of capital = ', list(ci_inter_1) - EL_inter)"
      ]
    },
    {
      "cell_type": "markdown",
      "id": "5fa4702d-e998-44d8-ab8c-ed50a369f552",
      "metadata": {
        "id": "5fa4702d-e998-44d8-ab8c-ed50a369f552"
      },
      "source": [
        "#### Final capital (== UL) with corr btw defaults for interpretable model:"
      ]
    },
    {
      "cell_type": "code",
      "execution_count": null,
      "id": "9aa109c8-a8f3-41b2-a8d3-43eaeb68e5c2",
      "metadata": {
        "id": "9aa109c8-a8f3-41b2-a8d3-43eaeb68e5c2",
        "outputId": "af79795c-8dfe-4268-e0d9-dcfd36c6498e"
      },
      "outputs": [
        {
          "name": "stdout",
          "output_type": "stream",
          "text": [
            "Point estimate of capital =  18370926.04399085\n",
            "Confidence interval of capital =  [-8.62139242e+07  1.22955776e+08]\n"
          ]
        }
      ],
      "source": [
        "print('Point estimate of capital = ', loss_inter_2.mean() - EL_inter)\n",
        "print('Confidence interval of capital = ', list(ci_inter_2) - EL_inter)"
      ]
    },
    {
      "cell_type": "markdown",
      "source": [],
      "metadata": {
        "id": "_JNJKjpcz9zH"
      },
      "id": "_JNJKjpcz9zH"
    },
    {
      "cell_type": "markdown",
      "id": "fc7aab67-f291-4f0a-a781-e9d241a5600f",
      "metadata": {
        "id": "fc7aab67-f291-4f0a-a781-e9d241a5600f"
      },
      "source": [
        "### Uninterpretable model"
      ]
    },
    {
      "cell_type": "markdown",
      "id": "c6ff56ea-ad76-49c7-be07-8dc6e6a4725d",
      "metadata": {
        "id": "c6ff56ea-ad76-49c7-be07-8dc6e6a4725d"
      },
      "source": [
        "Expected loss counter"
      ]
    },
    {
      "cell_type": "code",
      "execution_count": null,
      "id": "4bee1ad6-07ea-4390-a0c5-bda74ebde3fd",
      "metadata": {
        "id": "4bee1ad6-07ea-4390-a0c5-bda74ebde3fd"
      },
      "outputs": [],
      "source": [
        "EAD = df_uninter['funded_amnt']\n",
        "PD = df_uninter['pd']\n",
        "\n",
        "df_uninter['EL'] = PD*EAD #LGD=100%\n",
        "EL_uninter = np.sum(df_uninter['EL'])"
      ]
    },
    {
      "cell_type": "markdown",
      "id": "273bebae-3458-4d1e-9cf9-23b0bb4003f7",
      "metadata": {
        "id": "273bebae-3458-4d1e-9cf9-23b0bb4003f7"
      },
      "source": [
        "Var_99.9%"
      ]
    },
    {
      "cell_type": "code",
      "execution_count": null,
      "id": "1fc7bdc0-9a02-472f-9561-d54b8979d273",
      "metadata": {
        "id": "1fc7bdc0-9a02-472f-9561-d54b8979d273"
      },
      "outputs": [],
      "source": [
        "#calculation based on Vasiceka model\n",
        "N = df_uninter.shape[0]\n",
        "\n",
        "PD = df_uninter['pd']\n",
        "cred_thresholds = norm.ppf(PD)\n",
        "\n",
        "N_sim = 100\n",
        "Z = np.random.normal(size=N_sim)\n",
        "phi = np.random.normal(size=(N_sim, N))\n",
        "\n",
        "p1 = 0\n",
        "p2 = 0.06"
      ]
    },
    {
      "cell_type": "code",
      "execution_count": null,
      "id": "106c13bd-d33a-4c3c-83d3-e97a83c9b83e",
      "metadata": {
        "id": "106c13bd-d33a-4c3c-83d3-e97a83c9b83e"
      },
      "outputs": [],
      "source": [
        "#w/o correlation btw defaults\n",
        "loss_uninter_1 = np.zeros(N_sim)\n",
        "\n",
        "for i in range(N_sim):\n",
        "    X = np.sqrt(p1) * Z[i] + np.sqrt(1-p1) * phi[i]\n",
        "    loss_uninter_1[i] = np.dot(np.array(X < cred_thresholds), EAD)#LGD=100%\n",
        "\n",
        "#with correlation btw defaults\n",
        "loss_uninter_2 = np.zeros(N_sim)\n",
        "\n",
        "for i in range(N_sim):\n",
        "    X = np.sqrt(p2) * Z[i] + np.sqrt(1-p2) * phi[i]\n",
        "    loss_uninter_2[i] = np.dot(np.array(X < cred_thresholds), EAD)#LGD=100%"
      ]
    },
    {
      "cell_type": "markdown",
      "id": "17683025-546f-41f4-ae17-8ea4fd312ac8",
      "metadata": {
        "id": "17683025-546f-41f4-ae17-8ea4fd312ac8"
      },
      "source": [
        "Results for uninterpretable model:"
      ]
    },
    {
      "cell_type": "code",
      "execution_count": null,
      "id": "a959601d-7f97-4206-8b1f-3c52b4f89c6e",
      "metadata": {
        "id": "a959601d-7f97-4206-8b1f-3c52b4f89c6e",
        "outputId": "f8b8cf50-a777-4fea-bd3d-e6553c16017e"
      },
      "outputs": [
        {
          "name": "stdout",
          "output_type": "stream",
          "text": [
            "EL_uninter =  1244184126.6571403\n",
            "\n",
            " w/o corr btw defaults:\n",
            "UL_uninter (point estimate) =  1244312716.75\n",
            "UL_uninter (confidence interval) =  (1243076921.8452828, 1245548511.6547174)\n",
            "\n",
            " with corr btw defaults:\n",
            "UL_uninter (point estimate) =  1285251836.75\n",
            "UL_uninter (confidence interval) =  (1197199541.4833343, 1373304132.0166667)\n"
          ]
        }
      ],
      "source": [
        "print('EL_uninter = ', EL_uninter)\n",
        "\n",
        "print('\\n w/o corr btw defaults:')\n",
        "print('Var_99.9%_uninter (point estimate) = ', loss_uninter_1.mean())\n",
        "ci_uninter_1 = norm.interval(confidence=0.999, loc=loss_uninter_1.mean(), scale=stats.sem(loss_uninter_1))\n",
        "print('Var_99.9%_uninter (confidence interval) = ', ci_uninter_1)\n",
        "\n",
        "print('\\n with corr btw defaults:')\n",
        "print('Var_99.9%_uninter (point estimate) = ', loss_uninter_2.mean())\n",
        "ci_uninter_2 = norm.interval(confidence=0.999, loc=loss_uninter_2.mean(), scale=stats.sem(loss_uninter_2))\n",
        "print('Var_99.9%_uninter (confidence interval) = ', ci_uninter_2)"
      ]
    },
    {
      "cell_type": "markdown",
      "id": "097892d3-16c4-404e-ba63-e263fe1ffa52",
      "metadata": {
        "id": "097892d3-16c4-404e-ba63-e263fe1ffa52"
      },
      "source": [
        "#### Final capital (== UL) w/o corr btw defaults for uninterpretable model:"
      ]
    },
    {
      "cell_type": "code",
      "execution_count": null,
      "id": "23269cf3-7989-4653-bbce-e2df8354b280",
      "metadata": {
        "id": "23269cf3-7989-4653-bbce-e2df8354b280",
        "outputId": "d72b843d-c0cd-4f31-a983-6232436425a2"
      },
      "outputs": [
        {
          "name": "stdout",
          "output_type": "stream",
          "text": [
            "Point estimate of capital =  128590.09285974503\n",
            "Confidence interval of capital =  [-1107204.81185746  1364384.99757719]\n"
          ]
        }
      ],
      "source": [
        "print('Point estimate of capital = ', loss_uninter_1.mean() - EL_uninter)\n",
        "print('Confidence interval of capital = ', list(ci_uninter_1) - EL_uninter)"
      ]
    },
    {
      "cell_type": "markdown",
      "id": "be3ff2dc-53fa-4627-8330-b7dac49a766b",
      "metadata": {
        "id": "be3ff2dc-53fa-4627-8330-b7dac49a766b"
      },
      "source": [
        "#### Final capital (== UL) with corr btw defaults for uninterpretable model:"
      ]
    },
    {
      "cell_type": "code",
      "execution_count": null,
      "id": "48e402d0-9065-4141-9bb6-6f7bc31e31c2",
      "metadata": {
        "id": "48e402d0-9065-4141-9bb6-6f7bc31e31c2",
        "outputId": "778f56ed-883f-4b96-f280-b935d2dafc01"
      },
      "outputs": [
        {
          "name": "stdout",
          "output_type": "stream",
          "text": [
            "Point estimate of capital =  41067710.092859745\n",
            "Confidence interval of capital =  [-4.69845852e+07  1.29120005e+08]\n"
          ]
        }
      ],
      "source": [
        "print('Point estimate of capital = ', loss_uninter_2.mean() - EL_uninter)\n",
        "print('Confidence interval of capital = ', list(ci_uninter_2) - EL_uninter)"
      ]
    },
    {
      "cell_type": "code",
      "execution_count": null,
      "id": "86982192-38cd-483c-a940-ea1e12baeec5",
      "metadata": {
        "id": "86982192-38cd-483c-a940-ea1e12baeec5"
      },
      "outputs": [],
      "source": []
    }
  ],
  "metadata": {
    "kernelspec": {
      "display_name": "Python 3 (ipykernel)",
      "language": "python",
      "name": "python3"
    },
    "language_info": {
      "codemirror_mode": {
        "name": "ipython",
        "version": 3
      },
      "file_extension": ".py",
      "mimetype": "text/x-python",
      "name": "python",
      "nbconvert_exporter": "python",
      "pygments_lexer": "ipython3",
      "version": "3.10.13"
    },
    "colab": {
      "provenance": []
    }
  },
  "nbformat": 4,
  "nbformat_minor": 5
}