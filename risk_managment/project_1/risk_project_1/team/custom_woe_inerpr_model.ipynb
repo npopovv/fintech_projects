{
 "cells": [
  {
   "attachments": {},
   "cell_type": "markdown",
   "metadata": {
    "datalore": {
     "hide_input_from_viewers": false,
     "hide_output_from_viewers": false,
     "node_id": "Sheet",
     "sheet_delimiter": true,
     "type": "MD"
    }
   },
   "source": [
    "# Sheet"
   ]
  },
  {
   "attachments": {},
   "cell_type": "markdown",
   "metadata": {
    "datalore": {
     "hide_input_from_viewers": true,
     "hide_output_from_viewers": true,
     "node_id": "8IJpceJVZy0GK5TV7jbeiz",
     "type": "MD"
    }
   },
   "source": [
    "**0. Выгрузка данных**\n",
    "\n",
    "- [Карточка датасета](https://www.kaggle.com/datasets/wordsforthewise/lending-club/data)\n",
    "- [Репо с парсингом](https://github.com/nateGeorge/preprocess_lending_club_data)\n",
    "\n",
    "~~PS кажется там везде данные до 2к18, придется парсить с сайта (для него нужен VPN)~~\n",
    "\n",
    "- Хорошее [описание переменных](https://www.openintro.org/data/index.php?data=loans_full_schema) (там же ноут)\n",
    "- И еще на [гите](https://github.com/dosei1/Lending-Club-Loan-Data/blob/master/LCDataDictionary.csv)\n",
    "-  тоже [прикольный разбор](https://github.com/pawanreddy-u/lendingclub)\n",
    "- что-то [умное](https://www.kaggle.com/code/pragyanbo/a-hitchhiker-s-guide-to-lending-club-loan-data#Modeling) с кегла для вдохновения"
   ]
  },
  {
   "cell_type": "code",
   "execution_count": 1,
   "metadata": {
    "datalore": {
     "hide_input_from_viewers": true,
     "hide_output_from_viewers": true,
     "node_id": "vVIRA1fMgxBiSwbkUX7zl6",
     "type": "CODE"
    }
   },
   "outputs": [],
   "source": [
    "import pandas as pd\n",
    "from pandas import Series, DataFrame\n",
    "import numpy as np\n",
    "import seaborn as sns\n",
    "import matplotlib.pyplot as plt\n",
    "\n",
    "import os\n",
    "import requests\n",
    "import joblib\n",
    "\n",
    "from sklearn.model_selection import train_test_split\n",
    "from sklearn.metrics import roc_auc_score\n",
    "from feature_engine.encoding import WoEEncoder\n",
    "from tqdm import tqdm"
   ]
  },
  {
   "cell_type": "code",
   "execution_count": 5,
   "metadata": {
    "datalore": {
     "hide_input_from_viewers": true,
     "hide_output_from_viewers": true,
     "node_id": "vzauHMyNb8fa82As5hsI94",
     "type": "CODE"
    }
   },
   "outputs": [
    {
     "data": {
      "text/html": [
       "<div>\n",
       "<style scoped>\n",
       "    .dataframe tbody tr th:only-of-type {\n",
       "        vertical-align: middle;\n",
       "    }\n",
       "\n",
       "    .dataframe tbody tr th {\n",
       "        vertical-align: top;\n",
       "    }\n",
       "\n",
       "    .dataframe thead th {\n",
       "        text-align: right;\n",
       "    }\n",
       "</style>\n",
       "<table border=\"1\" class=\"dataframe\">\n",
       "  <thead>\n",
       "    <tr style=\"text-align: right;\">\n",
       "      <th></th>\n",
       "      <th>loan_amnt</th>\n",
       "      <th>term</th>\n",
       "      <th>int_rate</th>\n",
       "      <th>installment</th>\n",
       "      <th>home_ownership</th>\n",
       "      <th>annual_inc</th>\n",
       "      <th>issue_d</th>\n",
       "      <th>pymnt_plan</th>\n",
       "      <th>dti</th>\n",
       "      <th>inq_last_6mths</th>\n",
       "      <th>...</th>\n",
       "      <th>num_tl_30dpd</th>\n",
       "      <th>pub_rec_bankruptcies</th>\n",
       "      <th>tot_hi_cred_lim</th>\n",
       "      <th>total_bc_limit</th>\n",
       "      <th>total_il_high_credit_limit</th>\n",
       "      <th>hardship_flag</th>\n",
       "      <th>disbursement_method</th>\n",
       "      <th>debt_settlement_flag</th>\n",
       "      <th>loan_condition_int</th>\n",
       "      <th>loan_condition</th>\n",
       "    </tr>\n",
       "  </thead>\n",
       "  <tbody>\n",
       "    <tr>\n",
       "      <th>0</th>\n",
       "      <td>3600.0</td>\n",
       "      <td>0</td>\n",
       "      <td>13.99</td>\n",
       "      <td>123.03</td>\n",
       "      <td>1</td>\n",
       "      <td>55000.0</td>\n",
       "      <td>2015-12</td>\n",
       "      <td>0</td>\n",
       "      <td>5.91</td>\n",
       "      <td>1</td>\n",
       "      <td>...</td>\n",
       "      <td>0</td>\n",
       "      <td>0.0</td>\n",
       "      <td>178050.0</td>\n",
       "      <td>2400.0</td>\n",
       "      <td>13734.0</td>\n",
       "      <td>0</td>\n",
       "      <td>0</td>\n",
       "      <td>0</td>\n",
       "      <td>0</td>\n",
       "      <td>1</td>\n",
       "    </tr>\n",
       "    <tr>\n",
       "      <th>1</th>\n",
       "      <td>24700.0</td>\n",
       "      <td>0</td>\n",
       "      <td>11.99</td>\n",
       "      <td>820.28</td>\n",
       "      <td>1</td>\n",
       "      <td>65000.0</td>\n",
       "      <td>2015-12</td>\n",
       "      <td>0</td>\n",
       "      <td>16.06</td>\n",
       "      <td>4</td>\n",
       "      <td>...</td>\n",
       "      <td>0</td>\n",
       "      <td>0.0</td>\n",
       "      <td>314017.0</td>\n",
       "      <td>79300.0</td>\n",
       "      <td>24667.0</td>\n",
       "      <td>0</td>\n",
       "      <td>0</td>\n",
       "      <td>0</td>\n",
       "      <td>0</td>\n",
       "      <td>1</td>\n",
       "    </tr>\n",
       "    <tr>\n",
       "      <th>2</th>\n",
       "      <td>20000.0</td>\n",
       "      <td>1</td>\n",
       "      <td>10.78</td>\n",
       "      <td>432.66</td>\n",
       "      <td>1</td>\n",
       "      <td>63000.0</td>\n",
       "      <td>2015-12</td>\n",
       "      <td>0</td>\n",
       "      <td>10.78</td>\n",
       "      <td>0</td>\n",
       "      <td>...</td>\n",
       "      <td>0</td>\n",
       "      <td>0.0</td>\n",
       "      <td>218418.0</td>\n",
       "      <td>6200.0</td>\n",
       "      <td>14877.0</td>\n",
       "      <td>0</td>\n",
       "      <td>0</td>\n",
       "      <td>0</td>\n",
       "      <td>0</td>\n",
       "      <td>1</td>\n",
       "    </tr>\n",
       "    <tr>\n",
       "      <th>3</th>\n",
       "      <td>35000.0</td>\n",
       "      <td>1</td>\n",
       "      <td>14.85</td>\n",
       "      <td>829.90</td>\n",
       "      <td>1</td>\n",
       "      <td>110000.0</td>\n",
       "      <td>2015-12</td>\n",
       "      <td>0</td>\n",
       "      <td>17.06</td>\n",
       "      <td>0</td>\n",
       "      <td>...</td>\n",
       "      <td>0</td>\n",
       "      <td>0.0</td>\n",
       "      <td>381215.0</td>\n",
       "      <td>62500.0</td>\n",
       "      <td>18000.0</td>\n",
       "      <td>0</td>\n",
       "      <td>0</td>\n",
       "      <td>0</td>\n",
       "      <td>0</td>\n",
       "      <td>1</td>\n",
       "    </tr>\n",
       "    <tr>\n",
       "      <th>4</th>\n",
       "      <td>10400.0</td>\n",
       "      <td>1</td>\n",
       "      <td>22.45</td>\n",
       "      <td>289.91</td>\n",
       "      <td>1</td>\n",
       "      <td>104433.0</td>\n",
       "      <td>2015-12</td>\n",
       "      <td>0</td>\n",
       "      <td>25.37</td>\n",
       "      <td>3</td>\n",
       "      <td>...</td>\n",
       "      <td>0</td>\n",
       "      <td>0.0</td>\n",
       "      <td>439570.0</td>\n",
       "      <td>20300.0</td>\n",
       "      <td>88097.0</td>\n",
       "      <td>0</td>\n",
       "      <td>0</td>\n",
       "      <td>0</td>\n",
       "      <td>0</td>\n",
       "      <td>1</td>\n",
       "    </tr>\n",
       "  </tbody>\n",
       "</table>\n",
       "<p>5 rows × 37 columns</p>\n",
       "</div>"
      ],
      "text/plain": [
       "   loan_amnt  term  int_rate  installment  home_ownership  annual_inc  \\\n",
       "0     3600.0     0     13.99       123.03               1     55000.0   \n",
       "1    24700.0     0     11.99       820.28               1     65000.0   \n",
       "2    20000.0     1     10.78       432.66               1     63000.0   \n",
       "3    35000.0     1     14.85       829.90               1    110000.0   \n",
       "4    10400.0     1     22.45       289.91               1    104433.0   \n",
       "\n",
       "   issue_d  pymnt_plan    dti  inq_last_6mths  ...  num_tl_30dpd  \\\n",
       "0  2015-12           0   5.91               1  ...             0   \n",
       "1  2015-12           0  16.06               4  ...             0   \n",
       "2  2015-12           0  10.78               0  ...             0   \n",
       "3  2015-12           0  17.06               0  ...             0   \n",
       "4  2015-12           0  25.37               3  ...             0   \n",
       "\n",
       "   pub_rec_bankruptcies  tot_hi_cred_lim  total_bc_limit  \\\n",
       "0                   0.0         178050.0          2400.0   \n",
       "1                   0.0         314017.0         79300.0   \n",
       "2                   0.0         218418.0          6200.0   \n",
       "3                   0.0         381215.0         62500.0   \n",
       "4                   0.0         439570.0         20300.0   \n",
       "\n",
       "  total_il_high_credit_limit  hardship_flag  disbursement_method  \\\n",
       "0                    13734.0              0                    0   \n",
       "1                    24667.0              0                    0   \n",
       "2                    14877.0              0                    0   \n",
       "3                    18000.0              0                    0   \n",
       "4                    88097.0              0                    0   \n",
       "\n",
       "   debt_settlement_flag  loan_condition_int  loan_condition  \n",
       "0                     0                   0               1  \n",
       "1                     0                   0               1  \n",
       "2                     0                   0               1  \n",
       "3                     0                   0               1  \n",
       "4                     0                   0               1  \n",
       "\n",
       "[5 rows x 37 columns]"
      ]
     },
     "execution_count": 5,
     "metadata": {},
     "output_type": "execute_result"
    }
   ],
   "source": [
    "data = pd.read_csv('data_selected_2.csv').drop(['recoveries', 'loan_status'], axis = 1)\n",
    "data.head()"
   ]
  },
  {
   "cell_type": "code",
   "execution_count": 9,
   "metadata": {},
   "outputs": [
    {
     "data": {
      "text/plain": [
       "loan_condition_int    2\n",
       "loan_condition        2\n",
       "dtype: int64"
      ]
     },
     "execution_count": 9,
     "metadata": {},
     "output_type": "execute_result"
    }
   ],
   "source": [
    "data[['loan_condition_int', 'loan_condition']].nunique()"
   ]
  },
  {
   "cell_type": "code",
   "execution_count": 11,
   "metadata": {},
   "outputs": [
    {
     "data": {
      "text/plain": [
       "1    1897859\n",
       "0     292634\n",
       "Name: loan_condition, dtype: int64"
      ]
     },
     "execution_count": 11,
     "metadata": {},
     "output_type": "execute_result"
    }
   ],
   "source": [
    "data['loan_condition'].value_counts()"
   ]
  },
  {
   "cell_type": "code",
   "execution_count": 12,
   "metadata": {},
   "outputs": [
    {
     "data": {
      "text/plain": [
       "0    1897859\n",
       "1     292634\n",
       "Name: loan_condition_int, dtype: int64"
      ]
     },
     "execution_count": 12,
     "metadata": {},
     "output_type": "execute_result"
    }
   ],
   "source": [
    "data['loan_condition_int'].value_counts()"
   ]
  },
  {
   "cell_type": "code",
   "execution_count": 13,
   "metadata": {},
   "outputs": [],
   "source": [
    "cat_features = ['term', 'home_ownership', 'pymnt_plan', 'initial_list_status', 'application_type', 'hardship_flag', 'disbursement_method',\\\n",
    " 'debt_settlement_flag']\n",
    "date_columns = ['issue_d', 'last_credit_pull_d', 'bc_open_to_buy']\n",
    "num_features = list(set(data.columns).difference(set(cat_features+date_columns + ['loan_condition_int'])))"
   ]
  },
  {
   "cell_type": "code",
   "execution_count": 3,
   "metadata": {
    "datalore": {
     "hide_input_from_viewers": true,
     "hide_output_from_viewers": true,
     "node_id": "9IlyLDnQSY4qmMfoSx18cr",
     "type": "CODE"
    }
   },
   "outputs": [],
   "source": [
    "cat_features = ['term', 'home_ownership', 'pymnt_plan', 'initial_list_status', 'application_type', 'hardship_flag', 'disbursement_method',\\\n",
    " 'debt_settlement_flag']\n",
    "date_columns = ['issue_d', 'last_credit_pull_d', 'bc_open_to_buy']\n",
    "num_features = list(set(data.columns).difference(set(cat_features+date_columns + ['loan_condition_int'])))\n",
    "# num_features.remove('tot_hi_cred_lim')\n",
    "# num_features = ['num_il_tl', 'num_tl_30dpd', ]\n",
    "for col in date_columns:\n",
    "    data[col + \"_year\"] = pd.to_datetime(data[col]).map(lambda x: x.year)\n",
    "    data[col + \"_month\"] = pd.to_datetime(data[col]).map(lambda x: x.month)\n",
    "\n",
    "\n",
    "num_feature_type = {x: \"float\" for x in num_features}\n",
    "cat_feature_type = {x: \"str\" for x in cat_features}\n",
    "\n",
    "year_col = list(filter(lambda x: \"_year\" in x, data.columns))\n",
    "year_feature_type = {x: \"str\" for x in year_col}\n",
    "\n",
    "month_col = list(filter(lambda x: \"_month\" in x, data.columns))\n",
    "month_feature_type = {x: \"str\" for x in month_col}\n",
    "\n",
    "\n",
    "feature_columns = year_col + month_col +\\\n",
    "                 cat_features + num_features\n",
    "\n",
    "\n",
    "features_type = dict(**num_feature_type,\n",
    "                     **cat_feature_type,\n",
    "                     **year_feature_type,\n",
    "                     **month_feature_type)"
   ]
  },
  {
   "cell_type": "code",
   "execution_count": 4,
   "metadata": {},
   "outputs": [],
   "source": [
    "data=data[feature_columns + ['loan_condition_int']].astype(features_type)"
   ]
  },
  {
   "cell_type": "code",
   "execution_count": 5,
   "metadata": {},
   "outputs": [
    {
     "data": {
      "text/plain": [
       "Index(['issue_d_year', 'last_credit_pull_d_year', 'bc_open_to_buy_year',\n",
       "       'issue_d_month', 'last_credit_pull_d_month', 'bc_open_to_buy_month',\n",
       "       'term', 'home_ownership', 'pymnt_plan', 'initial_list_status',\n",
       "       'application_type', 'hardship_flag', 'disbursement_method',\n",
       "       'debt_settlement_flag', 'mort_acc', 'acc_now_delinq', 'tot_hi_cred_lim',\n",
       "       'num_il_tl', 'mo_sin_old_rev_tl_op', 'revol_bal', 'total_rev_hi_lim',\n",
       "       'num_tl_120dpd_2m', 'loan_condition', 'mo_sin_old_il_acct', 'dti',\n",
       "       'total_acc', 'avg_cur_bal', 'inq_last_6mths', 'annual_inc', 'num_bc_tl',\n",
       "       'revol_util', 'total_bc_limit', 'num_tl_30dpd', 'int_rate',\n",
       "       'installment', 'loan_amnt', 'total_il_high_credit_limit',\n",
       "       'mths_since_recent_bc', 'pub_rec_bankruptcies', 'loan_condition_int'],\n",
       "      dtype='object')"
      ]
     },
     "execution_count": 5,
     "metadata": {},
     "output_type": "execute_result"
    }
   ],
   "source": [
    "data.columns"
   ]
  },
  {
   "cell_type": "code",
   "execution_count": 6,
   "metadata": {},
   "outputs": [
    {
     "name": "stdout",
     "output_type": "stream",
     "text": [
      "(1695251, 40) (495242, 40)\n"
     ]
    }
   ],
   "source": [
    "last_train_date = '2018'\n",
    "idx_train = (data['issue_d_year'] < last_train_date)\n",
    "\n",
    "train = data.loc[idx_train, feature_columns + ['loan_condition_int']].copy()\n",
    "test = data.loc[~idx_train, feature_columns + ['loan_condition_int']].copy()\n",
    "\n",
    "print(train.shape, test.shape)"
   ]
  },
  {
   "cell_type": "markdown",
   "metadata": {},
   "source": [
    "Делаем бинаризацию числовых фичей"
   ]
  },
  {
   "cell_type": "code",
   "execution_count": 7,
   "metadata": {},
   "outputs": [],
   "source": [
    "from sklearn.base import BaseEstimator, TransformerMixin\n",
    "from scipy import stats"
   ]
  },
  {
   "cell_type": "code",
   "execution_count": 10,
   "metadata": {},
   "outputs": [],
   "source": [
    "class Binning(BaseEstimator, TransformerMixin):\n",
    "\n",
    "    def __init__(self, y, n_threshold, y_threshold, p_threshold, sign=False):\n",
    "        self.n_threshold = n_threshold\n",
    "        self.y_threshold = y_threshold\n",
    "        self.p_threshold = p_threshold\n",
    "        self.y = y\n",
    "        self.sign = sign\n",
    "\n",
    "        self.init_summary = pd.DataFrame()\n",
    "        self.bin_summary = pd.DataFrame()\n",
    "        self.pvalue_summary = pd.DataFrame()\n",
    "        self.dataset = pd.DataFrame()\n",
    "        self.woe_summary = pd.DataFrame()\n",
    "\n",
    "        self.column = object\n",
    "        self.total_iv = object\n",
    "        self.bins = object\n",
    "        self.bucket = object\n",
    "\n",
    "    def generate_summary(self):\n",
    "\n",
    "        self.init_summary = self.dataset.groupby([self.column]).agg({self.y: [\"mean\", \"std\", \"size\"]})\\\n",
    "        .rename({\"mean\": \"means\", \"size\": \"nsamples\", \"std\": \"std_dev\"}, axis=1)\n",
    "\n",
    "        self.init_summary.columns = self.init_summary.columns.droplevel(level=0)\n",
    "\n",
    "        self.init_summary = self.init_summary[[\"means\", \"nsamples\", \"std_dev\"]]\n",
    "        self.init_summary = self.init_summary.reset_index()\n",
    "\n",
    "        self.init_summary[\"del_flag\"] = 0\n",
    "        self.init_summary[\"std_dev\"] = self.init_summary[\"std_dev\"].fillna(0)\n",
    "\n",
    "        self.init_summary = self.init_summary.sort_values([self.column], ascending=self.sign)\n",
    "\n",
    "    def combine_bins(self):\n",
    "        summary = self.init_summary.copy()\n",
    "\n",
    "        while True:\n",
    "            i = 0\n",
    "            summary = summary[summary.del_flag != 1]\n",
    "            summary = summary.reset_index(drop=True)\n",
    "            while True:\n",
    "\n",
    "                j = i + 1\n",
    "\n",
    "                if j >= len(summary):\n",
    "                    break\n",
    "\n",
    "                if summary.iloc[j].means < summary.iloc[i].means:\n",
    "                    i = i + 1\n",
    "                    continue\n",
    "                else:\n",
    "                    while True:\n",
    "                        n = summary.iloc[j].nsamples + summary.iloc[i].nsamples\n",
    "                        m = (summary.iloc[j].nsamples * summary.iloc[j].means +\n",
    "                             summary.iloc[i].nsamples * summary.iloc[i].means) / n\n",
    "\n",
    "                        if n == 2:\n",
    "                            s = np.std([summary.iloc[j].means, summary.iloc[i].means])\n",
    "                        else:\n",
    "                            s = np.sqrt((summary.iloc[j].nsamples * (summary.iloc[j].std_dev ** 2) +\n",
    "                                         summary.iloc[i].nsamples * (summary.iloc[i].std_dev ** 2)) / n)\n",
    "\n",
    "                        summary.loc[i, \"nsamples\"] = n\n",
    "                        summary.loc[i, \"means\"] = m\n",
    "                        summary.loc[i, \"std_dev\"] = s\n",
    "                        summary.loc[j, \"del_flag\"] = 1\n",
    "\n",
    "                        j = j + 1\n",
    "                        if j >= len(summary):\n",
    "                            break\n",
    "                        if summary.loc[j, \"means\"] < summary.loc[i, \"means\"]:\n",
    "                            i = j\n",
    "                            break\n",
    "                if j >= len(summary):\n",
    "                    break\n",
    "            dels = np.sum(summary[\"del_flag\"])\n",
    "            if dels == 0:\n",
    "                break\n",
    "\n",
    "        self.bin_summary = summary.copy()\n",
    "\n",
    "    def calculate_pvalues(self):\n",
    "        summary = self.bin_summary.copy()\n",
    "        while True:\n",
    "            summary[\"means_lead\"] = summary[\"means\"].shift(-1)\n",
    "            summary[\"nsamples_lead\"] = summary[\"nsamples\"].shift(-1)\n",
    "            summary[\"std_dev_lead\"] = summary[\"std_dev\"].shift(-1)\n",
    "\n",
    "            summary[\"est_nsamples\"] = summary[\"nsamples_lead\"] + summary[\"nsamples\"]\n",
    "            summary[\"est_means\"] = (summary[\"means_lead\"] * summary[\"nsamples_lead\"] +\n",
    "                                    summary[\"means\"] * summary[\"nsamples\"]) / summary[\"est_nsamples\"]\n",
    "\n",
    "            summary[\"est_std_dev2\"] = (summary[\"nsamples_lead\"] * summary[\"std_dev_lead\"] ** 2 +\n",
    "                                       summary[\"nsamples\"] * summary[\"std_dev\"] ** 2) / (summary[\"est_nsamples\"] - 2)\n",
    "\n",
    "            summary[\"z_value\"] = (summary[\"means\"] - summary[\"means_lead\"]) / np.sqrt(\n",
    "                summary[\"est_std_dev2\"] * (1 / summary[\"nsamples\"] + 1 / summary[\"nsamples_lead\"]))\n",
    "\n",
    "            summary[\"p_value\"] = 1 - stats.norm.cdf(summary[\"z_value\"])\n",
    "\n",
    "            summary[\"p_value\"] = summary.apply(\n",
    "                lambda row: row[\"p_value\"] + 1 if (row[\"nsamples\"] < self.n_threshold) |\n",
    "                                                  (row[\"nsamples_lead\"] < self.n_threshold) |\n",
    "                                                  (row[\"means\"] * row[\"nsamples\"] < self.y_threshold) |\n",
    "                                                  (row[\"means_lead\"] * row[\"nsamples_lead\"] < self.y_threshold)\n",
    "                else row[\"p_value\"], axis=1)\n",
    "\n",
    "            max_p = max(summary[\"p_value\"])\n",
    "            row_of_maxp = summary['p_value'].idxmax()\n",
    "            row_delete = row_of_maxp + 1\n",
    "\n",
    "            if max_p > self.p_threshold:\n",
    "                summary = summary.drop(summary.index[row_delete])\n",
    "                summary = summary.reset_index(drop=True)\n",
    "            else:\n",
    "                break\n",
    "\n",
    "            summary[\"means\"] = summary.apply(lambda row: row[\"est_means\"] if row[\"p_value\"] == max_p else row[\"means\"],\n",
    "                                             axis=1)\n",
    "            summary[\"nsamples\"] = summary.apply(\n",
    "                lambda row: row[\"est_nsamples\"] if row[\"p_value\"] == max_p else row[\"nsamples\"], axis=1)\n",
    "            summary[\"std_dev\"] = summary.apply(\n",
    "                lambda row: np.sqrt(row[\"est_std_dev2\"]) if row[\"p_value\"] == max_p else row[\"std_dev\"], axis=1)\n",
    "\n",
    "        self.pvalue_summary = summary.copy()\n",
    "\n",
    "    def calculate_woe(self):\n",
    "        woe_summary = self.pvalue_summary[[self.column, \"nsamples\", \"means\"]]\n",
    "\n",
    "        woe_summary[\"bads\"] = woe_summary[\"means\"] * woe_summary[\"nsamples\"]\n",
    "        woe_summary[\"goods\"] = woe_summary[\"nsamples\"] - woe_summary[\"bads\"]\n",
    "\n",
    "        total_goods = np.sum(woe_summary[\"goods\"])\n",
    "        total_bads = np.sum(woe_summary[\"bads\"])\n",
    "\n",
    "        woe_summary[\"dist_good\"] = woe_summary[\"goods\"] / total_goods\n",
    "        woe_summary[\"dist_bad\"] = woe_summary[\"bads\"] / total_bads\n",
    "\n",
    "        woe_summary[\"WOE_\" + self.column] = np.log(woe_summary[\"dist_good\"] / woe_summary[\"dist_bad\"])\n",
    "\n",
    "        woe_summary[\"IV_components\"] = (woe_summary[\"dist_good\"] - woe_summary[\"dist_bad\"]) * woe_summary[\n",
    "            \"WOE_\" + self.column]\n",
    "\n",
    "        self.total_iv = np.sum(woe_summary[\"IV_components\"])\n",
    "        self.woe_summary = woe_summary\n",
    "\n",
    "    def generate_bin_labels(self,row):\n",
    "        return \"-\".join(map(str, np.sort([row[self.column], row[self.column + \"_shift\"]])))\n",
    "\n",
    "    def generate_final_dataset(self):\n",
    "            \n",
    "        if self.sign == False:\n",
    "            shift_var = 1\n",
    "            self.bucket = True\n",
    "        else:\n",
    "            shift_var = -1\n",
    "            self.bucket = False\n",
    "\n",
    "        self.woe_summary[self.column + \"_shift\"] = self.woe_summary[self.column].shift(shift_var)\n",
    "\n",
    "        if self.sign == False:\n",
    "            self.woe_summary.loc[0, self.column + \"_shift\"] = -np.inf\n",
    "            self.bins = np.sort(list(self.woe_summary[self.column]) + [np.Inf,-np.Inf])\n",
    "        else:\n",
    "            self.woe_summary.loc[len(self.woe_summary) - 1, self.column + \"_shift\"] = np.inf\n",
    "            self.bins = np.sort(list(self.woe_summary[self.column]) + [np.Inf,-np.Inf])\n",
    "\n",
    "        self.woe_summary['n_bin'] = self.woe_summary[self.column].rank().astype('int')\n",
    "        self.dataset['n_bin'] = np.digitize(self.dataset[self.column], self.bins, right = self.bucket).astype('int')\n",
    "        if sum(self.dataset['n_bin'] == 1) == 0:\n",
    "            self.bins  = np.delete(self.bins, 1)\n",
    "\n",
    "        if sum(self.dataset['n_bin'] == len(self.bins)-1) == 0:\n",
    "            self.bins  = np.delete(self.bins, len(self.bins) - 2)\n",
    "            \n",
    "        self.dataset['n_bin'] = np.digitize(self.dataset[self.column], self.bins, right = self.bucket).astype('int')\n",
    "        self.woe_summary[\"labels\"] = self.woe_summary.apply(self.generate_bin_labels, axis=1)\n",
    "\n",
    "        self.dataset[\"bins\"] = pd.cut(self.dataset[self.column], self.bins, right=self.bucket, precision=0)\n",
    "        self.dataset[\"bins\"] = self.dataset[\"bins\"].astype(str)\n",
    "        self.dataset['bins'] = self.dataset['bins'].map(lambda x: x.lstrip('[').rstrip(')'))\n",
    "\n",
    "        self.dataset = pd.merge(self.dataset, self.woe_summary[['n_bin', 'WOE_' + self.column]], on = 'n_bin', how = 'left')\n",
    "\n",
    "    def fit(self, dataset):\n",
    "        self.dataset = dataset\n",
    "        self.column = self.dataset.columns[self.dataset.columns != self.y][0]\n",
    "\n",
    "        self.generate_summary()\n",
    "        self.combine_bins()\n",
    "        self.calculate_pvalues()\n",
    "        self.calculate_woe()\n",
    "        self.generate_final_dataset()\n",
    "\n",
    "    def transform(self, test_data):\n",
    "        test_data[self.column+\"_bins\"] = pd.cut(test_data[self.column], self.bins, right=self.bucket, precision=0)\n",
    "        #добавил\n",
    "        test_data[\"n_bin\"] = np.digitize(test_data[self.column], self.bins, right = self.bucket).astype('int')\n",
    "        test_data = pd.merge(test_data, self.woe_summary[['n_bin', 'WOE_' + self.column]], on = 'n_bin', how = 'left')\n",
    "        # test_data.drop(columns = ['n_bin'], inplace = True)\n",
    "        return test_data"
   ]
  },
  {
   "cell_type": "markdown",
   "metadata": {},
   "source": [
    "выяснял знак для каждой колонки"
   ]
  },
  {
   "cell_type": "code",
   "execution_count": 32,
   "metadata": {},
   "outputs": [],
   "source": [
    "# from tqdm import tqdm\n",
    "# y_var = 'loan_condition_int'\n",
    "# sign = False\n",
    "\n",
    "# dct = {}\n",
    "\n",
    "\n",
    "# for feature in tqdm(num_features):\n",
    "#     # sign = True if feature in true_sign else False\n",
    "#     # print(feature, sign)\n",
    "#     bin_object = Binning(y_var, n_threshold = 50, y_threshold = 10, p_threshold = 0.35, sign=sign)\n",
    "#     bin_object.fit(train[[y_var, feature]])\n",
    "#     bins = len(bin_object.woe_summary)\n",
    "#     dct.update({feature: bins})\n",
    "#     # if bins < 3:\n",
    "#     #     bin_object1 = Binning(y_var, n_threshold = 50, y_threshold = 10, p_threshold = 0.35, sign=True)\n",
    "#     #     bin_object1.fit(train[[y_var, feature]])\n",
    "#     #     print(feature, bins, len(bin_object1.woe_summary))\n",
    "#     #     if len(bin_object1.woe_summary) > bins:\n",
    "#     #         train = bin_object1.transform(train[[y_var] + feature_columns])\n",
    "#     #         test = bin_object1.transform(test[[y_var] + feature_columns])\n",
    "#     #         continue\n",
    "#     # train = bin_object.transform(train)\n",
    "#     # test = bin_object.transform(test)"
   ]
  },
  {
   "cell_type": "code",
   "execution_count": 17,
   "metadata": {},
   "outputs": [
    {
     "data": {
      "text/plain": [
       "[('loan_condition', 1),\n",
       " ('total_bc_limit', 1),\n",
       " ('mths_since_recent_bc', 1),\n",
       " ('bc_open_to_buy', 1),\n",
       " ('tot_hi_cred_lim', 1),\n",
       " ('mort_acc', 1),\n",
       " ('revol_bal', 2),\n",
       " ('total_il_high_credit_limit', 2),\n",
       " ('avg_cur_bal', 2),\n",
       " ('total_rev_hi_lim', 2),\n",
       " ('mo_sin_old_rev_tl_op', 3),\n",
       " ('num_tl_120dpd_2m', 3),\n",
       " ('acc_now_delinq', 4),\n",
       " ('num_tl_30dpd', 4),\n",
       " ('annual_inc', 4),\n",
       " ('num_bc_tl', 5),\n",
       " ('inq_last_6mths', 5),\n",
       " ('pub_rec_bankruptcies', 5),\n",
       " ('mo_sin_old_il_acct', 7),\n",
       " ('total_acc', 10),\n",
       " ('loan_amnt', 14),\n",
       " ('num_il_tl', 14),\n",
       " ('installment', 26),\n",
       " ('revol_util', 27),\n",
       " ('int_rate', 32),\n",
       " ('dti', 36)]"
      ]
     },
     "execution_count": 17,
     "metadata": {},
     "output_type": "execute_result"
    }
   ],
   "source": [
    "sorted(dct.items(), key=lambda item: item[1])"
   ]
  },
  {
   "cell_type": "code",
   "execution_count": 11,
   "metadata": {},
   "outputs": [],
   "source": [
    "import warnings\n",
    "warnings.filterwarnings('ignore')"
   ]
  },
  {
   "cell_type": "markdown",
   "metadata": {},
   "source": [
    "Обработка всех фичей"
   ]
  },
  {
   "cell_type": "code",
   "execution_count": 15,
   "metadata": {},
   "outputs": [],
   "source": [
    "class Process_all_features:\n",
    "    def __init__(self, num_features, cat_features, feature_columns, fillna = True, target_col = 'loan_condition_int'):\n",
    "        \n",
    "        self.false_sign = ['dti', 'int_rate', 'revol_util', 'installment', 'num_il_tl', 'loan_amnt', 'total_acc',\\\n",
    "             'mo_sin_old_il_acct', 'pub_rec_bankruptcies', 'inq_last_6mths', 'num_bc_tl', 'annual_inc',\n",
    "             'num_tl_30dpd', 'acc_now_delinq', 'num_tl_120dpd_2m', 'loan_condition']\n",
    "        \n",
    "        self.true_sign = ['mo_sin_old_rev_tl_op','avg_cur_bal', 'total_bc_limit',  'total_il_high_credit_limit','mort_acc',\n",
    "                         'bc_open_to_buy','mths_since_recent_bc', 'revol_bal', 'tot_hi_cred_lim', 'total_rev_hi_lim']\n",
    "        \n",
    "        self.num_features = num_features\n",
    "        self.cat_features = cat_features\n",
    "        self.feature_columns = feature_columns\n",
    "        self.year_col = year_col\n",
    "        self.month_col = month_col\n",
    "        self.fillna = fillna\n",
    "        self.target = target_col\n",
    "        self.dct_bins = {}\n",
    "\n",
    "    def preproc_num_features(self, train, test):\n",
    "        print('process num_features..')\n",
    "        for feature in tqdm(self.num_features):\n",
    "            # print(feature)\n",
    "            if self.fillna:\n",
    "                train[feature] = train[feature].fillna(train[feature].mean())\n",
    "                test[feature] = test[feature].fillna(test[feature].mean())\n",
    "            sign = True if feature in self.true_sign else False\n",
    "            \n",
    "            bin_object = Binning(self.target, n_threshold = 50, y_threshold = 10, p_threshold = 0.35, sign=sign)\n",
    "            bin_object.fit(train[[self.target, feature]])\n",
    "            bins = len(bin_object.woe_summary)\n",
    "            self.dct_bins.update({feature: bins})\n",
    "            # return bin_object\n",
    "        \n",
    "            train = bin_object.transform(train)\n",
    "            test = bin_object.transform(test)\n",
    "            \n",
    "        new_num_features = list(map(lambda x:  'WOE_' + x, num_features))\n",
    "        new_features =  self.year_col + self.month_col + self.cat_features + new_num_features\n",
    "        self.features = new_features\n",
    "        return train[new_features + [self.target]], test[new_features + [self.target]]\n",
    "\n",
    "    def preproc_cat_features(self, train, test):\n",
    "        print('process cat_features..')\n",
    "        woe = WoEEncoder(variables = self.cat_features + self.year_col + self.month_col)\n",
    "        X_train = woe.fit_transform(train.drop(columns = [self.target]), train[self.target]).add_suffix('_woe')\n",
    "        X_test = woe.transform(test.drop(columns = [self.target])).add_suffix('_woe')\n",
    "        return X_train, train[self.target], X_test, test[self.target]\n",
    "\n",
    "    def preproc_all_features(self, train, test):\n",
    "        train1 = train.copy()\n",
    "        test1 = test.copy()\n",
    "        # print(train.isna().sum())\n",
    "        train1, test1 = self.preproc_num_features(train1, test1)\n",
    "        # print(train1.isna().sum())\n",
    "        X_train, y_train, X_test, y_test = self.preproc_cat_features(train1, test1)\n",
    "        return X_train, y_train, X_test, y_test"
   ]
  },
  {
   "cell_type": "code",
   "execution_count": 16,
   "metadata": {},
   "outputs": [],
   "source": [
    "PR = Process_all_features(num_features, cat_features, feature_columns)"
   ]
  },
  {
   "cell_type": "code",
   "execution_count": 14,
   "metadata": {},
   "outputs": [
    {
     "data": {
      "text/plain": [
       "{}"
      ]
     },
     "execution_count": 14,
     "metadata": {},
     "output_type": "execute_result"
    }
   ],
   "source": [
    "PR.dct_bins"
   ]
  },
  {
   "cell_type": "code",
   "execution_count": 17,
   "metadata": {},
   "outputs": [
    {
     "name": "stdout",
     "output_type": "stream",
     "text": [
      "process num_features..\n"
     ]
    },
    {
     "name": "stderr",
     "output_type": "stream",
     "text": [
      "100%|███████████████████████████████████████████| 25/25 [34:31<00:00, 82.87s/it]\n"
     ]
    },
    {
     "name": "stdout",
     "output_type": "stream",
     "text": [
      "process cat_features..\n"
     ]
    }
   ],
   "source": [
    "X_train, y_train, X_test, y_test = PR.preproc_all_features(train, test)"
   ]
  },
  {
   "cell_type": "code",
   "execution_count": 36,
   "metadata": {},
   "outputs": [],
   "source": [
    "X_train.to_csv('X_train_prep.csv')\n",
    "X_test.to_csv('X_test_prep.csv')"
   ]
  },
  {
   "cell_type": "code",
   "execution_count": 37,
   "metadata": {},
   "outputs": [],
   "source": [
    "y_train.to_csv('y_train_prep.csv')\n",
    "y_test.to_csv('y_test_prep.csv')"
   ]
  },
  {
   "cell_type": "code",
   "execution_count": null,
   "metadata": {},
   "outputs": [],
   "source": [
    "X_train = pd.read_csv('X_train_prep.csv')\n",
    "X_test = pd.read_csv('X_test_prep.csv')\n",
    "y_train = pd.read_csv('y_train_prep.csv')\n",
    "X_test = pd.read_csv('y_test_prep.csv')"
   ]
  },
  {
   "cell_type": "code",
   "execution_count": 15,
   "metadata": {},
   "outputs": [
    {
     "data": {
      "text/plain": [
       "0.0    1695251\n",
       "Name: WOE_loan_condition_woe, dtype: int64"
      ]
     },
     "execution_count": 15,
     "metadata": {},
     "output_type": "execute_result"
    }
   ],
   "source": [
    "x['WOE_loan_condition_woe'].value_counts()"
   ]
  },
  {
   "cell_type": "code",
   "execution_count": 16,
   "metadata": {},
   "outputs": [
    {
     "data": {
      "text/plain": [
       "issue_d_year_woe                      495242\n",
       "last_credit_pull_d_year_woe                0\n",
       "bc_open_to_buy_year_woe                    0\n",
       "issue_d_month_woe                          0\n",
       "last_credit_pull_d_month_woe               0\n",
       "bc_open_to_buy_month_woe                   0\n",
       "term_woe                                   0\n",
       "home_ownership_woe                         0\n",
       "pymnt_plan_woe                             0\n",
       "initial_list_status_woe                    0\n",
       "application_type_woe                       0\n",
       "hardship_flag_woe                          0\n",
       "disbursement_method_woe                    0\n",
       "debt_settlement_flag_woe                   0\n",
       "WOE_annual_inc_woe                         0\n",
       "WOE_revol_util_woe                         0\n",
       "WOE_int_rate_woe                           0\n",
       "WOE_mo_sin_old_il_acct_woe                 0\n",
       "WOE_num_tl_120dpd_2m_woe                   0\n",
       "WOE_inq_last_6mths_woe                     0\n",
       "WOE_loan_amnt_woe                          0\n",
       "WOE_total_rev_hi_lim_woe                   0\n",
       "WOE_total_il_high_credit_limit_woe         0\n",
       "WOE_avg_cur_bal_woe                        0\n",
       "WOE_num_il_tl_woe                          0\n",
       "WOE_installment_woe                        0\n",
       "WOE_pub_rec_bankruptcies_woe               0\n",
       "WOE_total_acc_woe                          0\n",
       "WOE_mort_acc_woe                           0\n",
       "WOE_num_bc_tl_woe                          0\n",
       "WOE_dti_woe                                0\n",
       "WOE_mo_sin_old_rev_tl_op_woe               0\n",
       "WOE_acc_now_delinq_woe                     0\n",
       "WOE_mths_since_recent_bc_woe               0\n",
       "WOE_revol_bal_woe                          0\n",
       "WOE_total_bc_limit_woe                     0\n",
       "WOE_num_tl_30dpd_woe                       0\n",
       "WOE_loan_condition_woe                     0\n",
       "dtype: int64"
      ]
     },
     "execution_count": 16,
     "metadata": {},
     "output_type": "execute_result"
    }
   ],
   "source": [
    "X_test.isna().sum()"
   ]
  },
  {
   "cell_type": "code",
   "execution_count": 18,
   "metadata": {},
   "outputs": [],
   "source": [
    "X_train = X_train.drop(columns = 'issue_d_year_woe')\n",
    "X_test = X_test.drop(columns = 'issue_d_year_woe')"
   ]
  },
  {
   "cell_type": "code",
   "execution_count": 19,
   "metadata": {},
   "outputs": [],
   "source": [
    "# !pip install scorecardpy"
   ]
  },
  {
   "cell_type": "code",
   "execution_count": 26,
   "metadata": {},
   "outputs": [
    {
     "data": {
      "text/plain": [
       "last_credit_pull_d_year_woe             0\n",
       "bc_open_to_buy_year_woe                 0\n",
       "issue_d_month_woe                       0\n",
       "last_credit_pull_d_month_woe            0\n",
       "bc_open_to_buy_month_woe                0\n",
       "term_woe                                0\n",
       "home_ownership_woe                      0\n",
       "pymnt_plan_woe                          0\n",
       "initial_list_status_woe                 0\n",
       "application_type_woe                    0\n",
       "hardship_flag_woe                       0\n",
       "disbursement_method_woe                 0\n",
       "debt_settlement_flag_woe                0\n",
       "WOE_mort_acc_woe                        0\n",
       "WOE_acc_now_delinq_woe                  0\n",
       "WOE_tot_hi_cred_lim_woe                 0\n",
       "WOE_num_il_tl_woe                       0\n",
       "WOE_mo_sin_old_rev_tl_op_woe            0\n",
       "WOE_revol_bal_woe                       0\n",
       "WOE_total_rev_hi_lim_woe                0\n",
       "WOE_num_tl_120dpd_2m_woe                0\n",
       "WOE_loan_condition_woe                  0\n",
       "WOE_mo_sin_old_il_acct_woe              0\n",
       "WOE_dti_woe                             0\n",
       "WOE_total_acc_woe                       0\n",
       "WOE_avg_cur_bal_woe                     0\n",
       "WOE_inq_last_6mths_woe                  0\n",
       "WOE_annual_inc_woe                      0\n",
       "WOE_num_bc_tl_woe                       0\n",
       "WOE_revol_util_woe                      0\n",
       "WOE_total_bc_limit_woe                  0\n",
       "WOE_num_tl_30dpd_woe                  101\n",
       "WOE_int_rate_woe                        0\n",
       "WOE_installment_woe                     0\n",
       "WOE_loan_amnt_woe                       0\n",
       "WOE_total_il_high_credit_limit_woe      0\n",
       "WOE_mths_since_recent_bc_woe            0\n",
       "WOE_pub_rec_bankruptcies_woe            0\n",
       "dtype: int64"
      ]
     },
     "execution_count": 26,
     "metadata": {},
     "output_type": "execute_result"
    }
   ],
   "source": [
    "np.isinf(X_train).sum()"
   ]
  },
  {
   "cell_type": "code",
   "execution_count": 28,
   "metadata": {},
   "outputs": [],
   "source": [
    "\n",
    "# import scorecardpy as sc\n",
    "from sklearn.linear_model import LogisticRegression\n",
    "\n",
    "lr = LogisticRegression(penalty='l1', C=0.9, solver='saga', n_jobs=-1)\n",
    "lr.fit(X_train.drop(columns = 'WOE_num_tl_30dpd_woe'), y_train)\n",
    "train_pred = lr.predict_proba(X_train.drop(columns = 'WOE_num_tl_30dpd_woe'))[:,1]\n",
    "test_pred = lr.predict_proba(X_test.drop(columns = 'WOE_num_tl_30dpd_woe'))[:,1]"
   ]
  },
  {
   "cell_type": "code",
   "execution_count": 31,
   "metadata": {},
   "outputs": [
    {
     "data": {
      "text/plain": [
       "0.8123787721580072"
      ]
     },
     "execution_count": 31,
     "metadata": {},
     "output_type": "execute_result"
    }
   ],
   "source": [
    "from sklearn.metrics import roc_auc_score\n",
    "roc_auc_score(y_train, train_pred)"
   ]
  },
  {
   "cell_type": "code",
   "execution_count": 32,
   "metadata": {},
   "outputs": [
    {
     "data": {
      "text/plain": [
       "0.7022871457924913"
      ]
     },
     "execution_count": 32,
     "metadata": {},
     "output_type": "execute_result"
    }
   ],
   "source": [
    "roc_auc_score(y_test, test_pred)"
   ]
  },
  {
   "cell_type": "code",
   "execution_count": null,
   "metadata": {},
   "outputs": [],
   "source": []
  },
  {
   "cell_type": "code",
   "execution_count": 33,
   "metadata": {},
   "outputs": [],
   "source": [
    "lr = LogisticRegression()\n",
    "lr.fit(X_train.drop(columns = 'WOE_num_tl_30dpd_woe'), y_train)\n",
    "train_pred = lr.predict_proba(X_train.drop(columns = 'WOE_num_tl_30dpd_woe'))[:,1]\n",
    "test_pred = lr.predict_proba(X_test.drop(columns = 'WOE_num_tl_30dpd_woe'))[:,1]"
   ]
  },
  {
   "cell_type": "code",
   "execution_count": 34,
   "metadata": {},
   "outputs": [
    {
     "data": {
      "text/plain": [
       "0.8123562670190052"
      ]
     },
     "execution_count": 34,
     "metadata": {},
     "output_type": "execute_result"
    }
   ],
   "source": [
    "roc_auc_score(y_train, train_pred)"
   ]
  },
  {
   "cell_type": "code",
   "execution_count": 35,
   "metadata": {},
   "outputs": [
    {
     "data": {
      "text/plain": [
       "0.7023530636615738"
      ]
     },
     "execution_count": 35,
     "metadata": {},
     "output_type": "execute_result"
    }
   ],
   "source": [
    "roc_auc_score(y_test, test_pred)"
   ]
  },
  {
   "cell_type": "code",
   "execution_count": 28,
   "metadata": {},
   "outputs": [
    {
     "ename": "KeyboardInterrupt",
     "evalue": "",
     "output_type": "error",
     "traceback": [
      "\u001b[0;31m---------------------------------------------------------------------------\u001b[0m",
      "\u001b[0;31mKeyboardInterrupt\u001b[0m                         Traceback (most recent call last)",
      "Cell \u001b[0;32mIn[28], line 1\u001b[0m\n\u001b[0;32m----> 1\u001b[0m test_perf \u001b[38;5;241m=\u001b[39m \u001b[43msc\u001b[49m\u001b[38;5;241;43m.\u001b[39;49m\u001b[43mperf_eva\u001b[49m\u001b[43m(\u001b[49m\u001b[43my_train\u001b[49m\u001b[43m,\u001b[49m\u001b[43m \u001b[49m\u001b[43mtrain_pred\u001b[49m\u001b[43m,\u001b[49m\u001b[43m \u001b[49m\u001b[43mtitle\u001b[49m\u001b[43m \u001b[49m\u001b[38;5;241;43m=\u001b[39;49m\u001b[43m \u001b[49m\u001b[38;5;124;43m\"\u001b[39;49m\u001b[38;5;124;43mtest\u001b[39;49m\u001b[38;5;124;43m\"\u001b[39;49m\u001b[43m)\u001b[49m\n",
      "File \u001b[0;32m~/.local/lib/python3.10/site-packages/scorecardpy/perf.py:282\u001b[0m, in \u001b[0;36mperf_eva\u001b[0;34m(label, pred, title, groupnum, plot_type, show_plot, positive, seed)\u001b[0m\n\u001b[1;32m    279\u001b[0m \u001b[38;5;66;03m### data ###\u001b[39;00m\n\u001b[1;32m    280\u001b[0m \u001b[38;5;66;03m# dfkslift ------\u001b[39;00m\n\u001b[1;32m    281\u001b[0m \u001b[38;5;28;01mif\u001b[39;00m \u001b[38;5;28many\u001b[39m([i \u001b[38;5;129;01min\u001b[39;00m plot_type \u001b[38;5;28;01mfor\u001b[39;00m i \u001b[38;5;129;01min\u001b[39;00m [\u001b[38;5;124m'\u001b[39m\u001b[38;5;124mks\u001b[39m\u001b[38;5;124m'\u001b[39m, \u001b[38;5;124m'\u001b[39m\u001b[38;5;124mlift\u001b[39m\u001b[38;5;124m'\u001b[39m]]):\n\u001b[0;32m--> 282\u001b[0m     dfkslift \u001b[38;5;241m=\u001b[39m \u001b[43meva_dfkslift\u001b[49m\u001b[43m(\u001b[49m\u001b[43mdf\u001b[49m\u001b[43m,\u001b[49m\u001b[43m \u001b[49m\u001b[43mgroupnum\u001b[49m\u001b[43m)\u001b[49m\n\u001b[1;32m    283\u001b[0m     \u001b[38;5;28;01mif\u001b[39;00m \u001b[38;5;124m'\u001b[39m\u001b[38;5;124mks\u001b[39m\u001b[38;5;124m'\u001b[39m \u001b[38;5;129;01min\u001b[39;00m plot_type: df_ks \u001b[38;5;241m=\u001b[39m dfkslift\n\u001b[1;32m    284\u001b[0m     \u001b[38;5;28;01mif\u001b[39;00m \u001b[38;5;124m'\u001b[39m\u001b[38;5;124mlift\u001b[39m\u001b[38;5;124m'\u001b[39m \u001b[38;5;129;01min\u001b[39;00m plot_type: df_lift \u001b[38;5;241m=\u001b[39m dfkslift\n",
      "File \u001b[0;32m~/.local/lib/python3.10/site-packages/scorecardpy/perf.py:17\u001b[0m, in \u001b[0;36meva_dfkslift\u001b[0;34m(df, groupnum)\u001b[0m\n\u001b[1;32m     13\u001b[0m \u001b[38;5;28;01mdef\u001b[39;00m \u001b[38;5;21mn0\u001b[39m(x): \u001b[38;5;28;01mreturn\u001b[39;00m \u001b[38;5;28msum\u001b[39m(x\u001b[38;5;241m==\u001b[39m\u001b[38;5;241m0\u001b[39m)\n\u001b[1;32m     14\u001b[0m \u001b[38;5;28;01mdef\u001b[39;00m \u001b[38;5;21mn1\u001b[39m(x): \u001b[38;5;28;01mreturn\u001b[39;00m \u001b[38;5;28msum\u001b[39m(x\u001b[38;5;241m==\u001b[39m\u001b[38;5;241m1\u001b[39m)\n\u001b[1;32m     15\u001b[0m df_kslift \u001b[38;5;241m=\u001b[39m \u001b[43mdf\u001b[49m\u001b[38;5;241;43m.\u001b[39;49m\u001b[43msort_values\u001b[49m\u001b[43m(\u001b[49m\u001b[38;5;124;43m'\u001b[39;49m\u001b[38;5;124;43mpred\u001b[39;49m\u001b[38;5;124;43m'\u001b[39;49m\u001b[43m,\u001b[49m\u001b[43m \u001b[49m\u001b[43mascending\u001b[49m\u001b[38;5;241;43m=\u001b[39;49m\u001b[38;5;28;43;01mFalse\u001b[39;49;00m\u001b[43m)\u001b[49m\u001b[38;5;241;43m.\u001b[39;49m\u001b[43mreset_index\u001b[49m\u001b[43m(\u001b[49m\u001b[43mdrop\u001b[49m\u001b[38;5;241;43m=\u001b[39;49m\u001b[38;5;28;43;01mTrue\u001b[39;49;00m\u001b[43m)\u001b[49m\u001b[43m\\\u001b[49m\n\u001b[1;32m     16\u001b[0m \u001b[43m  \u001b[49m\u001b[38;5;241;43m.\u001b[39;49m\u001b[43massign\u001b[49m\u001b[43m(\u001b[49m\u001b[43mgroup\u001b[49m\u001b[38;5;241;43m=\u001b[39;49m\u001b[38;5;28;43;01mlambda\u001b[39;49;00m\u001b[43m \u001b[49m\u001b[43mx\u001b[49m\u001b[43m:\u001b[49m\u001b[43m \u001b[49m\u001b[43mnp\u001b[49m\u001b[38;5;241;43m.\u001b[39;49m\u001b[43mceil\u001b[49m\u001b[43m(\u001b[49m\u001b[43m(\u001b[49m\u001b[43mx\u001b[49m\u001b[38;5;241;43m.\u001b[39;49m\u001b[43mindex\u001b[49m\u001b[38;5;241;43m+\u001b[39;49m\u001b[38;5;241;43m1\u001b[39;49m\u001b[43m)\u001b[49m\u001b[38;5;241;43m/\u001b[39;49m\u001b[43m(\u001b[49m\u001b[38;5;28;43mlen\u001b[39;49m\u001b[43m(\u001b[49m\u001b[43mx\u001b[49m\u001b[38;5;241;43m.\u001b[39;49m\u001b[43mindex\u001b[49m\u001b[43m)\u001b[49m\u001b[38;5;241;43m/\u001b[39;49m\u001b[43mgroupnum\u001b[49m\u001b[43m)\u001b[49m\u001b[43m)\u001b[49m\u001b[43m)\u001b[49m\u001b[43m\\\u001b[49m\n\u001b[0;32m---> 17\u001b[0m \u001b[43m  \u001b[49m\u001b[38;5;241;43m.\u001b[39;49m\u001b[43mgroupby\u001b[49m\u001b[43m(\u001b[49m\u001b[38;5;124;43m'\u001b[39;49m\u001b[38;5;124;43mgroup\u001b[39;49m\u001b[38;5;124;43m'\u001b[39;49m\u001b[43m)\u001b[49m\u001b[43m[\u001b[49m\u001b[38;5;124;43m'\u001b[39;49m\u001b[38;5;124;43mlabel\u001b[39;49m\u001b[38;5;124;43m'\u001b[39;49m\u001b[43m]\u001b[49m\u001b[38;5;241;43m.\u001b[39;49m\u001b[43magg\u001b[49m\u001b[43m(\u001b[49m\u001b[43m[\u001b[49m\u001b[43mn0\u001b[49m\u001b[43m,\u001b[49m\u001b[43mn1\u001b[49m\u001b[43m]\u001b[49m\u001b[43m)\u001b[49m\\\n\u001b[1;32m     18\u001b[0m   \u001b[38;5;241m.\u001b[39mreset_index()\u001b[38;5;241m.\u001b[39mrename(columns\u001b[38;5;241m=\u001b[39m{\u001b[38;5;124m'\u001b[39m\u001b[38;5;124mn0\u001b[39m\u001b[38;5;124m'\u001b[39m:\u001b[38;5;124m'\u001b[39m\u001b[38;5;124mgood\u001b[39m\u001b[38;5;124m'\u001b[39m,\u001b[38;5;124m'\u001b[39m\u001b[38;5;124mn1\u001b[39m\u001b[38;5;124m'\u001b[39m:\u001b[38;5;124m'\u001b[39m\u001b[38;5;124mbad\u001b[39m\u001b[38;5;124m'\u001b[39m})\\\n\u001b[1;32m     19\u001b[0m   \u001b[38;5;241m.\u001b[39massign(\n\u001b[1;32m     20\u001b[0m     group\u001b[38;5;241m=\u001b[39m\u001b[38;5;28;01mlambda\u001b[39;00m x: (x\u001b[38;5;241m.\u001b[39mindex\u001b[38;5;241m+\u001b[39m\u001b[38;5;241m1\u001b[39m)\u001b[38;5;241m/\u001b[39m\u001b[38;5;28mlen\u001b[39m(x\u001b[38;5;241m.\u001b[39mindex),\n\u001b[1;32m     21\u001b[0m     good_distri\u001b[38;5;241m=\u001b[39m\u001b[38;5;28;01mlambda\u001b[39;00m x: x\u001b[38;5;241m.\u001b[39mgood\u001b[38;5;241m/\u001b[39m\u001b[38;5;28msum\u001b[39m(x\u001b[38;5;241m.\u001b[39mgood), \n\u001b[1;32m     22\u001b[0m     bad_distri\u001b[38;5;241m=\u001b[39m\u001b[38;5;28;01mlambda\u001b[39;00m x: x\u001b[38;5;241m.\u001b[39mbad\u001b[38;5;241m/\u001b[39m\u001b[38;5;28msum\u001b[39m(x\u001b[38;5;241m.\u001b[39mbad), \n\u001b[1;32m     23\u001b[0m     badrate\u001b[38;5;241m=\u001b[39m\u001b[38;5;28;01mlambda\u001b[39;00m x: x\u001b[38;5;241m.\u001b[39mbad\u001b[38;5;241m/\u001b[39m(x\u001b[38;5;241m.\u001b[39mgood\u001b[38;5;241m+\u001b[39mx\u001b[38;5;241m.\u001b[39mbad),\n\u001b[1;32m     24\u001b[0m     cumbadrate\u001b[38;5;241m=\u001b[39m\u001b[38;5;28;01mlambda\u001b[39;00m x: np\u001b[38;5;241m.\u001b[39mcumsum(x\u001b[38;5;241m.\u001b[39mbad)\u001b[38;5;241m/\u001b[39mnp\u001b[38;5;241m.\u001b[39mcumsum(x\u001b[38;5;241m.\u001b[39mgood\u001b[38;5;241m+\u001b[39mx\u001b[38;5;241m.\u001b[39mbad),\n\u001b[1;32m     25\u001b[0m     lift\u001b[38;5;241m=\u001b[39m\u001b[38;5;28;01mlambda\u001b[39;00m x: (np\u001b[38;5;241m.\u001b[39mcumsum(x\u001b[38;5;241m.\u001b[39mbad)\u001b[38;5;241m/\u001b[39mnp\u001b[38;5;241m.\u001b[39mcumsum(x\u001b[38;5;241m.\u001b[39mgood\u001b[38;5;241m+\u001b[39mx\u001b[38;5;241m.\u001b[39mbad))\u001b[38;5;241m/\u001b[39m(\u001b[38;5;28msum\u001b[39m(x\u001b[38;5;241m.\u001b[39mbad)\u001b[38;5;241m/\u001b[39m\u001b[38;5;28msum\u001b[39m(x\u001b[38;5;241m.\u001b[39mgood\u001b[38;5;241m+\u001b[39mx\u001b[38;5;241m.\u001b[39mbad)),\n\u001b[1;32m     26\u001b[0m     cumgood\u001b[38;5;241m=\u001b[39m\u001b[38;5;28;01mlambda\u001b[39;00m x: np\u001b[38;5;241m.\u001b[39mcumsum(x\u001b[38;5;241m.\u001b[39mgood)\u001b[38;5;241m/\u001b[39m\u001b[38;5;28msum\u001b[39m(x\u001b[38;5;241m.\u001b[39mgood), \n\u001b[1;32m     27\u001b[0m     cumbad\u001b[38;5;241m=\u001b[39m\u001b[38;5;28;01mlambda\u001b[39;00m x: np\u001b[38;5;241m.\u001b[39mcumsum(x\u001b[38;5;241m.\u001b[39mbad)\u001b[38;5;241m/\u001b[39m\u001b[38;5;28msum\u001b[39m(x\u001b[38;5;241m.\u001b[39mbad)\n\u001b[1;32m     28\u001b[0m   )\u001b[38;5;241m.\u001b[39massign(ks\u001b[38;5;241m=\u001b[39m\u001b[38;5;28;01mlambda\u001b[39;00m x:\u001b[38;5;28mabs\u001b[39m(x\u001b[38;5;241m.\u001b[39mcumbad\u001b[38;5;241m-\u001b[39mx\u001b[38;5;241m.\u001b[39mcumgood))\n\u001b[1;32m     29\u001b[0m \u001b[38;5;66;03m# bind 0\u001b[39;00m\n\u001b[1;32m     30\u001b[0m df_kslift\u001b[38;5;241m=\u001b[39mpd\u001b[38;5;241m.\u001b[39mconcat([\n\u001b[1;32m     31\u001b[0m   pd\u001b[38;5;241m.\u001b[39mDataFrame({\u001b[38;5;124m'\u001b[39m\u001b[38;5;124mgroup\u001b[39m\u001b[38;5;124m'\u001b[39m:\u001b[38;5;241m0\u001b[39m, \u001b[38;5;124m'\u001b[39m\u001b[38;5;124mgood\u001b[39m\u001b[38;5;124m'\u001b[39m:\u001b[38;5;241m0\u001b[39m, \u001b[38;5;124m'\u001b[39m\u001b[38;5;124mbad\u001b[39m\u001b[38;5;124m'\u001b[39m:\u001b[38;5;241m0\u001b[39m, \u001b[38;5;124m'\u001b[39m\u001b[38;5;124mgood_distri\u001b[39m\u001b[38;5;124m'\u001b[39m:\u001b[38;5;241m0\u001b[39m, \u001b[38;5;124m'\u001b[39m\u001b[38;5;124mbad_distri\u001b[39m\u001b[38;5;124m'\u001b[39m:\u001b[38;5;241m0\u001b[39m, \u001b[38;5;124m'\u001b[39m\u001b[38;5;124mbadrate\u001b[39m\u001b[38;5;124m'\u001b[39m:\u001b[38;5;241m0\u001b[39m, \u001b[38;5;124m'\u001b[39m\u001b[38;5;124mcumbadrate\u001b[39m\u001b[38;5;124m'\u001b[39m:np\u001b[38;5;241m.\u001b[39mnan, \u001b[38;5;124m'\u001b[39m\u001b[38;5;124mcumgood\u001b[39m\u001b[38;5;124m'\u001b[39m:\u001b[38;5;241m0\u001b[39m, \u001b[38;5;124m'\u001b[39m\u001b[38;5;124mcumbad\u001b[39m\u001b[38;5;124m'\u001b[39m:\u001b[38;5;241m0\u001b[39m, \u001b[38;5;124m'\u001b[39m\u001b[38;5;124mks\u001b[39m\u001b[38;5;124m'\u001b[39m:\u001b[38;5;241m0\u001b[39m, \u001b[38;5;124m'\u001b[39m\u001b[38;5;124mlift\u001b[39m\u001b[38;5;124m'\u001b[39m:np\u001b[38;5;241m.\u001b[39mnan}, index\u001b[38;5;241m=\u001b[39mnp\u001b[38;5;241m.\u001b[39marange(\u001b[38;5;241m1\u001b[39m)),\n\u001b[1;32m     32\u001b[0m   df_kslift\n\u001b[1;32m     33\u001b[0m ], ignore_index\u001b[38;5;241m=\u001b[39m\u001b[38;5;28;01mTrue\u001b[39;00m)\n",
      "File \u001b[0;32m~/.local/lib/python3.10/site-packages/pandas/core/groupby/generic.py:281\u001b[0m, in \u001b[0;36mSeriesGroupBy.aggregate\u001b[0;34m(self, func, engine, engine_kwargs, *args, **kwargs)\u001b[0m\n\u001b[1;32m    277\u001b[0m \u001b[38;5;28;01melif\u001b[39;00m \u001b[38;5;28misinstance\u001b[39m(func, abc\u001b[38;5;241m.\u001b[39mIterable):\n\u001b[1;32m    278\u001b[0m     \u001b[38;5;66;03m# Catch instances of lists / tuples\u001b[39;00m\n\u001b[1;32m    279\u001b[0m     \u001b[38;5;66;03m# but not the class list / tuple itself.\u001b[39;00m\n\u001b[1;32m    280\u001b[0m     func \u001b[38;5;241m=\u001b[39m maybe_mangle_lambdas(func)\n\u001b[0;32m--> 281\u001b[0m     ret \u001b[38;5;241m=\u001b[39m \u001b[38;5;28;43mself\u001b[39;49m\u001b[38;5;241;43m.\u001b[39;49m\u001b[43m_aggregate_multiple_funcs\u001b[49m\u001b[43m(\u001b[49m\u001b[43mfunc\u001b[49m\u001b[43m)\u001b[49m\n\u001b[1;32m    282\u001b[0m     \u001b[38;5;28;01mif\u001b[39;00m relabeling:\n\u001b[1;32m    283\u001b[0m         \u001b[38;5;66;03m# columns is not narrowed by mypy from relabeling flag\u001b[39;00m\n\u001b[1;32m    284\u001b[0m         \u001b[38;5;28;01massert\u001b[39;00m columns \u001b[38;5;129;01mis\u001b[39;00m \u001b[38;5;129;01mnot\u001b[39;00m \u001b[38;5;28;01mNone\u001b[39;00m  \u001b[38;5;66;03m# for mypy\u001b[39;00m\n",
      "File \u001b[0;32m~/.local/lib/python3.10/site-packages/pandas/core/groupby/generic.py:336\u001b[0m, in \u001b[0;36mSeriesGroupBy._aggregate_multiple_funcs\u001b[0;34m(self, arg)\u001b[0m\n\u001b[1;32m    333\u001b[0m \u001b[38;5;28;01mfor\u001b[39;00m idx, (name, func) \u001b[38;5;129;01min\u001b[39;00m \u001b[38;5;28menumerate\u001b[39m(arg):\n\u001b[1;32m    335\u001b[0m     key \u001b[38;5;241m=\u001b[39m base\u001b[38;5;241m.\u001b[39mOutputKey(label\u001b[38;5;241m=\u001b[39mname, position\u001b[38;5;241m=\u001b[39midx)\n\u001b[0;32m--> 336\u001b[0m     results[key] \u001b[38;5;241m=\u001b[39m \u001b[38;5;28;43mself\u001b[39;49m\u001b[38;5;241;43m.\u001b[39;49m\u001b[43maggregate\u001b[49m\u001b[43m(\u001b[49m\u001b[43mfunc\u001b[49m\u001b[43m)\u001b[49m\n\u001b[1;32m    338\u001b[0m \u001b[38;5;28;01mif\u001b[39;00m \u001b[38;5;28many\u001b[39m(\u001b[38;5;28misinstance\u001b[39m(x, DataFrame) \u001b[38;5;28;01mfor\u001b[39;00m x \u001b[38;5;129;01min\u001b[39;00m results\u001b[38;5;241m.\u001b[39mvalues()):\n\u001b[1;32m    339\u001b[0m     \u001b[38;5;28;01mfrom\u001b[39;00m \u001b[38;5;21;01mpandas\u001b[39;00m \u001b[38;5;28;01mimport\u001b[39;00m concat\n",
      "File \u001b[0;32m~/.local/lib/python3.10/site-packages/pandas/core/groupby/generic.py:297\u001b[0m, in \u001b[0;36mSeriesGroupBy.aggregate\u001b[0;34m(self, func, engine, engine_kwargs, *args, **kwargs)\u001b[0m\n\u001b[1;32m    294\u001b[0m     \u001b[38;5;28;01mreturn\u001b[39;00m \u001b[38;5;28mself\u001b[39m\u001b[38;5;241m.\u001b[39m_python_agg_general(func, \u001b[38;5;241m*\u001b[39margs, \u001b[38;5;241m*\u001b[39m\u001b[38;5;241m*\u001b[39mkwargs)\n\u001b[1;32m    296\u001b[0m \u001b[38;5;28;01mtry\u001b[39;00m:\n\u001b[0;32m--> 297\u001b[0m     \u001b[38;5;28;01mreturn\u001b[39;00m \u001b[38;5;28;43mself\u001b[39;49m\u001b[38;5;241;43m.\u001b[39;49m\u001b[43m_python_agg_general\u001b[49m\u001b[43m(\u001b[49m\u001b[43mfunc\u001b[49m\u001b[43m,\u001b[49m\u001b[43m \u001b[49m\u001b[38;5;241;43m*\u001b[39;49m\u001b[43margs\u001b[49m\u001b[43m,\u001b[49m\u001b[43m \u001b[49m\u001b[38;5;241;43m*\u001b[39;49m\u001b[38;5;241;43m*\u001b[39;49m\u001b[43mkwargs\u001b[49m\u001b[43m)\u001b[49m\n\u001b[1;32m    298\u001b[0m \u001b[38;5;28;01mexcept\u001b[39;00m \u001b[38;5;167;01mKeyError\u001b[39;00m:\n\u001b[1;32m    299\u001b[0m     \u001b[38;5;66;03m# TODO: KeyError is raised in _python_agg_general,\u001b[39;00m\n\u001b[1;32m    300\u001b[0m     \u001b[38;5;66;03m#  see test_groupby.test_basic\u001b[39;00m\n\u001b[1;32m    301\u001b[0m     result \u001b[38;5;241m=\u001b[39m \u001b[38;5;28mself\u001b[39m\u001b[38;5;241m.\u001b[39m_aggregate_named(func, \u001b[38;5;241m*\u001b[39margs, \u001b[38;5;241m*\u001b[39m\u001b[38;5;241m*\u001b[39mkwargs)\n",
      "File \u001b[0;32m~/.local/lib/python3.10/site-packages/pandas/core/groupby/groupby.py:1682\u001b[0m, in \u001b[0;36mGroupBy._python_agg_general\u001b[0;34m(self, func, raise_on_typeerror, *args, **kwargs)\u001b[0m\n\u001b[1;32m   1678\u001b[0m name \u001b[38;5;241m=\u001b[39m obj\u001b[38;5;241m.\u001b[39mname\n\u001b[1;32m   1680\u001b[0m \u001b[38;5;28;01mtry\u001b[39;00m:\n\u001b[1;32m   1681\u001b[0m     \u001b[38;5;66;03m# if this function is invalid for this dtype, we will ignore it.\u001b[39;00m\n\u001b[0;32m-> 1682\u001b[0m     result \u001b[38;5;241m=\u001b[39m \u001b[38;5;28;43mself\u001b[39;49m\u001b[38;5;241;43m.\u001b[39;49m\u001b[43mgrouper\u001b[49m\u001b[38;5;241;43m.\u001b[39;49m\u001b[43magg_series\u001b[49m\u001b[43m(\u001b[49m\u001b[43mobj\u001b[49m\u001b[43m,\u001b[49m\u001b[43m \u001b[49m\u001b[43mf\u001b[49m\u001b[43m)\u001b[49m\n\u001b[1;32m   1683\u001b[0m \u001b[38;5;28;01mexcept\u001b[39;00m \u001b[38;5;167;01mTypeError\u001b[39;00m:\n\u001b[1;32m   1684\u001b[0m     \u001b[38;5;28;01mif\u001b[39;00m raise_on_typeerror:\n",
      "File \u001b[0;32m~/.local/lib/python3.10/site-packages/pandas/core/groupby/ops.py:1081\u001b[0m, in \u001b[0;36mBaseGrouper.agg_series\u001b[0;34m(self, obj, func, preserve_dtype)\u001b[0m\n\u001b[1;32m   1078\u001b[0m     preserve_dtype \u001b[38;5;241m=\u001b[39m \u001b[38;5;28;01mTrue\u001b[39;00m\n\u001b[1;32m   1080\u001b[0m \u001b[38;5;28;01melse\u001b[39;00m:\n\u001b[0;32m-> 1081\u001b[0m     result \u001b[38;5;241m=\u001b[39m \u001b[38;5;28;43mself\u001b[39;49m\u001b[38;5;241;43m.\u001b[39;49m\u001b[43m_aggregate_series_pure_python\u001b[49m\u001b[43m(\u001b[49m\u001b[43mobj\u001b[49m\u001b[43m,\u001b[49m\u001b[43m \u001b[49m\u001b[43mfunc\u001b[49m\u001b[43m)\u001b[49m\n\u001b[1;32m   1083\u001b[0m npvalues \u001b[38;5;241m=\u001b[39m lib\u001b[38;5;241m.\u001b[39mmaybe_convert_objects(result, try_float\u001b[38;5;241m=\u001b[39m\u001b[38;5;28;01mFalse\u001b[39;00m)\n\u001b[1;32m   1084\u001b[0m \u001b[38;5;28;01mif\u001b[39;00m preserve_dtype:\n",
      "File \u001b[0;32m~/.local/lib/python3.10/site-packages/pandas/core/groupby/ops.py:1104\u001b[0m, in \u001b[0;36mBaseGrouper._aggregate_series_pure_python\u001b[0;34m(self, obj, func)\u001b[0m\n\u001b[1;32m   1101\u001b[0m splitter \u001b[38;5;241m=\u001b[39m get_splitter(obj, ids, ngroups, axis\u001b[38;5;241m=\u001b[39m\u001b[38;5;241m0\u001b[39m)\n\u001b[1;32m   1103\u001b[0m \u001b[38;5;28;01mfor\u001b[39;00m i, group \u001b[38;5;129;01min\u001b[39;00m \u001b[38;5;28menumerate\u001b[39m(splitter):\n\u001b[0;32m-> 1104\u001b[0m     res \u001b[38;5;241m=\u001b[39m \u001b[43mfunc\u001b[49m\u001b[43m(\u001b[49m\u001b[43mgroup\u001b[49m\u001b[43m)\u001b[49m\n\u001b[1;32m   1105\u001b[0m     res \u001b[38;5;241m=\u001b[39m libreduction\u001b[38;5;241m.\u001b[39mextract_result(res)\n\u001b[1;32m   1107\u001b[0m     \u001b[38;5;28;01mif\u001b[39;00m \u001b[38;5;129;01mnot\u001b[39;00m initialized:\n\u001b[1;32m   1108\u001b[0m         \u001b[38;5;66;03m# We only do this validation on the first iteration\u001b[39;00m\n",
      "File \u001b[0;32m~/.local/lib/python3.10/site-packages/pandas/core/groupby/groupby.py:1668\u001b[0m, in \u001b[0;36mGroupBy._python_agg_general.<locals>.<lambda>\u001b[0;34m(x)\u001b[0m\n\u001b[1;32m   1665\u001b[0m \u001b[38;5;129m@final\u001b[39m\n\u001b[1;32m   1666\u001b[0m \u001b[38;5;28;01mdef\u001b[39;00m \u001b[38;5;21m_python_agg_general\u001b[39m(\u001b[38;5;28mself\u001b[39m, func, \u001b[38;5;241m*\u001b[39margs, raise_on_typeerror\u001b[38;5;241m=\u001b[39m\u001b[38;5;28;01mFalse\u001b[39;00m, \u001b[38;5;241m*\u001b[39m\u001b[38;5;241m*\u001b[39mkwargs):\n\u001b[1;32m   1667\u001b[0m     func \u001b[38;5;241m=\u001b[39m com\u001b[38;5;241m.\u001b[39mis_builtin_func(func)\n\u001b[0;32m-> 1668\u001b[0m     f \u001b[38;5;241m=\u001b[39m \u001b[38;5;28;01mlambda\u001b[39;00m x: \u001b[43mfunc\u001b[49m\u001b[43m(\u001b[49m\u001b[43mx\u001b[49m\u001b[43m,\u001b[49m\u001b[43m \u001b[49m\u001b[38;5;241;43m*\u001b[39;49m\u001b[43margs\u001b[49m\u001b[43m,\u001b[49m\u001b[43m \u001b[49m\u001b[38;5;241;43m*\u001b[39;49m\u001b[38;5;241;43m*\u001b[39;49m\u001b[43mkwargs\u001b[49m\u001b[43m)\u001b[49m\n\u001b[1;32m   1670\u001b[0m     \u001b[38;5;66;03m# iterate through \"columns\" ex exclusions to populate output dict\u001b[39;00m\n\u001b[1;32m   1671\u001b[0m     output: \u001b[38;5;28mdict\u001b[39m[base\u001b[38;5;241m.\u001b[39mOutputKey, ArrayLike] \u001b[38;5;241m=\u001b[39m {}\n",
      "File \u001b[0;32m~/.local/lib/python3.10/site-packages/scorecardpy/perf.py:14\u001b[0m, in \u001b[0;36meva_dfkslift.<locals>.n1\u001b[0;34m(x)\u001b[0m\n\u001b[0;32m---> 14\u001b[0m \u001b[38;5;28;01mdef\u001b[39;00m \u001b[38;5;21mn1\u001b[39m(x): \u001b[38;5;28;01mreturn\u001b[39;00m \u001b[38;5;28;43msum\u001b[39;49m\u001b[43m(\u001b[49m\u001b[43mx\u001b[49m\u001b[38;5;241;43m==\u001b[39;49m\u001b[38;5;241;43m1\u001b[39;49m\u001b[43m)\u001b[49m\n",
      "File \u001b[0;32m~/.local/lib/python3.10/site-packages/pandas/core/base.py:755\u001b[0m, in \u001b[0;36mIndexOpsMixin.__iter__\u001b[0;34m(self)\u001b[0m\n\u001b[1;32m    743\u001b[0m \u001b[38;5;250m\u001b[39m\u001b[38;5;124;03m\"\"\"\u001b[39;00m\n\u001b[1;32m    744\u001b[0m \u001b[38;5;124;03mReturn an iterator of the values.\u001b[39;00m\n\u001b[1;32m    745\u001b[0m \n\u001b[0;32m   (...)\u001b[0m\n\u001b[1;32m    752\u001b[0m \u001b[38;5;124;03miterator\u001b[39;00m\n\u001b[1;32m    753\u001b[0m \u001b[38;5;124;03m\"\"\"\u001b[39;00m\n\u001b[1;32m    754\u001b[0m \u001b[38;5;66;03m# We are explicitly making element iterators.\u001b[39;00m\n\u001b[0;32m--> 755\u001b[0m \u001b[38;5;28;01mif\u001b[39;00m \u001b[38;5;129;01mnot\u001b[39;00m \u001b[38;5;28misinstance\u001b[39m(\u001b[38;5;28;43mself\u001b[39;49m\u001b[38;5;241;43m.\u001b[39;49m\u001b[43m_values\u001b[49m, np\u001b[38;5;241m.\u001b[39mndarray):\n\u001b[1;32m    756\u001b[0m     \u001b[38;5;66;03m# Check type instead of dtype to catch DTA/TDA\u001b[39;00m\n\u001b[1;32m    757\u001b[0m     \u001b[38;5;28;01mreturn\u001b[39;00m \u001b[38;5;28miter\u001b[39m(\u001b[38;5;28mself\u001b[39m\u001b[38;5;241m.\u001b[39m_values)\n\u001b[1;32m    758\u001b[0m \u001b[38;5;28;01melse\u001b[39;00m:\n",
      "File \u001b[0;32m~/.local/lib/python3.10/site-packages/pandas/core/series.py:740\u001b[0m, in \u001b[0;36mSeries._values\u001b[0;34m(self)\u001b[0m\n\u001b[1;32m    708\u001b[0m \u001b[38;5;129m@property\u001b[39m\n\u001b[1;32m    709\u001b[0m \u001b[38;5;28;01mdef\u001b[39;00m \u001b[38;5;21m_values\u001b[39m(\u001b[38;5;28mself\u001b[39m):\n\u001b[1;32m    710\u001b[0m \u001b[38;5;250m    \u001b[39m\u001b[38;5;124;03m\"\"\"\u001b[39;00m\n\u001b[1;32m    711\u001b[0m \u001b[38;5;124;03m    Return the internal repr of this data (defined by Block.interval_values).\u001b[39;00m\n\u001b[1;32m    712\u001b[0m \u001b[38;5;124;03m    This are the values as stored in the Block (ndarray or ExtensionArray\u001b[39;00m\n\u001b[0;32m   (...)\u001b[0m\n\u001b[1;32m    738\u001b[0m \n\u001b[1;32m    739\u001b[0m \u001b[38;5;124;03m    \"\"\"\u001b[39;00m\n\u001b[0;32m--> 740\u001b[0m     \u001b[38;5;28;01mreturn\u001b[39;00m \u001b[38;5;28;43mself\u001b[39;49m\u001b[38;5;241;43m.\u001b[39;49m\u001b[43m_mgr\u001b[49m\u001b[38;5;241;43m.\u001b[39;49m\u001b[43minternal_values\u001b[49m\u001b[43m(\u001b[49m\u001b[43m)\u001b[49m\n",
      "File \u001b[0;32m~/.local/lib/python3.10/site-packages/pandas/core/internals/managers.py:2071\u001b[0m, in \u001b[0;36mSingleBlockManager.internal_values\u001b[0;34m(self)\u001b[0m\n\u001b[1;32m   2069\u001b[0m \u001b[38;5;28;01mdef\u001b[39;00m \u001b[38;5;21minternal_values\u001b[39m(\u001b[38;5;28mself\u001b[39m):\n\u001b[1;32m   2070\u001b[0m \u001b[38;5;250m    \u001b[39m\u001b[38;5;124;03m\"\"\"The array that Series._values returns\"\"\"\u001b[39;00m\n\u001b[0;32m-> 2071\u001b[0m     \u001b[38;5;28;01mreturn\u001b[39;00m \u001b[38;5;28;43mself\u001b[39;49m\u001b[38;5;241;43m.\u001b[39;49m\u001b[43m_block\u001b[49m\u001b[38;5;241m.\u001b[39mvalues\n",
      "File \u001b[0;32m~/.local/lib/python3.10/site-packages/pandas/_libs/properties.pyx:36\u001b[0m, in \u001b[0;36mpandas._libs.properties.CachedProperty.__get__\u001b[0;34m()\u001b[0m\n",
      "File \u001b[0;32m~/.local/lib/python3.10/site-packages/pandas/core/internals/managers.py:2009\u001b[0m, in \u001b[0;36mSingleBlockManager._block\u001b[0;34m(self)\u001b[0m\n\u001b[1;32m   2006\u001b[0m \u001b[38;5;28;01mdef\u001b[39;00m \u001b[38;5;21m_post_setstate\u001b[39m(\u001b[38;5;28mself\u001b[39m):\n\u001b[1;32m   2007\u001b[0m     \u001b[38;5;28;01mpass\u001b[39;00m\n\u001b[0;32m-> 2009\u001b[0m \u001b[38;5;129m@cache_readonly\u001b[39m\n\u001b[1;32m   2010\u001b[0m \u001b[38;5;28;01mdef\u001b[39;00m \u001b[38;5;21m_block\u001b[39m(\u001b[38;5;28mself\u001b[39m) \u001b[38;5;241m-\u001b[39m\u001b[38;5;241m>\u001b[39m Block:\n\u001b[1;32m   2011\u001b[0m     \u001b[38;5;28;01mreturn\u001b[39;00m \u001b[38;5;28mself\u001b[39m\u001b[38;5;241m.\u001b[39mblocks[\u001b[38;5;241m0\u001b[39m]\n\u001b[1;32m   2013\u001b[0m \u001b[38;5;129m@property\u001b[39m\n\u001b[1;32m   2014\u001b[0m \u001b[38;5;28;01mdef\u001b[39;00m \u001b[38;5;21m_blknos\u001b[39m(\u001b[38;5;28mself\u001b[39m):\n",
      "\u001b[0;31mKeyboardInterrupt\u001b[0m: "
     ]
    }
   ],
   "source": [
    "test_perf = sc.perf_eva(y_train, train_pred, title = \"test\")"
   ]
  },
  {
   "cell_type": "code",
   "execution_count": null,
   "metadata": {},
   "outputs": [],
   "source": [
    "test_perf = sc.perf_eva(y_test, test_pred, title = \"test\")"
   ]
  },
  {
   "cell_type": "code",
   "execution_count": null,
   "metadata": {},
   "outputs": [],
   "source": []
  }
 ],
 "metadata": {
  "datalore": {
   "base_environment": "default",
   "computation_mode": "JUPYTER",
   "package_manager": "pip",
   "packages": [],
   "report_row_ids": [],
   "version": 3
  },
  "kernelspec": {
   "display_name": "Python 3 (ipykernel)",
   "language": "python",
   "name": "python3"
  },
  "language_info": {
   "codemirror_mode": {
    "name": "ipython",
    "version": 3
   },
   "file_extension": ".py",
   "mimetype": "text/x-python",
   "name": "python",
   "nbconvert_exporter": "python",
   "pygments_lexer": "ipython3",
   "version": "3.10.12"
  }
 },
 "nbformat": 4,
 "nbformat_minor": 4
}
