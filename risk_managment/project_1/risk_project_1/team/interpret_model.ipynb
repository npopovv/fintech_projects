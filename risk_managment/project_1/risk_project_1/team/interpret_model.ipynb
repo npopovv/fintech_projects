{
 "cells": [
  {
   "cell_type": "code",
   "execution_count": 446,
   "metadata": {
    "datalore": {
     "hide_input_from_viewers": true,
     "hide_output_from_viewers": true,
     "node_id": "vVIRA1fMgxBiSwbkUX7zl6",
     "type": "CODE"
    }
   },
   "outputs": [],
   "source": [
    "import pandas as pd\n",
    "from pandas import Series, DataFrame\n",
    "import numpy as np\n",
    "import seaborn as sns\n",
    "import matplotlib.pyplot as plt\n",
    "\n",
    "import os\n",
    "import requests\n",
    "import joblib\n",
    "\n",
    "from sklearn.model_selection import train_test_split\n",
    "from sklearn.metrics import roc_auc_score\n",
    "\n",
    "from autowoe import AutoWoE, ReportDeco"
   ]
  },
  {
   "cell_type": "code",
   "execution_count": 447,
   "metadata": {
    "datalore": {
     "hide_input_from_viewers": true,
     "hide_output_from_viewers": true,
     "node_id": "vzauHMyNb8fa82As5hsI94",
     "type": "CODE"
    }
   },
   "outputs": [
    {
     "data": {
      "text/html": [
       "<div>\n",
       "<style scoped>\n",
       "    .dataframe tbody tr th:only-of-type {\n",
       "        vertical-align: middle;\n",
       "    }\n",
       "\n",
       "    .dataframe tbody tr th {\n",
       "        vertical-align: top;\n",
       "    }\n",
       "\n",
       "    .dataframe thead th {\n",
       "        text-align: right;\n",
       "    }\n",
       "</style>\n",
       "<table border=\"1\" class=\"dataframe\">\n",
       "  <thead>\n",
       "    <tr style=\"text-align: right;\">\n",
       "      <th></th>\n",
       "      <th>funded_amnt</th>\n",
       "      <th>term</th>\n",
       "      <th>int_rate</th>\n",
       "      <th>installment</th>\n",
       "      <th>home_ownership</th>\n",
       "      <th>annual_inc</th>\n",
       "      <th>issue_d</th>\n",
       "      <th>dti</th>\n",
       "      <th>inq_last_6mths</th>\n",
       "      <th>revol_util</th>\n",
       "      <th>...</th>\n",
       "      <th>mort_acc</th>\n",
       "      <th>mths_since_recent_bc</th>\n",
       "      <th>pub_rec_bankruptcies</th>\n",
       "      <th>total_bc_limit</th>\n",
       "      <th>total_il_high_credit_limit</th>\n",
       "      <th>hardship_flag</th>\n",
       "      <th>disbursement_method</th>\n",
       "      <th>debt_settlement_flag</th>\n",
       "      <th>loan_condition_int</th>\n",
       "      <th>loan_condition</th>\n",
       "    </tr>\n",
       "  </thead>\n",
       "  <tbody>\n",
       "    <tr>\n",
       "      <th>0</th>\n",
       "      <td>3600.0</td>\n",
       "      <td>0</td>\n",
       "      <td>13.99</td>\n",
       "      <td>123.03</td>\n",
       "      <td>1</td>\n",
       "      <td>55000.0</td>\n",
       "      <td>2015-12</td>\n",
       "      <td>5.91</td>\n",
       "      <td>1</td>\n",
       "      <td>29.7</td>\n",
       "      <td>...</td>\n",
       "      <td>1.0</td>\n",
       "      <td>4.0</td>\n",
       "      <td>0.0</td>\n",
       "      <td>2400.0</td>\n",
       "      <td>13734.0</td>\n",
       "      <td>0</td>\n",
       "      <td>0</td>\n",
       "      <td>0</td>\n",
       "      <td>0</td>\n",
       "      <td>Good Loan</td>\n",
       "    </tr>\n",
       "    <tr>\n",
       "      <th>1</th>\n",
       "      <td>24700.0</td>\n",
       "      <td>0</td>\n",
       "      <td>11.99</td>\n",
       "      <td>820.28</td>\n",
       "      <td>1</td>\n",
       "      <td>65000.0</td>\n",
       "      <td>2015-12</td>\n",
       "      <td>16.06</td>\n",
       "      <td>4</td>\n",
       "      <td>19.2</td>\n",
       "      <td>...</td>\n",
       "      <td>4.0</td>\n",
       "      <td>2.0</td>\n",
       "      <td>0.0</td>\n",
       "      <td>79300.0</td>\n",
       "      <td>24667.0</td>\n",
       "      <td>0</td>\n",
       "      <td>0</td>\n",
       "      <td>0</td>\n",
       "      <td>0</td>\n",
       "      <td>Good Loan</td>\n",
       "    </tr>\n",
       "    <tr>\n",
       "      <th>2</th>\n",
       "      <td>20000.0</td>\n",
       "      <td>1</td>\n",
       "      <td>10.78</td>\n",
       "      <td>432.66</td>\n",
       "      <td>1</td>\n",
       "      <td>63000.0</td>\n",
       "      <td>2015-12</td>\n",
       "      <td>10.78</td>\n",
       "      <td>0</td>\n",
       "      <td>56.2</td>\n",
       "      <td>...</td>\n",
       "      <td>5.0</td>\n",
       "      <td>101.0</td>\n",
       "      <td>0.0</td>\n",
       "      <td>6200.0</td>\n",
       "      <td>14877.0</td>\n",
       "      <td>0</td>\n",
       "      <td>0</td>\n",
       "      <td>0</td>\n",
       "      <td>0</td>\n",
       "      <td>Good Loan</td>\n",
       "    </tr>\n",
       "    <tr>\n",
       "      <th>3</th>\n",
       "      <td>35000.0</td>\n",
       "      <td>1</td>\n",
       "      <td>14.85</td>\n",
       "      <td>829.90</td>\n",
       "      <td>1</td>\n",
       "      <td>110000.0</td>\n",
       "      <td>2015-12</td>\n",
       "      <td>17.06</td>\n",
       "      <td>0</td>\n",
       "      <td>11.6</td>\n",
       "      <td>...</td>\n",
       "      <td>1.0</td>\n",
       "      <td>2.0</td>\n",
       "      <td>0.0</td>\n",
       "      <td>62500.0</td>\n",
       "      <td>18000.0</td>\n",
       "      <td>0</td>\n",
       "      <td>0</td>\n",
       "      <td>0</td>\n",
       "      <td>0</td>\n",
       "      <td>Good Loan</td>\n",
       "    </tr>\n",
       "    <tr>\n",
       "      <th>4</th>\n",
       "      <td>10400.0</td>\n",
       "      <td>1</td>\n",
       "      <td>22.45</td>\n",
       "      <td>289.91</td>\n",
       "      <td>1</td>\n",
       "      <td>104433.0</td>\n",
       "      <td>2015-12</td>\n",
       "      <td>25.37</td>\n",
       "      <td>3</td>\n",
       "      <td>64.5</td>\n",
       "      <td>...</td>\n",
       "      <td>6.0</td>\n",
       "      <td>4.0</td>\n",
       "      <td>0.0</td>\n",
       "      <td>20300.0</td>\n",
       "      <td>88097.0</td>\n",
       "      <td>0</td>\n",
       "      <td>0</td>\n",
       "      <td>0</td>\n",
       "      <td>0</td>\n",
       "      <td>Good Loan</td>\n",
       "    </tr>\n",
       "  </tbody>\n",
       "</table>\n",
       "<p>5 rows × 27 columns</p>\n",
       "</div>"
      ],
      "text/plain": [
       "   funded_amnt  term  int_rate  installment  home_ownership  annual_inc  \\\n",
       "0       3600.0     0     13.99       123.03               1     55000.0   \n",
       "1      24700.0     0     11.99       820.28               1     65000.0   \n",
       "2      20000.0     1     10.78       432.66               1     63000.0   \n",
       "3      35000.0     1     14.85       829.90               1    110000.0   \n",
       "4      10400.0     1     22.45       289.91               1    104433.0   \n",
       "\n",
       "   issue_d    dti  inq_last_6mths  revol_util  ...  mort_acc  \\\n",
       "0  2015-12   5.91               1        29.7  ...       1.0   \n",
       "1  2015-12  16.06               4        19.2  ...       4.0   \n",
       "2  2015-12  10.78               0        56.2  ...       5.0   \n",
       "3  2015-12  17.06               0        11.6  ...       1.0   \n",
       "4  2015-12  25.37               3        64.5  ...       6.0   \n",
       "\n",
       "  mths_since_recent_bc  pub_rec_bankruptcies  total_bc_limit  \\\n",
       "0                  4.0                   0.0          2400.0   \n",
       "1                  2.0                   0.0         79300.0   \n",
       "2                101.0                   0.0          6200.0   \n",
       "3                  2.0                   0.0         62500.0   \n",
       "4                  4.0                   0.0         20300.0   \n",
       "\n",
       "   total_il_high_credit_limit  hardship_flag  disbursement_method  \\\n",
       "0                     13734.0              0                    0   \n",
       "1                     24667.0              0                    0   \n",
       "2                     14877.0              0                    0   \n",
       "3                     18000.0              0                    0   \n",
       "4                     88097.0              0                    0   \n",
       "\n",
       "   debt_settlement_flag  loan_condition_int  loan_condition  \n",
       "0                     0                   0       Good Loan  \n",
       "1                     0                   0       Good Loan  \n",
       "2                     0                   0       Good Loan  \n",
       "3                     0                   0       Good Loan  \n",
       "4                     0                   0       Good Loan  \n",
       "\n",
       "[5 rows x 27 columns]"
      ]
     },
     "execution_count": 447,
     "metadata": {},
     "output_type": "execute_result"
    }
   ],
   "source": [
    "data = pd.read_csv('data_selected_final_no_na.csv')\n",
    "data.head()"
   ]
  },
  {
   "cell_type": "code",
   "execution_count": 448,
   "metadata": {},
   "outputs": [],
   "source": [
    "data = data.drop(columns=['loan_condition'])"
   ]
  },
  {
   "cell_type": "code",
   "execution_count": 449,
   "metadata": {
    "datalore": {
     "hide_input_from_viewers": true,
     "hide_output_from_viewers": true,
     "node_id": "9IlyLDnQSY4qmMfoSx18cr",
     "type": "CODE"
    }
   },
   "outputs": [],
   "source": [
    "features_columns =  ['issue_d','funded_amnt', 'term', 'int_rate', 'installment', 'home_ownership',\n",
    "       'annual_inc', 'dti', 'inq_last_6mths', 'revol_util',\n",
    "       'total_acc', 'application_type', 'acc_now_delinq',\n",
    "       'avg_cur_bal', 'mo_sin_old_il_acct', 'mo_sin_old_rev_tl_op', 'mort_acc',\n",
    "       'mths_since_recent_bc', 'pub_rec_bankruptcies', 'total_bc_limit',\n",
    "       'total_il_high_credit_limit', 'hardship_flag', 'disbursement_method',\n",
    "       'debt_settlement_flag', 'loan_condition_int']"
   ]
  },
  {
   "cell_type": "code",
   "execution_count": 450,
   "metadata": {},
   "outputs": [],
   "source": [
    "df = data[features_columns].copy()\n"
   ]
  },
  {
   "cell_type": "code",
   "execution_count": 453,
   "metadata": {},
   "outputs": [
    {
     "data": {
      "text/plain": [
       "((1933887, 25), (256606, 25))"
      ]
     },
     "execution_count": 453,
     "metadata": {},
     "output_type": "execute_result"
    }
   ],
   "source": [
    "OOT = df[df['issue_d'] >= '2018-06-01']\n",
    "train_data = df[df['issue_d'] < '2018-06-01']\n",
    "train_data.shape, OOT.shape"
   ]
  },
  {
   "cell_type": "code",
   "execution_count": 454,
   "metadata": {},
   "outputs": [
    {
     "name": "stdout",
     "output_type": "stream",
     "text": [
      "[INFO] creating woe binning ...\n",
      "Binning on 1353721 rows and 24 columns in 00:01:51\n",
      "[INFO] converting into woe values ...\n",
      "Woe transformating on 1353721 rows and 23 columns in 00:01:10\n",
      "[INFO] converting into woe values ...\n",
      "Woe transformating on 580166 rows and 23 columns in 00:00:32\n",
      "[INFO] converting into woe values ...\n",
      "Woe transformating on 256606 rows and 23 columns in 00:00:16\n"
     ]
    }
   ],
   "source": [
    "#!pip install scorecardpy\n",
    "import scorecardpy as sc\n",
    "from sklearn.linear_model import LogisticRegression\n",
    "train, test = sc.split_df(train_data, 'loan_condition_int').values()\n",
    "\n",
    "# woe binning ------\n",
    "bins = sc.woebin(train, y='loan_condition_int')\n",
    "\n",
    "\n",
    "# converting train and test into woe values\n",
    "train_woe = sc.woebin_ply(train, bins)\n",
    "test_woe = sc.woebin_ply(test, bins)\n",
    "oot_woe = sc.woebin_ply(OOT, bins)\n",
    "\n",
    "\n",
    "\n"
   ]
  },
  {
   "cell_type": "code",
   "execution_count": 476,
   "metadata": {},
   "outputs": [],
   "source": [
    "train_woe['funded_amnt'] = train['funded_amnt']\n",
    "test_woe['funded_amnt'] = test['funded_amnt']\n",
    "oot_woe['funded_amnt'] = OOT['funded_amnt']"
   ]
  },
  {
   "cell_type": "code",
   "execution_count": 477,
   "metadata": {},
   "outputs": [
    {
     "data": {
      "text/html": [
       "<style>#sk-container-id-4 {color: black;background-color: white;}#sk-container-id-4 pre{padding: 0;}#sk-container-id-4 div.sk-toggleable {background-color: white;}#sk-container-id-4 label.sk-toggleable__label {cursor: pointer;display: block;width: 100%;margin-bottom: 0;padding: 0.3em;box-sizing: border-box;text-align: center;}#sk-container-id-4 label.sk-toggleable__label-arrow:before {content: \"▸\";float: left;margin-right: 0.25em;color: #696969;}#sk-container-id-4 label.sk-toggleable__label-arrow:hover:before {color: black;}#sk-container-id-4 div.sk-estimator:hover label.sk-toggleable__label-arrow:before {color: black;}#sk-container-id-4 div.sk-toggleable__content {max-height: 0;max-width: 0;overflow: hidden;text-align: left;background-color: #f0f8ff;}#sk-container-id-4 div.sk-toggleable__content pre {margin: 0.2em;color: black;border-radius: 0.25em;background-color: #f0f8ff;}#sk-container-id-4 input.sk-toggleable__control:checked~div.sk-toggleable__content {max-height: 200px;max-width: 100%;overflow: auto;}#sk-container-id-4 input.sk-toggleable__control:checked~label.sk-toggleable__label-arrow:before {content: \"▾\";}#sk-container-id-4 div.sk-estimator input.sk-toggleable__control:checked~label.sk-toggleable__label {background-color: #d4ebff;}#sk-container-id-4 div.sk-label input.sk-toggleable__control:checked~label.sk-toggleable__label {background-color: #d4ebff;}#sk-container-id-4 input.sk-hidden--visually {border: 0;clip: rect(1px 1px 1px 1px);clip: rect(1px, 1px, 1px, 1px);height: 1px;margin: -1px;overflow: hidden;padding: 0;position: absolute;width: 1px;}#sk-container-id-4 div.sk-estimator {font-family: monospace;background-color: #f0f8ff;border: 1px dotted black;border-radius: 0.25em;box-sizing: border-box;margin-bottom: 0.5em;}#sk-container-id-4 div.sk-estimator:hover {background-color: #d4ebff;}#sk-container-id-4 div.sk-parallel-item::after {content: \"\";width: 100%;border-bottom: 1px solid gray;flex-grow: 1;}#sk-container-id-4 div.sk-label:hover label.sk-toggleable__label {background-color: #d4ebff;}#sk-container-id-4 div.sk-serial::before {content: \"\";position: absolute;border-left: 1px solid gray;box-sizing: border-box;top: 0;bottom: 0;left: 50%;z-index: 0;}#sk-container-id-4 div.sk-serial {display: flex;flex-direction: column;align-items: center;background-color: white;padding-right: 0.2em;padding-left: 0.2em;position: relative;}#sk-container-id-4 div.sk-item {position: relative;z-index: 1;}#sk-container-id-4 div.sk-parallel {display: flex;align-items: stretch;justify-content: center;background-color: white;position: relative;}#sk-container-id-4 div.sk-item::before, #sk-container-id-4 div.sk-parallel-item::before {content: \"\";position: absolute;border-left: 1px solid gray;box-sizing: border-box;top: 0;bottom: 0;left: 50%;z-index: -1;}#sk-container-id-4 div.sk-parallel-item {display: flex;flex-direction: column;z-index: 1;position: relative;background-color: white;}#sk-container-id-4 div.sk-parallel-item:first-child::after {align-self: flex-end;width: 50%;}#sk-container-id-4 div.sk-parallel-item:last-child::after {align-self: flex-start;width: 50%;}#sk-container-id-4 div.sk-parallel-item:only-child::after {width: 0;}#sk-container-id-4 div.sk-dashed-wrapped {border: 1px dashed gray;margin: 0 0.4em 0.5em 0.4em;box-sizing: border-box;padding-bottom: 0.4em;background-color: white;}#sk-container-id-4 div.sk-label label {font-family: monospace;font-weight: bold;display: inline-block;line-height: 1.2em;}#sk-container-id-4 div.sk-label-container {text-align: center;}#sk-container-id-4 div.sk-container {/* jupyter's `normalize.less` sets `[hidden] { display: none; }` but bootstrap.min.css set `[hidden] { display: none !important; }` so we also need the `!important` here to be able to override the default hidden behavior on the sphinx rendered scikit-learn.org. See: https://github.com/scikit-learn/scikit-learn/issues/21755 */display: inline-block !important;position: relative;}#sk-container-id-4 div.sk-text-repr-fallback {display: none;}</style><div id=\"sk-container-id-4\" class=\"sk-top-container\"><div class=\"sk-text-repr-fallback\"><pre>LogisticRegression(C=0.9, n_jobs=-1, penalty=&#x27;l1&#x27;, solver=&#x27;saga&#x27;)</pre><b>In a Jupyter environment, please rerun this cell to show the HTML representation or trust the notebook. <br />On GitHub, the HTML representation is unable to render, please try loading this page with nbviewer.org.</b></div><div class=\"sk-container\" hidden><div class=\"sk-item\"><div class=\"sk-estimator sk-toggleable\"><input class=\"sk-toggleable__control sk-hidden--visually\" id=\"sk-estimator-id-4\" type=\"checkbox\" checked><label for=\"sk-estimator-id-4\" class=\"sk-toggleable__label sk-toggleable__label-arrow\">LogisticRegression</label><div class=\"sk-toggleable__content\"><pre>LogisticRegression(C=0.9, n_jobs=-1, penalty=&#x27;l1&#x27;, solver=&#x27;saga&#x27;)</pre></div></div></div></div></div>"
      ],
      "text/plain": [
       "LogisticRegression(C=0.9, n_jobs=-1, penalty='l1', solver='saga')"
      ]
     },
     "execution_count": 477,
     "metadata": {},
     "output_type": "execute_result"
    }
   ],
   "source": [
    "X_train1= train_woe.drop(columns=['issue_d', 'loan_condition_int', 'funded_amnt'])\n",
    "lr = LogisticRegression(penalty='l1', C=0.9, solver='saga', n_jobs=-1)\n",
    "lr.fit(X_train1, y_train)"
   ]
  },
  {
   "cell_type": "code",
   "execution_count": 478,
   "metadata": {},
   "outputs": [],
   "source": [
    "train_woe = train_woe[train_woe['issue_d'] >= '2017-01-01']\n",
    "test_woe = test_woe[test_woe['issue_d'] >= '2017-01-01']\n"
   ]
  },
  {
   "cell_type": "code",
   "execution_count": 479,
   "metadata": {},
   "outputs": [],
   "source": [
    "y_train = train_woe.loc[:,'loan_condition_int']\n",
    "X_train = train_woe.loc[:,train_woe.columns != 'loan_condition_int']\n",
    "y_test = test_woe.loc[:,'loan_condition_int']\n",
    "X_test = test_woe.loc[:,train_woe.columns != 'loan_condition_int']\n",
    "y_OOT = oot_woe.loc[:,'loan_condition_int']\n",
    "X_OOT = oot_woe.loc[:,train_woe.columns != 'loan_condition_int']"
   ]
  },
  {
   "cell_type": "code",
   "execution_count": 480,
   "metadata": {},
   "outputs": [
    {
     "data": {
      "text/plain": [
       "Index(['issue_d', 'term_woe', 'installment_woe',\n",
       "       'total_il_high_credit_limit_woe', 'annual_inc_woe',\n",
       "       'disbursement_method_woe', 'int_rate_woe', 'debt_settlement_flag_woe',\n",
       "       'application_type_woe', 'total_acc_woe', 'mo_sin_old_il_acct_woe',\n",
       "       'revol_util_woe', 'mort_acc_woe', 'funded_amnt_woe',\n",
       "       'total_bc_limit_woe', 'mo_sin_old_rev_tl_op_woe',\n",
       "       'pub_rec_bankruptcies_woe', 'dti_woe', 'hardship_flag_woe',\n",
       "       'avg_cur_bal_woe', 'acc_now_delinq_woe', 'home_ownership_woe',\n",
       "       'mths_since_recent_bc_woe', 'inq_last_6mths_woe', 'funded_amnt'],\n",
       "      dtype='object')"
      ]
     },
     "execution_count": 480,
     "metadata": {},
     "output_type": "execute_result"
    }
   ],
   "source": [
    "X_test.columns"
   ]
  },
  {
   "cell_type": "code",
   "execution_count": 481,
   "metadata": {},
   "outputs": [],
   "source": [
    "X_train = X_train.drop(columns=['issue_d', 'funded_amnt'])\n",
    "X_test = X_test.drop(columns=['issue_d', 'funded_amnt'])\n",
    "X_OOT = X_OOT.drop(columns=['issue_d', 'funded_amnt'])"
   ]
  },
  {
   "cell_type": "code",
   "execution_count": 482,
   "metadata": {},
   "outputs": [],
   "source": [
    "train_pred = lr.predict_proba(X_train)[:,1]\n",
    "test_pred = lr.predict_proba(X_test)[:,1]\n",
    "oot_pred = lr.predict_proba(X_OOT)[:,1]"
   ]
  },
  {
   "cell_type": "code",
   "execution_count": 484,
   "metadata": {},
   "outputs": [
    {
     "data": {
      "text/html": [
       "<div>\n",
       "<style scoped>\n",
       "    .dataframe tbody tr th:only-of-type {\n",
       "        vertical-align: middle;\n",
       "    }\n",
       "\n",
       "    .dataframe tbody tr th {\n",
       "        vertical-align: top;\n",
       "    }\n",
       "\n",
       "    .dataframe thead th {\n",
       "        text-align: right;\n",
       "    }\n",
       "</style>\n",
       "<table border=\"1\" class=\"dataframe\">\n",
       "  <thead>\n",
       "    <tr style=\"text-align: right;\">\n",
       "      <th></th>\n",
       "      <th>term_woe</th>\n",
       "      <th>installment_woe</th>\n",
       "      <th>total_il_high_credit_limit_woe</th>\n",
       "      <th>annual_inc_woe</th>\n",
       "      <th>disbursement_method_woe</th>\n",
       "      <th>int_rate_woe</th>\n",
       "      <th>debt_settlement_flag_woe</th>\n",
       "      <th>application_type_woe</th>\n",
       "      <th>total_acc_woe</th>\n",
       "      <th>mo_sin_old_il_acct_woe</th>\n",
       "      <th>...</th>\n",
       "      <th>total_bc_limit_woe</th>\n",
       "      <th>mo_sin_old_rev_tl_op_woe</th>\n",
       "      <th>pub_rec_bankruptcies_woe</th>\n",
       "      <th>dti_woe</th>\n",
       "      <th>hardship_flag_woe</th>\n",
       "      <th>avg_cur_bal_woe</th>\n",
       "      <th>acc_now_delinq_woe</th>\n",
       "      <th>home_ownership_woe</th>\n",
       "      <th>mths_since_recent_bc_woe</th>\n",
       "      <th>inq_last_6mths_woe</th>\n",
       "    </tr>\n",
       "  </thead>\n",
       "  <tbody>\n",
       "    <tr>\n",
       "      <th>421095</th>\n",
       "      <td>-0.192224</td>\n",
       "      <td>-0.268189</td>\n",
       "      <td>0.035176</td>\n",
       "      <td>0.023802</td>\n",
       "      <td>0.0</td>\n",
       "      <td>0.768248</td>\n",
       "      <td>0.0</td>\n",
       "      <td>0.0</td>\n",
       "      <td>-0.003069</td>\n",
       "      <td>0.054613</td>\n",
       "      <td>...</td>\n",
       "      <td>0.204128</td>\n",
       "      <td>0.189131</td>\n",
       "      <td>-0.029375</td>\n",
       "      <td>0.106689</td>\n",
       "      <td>0.0</td>\n",
       "      <td>0.148228</td>\n",
       "      <td>0.0</td>\n",
       "      <td>0.179435</td>\n",
       "      <td>0.083641</td>\n",
       "      <td>-0.168842</td>\n",
       "    </tr>\n",
       "    <tr>\n",
       "      <th>421096</th>\n",
       "      <td>-0.192224</td>\n",
       "      <td>0.103668</td>\n",
       "      <td>-0.114453</td>\n",
       "      <td>-0.359898</td>\n",
       "      <td>0.0</td>\n",
       "      <td>-0.664712</td>\n",
       "      <td>0.0</td>\n",
       "      <td>0.0</td>\n",
       "      <td>0.073535</td>\n",
       "      <td>-0.088724</td>\n",
       "      <td>...</td>\n",
       "      <td>-0.241310</td>\n",
       "      <td>-0.170057</td>\n",
       "      <td>-0.029375</td>\n",
       "      <td>-0.037668</td>\n",
       "      <td>0.0</td>\n",
       "      <td>-0.186832</td>\n",
       "      <td>0.0</td>\n",
       "      <td>0.005093</td>\n",
       "      <td>0.083641</td>\n",
       "      <td>-0.168842</td>\n",
       "    </tr>\n",
       "    <tr>\n",
       "      <th>421097</th>\n",
       "      <td>0.389498</td>\n",
       "      <td>0.103668</td>\n",
       "      <td>-0.021602</td>\n",
       "      <td>0.176028</td>\n",
       "      <td>0.0</td>\n",
       "      <td>0.768248</td>\n",
       "      <td>0.0</td>\n",
       "      <td>0.0</td>\n",
       "      <td>-0.003069</td>\n",
       "      <td>0.054613</td>\n",
       "      <td>...</td>\n",
       "      <td>0.204128</td>\n",
       "      <td>0.074579</td>\n",
       "      <td>-0.029375</td>\n",
       "      <td>0.300635</td>\n",
       "      <td>0.0</td>\n",
       "      <td>0.001183</td>\n",
       "      <td>0.0</td>\n",
       "      <td>0.179435</td>\n",
       "      <td>-0.086731</td>\n",
       "      <td>0.411710</td>\n",
       "    </tr>\n",
       "    <tr>\n",
       "      <th>421098</th>\n",
       "      <td>0.389498</td>\n",
       "      <td>0.103668</td>\n",
       "      <td>0.035176</td>\n",
       "      <td>0.023802</td>\n",
       "      <td>0.0</td>\n",
       "      <td>0.768248</td>\n",
       "      <td>0.0</td>\n",
       "      <td>0.0</td>\n",
       "      <td>-0.003069</td>\n",
       "      <td>0.054613</td>\n",
       "      <td>...</td>\n",
       "      <td>0.204128</td>\n",
       "      <td>0.074579</td>\n",
       "      <td>-0.029375</td>\n",
       "      <td>-0.267391</td>\n",
       "      <td>0.0</td>\n",
       "      <td>0.001183</td>\n",
       "      <td>0.0</td>\n",
       "      <td>-0.161979</td>\n",
       "      <td>-0.296144</td>\n",
       "      <td>0.124853</td>\n",
       "    </tr>\n",
       "    <tr>\n",
       "      <th>421099</th>\n",
       "      <td>-0.192224</td>\n",
       "      <td>-0.268189</td>\n",
       "      <td>-0.071241</td>\n",
       "      <td>0.023802</td>\n",
       "      <td>0.0</td>\n",
       "      <td>-1.393737</td>\n",
       "      <td>0.0</td>\n",
       "      <td>0.0</td>\n",
       "      <td>-0.003069</td>\n",
       "      <td>-0.088724</td>\n",
       "      <td>...</td>\n",
       "      <td>-0.241310</td>\n",
       "      <td>-0.170057</td>\n",
       "      <td>-0.029375</td>\n",
       "      <td>-0.267391</td>\n",
       "      <td>0.0</td>\n",
       "      <td>-0.186832</td>\n",
       "      <td>0.0</td>\n",
       "      <td>0.179435</td>\n",
       "      <td>-0.086731</td>\n",
       "      <td>-0.168842</td>\n",
       "    </tr>\n",
       "    <tr>\n",
       "      <th>...</th>\n",
       "      <td>...</td>\n",
       "      <td>...</td>\n",
       "      <td>...</td>\n",
       "      <td>...</td>\n",
       "      <td>...</td>\n",
       "      <td>...</td>\n",
       "      <td>...</td>\n",
       "      <td>...</td>\n",
       "      <td>...</td>\n",
       "      <td>...</td>\n",
       "      <td>...</td>\n",
       "      <td>...</td>\n",
       "      <td>...</td>\n",
       "      <td>...</td>\n",
       "      <td>...</td>\n",
       "      <td>...</td>\n",
       "      <td>...</td>\n",
       "      <td>...</td>\n",
       "      <td>...</td>\n",
       "      <td>...</td>\n",
       "      <td>...</td>\n",
       "    </tr>\n",
       "    <tr>\n",
       "      <th>2086941</th>\n",
       "      <td>0.389498</td>\n",
       "      <td>0.103668</td>\n",
       "      <td>0.005689</td>\n",
       "      <td>-0.184046</td>\n",
       "      <td>0.0</td>\n",
       "      <td>0.768248</td>\n",
       "      <td>0.0</td>\n",
       "      <td>0.0</td>\n",
       "      <td>-0.003069</td>\n",
       "      <td>0.054613</td>\n",
       "      <td>...</td>\n",
       "      <td>0.055713</td>\n",
       "      <td>-0.170057</td>\n",
       "      <td>-0.029375</td>\n",
       "      <td>0.106689</td>\n",
       "      <td>0.0</td>\n",
       "      <td>-0.186832</td>\n",
       "      <td>0.0</td>\n",
       "      <td>-0.161979</td>\n",
       "      <td>-0.086731</td>\n",
       "      <td>0.411710</td>\n",
       "    </tr>\n",
       "    <tr>\n",
       "      <th>2086943</th>\n",
       "      <td>0.389498</td>\n",
       "      <td>0.103668</td>\n",
       "      <td>0.035176</td>\n",
       "      <td>0.176028</td>\n",
       "      <td>0.0</td>\n",
       "      <td>0.768248</td>\n",
       "      <td>0.0</td>\n",
       "      <td>0.0</td>\n",
       "      <td>-0.003069</td>\n",
       "      <td>-0.088724</td>\n",
       "      <td>...</td>\n",
       "      <td>0.204128</td>\n",
       "      <td>-0.032582</td>\n",
       "      <td>-0.029375</td>\n",
       "      <td>-0.037668</td>\n",
       "      <td>0.0</td>\n",
       "      <td>-0.459875</td>\n",
       "      <td>0.0</td>\n",
       "      <td>-0.161979</td>\n",
       "      <td>-0.296144</td>\n",
       "      <td>0.124853</td>\n",
       "    </tr>\n",
       "    <tr>\n",
       "      <th>2086944</th>\n",
       "      <td>-0.192224</td>\n",
       "      <td>-0.001383</td>\n",
       "      <td>0.035176</td>\n",
       "      <td>0.023802</td>\n",
       "      <td>0.0</td>\n",
       "      <td>-0.282165</td>\n",
       "      <td>0.0</td>\n",
       "      <td>0.0</td>\n",
       "      <td>-0.003069</td>\n",
       "      <td>-0.088724</td>\n",
       "      <td>...</td>\n",
       "      <td>0.204128</td>\n",
       "      <td>-0.170057</td>\n",
       "      <td>-0.029375</td>\n",
       "      <td>-0.267391</td>\n",
       "      <td>0.0</td>\n",
       "      <td>-0.186832</td>\n",
       "      <td>0.0</td>\n",
       "      <td>0.005093</td>\n",
       "      <td>-0.296144</td>\n",
       "      <td>-0.168842</td>\n",
       "    </tr>\n",
       "    <tr>\n",
       "      <th>2086945</th>\n",
       "      <td>0.389498</td>\n",
       "      <td>0.103668</td>\n",
       "      <td>-0.071241</td>\n",
       "      <td>0.023802</td>\n",
       "      <td>0.0</td>\n",
       "      <td>0.768248</td>\n",
       "      <td>0.0</td>\n",
       "      <td>0.0</td>\n",
       "      <td>-0.003069</td>\n",
       "      <td>0.054613</td>\n",
       "      <td>...</td>\n",
       "      <td>0.055713</td>\n",
       "      <td>0.189131</td>\n",
       "      <td>-0.029375</td>\n",
       "      <td>-0.037668</td>\n",
       "      <td>0.0</td>\n",
       "      <td>0.148228</td>\n",
       "      <td>0.0</td>\n",
       "      <td>0.179435</td>\n",
       "      <td>0.083641</td>\n",
       "      <td>0.124853</td>\n",
       "    </tr>\n",
       "    <tr>\n",
       "      <th>2086946</th>\n",
       "      <td>0.389498</td>\n",
       "      <td>-0.001383</td>\n",
       "      <td>-0.021602</td>\n",
       "      <td>0.023802</td>\n",
       "      <td>0.0</td>\n",
       "      <td>0.768248</td>\n",
       "      <td>0.0</td>\n",
       "      <td>0.0</td>\n",
       "      <td>-0.003069</td>\n",
       "      <td>-0.088724</td>\n",
       "      <td>...</td>\n",
       "      <td>-0.062623</td>\n",
       "      <td>0.189131</td>\n",
       "      <td>-0.029375</td>\n",
       "      <td>0.300635</td>\n",
       "      <td>0.0</td>\n",
       "      <td>0.001183</td>\n",
       "      <td>0.0</td>\n",
       "      <td>0.179435</td>\n",
       "      <td>0.083641</td>\n",
       "      <td>0.124853</td>\n",
       "    </tr>\n",
       "  </tbody>\n",
       "</table>\n",
       "<p>455180 rows × 23 columns</p>\n",
       "</div>"
      ],
      "text/plain": [
       "         term_woe  installment_woe  total_il_high_credit_limit_woe  \\\n",
       "421095  -0.192224        -0.268189                        0.035176   \n",
       "421096  -0.192224         0.103668                       -0.114453   \n",
       "421097   0.389498         0.103668                       -0.021602   \n",
       "421098   0.389498         0.103668                        0.035176   \n",
       "421099  -0.192224        -0.268189                       -0.071241   \n",
       "...           ...              ...                             ...   \n",
       "2086941  0.389498         0.103668                        0.005689   \n",
       "2086943  0.389498         0.103668                        0.035176   \n",
       "2086944 -0.192224        -0.001383                        0.035176   \n",
       "2086945  0.389498         0.103668                       -0.071241   \n",
       "2086946  0.389498        -0.001383                       -0.021602   \n",
       "\n",
       "         annual_inc_woe  disbursement_method_woe  int_rate_woe  \\\n",
       "421095         0.023802                      0.0      0.768248   \n",
       "421096        -0.359898                      0.0     -0.664712   \n",
       "421097         0.176028                      0.0      0.768248   \n",
       "421098         0.023802                      0.0      0.768248   \n",
       "421099         0.023802                      0.0     -1.393737   \n",
       "...                 ...                      ...           ...   \n",
       "2086941       -0.184046                      0.0      0.768248   \n",
       "2086943        0.176028                      0.0      0.768248   \n",
       "2086944        0.023802                      0.0     -0.282165   \n",
       "2086945        0.023802                      0.0      0.768248   \n",
       "2086946        0.023802                      0.0      0.768248   \n",
       "\n",
       "         debt_settlement_flag_woe  application_type_woe  total_acc_woe  \\\n",
       "421095                        0.0                   0.0      -0.003069   \n",
       "421096                        0.0                   0.0       0.073535   \n",
       "421097                        0.0                   0.0      -0.003069   \n",
       "421098                        0.0                   0.0      -0.003069   \n",
       "421099                        0.0                   0.0      -0.003069   \n",
       "...                           ...                   ...            ...   \n",
       "2086941                       0.0                   0.0      -0.003069   \n",
       "2086943                       0.0                   0.0      -0.003069   \n",
       "2086944                       0.0                   0.0      -0.003069   \n",
       "2086945                       0.0                   0.0      -0.003069   \n",
       "2086946                       0.0                   0.0      -0.003069   \n",
       "\n",
       "         mo_sin_old_il_acct_woe  ...  total_bc_limit_woe  \\\n",
       "421095                 0.054613  ...            0.204128   \n",
       "421096                -0.088724  ...           -0.241310   \n",
       "421097                 0.054613  ...            0.204128   \n",
       "421098                 0.054613  ...            0.204128   \n",
       "421099                -0.088724  ...           -0.241310   \n",
       "...                         ...  ...                 ...   \n",
       "2086941                0.054613  ...            0.055713   \n",
       "2086943               -0.088724  ...            0.204128   \n",
       "2086944               -0.088724  ...            0.204128   \n",
       "2086945                0.054613  ...            0.055713   \n",
       "2086946               -0.088724  ...           -0.062623   \n",
       "\n",
       "         mo_sin_old_rev_tl_op_woe  pub_rec_bankruptcies_woe   dti_woe  \\\n",
       "421095                   0.189131                 -0.029375  0.106689   \n",
       "421096                  -0.170057                 -0.029375 -0.037668   \n",
       "421097                   0.074579                 -0.029375  0.300635   \n",
       "421098                   0.074579                 -0.029375 -0.267391   \n",
       "421099                  -0.170057                 -0.029375 -0.267391   \n",
       "...                           ...                       ...       ...   \n",
       "2086941                 -0.170057                 -0.029375  0.106689   \n",
       "2086943                 -0.032582                 -0.029375 -0.037668   \n",
       "2086944                 -0.170057                 -0.029375 -0.267391   \n",
       "2086945                  0.189131                 -0.029375 -0.037668   \n",
       "2086946                  0.189131                 -0.029375  0.300635   \n",
       "\n",
       "         hardship_flag_woe  avg_cur_bal_woe  acc_now_delinq_woe  \\\n",
       "421095                 0.0         0.148228                 0.0   \n",
       "421096                 0.0        -0.186832                 0.0   \n",
       "421097                 0.0         0.001183                 0.0   \n",
       "421098                 0.0         0.001183                 0.0   \n",
       "421099                 0.0        -0.186832                 0.0   \n",
       "...                    ...              ...                 ...   \n",
       "2086941                0.0        -0.186832                 0.0   \n",
       "2086943                0.0        -0.459875                 0.0   \n",
       "2086944                0.0        -0.186832                 0.0   \n",
       "2086945                0.0         0.148228                 0.0   \n",
       "2086946                0.0         0.001183                 0.0   \n",
       "\n",
       "         home_ownership_woe  mths_since_recent_bc_woe  inq_last_6mths_woe  \n",
       "421095             0.179435                  0.083641           -0.168842  \n",
       "421096             0.005093                  0.083641           -0.168842  \n",
       "421097             0.179435                 -0.086731            0.411710  \n",
       "421098            -0.161979                 -0.296144            0.124853  \n",
       "421099             0.179435                 -0.086731           -0.168842  \n",
       "...                     ...                       ...                 ...  \n",
       "2086941           -0.161979                 -0.086731            0.411710  \n",
       "2086943           -0.161979                 -0.296144            0.124853  \n",
       "2086944            0.005093                 -0.296144           -0.168842  \n",
       "2086945            0.179435                  0.083641            0.124853  \n",
       "2086946            0.179435                  0.083641            0.124853  \n",
       "\n",
       "[455180 rows x 23 columns]"
      ]
     },
     "execution_count": 484,
     "metadata": {},
     "output_type": "execute_result"
    }
   ],
   "source": [
    "\n",
    "test_woe['funded_amnt']\n",
    "oot_woe['funded_amnt']"
   ]
  },
  {
   "cell_type": "code",
   "execution_count": 492,
   "metadata": {},
   "outputs": [],
   "source": [
    "train_csv = X_train.copy()\n",
    "train_csv['train_pred'] = train_pred\n",
    "train_csv['funded_amnt'] = train_woe['funded_amnt'] \n",
    "train_csv[['funded_amnt', 'train_pred']].to_csv('train')"
   ]
  },
  {
   "cell_type": "code",
   "execution_count": 493,
   "metadata": {},
   "outputs": [],
   "source": [
    "test_csv = X_test.copy()\n",
    "test_csv['test_pred'] = test_pred\n",
    "test_csv['funded_amnt'] = test_woe['funded_amnt']\n",
    "test_csv[['funded_amnt', 'test_pred']].to_csv('OOS')"
   ]
  },
  {
   "cell_type": "code",
   "execution_count": 494,
   "metadata": {},
   "outputs": [],
   "source": [
    "OOT_csv = X_OOT.copy()\n",
    "OOT_csv['oot_pred'] = oot_pred\n",
    "OOT_csv['funded_amnt'] = oot_woe['funded_amnt']\n",
    "OOT_csv[['funded_amnt', 'oot_pred']].to_csv('OOT')"
   ]
  },
  {
   "cell_type": "code",
   "execution_count": 495,
   "metadata": {},
   "outputs": [
    {
     "data": {
      "text/plain": [
       "((455180, 3), (195200, 3), (256606, 3))"
      ]
     },
     "execution_count": 495,
     "metadata": {},
     "output_type": "execute_result"
    }
   ],
   "source": [
    "pd.read_csv('train').shape, pd.read_csv('OOS').shape, pd.read_csv('OOT').shape"
   ]
  },
  {
   "cell_type": "code",
   "execution_count": 499,
   "metadata": {},
   "outputs": [
    {
     "data": {
      "text/html": [
       "<div>\n",
       "<style scoped>\n",
       "    .dataframe tbody tr th:only-of-type {\n",
       "        vertical-align: middle;\n",
       "    }\n",
       "\n",
       "    .dataframe tbody tr th {\n",
       "        vertical-align: top;\n",
       "    }\n",
       "\n",
       "    .dataframe thead th {\n",
       "        text-align: right;\n",
       "    }\n",
       "</style>\n",
       "<table border=\"1\" class=\"dataframe\">\n",
       "  <thead>\n",
       "    <tr style=\"text-align: right;\">\n",
       "      <th></th>\n",
       "      <th>Unnamed: 0</th>\n",
       "      <th>funded_amnt</th>\n",
       "      <th>oot_pred</th>\n",
       "    </tr>\n",
       "  </thead>\n",
       "  <tbody>\n",
       "    <tr>\n",
       "      <th>0</th>\n",
       "      <td>749514</td>\n",
       "      <td>10000.0</td>\n",
       "      <td>0.032721</td>\n",
       "    </tr>\n",
       "    <tr>\n",
       "      <th>1</th>\n",
       "      <td>749515</td>\n",
       "      <td>12550.0</td>\n",
       "      <td>0.064587</td>\n",
       "    </tr>\n",
       "    <tr>\n",
       "      <th>2</th>\n",
       "      <td>749516</td>\n",
       "      <td>20500.0</td>\n",
       "      <td>0.225167</td>\n",
       "    </tr>\n",
       "    <tr>\n",
       "      <th>3</th>\n",
       "      <td>749517</td>\n",
       "      <td>24000.0</td>\n",
       "      <td>0.107968</td>\n",
       "    </tr>\n",
       "    <tr>\n",
       "      <th>4</th>\n",
       "      <td>749518</td>\n",
       "      <td>5000.0</td>\n",
       "      <td>0.020155</td>\n",
       "    </tr>\n",
       "    <tr>\n",
       "      <th>...</th>\n",
       "      <td>...</td>\n",
       "      <td>...</td>\n",
       "      <td>...</td>\n",
       "    </tr>\n",
       "    <tr>\n",
       "      <th>256601</th>\n",
       "      <td>1481082</td>\n",
       "      <td>23000.0</td>\n",
       "      <td>0.152978</td>\n",
       "    </tr>\n",
       "    <tr>\n",
       "      <th>256602</th>\n",
       "      <td>1481083</td>\n",
       "      <td>10000.0</td>\n",
       "      <td>0.114226</td>\n",
       "    </tr>\n",
       "    <tr>\n",
       "      <th>256603</th>\n",
       "      <td>1481084</td>\n",
       "      <td>5000.0</td>\n",
       "      <td>0.079347</td>\n",
       "    </tr>\n",
       "    <tr>\n",
       "      <th>256604</th>\n",
       "      <td>1481085</td>\n",
       "      <td>10000.0</td>\n",
       "      <td>0.129757</td>\n",
       "    </tr>\n",
       "    <tr>\n",
       "      <th>256605</th>\n",
       "      <td>1481086</td>\n",
       "      <td>10000.0</td>\n",
       "      <td>0.171829</td>\n",
       "    </tr>\n",
       "  </tbody>\n",
       "</table>\n",
       "<p>256606 rows × 3 columns</p>\n",
       "</div>"
      ],
      "text/plain": [
       "        Unnamed: 0  funded_amnt  oot_pred\n",
       "0           749514      10000.0  0.032721\n",
       "1           749515      12550.0  0.064587\n",
       "2           749516      20500.0  0.225167\n",
       "3           749517      24000.0  0.107968\n",
       "4           749518       5000.0  0.020155\n",
       "...            ...          ...       ...\n",
       "256601     1481082      23000.0  0.152978\n",
       "256602     1481083      10000.0  0.114226\n",
       "256603     1481084       5000.0  0.079347\n",
       "256604     1481085      10000.0  0.129757\n",
       "256605     1481086      10000.0  0.171829\n",
       "\n",
       "[256606 rows x 3 columns]"
      ]
     },
     "execution_count": 499,
     "metadata": {},
     "output_type": "execute_result"
    }
   ],
   "source": [
    "pd.read_csv('OOT')"
   ]
  },
  {
   "cell_type": "markdown",
   "metadata": {},
   "source": [
    "### Предикты"
   ]
  },
  {
   "cell_type": "markdown",
   "metadata": {},
   "source": [
    "### Метрики качества"
   ]
  },
  {
   "cell_type": "code",
   "execution_count": 500,
   "metadata": {},
   "outputs": [
    {
     "name": "stdout",
     "output_type": "stream",
     "text": [
      "ROC-AUC score: 0.6948024837366878\n",
      "Gini score: 0.3896049674733757\n"
     ]
    }
   ],
   "source": [
    "roc_auc = roc_auc_score(y_test, test_pred)\n",
    "gini = (2 * roc_auc) - 1\n",
    "print('ROC-AUC score: {}' .format(roc_auc))                \n",
    "print('Gini score: {}'.format(gini))"
   ]
  },
  {
   "cell_type": "code",
   "execution_count": 501,
   "metadata": {},
   "outputs": [
    {
     "name": "stdout",
     "output_type": "stream",
     "text": [
      "ROC-AUC score: 0.6924482156285204\n",
      "Gini score: 0.38489643125704087\n"
     ]
    }
   ],
   "source": [
    "roc_auc = roc_auc_score(y_OOT, oot_pred)\n",
    "gini = (2 * roc_auc) - 1\n",
    "print('ROC-AUC score: {}' .format(roc_auc))                \n",
    "print('Gini score: {}'.format(gini))"
   ]
  },
  {
   "cell_type": "markdown",
   "metadata": {},
   "source": [
    "### Оптимизируем трешхолд для повышения f1-score "
   ]
  },
  {
   "cell_type": "code",
   "execution_count": 416,
   "metadata": {},
   "outputs": [
    {
     "data": {
      "image/png": "[encoded data removed]",
      "text/plain": [
       "<Figure size 1600x500 with 1 Axes>"
      ]
     },
     "metadata": {},
     "output_type": "display_data"
    }
   ],
   "source": [
    "scores = lr.predict_proba(X_test)[:,1]\n",
    "\n",
    "\n",
    "tr = np.linspace(0, 1, 100)\n",
    "\n",
    "p = np.zeros_like(tr)\n",
    "r = np.zeros_like(tr)\n",
    "f = np.zeros_like(tr)\n",
    "\n",
    "for k, x in enumerate(tr):\n",
    "\n",
    "    y_pred = scores >= x\n",
    "\n",
    "    p[k] = precision_score(y_test, y_pred)\n",
    "    r[k] = recall_score(y_test, y_pred)\n",
    "    f[k] = f1_score(y_test, y_pred)\n",
    "\n",
    "\n",
    "fig = plt.figure(figsize=(16, 5))\n",
    "\n",
    "plt.plot(tr, p, linewidth=3)\n",
    "plt.plot(tr, r, linewidth=3)\n",
    "plt.plot(tr, f, linewidth=3)\n",
    "\n",
    "plt.title(\"Precision, Recall and F1 scores vs threshold for lr\", weight=\"bold\")\n",
    "\n",
    "plt.xlabel(\"Threshold value\")\n",
    "\n",
    "plt.legend(['Precision', 'Recall', 'F1 score'], fontsize=12)\n",
    "\n",
    "plt.show()"
   ]
  },
  {
   "cell_type": "code",
   "execution_count": 428,
   "metadata": {},
   "outputs": [
    {
     "name": "stdout",
     "output_type": "stream",
     "text": [
      "ROC-AUC score: 0.582334115376203\n",
      "Gini score: 0.1646682307524061\n",
      "F1-score: 0.23798324268704982\n"
     ]
    }
   ],
   "source": [
    "y_pred_new_threshold = (lr.predict_proba(X_test)[:,1]>=0.18).astype(int)\n",
    "roc_auc = roc_auc_score(y_test, y_pred_new_threshold)\n",
    "gini = (2 * roc_auc) - 1\n",
    "print('ROC-AUC score: {}' .format(roc_auc))                \n",
    "print('Gini score: {}'.format(gini))\n",
    "print('F1-score: {}'.format(f1_score(y_test, y_pred_new_threshold)))"
   ]
  },
  {
   "cell_type": "markdown",
   "metadata": {},
   "source": [
    "### Далее 7 пункт делаю"
   ]
  },
  {
   "cell_type": "code",
   "execution_count": null,
   "metadata": {},
   "outputs": [],
   "source": []
  },
  {
   "cell_type": "code",
   "execution_count": null,
   "metadata": {},
   "outputs": [],
   "source": []
  },
  {
   "cell_type": "code",
   "execution_count": null,
   "metadata": {},
   "outputs": [],
   "source": []
  },
  {
   "cell_type": "code",
   "execution_count": null,
   "metadata": {},
   "outputs": [],
   "source": []
  },
  {
   "cell_type": "code",
   "execution_count": 94,
   "metadata": {},
   "outputs": [],
   "source": [
    "def benefit_plot(model, X_train, y_train, X_test, y_test):\n",
    "                 \n",
    "    plt.figure(figsize=(10,8))\n",
    "\n",
    "    colors = ['olivedrab','deepskyblue',  'salmon']\n",
    "    \n",
    "    max_val = []\n",
    "    for it, i in enumerate(['train', 'test']):\n",
    "        \n",
    "        if i == 'train':\n",
    "            X = X_train\n",
    "            y = y_train\n",
    "            \n",
    "        elif i == 'test':\n",
    "            X = X_test\n",
    "            y = y_test\n",
    "\n",
    "        benefit = []    \n",
    "        c_acceptance_rate = []\n",
    "        \n",
    "        y_hat = model.predict_proba(X)[:, 1]\n",
    "        \n",
    "        thr = np.linspace(0, 1, 50)\n",
    "        \n",
    "        for t in thr:\n",
    "            #calculate confusion matrix\n",
    "            CM = confusion_matrix(y, (y_hat > t)*1.)  \n",
    "            \n",
    "            #calculate accaptance rate as amount of non-defaulted clients\n",
    "            c_acceptance_rate.append((len(y_hat) - np.sum((y_hat > t)*1.)) / len(y_hat))\n",
    "            TN = CM[0][0]\n",
    "            FN = CM[1][0]\n",
    "#             FP = CM[0][1]\n",
    "            \n",
    "            #calculate the financial effect\n",
    "            benefit.append(TN * e_fp - FN * e_fn)\n",
    "\n",
    "        print('Model', i, 'Max Benefit: ', np.max(benefit)) \n",
    "        \n",
    "        plt.plot(c_acceptance_rate, benefit, label = i, color = colors[it], linewidth=2)  \n",
    "        plt.plot(c_acceptance_rate[np.argmax(benefit)], np.max(benefit), color = colors[it], marker='*', markersize=10)\n",
    "         \n",
    "\n",
    "    plt.xlabel('Acceptance rate')\n",
    "    plt.ylabel('Benefit')\n",
    "    plt.title('Benefit curve for old model')\n",
    "    plt.legend(bbox_to_anchor=(1, 1));\n",
    "    _ = plt.legend(loc= 0, prop= {'size': 16})"
   ]
  },
  {
   "cell_type": "markdown",
   "metadata": {},
   "source": [
    "### LGD=100%"
   ]
  },
  {
   "cell_type": "code",
   "execution_count": 97,
   "metadata": {},
   "outputs": [],
   "source": [
    "S = df['funded_amnt'].mean() # amount of loan\n",
    "r = 0.15 # interest rate\n",
    "\n",
    "lgd = 1 # losses in case of default\n",
    "\n",
    "e_fp = r * S # profit if loan is returned\n",
    "e_fn = lgd * S # loss if loan is gone\n",
    "\n"
   ]
  },
  {
   "cell_type": "markdown",
   "metadata": {},
   "source": [
    "### Интерпретируемая модель "
   ]
  },
  {
   "cell_type": "code",
   "execution_count": 98,
   "metadata": {},
   "outputs": [
    {
     "name": "stdout",
     "output_type": "stream",
     "text": [
      "Model train Max Benefit:  1203811116.8723626\n",
      "Model test Max Benefit:  518022729.9619275\n"
     ]
    },
    {
     "data": {
      "image/png": "[encoded data removed]",
      "text/plain": [
       "<Figure size 1000x800 with 1 Axes>"
      ]
     },
     "metadata": {},
     "output_type": "display_data"
    }
   ],
   "source": [
    "from sklearn.metrics import confusion_matrix\n",
    "benefit_plot(lr, X_train, y_train, X_test, y_test)"
   ]
  },
  {
   "cell_type": "markdown",
   "metadata": {},
   "source": [
    "### Неинтерпретируемая модель \n",
    "\n"
   ]
  },
  {
   "cell_type": "code",
   "execution_count": null,
   "metadata": {},
   "outputs": [],
   "source": [
    "benefit_plot(model_uint, X_train, y_train, X_test, y_test)"
   ]
  },
  {
   "cell_type": "markdown",
   "metadata": {},
   "source": [
    "### LGD=80%"
   ]
  },
  {
   "cell_type": "code",
   "execution_count": 99,
   "metadata": {},
   "outputs": [],
   "source": [
    "S = df['funded_amnt'].mean() # amount of loan\n",
    "r = 0.15 # interest rate\n",
    "\n",
    "lgd = 0.8 # losses in case of default\n",
    "\n",
    "e_fp = r * S # profit if loan is returned\n",
    "e_fn = lgd * S # loss if loan is gone\n",
    "\n"
   ]
  },
  {
   "cell_type": "markdown",
   "metadata": {},
   "source": [
    "### Интерпретируемая модель "
   ]
  },
  {
   "cell_type": "code",
   "execution_count": 101,
   "metadata": {},
   "outputs": [
    {
     "name": "stdout",
     "output_type": "stream",
     "text": [
      "Model train Max Benefit:  1411837078.008695\n",
      "Model test Max Benefit:  607740500.3777745\n"
     ]
    },
    {
     "data": {
      "image/png": "[encoded data removed]",
      "text/plain": [
       "<Figure size 1000x800 with 1 Axes>"
      ]
     },
     "metadata": {},
     "output_type": "display_data"
    }
   ],
   "source": [
    "benefit_plot(lr, X_train, y_train, X_test, y_test)\n"
   ]
  },
  {
   "cell_type": "markdown",
   "metadata": {},
   "source": [
    "### Неинтерпретируемая модель "
   ]
  },
  {
   "cell_type": "code",
   "execution_count": null,
   "metadata": {},
   "outputs": [],
   "source": [
    "benefit_plot(model_unint, X_train, y_train, X_test, y_test)\n"
   ]
  },
  {
   "cell_type": "code",
   "execution_count": null,
   "metadata": {},
   "outputs": [],
   "source": []
  }
 ],
 "metadata": {
  "datalore": {
   "base_environment": "default",
   "computation_mode": "JUPYTER",
   "package_manager": "pip",
   "packages": [],
   "report_row_ids": [],
   "version": 3
  },
  "kernelspec": {
   "display_name": "Python 3 (ipykernel)",
   "language": "python",
   "name": "python3"
  },
  "language_info": {
   "codemirror_mode": {
    "name": "ipython",
    "version": 3
   },
   "file_extension": ".py",
   "mimetype": "text/x-python",
   "name": "python",
   "nbconvert_exporter": "python",
   "pygments_lexer": "ipython3",
   "version": "3.11.5"
  }
 },
 "nbformat": 4,
 "nbformat_minor": 4
}
