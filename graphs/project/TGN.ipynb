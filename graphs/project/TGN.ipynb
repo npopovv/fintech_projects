{
  "nbformat": 4,
  "nbformat_minor": 0,
  "metadata": {
    "colab": {
      "provenance": [],
      "machine_shape": "hm",
      "gpuType": "V100"
    },
    "kernelspec": {
      "name": "python3",
      "display_name": "Python 3"
    },
    "language_info": {
      "name": "python"
    },
    "accelerator": "GPU"
  },
  "cells": [
    {
      "cell_type": "code",
      "execution_count": null,
      "metadata": {
        "id": "wKIX_DCP12bM",
        "colab": {
          "base_uri": "https://localhost:8080/"
        },
        "outputId": "5929ac34-02e1-41e2-90d4-e4124dc70a8a"
      },
      "outputs": [
        {
          "output_type": "stream",
          "name": "stdout",
          "text": [
            "Collecting py-tgb\n",
            "  Downloading py_tgb-0.9.2-py3-none-any.whl (61 kB)\n",
            "\u001b[2K     \u001b[90m━━━━━━━━━━━━━━━━━━━━━━━━━━━━━━━━━━━━━━━━\u001b[0m \u001b[32m61.8/61.8 kB\u001b[0m \u001b[31m1.0 MB/s\u001b[0m eta \u001b[36m0:00:00\u001b[0m\n",
            "\u001b[?25hCollecting clint<0.6.0,>=0.5.1 (from py-tgb)\n",
            "  Downloading clint-0.5.1.tar.gz (29 kB)\n",
            "  Preparing metadata (setup.py) ... \u001b[?25l\u001b[?25hdone\n",
            "Requirement already satisfied: pandas<2.0.0,>=1.5.3 in /usr/local/lib/python3.10/dist-packages (from py-tgb) (1.5.3)\n",
            "Requirement already satisfied: requests<3.0.0,>=2.28.2 in /usr/local/lib/python3.10/dist-packages (from py-tgb) (2.31.0)\n",
            "Requirement already satisfied: scikit-learn<2.0.0,>=1.2.2 in /usr/local/lib/python3.10/dist-packages (from py-tgb) (1.2.2)\n",
            "Collecting torch-geometric<3.0.0,>=2.3.0 (from py-tgb)\n",
            "  Downloading torch_geometric-2.5.2-py3-none-any.whl (1.1 MB)\n",
            "\u001b[2K     \u001b[90m━━━━━━━━━━━━━━━━━━━━━━━━━━━━━━━━━━━━━━━━\u001b[0m \u001b[32m1.1/1.1 MB\u001b[0m \u001b[31m9.3 MB/s\u001b[0m eta \u001b[36m0:00:00\u001b[0m\n",
            "\u001b[?25hRequirement already satisfied: tqdm<5.0.0,>=4.65.0 in /usr/local/lib/python3.10/dist-packages (from py-tgb) (4.66.2)\n",
            "Collecting args (from clint<0.6.0,>=0.5.1->py-tgb)\n",
            "  Downloading args-0.1.0.tar.gz (3.0 kB)\n",
            "  Preparing metadata (setup.py) ... \u001b[?25l\u001b[?25hdone\n",
            "Requirement already satisfied: python-dateutil>=2.8.1 in /usr/local/lib/python3.10/dist-packages (from pandas<2.0.0,>=1.5.3->py-tgb) (2.8.2)\n",
            "Requirement already satisfied: pytz>=2020.1 in /usr/local/lib/python3.10/dist-packages (from pandas<2.0.0,>=1.5.3->py-tgb) (2023.4)\n",
            "Requirement already satisfied: numpy>=1.21.0 in /usr/local/lib/python3.10/dist-packages (from pandas<2.0.0,>=1.5.3->py-tgb) (1.25.2)\n",
            "Requirement already satisfied: charset-normalizer<4,>=2 in /usr/local/lib/python3.10/dist-packages (from requests<3.0.0,>=2.28.2->py-tgb) (3.3.2)\n",
            "Requirement already satisfied: idna<4,>=2.5 in /usr/local/lib/python3.10/dist-packages (from requests<3.0.0,>=2.28.2->py-tgb) (3.6)\n",
            "Requirement already satisfied: urllib3<3,>=1.21.1 in /usr/local/lib/python3.10/dist-packages (from requests<3.0.0,>=2.28.2->py-tgb) (2.0.7)\n",
            "Requirement already satisfied: certifi>=2017.4.17 in /usr/local/lib/python3.10/dist-packages (from requests<3.0.0,>=2.28.2->py-tgb) (2024.2.2)\n",
            "Requirement already satisfied: scipy>=1.3.2 in /usr/local/lib/python3.10/dist-packages (from scikit-learn<2.0.0,>=1.2.2->py-tgb) (1.11.4)\n",
            "Requirement already satisfied: joblib>=1.1.1 in /usr/local/lib/python3.10/dist-packages (from scikit-learn<2.0.0,>=1.2.2->py-tgb) (1.3.2)\n",
            "Requirement already satisfied: threadpoolctl>=2.0.0 in /usr/local/lib/python3.10/dist-packages (from scikit-learn<2.0.0,>=1.2.2->py-tgb) (3.3.0)\n",
            "Requirement already satisfied: fsspec in /usr/local/lib/python3.10/dist-packages (from torch-geometric<3.0.0,>=2.3.0->py-tgb) (2023.6.0)\n",
            "Requirement already satisfied: jinja2 in /usr/local/lib/python3.10/dist-packages (from torch-geometric<3.0.0,>=2.3.0->py-tgb) (3.1.3)\n",
            "Requirement already satisfied: aiohttp in /usr/local/lib/python3.10/dist-packages (from torch-geometric<3.0.0,>=2.3.0->py-tgb) (3.9.3)\n",
            "Requirement already satisfied: pyparsing in /usr/local/lib/python3.10/dist-packages (from torch-geometric<3.0.0,>=2.3.0->py-tgb) (3.1.2)\n",
            "Requirement already satisfied: psutil>=5.8.0 in /usr/local/lib/python3.10/dist-packages (from torch-geometric<3.0.0,>=2.3.0->py-tgb) (5.9.5)\n",
            "Requirement already satisfied: six>=1.5 in /usr/local/lib/python3.10/dist-packages (from python-dateutil>=2.8.1->pandas<2.0.0,>=1.5.3->py-tgb) (1.16.0)\n",
            "Requirement already satisfied: aiosignal>=1.1.2 in /usr/local/lib/python3.10/dist-packages (from aiohttp->torch-geometric<3.0.0,>=2.3.0->py-tgb) (1.3.1)\n",
            "Requirement already satisfied: attrs>=17.3.0 in /usr/local/lib/python3.10/dist-packages (from aiohttp->torch-geometric<3.0.0,>=2.3.0->py-tgb) (23.2.0)\n",
            "Requirement already satisfied: frozenlist>=1.1.1 in /usr/local/lib/python3.10/dist-packages (from aiohttp->torch-geometric<3.0.0,>=2.3.0->py-tgb) (1.4.1)\n",
            "Requirement already satisfied: multidict<7.0,>=4.5 in /usr/local/lib/python3.10/dist-packages (from aiohttp->torch-geometric<3.0.0,>=2.3.0->py-tgb) (6.0.5)\n",
            "Requirement already satisfied: yarl<2.0,>=1.0 in /usr/local/lib/python3.10/dist-packages (from aiohttp->torch-geometric<3.0.0,>=2.3.0->py-tgb) (1.9.4)\n",
            "Requirement already satisfied: async-timeout<5.0,>=4.0 in /usr/local/lib/python3.10/dist-packages (from aiohttp->torch-geometric<3.0.0,>=2.3.0->py-tgb) (4.0.3)\n",
            "Requirement already satisfied: MarkupSafe>=2.0 in /usr/local/lib/python3.10/dist-packages (from jinja2->torch-geometric<3.0.0,>=2.3.0->py-tgb) (2.1.5)\n",
            "Building wheels for collected packages: clint, args\n",
            "  Building wheel for clint (setup.py) ... \u001b[?25l\u001b[?25hdone\n",
            "  Created wheel for clint: filename=clint-0.5.1-py3-none-any.whl size=34458 sha256=a6c8815acd6b7bef6d400d0252a165cd5ca979604e50fcfca4b4c8c5faf85ddf\n",
            "  Stored in directory: /root/.cache/pip/wheels/60/bd/a0/c20dd085251d95af656b5e3d287db7d4b4e8aec67b53a6f8dd\n",
            "  Building wheel for args (setup.py) ... \u001b[?25l\u001b[?25hdone\n",
            "  Created wheel for args: filename=args-0.1.0-py3-none-any.whl size=3320 sha256=236166c01b106b5ce7cfb3859c027b753d74748bc1302ef7527187ff3e332bb0\n",
            "  Stored in directory: /root/.cache/pip/wheels/18/d7/bc/7b88d8405d97070a1a62712fd639ea0ad8d14b3dd74075cca6\n",
            "Successfully built clint args\n",
            "Installing collected packages: args, clint, torch-geometric, py-tgb\n",
            "Successfully installed args-0.1.0 clint-0.5.1 py-tgb-0.9.2 torch-geometric-2.5.2\n"
          ]
        }
      ],
      "source": [
        "! pip install py-tgb"
      ]
    },
    {
      "cell_type": "code",
      "source": [
        "import timeit\n",
        "from tqdm import tqdm\n",
        "import torch\n",
        "import matplotlib.pyplot as plt"
      ],
      "metadata": {
        "id": "9BdGuDQm2qN3"
      },
      "execution_count": null,
      "outputs": []
    },
    {
      "cell_type": "code",
      "source": [
        "from torch_geometric.loader import TemporalDataLoader\n",
        "from torch_geometric.nn import TGNMemory\n",
        "from torch_geometric.nn.models.tgn import (\n",
        "    IdentityMessage,\n",
        "    LastAggregator,\n",
        "    LastNeighborLoader,\n",
        ")"
      ],
      "metadata": {
        "id": "vM-hkMpb3AbS"
      },
      "execution_count": null,
      "outputs": []
    },
    {
      "cell_type": "code",
      "source": [
        "from psutil import virtual_memory\n",
        "ram_gb = virtual_memory().total / 1e9\n",
        "print('Your runtime has {:.1f} gigabytes of available RAM\\n'.format(ram_gb))"
      ],
      "metadata": {
        "colab": {
          "base_uri": "https://localhost:8080/"
        },
        "id": "goWeMfZt3C4-",
        "outputId": "32ba89d6-dd35-447b-ba15-daea252f91c8"
      },
      "execution_count": null,
      "outputs": [
        {
          "output_type": "stream",
          "name": "stdout",
          "text": [
            "Your runtime has 54.8 gigabytes of available RAM\n",
            "\n"
          ]
        }
      ]
    },
    {
      "cell_type": "code",
      "source": [
        "import torch\n",
        "from torch.nn import Linear\n",
        "import torch.nn.functional as F"
      ],
      "metadata": {
        "id": "yCaN5Oxu3HUb"
      },
      "execution_count": null,
      "outputs": []
    },
    {
      "cell_type": "code",
      "source": [
        "#decoder\n",
        "class NodePredictor(torch.nn.Module):\n",
        "    def __init__(self, in_dim, out_dim):\n",
        "        super().__init__()\n",
        "        self.lin_node = Linear(in_dim, in_dim)\n",
        "        self.out = Linear(in_dim, out_dim)\n",
        "\n",
        "    def forward(self, node_embed):\n",
        "        h = self.lin_node(node_embed)\n",
        "        h = h.relu()\n",
        "        h = self.out(h)\n",
        "        # h = F.log_softmax(h, dim=-1)\n",
        "        return h"
      ],
      "metadata": {
        "id": "fVkJrqyE3N3T"
      },
      "execution_count": null,
      "outputs": []
    },
    {
      "cell_type": "code",
      "source": [
        "import math\n",
        "from torch_geometric.nn import TransformerConv\n",
        "import torch\n",
        "\n",
        "class GraphAttentionEmbedding(torch.nn.Module):\n",
        "    \"\"\"\n",
        "    Reference:\n",
        "    - https://github.com/pyg-team/pytorch_geometric/blob/master/examples/tgn.py\n",
        "    \"\"\"\n",
        "\n",
        "    def __init__(self, in_channels, out_channels, msg_dim, time_enc):\n",
        "        super().__init__()\n",
        "        self.time_enc = time_enc\n",
        "        edge_dim = msg_dim + time_enc.out_channels\n",
        "        self.conv = TransformerConv(\n",
        "            in_channels, out_channels // 2, heads=2, dropout=0.1, edge_dim=edge_dim\n",
        "        )\n",
        "\n",
        "    def forward(self, x, last_update, edge_index, t, msg):\n",
        "        rel_t = last_update[edge_index[0]] - t\n",
        "        rel_t_enc = self.time_enc(rel_t.to(x.dtype))\n",
        "        edge_attr = torch.cat([rel_t_enc, msg], dim=-1)\n",
        "        return self.conv(x, edge_index, edge_attr)\n"
      ],
      "metadata": {
        "id": "WJz38Cew3WJW"
      },
      "execution_count": null,
      "outputs": []
    },
    {
      "cell_type": "code",
      "source": [
        "from tgb.nodeproppred.dataset_pyg import PyGNodePropPredDataset\n",
        "from tgb.nodeproppred.evaluate import Evaluator\n",
        "from tgb.utils.utils import set_random_seed\n",
        "from tgb.utils.stats import plot_curve"
      ],
      "metadata": {
        "id": "DqfaxB_842Nw"
      },
      "execution_count": null,
      "outputs": []
    },
    {
      "cell_type": "code",
      "source": [
        "# hyperparameters\n",
        "lr = 0.0001\n",
        "epochs = 5\n",
        "\n",
        "device = torch.device(\"cuda\" if torch.cuda.is_available() else \"cpu\")\n",
        "name = \"tgbn-reddit\"\n",
        "dataset = PyGNodePropPredDataset(name=name, root=\"datasets\")\n",
        "train_mask = dataset.train_mask\n",
        "val_mask = dataset.val_mask\n",
        "test_mask = dataset.test_mask\n",
        "\n",
        "eval_metric = dataset.eval_metric\n",
        "num_classes = dataset.num_classes\n",
        "data = dataset.get_TemporalData()\n",
        "data = data.to(device)\n",
        "\n",
        "evaluator = Evaluator(name=name)"
      ],
      "metadata": {
        "colab": {
          "base_uri": "https://localhost:8080/"
        },
        "id": "DtOssBZt4-VS",
        "outputId": "606586eb-e30d-4905-92b2-ea468574f722"
      },
      "execution_count": null,
      "outputs": [
        {
          "output_type": "stream",
          "name": "stdout",
          "text": [
            "Will you download the dataset(s) now? (y/N)\n",
            "y\n",
            "\u001b[93mDownload started, this might take a while . . . \u001b[0m\n",
            "Dataset title: tgbn-reddit\n",
            "\u001b[92mDownload completed \u001b[0m\n",
            "Dataset directory is  /usr/local/lib/python3.10/dist-packages/tgb/datasets/tgbn_reddit\n",
            "file not processed, generating processed file\n",
            "there are  27174118  lines in the raw data\n"
          ]
        },
        {
          "output_type": "stream",
          "name": "stderr",
          "text": [
            "27174119it [01:29, 302518.45it/s]\n",
            "12077151it [00:43, 276114.13it/s]\n"
          ]
        },
        {
          "output_type": "stream",
          "name": "stdout",
          "text": [
            "file processed and saved\n"
          ]
        }
      ]
    },
    {
      "cell_type": "code",
      "source": [
        "train_data = data[train_mask]\n",
        "val_data = data[val_mask]\n",
        "test_data = data[test_mask]"
      ],
      "metadata": {
        "id": "YDKWY3AI5LvL"
      },
      "execution_count": null,
      "outputs": []
    },
    {
      "cell_type": "code",
      "source": [
        "train_data"
      ],
      "metadata": {
        "colab": {
          "base_uri": "https://localhost:8080/"
        },
        "id": "G1j1Wqgd5R0z",
        "outputId": "83da69cd-6634-4c92-9253-98d015ab7979"
      },
      "execution_count": null,
      "outputs": [
        {
          "output_type": "execute_result",
          "data": {
            "text/plain": [
              "TemporalData(src=[19021884], dst=[19021884], t=[19021884], msg=[19021884, 1], y=[19021884])"
            ]
          },
          "metadata": {},
          "execution_count": 47
        }
      ]
    },
    {
      "cell_type": "code",
      "source": [
        "len(torch.unique(train_data['src']))"
      ],
      "metadata": {
        "colab": {
          "base_uri": "https://localhost:8080/"
        },
        "id": "Aafn85rX6EO4",
        "outputId": "bf68af85-8144-4fc3-9123-ab1d7f73e96f"
      },
      "execution_count": null,
      "outputs": [
        {
          "output_type": "execute_result",
          "data": {
            "text/plain": [
              "10722"
            ]
          },
          "metadata": {},
          "execution_count": 48
        }
      ]
    },
    {
      "cell_type": "code",
      "source": [
        "len(torch.unique(train_data['dst']))"
      ],
      "metadata": {
        "colab": {
          "base_uri": "https://localhost:8080/"
        },
        "id": "Sh5BDKHM6QwT",
        "outputId": "058c5377-e4bb-4eab-f303-7d8ce728af38"
      },
      "execution_count": null,
      "outputs": [
        {
          "output_type": "execute_result",
          "data": {
            "text/plain": [
              "651"
            ]
          },
          "metadata": {},
          "execution_count": 49
        }
      ]
    },
    {
      "cell_type": "code",
      "source": [
        "# Ensure to only sample actual destination nodes as negatives.\n",
        "min_dst_idx, max_dst_idx = int(data.dst.min()), int(data.dst.max())"
      ],
      "metadata": {
        "id": "vfjI_AVe78Z4"
      },
      "execution_count": null,
      "outputs": []
    },
    {
      "cell_type": "code",
      "source": [
        "min_dst_idx,max_dst_idx"
      ],
      "metadata": {
        "colab": {
          "base_uri": "https://localhost:8080/"
        },
        "id": "Ks0ocpjO8q_L",
        "outputId": "75cd0086-a000-4a5e-b2b7-ad6983eb337d"
      },
      "execution_count": null,
      "outputs": [
        {
          "output_type": "execute_result",
          "data": {
            "text/plain": [
              "(0, 697)"
            ]
          },
          "metadata": {},
          "execution_count": 58
        }
      ]
    },
    {
      "cell_type": "code",
      "source": [
        "int(data.src.min()), int(data.src.max())"
      ],
      "metadata": {
        "colab": {
          "base_uri": "https://localhost:8080/"
        },
        "id": "DmhcA5SH8sVn",
        "outputId": "b8293383-73d9-419f-a7e5-243dd93f6e1c"
      },
      "execution_count": null,
      "outputs": [
        {
          "output_type": "execute_result",
          "data": {
            "text/plain": [
              "(698, 11765)"
            ]
          },
          "metadata": {},
          "execution_count": 59
        }
      ]
    },
    {
      "cell_type": "code",
      "source": [
        "batch_size = 200\n",
        "\n",
        "train_loader = TemporalDataLoader(train_data, batch_size=batch_size)\n",
        "val_loader = TemporalDataLoader(val_data, batch_size=batch_size)\n",
        "test_loader = TemporalDataLoader(test_data, batch_size=batch_size)"
      ],
      "metadata": {
        "id": "-5UQ9-yg8wLf"
      },
      "execution_count": null,
      "outputs": []
    },
    {
      "cell_type": "code",
      "source": [
        "# batch.msg"
      ],
      "metadata": {
        "id": "mVfeMwAm8_fS"
      },
      "execution_count": null,
      "outputs": []
    },
    {
      "cell_type": "code",
      "source": [
        "neighbor_loader = LastNeighborLoader(data.num_nodes, size=10, device=device)"
      ],
      "metadata": {
        "id": "eQmirV3w9CJj"
      },
      "execution_count": null,
      "outputs": []
    },
    {
      "cell_type": "code",
      "source": [
        "memory_dim = time_dim = embedding_dim = 100"
      ],
      "metadata": {
        "id": "Nwdf0Ulm9Wxg"
      },
      "execution_count": null,
      "outputs": []
    },
    {
      "cell_type": "code",
      "source": [
        "memory = TGNMemory(\n",
        "    data.num_nodes,\n",
        "    data.msg.size(-1),\n",
        "    memory_dim,\n",
        "    time_dim,\n",
        "    message_module=IdentityMessage(data.msg.size(-1), memory_dim, time_dim),\n",
        "    aggregator_module=LastAggregator(),\n",
        ").to(device)"
      ],
      "metadata": {
        "id": "q_9vk9Z49ipa"
      },
      "execution_count": null,
      "outputs": []
    },
    {
      "cell_type": "code",
      "source": [
        "gnn = (\n",
        "    GraphAttentionEmbedding(\n",
        "        in_channels=memory_dim,\n",
        "        out_channels=embedding_dim,\n",
        "        msg_dim=data.msg.size(-1),\n",
        "        time_enc=memory.time_enc,\n",
        "    )\n",
        "    .to(device)\n",
        "    .float()\n",
        ")"
      ],
      "metadata": {
        "id": "HcqrU96t-VDt"
      },
      "execution_count": null,
      "outputs": []
    },
    {
      "cell_type": "code",
      "source": [
        "# время кодируется обучаемой матрицей\n",
        "memory.time_enc"
      ],
      "metadata": {
        "colab": {
          "base_uri": "https://localhost:8080/"
        },
        "id": "mMgMbFxMBuih",
        "outputId": "1bee300e-d730-4512-99a1-5dc4be44752a"
      },
      "execution_count": null,
      "outputs": [
        {
          "output_type": "execute_result",
          "data": {
            "text/plain": [
              "TimeEncoder(\n",
              "  (lin): Linear(in_features=1, out_features=100, bias=True)\n",
              ")"
            ]
          },
          "metadata": {},
          "execution_count": 82
        }
      ]
    },
    {
      "cell_type": "code",
      "source": [
        "node_pred = NodePredictor(in_dim=embedding_dim, out_dim=num_classes).to(device)"
      ],
      "metadata": {
        "id": "FQ1iayGDB59G"
      },
      "execution_count": null,
      "outputs": []
    },
    {
      "cell_type": "code",
      "source": [
        "optimizer = torch.optim.Adam(\n",
        "    set(memory.parameters()) | set(gnn.parameters()) | set(node_pred.parameters()),\n",
        "    lr=lr,\n",
        ")"
      ],
      "metadata": {
        "id": "HX2zqfKQB8nh"
      },
      "execution_count": null,
      "outputs": []
    },
    {
      "cell_type": "code",
      "source": [
        "criterion = torch.nn.CrossEntropyLoss()\n",
        "# Helper vector to map global node indices to local ones.\n",
        "assoc = torch.empty(data.num_nodes, dtype=torch.long, device=device)"
      ],
      "metadata": {
        "id": "tBhmF4RTCDDO"
      },
      "execution_count": null,
      "outputs": []
    },
    {
      "cell_type": "code",
      "source": [
        "def process_edges(src, dst, t, msg):\n",
        "    if src.nelement() > 0:\n",
        "        # msg = msg.to(torch.float32)\n",
        "        memory.update_state(src, dst, t, msg)\n",
        "        neighbor_loader.insert(src, dst)"
      ],
      "metadata": {
        "id": "8l47iNtUCfKf"
      },
      "execution_count": null,
      "outputs": []
    },
    {
      "cell_type": "code",
      "source": [
        "def train():\n",
        "    memory.train()\n",
        "    gnn.train()\n",
        "    node_pred.train()\n",
        "\n",
        "    memory.reset_state()  # Start with a fresh memory.\n",
        "    neighbor_loader.reset_state()  # Start with an empty graph.\n",
        "\n",
        "    total_loss = 0\n",
        "    label_t = dataset.get_label_time()  # check when does the first label start\n",
        "    total_score = 0\n",
        "    num_label_ts = 0\n",
        "\n",
        "    for batch in tqdm(train_loader):\n",
        "        batch = batch.to(device)\n",
        "        optimizer.zero_grad()\n",
        "        src, dst, t, msg = batch.src, batch.dst, batch.t, batch.msg\n",
        "\n",
        "        query_t = batch.t[-1]\n",
        "        # check if this batch moves to the next day\n",
        "        if query_t > label_t:\n",
        "            # find the node labels from the past day\n",
        "            label_tuple = dataset.get_node_label(query_t)\n",
        "            label_ts, label_srcs, labels = (\n",
        "                label_tuple[0],\n",
        "                label_tuple[1],\n",
        "                label_tuple[2],\n",
        "            )\n",
        "            label_t = dataset.get_label_time()\n",
        "            label_srcs = label_srcs.to(device)\n",
        "\n",
        "            # Process all edges that are still in the past day\n",
        "            previous_day_mask = batch.t < label_t\n",
        "            process_edges(\n",
        "                src[previous_day_mask],\n",
        "                dst[previous_day_mask],\n",
        "                t[previous_day_mask],\n",
        "                msg[previous_day_mask],\n",
        "            )\n",
        "            # Reset edges to be the edges from tomorrow so they can be used later\n",
        "            src, dst, t, msg = (\n",
        "                src[~previous_day_mask],\n",
        "                dst[~previous_day_mask],\n",
        "                t[~previous_day_mask],\n",
        "                msg[~previous_day_mask],\n",
        "            )\n",
        "\n",
        "            \"\"\"\n",
        "            modified for node property prediction\n",
        "            1. sample neighbors from the neighbor loader for all nodes to be predicted\n",
        "            2. extract memory from the sampled neighbors and the nodes\n",
        "            3. run gnn with the extracted memory embeddings and the corresponding time and message\n",
        "            \"\"\"\n",
        "            n_id = label_srcs\n",
        "            n_id_neighbors, mem_edge_index, e_id = neighbor_loader(n_id)\n",
        "            assoc[n_id_neighbors] = torch.arange(n_id_neighbors.size(0), device=device)\n",
        "\n",
        "            z, last_update = memory(n_id_neighbors)\n",
        "\n",
        "            z = gnn(\n",
        "                z,\n",
        "                last_update,\n",
        "                mem_edge_index,\n",
        "                data.t[e_id].to(device),\n",
        "                data.msg[e_id].to(device),\n",
        "            )\n",
        "            z = z[assoc[n_id]]\n",
        "\n",
        "            # loss and metric computation\n",
        "            pred = node_pred(z)\n",
        "\n",
        "            loss = criterion(pred, labels.to(device))\n",
        "            np_pred = pred.cpu().detach().numpy()\n",
        "            np_true = labels.cpu().detach().numpy()\n",
        "\n",
        "            input_dict = {\n",
        "                \"y_true\": np_true,\n",
        "                \"y_pred\": np_pred,\n",
        "                \"eval_metric\": [eval_metric],\n",
        "            }\n",
        "            result_dict = evaluator.eval(input_dict)\n",
        "            score = result_dict[eval_metric]\n",
        "            total_score += score\n",
        "            num_label_ts += 1\n",
        "            loss.backward()\n",
        "            optimizer.step()\n",
        "            total_loss += float(loss)\n",
        "\n",
        "        # Update memory and neighbor loader with ground-truth state.\n",
        "        process_edges(src, dst, t, msg)\n",
        "        memory.detach()\n",
        "\n",
        "    metric_dict = {\n",
        "        \"ce\": total_loss / num_label_ts,\n",
        "    }\n",
        "    metric_dict[eval_metric] = total_score / num_label_ts\n",
        "    return metric_dict"
      ],
      "metadata": {
        "id": "FZXCf-GJCqkH"
      },
      "execution_count": null,
      "outputs": []
    },
    {
      "cell_type": "code",
      "source": [
        "@torch.no_grad()\n",
        "def test(loader):\n",
        "    memory.eval()\n",
        "    gnn.eval()\n",
        "    node_pred.eval()\n",
        "\n",
        "    label_t = dataset.get_label_time()  # check when does the first label start\n",
        "    num_label_ts = 0\n",
        "    total_score = 0\n",
        "\n",
        "    for batch in tqdm(loader):\n",
        "        batch = batch.to(device)\n",
        "        src, dst, t, msg = batch.src, batch.dst, batch.t, batch.msg\n",
        "\n",
        "        query_t = batch.t[-1]\n",
        "        if query_t > label_t:\n",
        "            label_tuple = dataset.get_node_label(query_t)\n",
        "            if label_tuple is None:\n",
        "                break\n",
        "            label_ts, label_srcs, labels = (\n",
        "                label_tuple[0],\n",
        "                label_tuple[1],\n",
        "                label_tuple[2],\n",
        "            )\n",
        "            label_t = dataset.get_label_time()\n",
        "            label_srcs = label_srcs.to(device)\n",
        "\n",
        "            # Process all edges that are still in the past day\n",
        "            previous_day_mask = batch.t < label_t\n",
        "            process_edges(\n",
        "                src[previous_day_mask],\n",
        "                dst[previous_day_mask],\n",
        "                t[previous_day_mask],\n",
        "                msg[previous_day_mask],\n",
        "            )\n",
        "            # Reset edges to be the edges from tomorrow so they can be used later\n",
        "            src, dst, t, msg = (\n",
        "                src[~previous_day_mask],\n",
        "                dst[~previous_day_mask],\n",
        "                t[~previous_day_mask],\n",
        "                msg[~previous_day_mask],\n",
        "            )\n",
        "\n",
        "            \"\"\"\n",
        "            modified for node property prediction\n",
        "            1. sample neighbors from the neighbor loader for all nodes to be predicted\n",
        "            2. extract memory from the sampled neighbors and the nodes\n",
        "            3. run gnn with the extracted memory embeddings and the corresponding time and message\n",
        "            \"\"\"\n",
        "            n_id = label_srcs\n",
        "            n_id_neighbors, mem_edge_index, e_id = neighbor_loader(n_id)\n",
        "            assoc[n_id_neighbors] = torch.arange(n_id_neighbors.size(0), device=device)\n",
        "\n",
        "            z, last_update = memory(n_id_neighbors)\n",
        "            z = gnn(\n",
        "                z,\n",
        "                last_update,\n",
        "                mem_edge_index,\n",
        "                data.t[e_id].to(device),\n",
        "                data.msg[e_id].to(device),\n",
        "            )\n",
        "            z = z[assoc[n_id]]\n",
        "\n",
        "            # loss and metric computation\n",
        "            pred = node_pred(z)\n",
        "            np_pred = pred.cpu().detach().numpy()\n",
        "            np_true = labels.cpu().detach().numpy()\n",
        "\n",
        "            input_dict = {\n",
        "                \"y_true\": np_true,\n",
        "                \"y_pred\": np_pred,\n",
        "                \"eval_metric\": [eval_metric],\n",
        "            }\n",
        "            result_dict = evaluator.eval(input_dict)\n",
        "            score = result_dict[eval_metric]\n",
        "            total_score += score\n",
        "            num_label_ts += 1\n",
        "\n",
        "        process_edges(src, dst, t, msg)\n",
        "\n",
        "    metric_dict = {}\n",
        "    metric_dict[eval_metric] = total_score / num_label_ts\n",
        "    return metric_dict\n",
        "\n"
      ],
      "metadata": {
        "id": "kA75Z1hTD027"
      },
      "execution_count": null,
      "outputs": []
    },
    {
      "cell_type": "code",
      "source": [
        "epochs = 7"
      ],
      "metadata": {
        "id": "lTz7iQIu9Ryi"
      },
      "execution_count": null,
      "outputs": []
    },
    {
      "cell_type": "code",
      "source": [
        "train_curve = []\n",
        "val_curve = []\n",
        "test_curve = []\n",
        "max_val_score = 0  #find the best test score based on validation score\n",
        "best_test_idx = 0\n",
        "for epoch in range(1, epochs + 1):\n",
        "    start_time = timeit.default_timer()\n",
        "    train_dict = train()\n",
        "    print(\"------------------------------------\")\n",
        "    print(f\"training Epoch: {epoch:02d}\")\n",
        "    print(train_dict)\n",
        "    train_curve.append(train_dict[eval_metric])\n",
        "    print(\"Training takes--- %s seconds ---\" % (timeit.default_timer() - start_time))\n",
        "\n",
        "    start_time = timeit.default_timer()\n",
        "    val_dict = test(val_loader)\n",
        "    print(val_dict)\n",
        "    val_curve.append(val_dict[eval_metric])\n",
        "    if (val_dict[eval_metric] > max_val_score):\n",
        "        max_val_score = val_dict[eval_metric]\n",
        "        best_test_idx = epoch - 1\n",
        "    print(\"Validation takes--- %s seconds ---\" % (timeit.default_timer() - start_time))\n",
        "\n",
        "    start_time = timeit.default_timer()\n",
        "    test_dict = test(test_loader)\n",
        "    print(test_dict)\n",
        "    test_curve.append(test_dict[eval_metric])\n",
        "    print(\"Test takes--- %s seconds ---\" % (timeit.default_timer() - start_time))\n",
        "    print(\"------------------------------------\")\n",
        "    dataset.reset_label_time()\n"
      ],
      "metadata": {
        "id": "cenYuY_SSb1y",
        "colab": {
          "base_uri": "https://localhost:8080/"
        },
        "outputId": "35aeba72-0dce-4947-9915-0915f2ccebb0"
      },
      "execution_count": null,
      "outputs": [
        {
          "output_type": "stream",
          "name": "stderr",
          "text": [
            "100%|██████████| 95110/95110 [36:17<00:00, 43.68it/s]\n"
          ]
        },
        {
          "output_type": "stream",
          "name": "stdout",
          "text": [
            "------------------------------------\n",
            "training Epoch: 01\n",
            "{'ce': 3.8087384695642346, 'ndcg': 0.4136426963379247}\n",
            "Training takes--- 2177.558963939 seconds ---\n"
          ]
        },
        {
          "output_type": "stream",
          "name": "stderr",
          "text": [
            "100%|██████████| 20381/20381 [07:17<00:00, 46.56it/s]\n"
          ]
        },
        {
          "output_type": "stream",
          "name": "stdout",
          "text": [
            "{'ndcg': 0.3436250639667218}\n",
            "Validation takes--- 437.9403908109998 seconds ---\n"
          ]
        },
        {
          "output_type": "stream",
          "name": "stderr",
          "text": [
            " 93%|█████████▎| 18944/20381 [06:58<00:31, 45.31it/s]\n"
          ]
        },
        {
          "output_type": "stream",
          "name": "stdout",
          "text": [
            "{'ndcg': 0.31146887669529794}\n",
            "Test takes--- 418.1466915680003 seconds ---\n",
            "------------------------------------\n"
          ]
        },
        {
          "output_type": "stream",
          "name": "stderr",
          "text": [
            "100%|██████████| 95110/95110 [36:11<00:00, 43.80it/s]\n"
          ]
        },
        {
          "output_type": "stream",
          "name": "stdout",
          "text": [
            "------------------------------------\n",
            "training Epoch: 02\n",
            "{'ce': 3.4501954277313693, 'ndcg': 0.43512271804287}\n",
            "Training takes--- 2171.5493317680002 seconds ---\n"
          ]
        },
        {
          "output_type": "stream",
          "name": "stderr",
          "text": [
            "100%|██████████| 20381/20381 [07:20<00:00, 46.27it/s]\n"
          ]
        },
        {
          "output_type": "stream",
          "name": "stdout",
          "text": [
            "{'ndcg': 0.34368784806240965}\n",
            "Validation takes--- 440.63824337000005 seconds ---\n"
          ]
        },
        {
          "output_type": "stream",
          "name": "stderr",
          "text": [
            " 93%|█████████▎| 18944/20381 [06:53<00:31, 45.82it/s]\n"
          ]
        },
        {
          "output_type": "stream",
          "name": "stdout",
          "text": [
            "{'ndcg': 0.3114080680711408}\n",
            "Test takes--- 413.4308972380013 seconds ---\n",
            "------------------------------------\n"
          ]
        },
        {
          "output_type": "stream",
          "name": "stderr",
          "text": [
            "100%|██████████| 95110/95110 [36:29<00:00, 43.44it/s]\n"
          ]
        },
        {
          "output_type": "stream",
          "name": "stdout",
          "text": [
            "------------------------------------\n",
            "training Epoch: 03\n",
            "{'ce': 3.44285823544337, 'ndcg': 0.4348800272767713}\n",
            "Training takes--- 2189.6634189369997 seconds ---\n"
          ]
        },
        {
          "output_type": "stream",
          "name": "stderr",
          "text": [
            "100%|██████████| 20381/20381 [07:21<00:00, 46.18it/s]\n"
          ]
        },
        {
          "output_type": "stream",
          "name": "stdout",
          "text": [
            "{'ndcg': 0.34375531403519693}\n",
            "Validation takes--- 441.757088585 seconds ---\n"
          ]
        },
        {
          "output_type": "stream",
          "name": "stderr",
          "text": [
            " 93%|█████████▎| 18944/20381 [07:00<00:31, 45.06it/s]\n"
          ]
        },
        {
          "output_type": "stream",
          "name": "stdout",
          "text": [
            "{'ndcg': 0.3114368933386293}\n",
            "Test takes--- 420.4263930220004 seconds ---\n",
            "------------------------------------\n"
          ]
        },
        {
          "output_type": "stream",
          "name": "stderr",
          "text": [
            "100%|██████████| 95110/95110 [36:34<00:00, 43.33it/s]\n"
          ]
        },
        {
          "output_type": "stream",
          "name": "stdout",
          "text": [
            "------------------------------------\n",
            "training Epoch: 04\n",
            "{'ce': 3.4386810723880648, 'ndcg': 0.43460227057908857}\n",
            "Training takes--- 2194.997103776999 seconds ---\n"
          ]
        },
        {
          "output_type": "stream",
          "name": "stderr",
          "text": [
            "100%|██████████| 20381/20381 [07:24<00:00, 45.83it/s]\n"
          ]
        },
        {
          "output_type": "stream",
          "name": "stdout",
          "text": [
            "{'ndcg': 0.34377184389547705}\n",
            "Validation takes--- 445.11595097200006 seconds ---\n"
          ]
        },
        {
          "output_type": "stream",
          "name": "stderr",
          "text": [
            " 93%|█████████▎| 18944/20381 [06:54<00:31, 45.66it/s]\n"
          ]
        },
        {
          "output_type": "stream",
          "name": "stdout",
          "text": [
            "{'ndcg': 0.3115399632007445}\n",
            "Test takes--- 414.8698005669994 seconds ---\n",
            "------------------------------------\n"
          ]
        },
        {
          "output_type": "stream",
          "name": "stderr",
          "text": [
            "100%|██████████| 95110/95110 [36:34<00:00, 43.34it/s]\n"
          ]
        },
        {
          "output_type": "stream",
          "name": "stdout",
          "text": [
            "------------------------------------\n",
            "training Epoch: 05\n",
            "{'ce': 3.427986351999708, 'ndcg': 0.43466292776469456}\n",
            "Training takes--- 2194.757500173 seconds ---\n"
          ]
        },
        {
          "output_type": "stream",
          "name": "stderr",
          "text": [
            "100%|██████████| 20381/20381 [07:21<00:00, 46.17it/s]\n"
          ]
        },
        {
          "output_type": "stream",
          "name": "stdout",
          "text": [
            "{'ndcg': 0.343662775520736}\n",
            "Validation takes--- 441.7920545829984 seconds ---\n"
          ]
        },
        {
          "output_type": "stream",
          "name": "stderr",
          "text": [
            " 93%|█████████▎| 18944/20381 [06:58<00:31, 45.25it/s]\n"
          ]
        },
        {
          "output_type": "stream",
          "name": "stdout",
          "text": [
            "{'ndcg': 0.3112897711716086}\n",
            "Test takes--- 418.6643916110006 seconds ---\n",
            "------------------------------------\n"
          ]
        },
        {
          "output_type": "stream",
          "name": "stderr",
          "text": [
            "100%|██████████| 95110/95110 [36:20<00:00, 43.61it/s]\n"
          ]
        },
        {
          "output_type": "stream",
          "name": "stdout",
          "text": [
            "------------------------------------\n",
            "training Epoch: 06\n",
            "{'ce': 3.4032451833154207, 'ndcg': 0.4349343508881629}\n",
            "Training takes--- 2180.978975338003 seconds ---\n"
          ]
        },
        {
          "output_type": "stream",
          "name": "stderr",
          "text": [
            "100%|██████████| 20381/20381 [07:29<00:00, 45.34it/s]\n"
          ]
        },
        {
          "output_type": "stream",
          "name": "stdout",
          "text": [
            "{'ndcg': 0.3443342880205673}\n",
            "Validation takes--- 449.7455933029996 seconds ---\n"
          ]
        },
        {
          "output_type": "stream",
          "name": "stderr",
          "text": [
            " 93%|█████████▎| 18944/20381 [07:01<00:31, 44.92it/s]\n"
          ]
        },
        {
          "output_type": "stream",
          "name": "stdout",
          "text": [
            "{'ndcg': 0.3119774379683908}\n",
            "Test takes--- 421.75216720000026 seconds ---\n",
            "------------------------------------\n"
          ]
        },
        {
          "output_type": "stream",
          "name": "stderr",
          "text": [
            "100%|██████████| 95110/95110 [36:33<00:00, 43.37it/s]\n"
          ]
        },
        {
          "output_type": "stream",
          "name": "stdout",
          "text": [
            "------------------------------------\n",
            "training Epoch: 07\n",
            "{'ce': 3.4037254264716568, 'ndcg': 0.43545641656066064}\n",
            "Training takes--- 2193.2287049760016 seconds ---\n"
          ]
        },
        {
          "output_type": "stream",
          "name": "stderr",
          "text": [
            "100%|██████████| 20381/20381 [07:21<00:00, 46.17it/s]\n"
          ]
        },
        {
          "output_type": "stream",
          "name": "stdout",
          "text": [
            "{'ndcg': 0.34369297506667684}\n",
            "Validation takes--- 441.57039799799895 seconds ---\n"
          ]
        },
        {
          "output_type": "stream",
          "name": "stderr",
          "text": [
            " 93%|█████████▎| 18944/20381 [06:53<00:31, 45.84it/s]"
          ]
        },
        {
          "output_type": "stream",
          "name": "stdout",
          "text": [
            "{'ndcg': 0.3113731781769512}\n",
            "Test takes--- 413.28975676199843 seconds ---\n",
            "------------------------------------\n"
          ]
        },
        {
          "output_type": "stream",
          "name": "stderr",
          "text": [
            "\n"
          ]
        }
      ]
    },
    {
      "cell_type": "code",
      "source": [
        "max_test_score = test_curve[best_test_idx]\n",
        "print (\"best val score: \", max_val_score)\n",
        "print (\"best validation epoch   : \", best_test_idx + 1)\n",
        "print (\"best test score: \", max_test_score)"
      ],
      "metadata": {
        "colab": {
          "base_uri": "https://localhost:8080/"
        },
        "id": "XUpHbqeoU7mO",
        "outputId": "8a8d80ed-57be-4c41-c482-69699a64ae35"
      },
      "execution_count": null,
      "outputs": [
        {
          "output_type": "stream",
          "name": "stdout",
          "text": [
            "best val score:  0.3443342880205673\n",
            "best validation epoch   :  6\n",
            "best test score:  0.3119774379683908\n"
          ]
        }
      ]
    }
  ]
}