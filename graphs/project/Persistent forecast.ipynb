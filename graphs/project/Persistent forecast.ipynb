{
 "cells": [
  {
   "cell_type": "code",
   "execution_count": 2,
   "id": "22d5a54d-6f25-45af-a50f-9f6ed2877478",
   "metadata": {},
   "outputs": [
    {
     "name": "stdout",
     "output_type": "stream",
     "text": [
      "Intel MKL WARNING: Support of Intel(R) Streaming SIMD Extensions 4.2 (Intel(R) SSE4.2) enabled only processors has been deprecated. Intel oneAPI Math Kernel Library 2025.0 will require Intel(R) Advanced Vector Extensions (Intel(R) AVX) instructions.\n",
      "Intel MKL WARNING: Support of Intel(R) Streaming SIMD Extensions 4.2 (Intel(R) SSE4.2) enabled only processors has been deprecated. Intel oneAPI Math Kernel Library 2025.0 will require Intel(R) Advanced Vector Extensions (Intel(R) AVX) instructions.\n"
     ]
    }
   ],
   "source": [
    "import timeit\n",
    "import numpy as np\n",
    "from torch_geometric.loader import TemporalDataLoader\n",
    "from tqdm import tqdm\n",
    "import torch\n",
    "\n",
    "# local imports\n",
    "from tgb.nodeproppred.dataset_pyg import PyGNodePropPredDataset\n",
    "#from modules.heuristics import PersistantForecaster\n",
    "from tgb.nodeproppred.evaluate import Evaluator"
   ]
  },
  {
   "cell_type": "code",
   "execution_count": 3,
   "id": "2f717ca0-0f58-4bcb-803f-34d6bcc550c5",
   "metadata": {},
   "outputs": [
    {
     "name": "stdout",
     "output_type": "stream",
     "text": [
      "raw file found, skipping download\n",
      "Dataset directory is  /Users/anastasiiaizotova/opt/anaconda3/envs/env_3_12/lib/python3.10/site-packages/tgb/datasets/tgbn_reddit\n"
     ]
    },
    {
     "name": "stderr",
     "output_type": "stream",
     "text": [
      "12077151it [00:32, 371240.79it/s]\n"
     ]
    }
   ],
   "source": [
    "device = \"cpu\"\n",
    "name = \"tgbn-reddit\"\n",
    "dataset = PyGNodePropPredDataset(name=name, root=\"datasets\")\n",
    "num_classes = dataset.num_classes\n",
    "data = dataset.get_TemporalData()\n",
    "data = data.to(device)"
   ]
  },
  {
   "cell_type": "code",
   "execution_count": 4,
   "id": "19634585-7eef-4eab-a9c6-98d2a0b9aa38",
   "metadata": {},
   "outputs": [
    {
     "name": "stdout",
     "output_type": "stream",
     "text": [
      "11766\n"
     ]
    }
   ],
   "source": [
    "all_nodes = torch.cat((data.src, data.dst), 0)\n",
    "all_nodes = all_nodes.unique()\n",
    "print (all_nodes.shape[0])"
   ]
  },
  {
   "cell_type": "code",
   "execution_count": 5,
   "id": "d0c6d6a9-3a48-472a-9e03-3b8a91389419",
   "metadata": {},
   "outputs": [],
   "source": [
    "class PersistentForecaster:\n",
    "    def __init__(self, num_class):\n",
    "        self.dict = {}\n",
    "        self.num_class = num_class\n",
    "\n",
    "    def update_dict(self, node_id, label):\n",
    "        self.dict[node_id] = label\n",
    "\n",
    "    def query_dict(self, node_id):\n",
    "        \n",
    "        #node_id: the node to query\n",
    "        if node_id in self.dict:\n",
    "            return self.dict[node_id]\n",
    "        else:\n",
    "            return np.zeros(self.num_class)"
   ]
  },
  {
   "cell_type": "code",
   "execution_count": 8,
   "id": "26698697-5689-4d16-b786-a83a183316fa",
   "metadata": {},
   "outputs": [],
   "source": [
    "eval_metric = dataset.eval_metric\n",
    "forecaster = PersistentForecaster(num_classes)\n",
    "evaluator = Evaluator(name=name)"
   ]
  },
  {
   "cell_type": "code",
   "execution_count": 9,
   "id": "4e0d7b31-29e8-4112-88b7-2c1f90a7f608",
   "metadata": {},
   "outputs": [],
   "source": [
    "# Ensure to only sample actual destination nodes as negatives.\n",
    "min_dst_idx, max_dst_idx = int(data.dst.min()), int(data.dst.max())\n",
    "train_data, val_data, test_data = data.train_val_test_split(\n",
    "    val_ratio=0.15, test_ratio=0.15\n",
    ")"
   ]
  },
  {
   "cell_type": "code",
   "execution_count": 10,
   "id": "30facb3f-b82b-4ba9-bea8-f954858b0c1e",
   "metadata": {},
   "outputs": [],
   "source": [
    "batch_size = 200"
   ]
  },
  {
   "cell_type": "code",
   "execution_count": 11,
   "id": "32cd3201-71e7-4a93-bc17-cf4bfaf747f3",
   "metadata": {},
   "outputs": [],
   "source": [
    "train_loader = TemporalDataLoader(train_data, batch_size=batch_size)\n",
    "val_loader = TemporalDataLoader(val_data, batch_size=batch_size)\n",
    "test_loader = TemporalDataLoader(test_data, batch_size=batch_size)"
   ]
  },
  {
   "cell_type": "code",
   "execution_count": 12,
   "id": "1cfd60fd-d2bc-4ade-8f19-ccf579d1c281",
   "metadata": {},
   "outputs": [],
   "source": [
    "def test_n_upate(loader):\n",
    "    label_t = dataset.get_label_time()  # check when does the first label start\n",
    "    num_label_ts = 0\n",
    "    total_score = 0\n",
    "\n",
    "    for batch in tqdm(loader):\n",
    "        batch = batch.to(device)\n",
    "        src, pos_dst, t, msg = batch.src, batch.dst, batch.t, batch.msg\n",
    "\n",
    "        query_t = batch.t[-1]\n",
    "        if query_t > label_t:\n",
    "            label_tuple = dataset.get_node_label(query_t)\n",
    "            if label_tuple is None:\n",
    "                break\n",
    "            label_ts, label_srcs, labels = (\n",
    "                label_tuple[0],\n",
    "                label_tuple[1],\n",
    "                label_tuple[2],\n",
    "            )\n",
    "            label_ts = label_ts.numpy()\n",
    "            label_srcs = label_srcs.numpy()\n",
    "            labels = labels.numpy()\n",
    "            label_t = dataset.get_label_time()\n",
    "\n",
    "            preds = []\n",
    "\n",
    "            for i in range(0, label_srcs.shape[0]):\n",
    "                node_id = label_srcs[i]\n",
    "                pred_vec = forecaster.query_dict(node_id)\n",
    "                preds.append(pred_vec)\n",
    "                forecaster.update_dict(node_id, labels[i])\n",
    "\n",
    "            np_pred = np.stack(preds, axis=0)\n",
    "            np_true = labels\n",
    "\n",
    "            input_dict = {\n",
    "                \"y_true\": np_true,\n",
    "                \"y_pred\": np_pred,\n",
    "                \"eval_metric\": [eval_metric],\n",
    "            }\n",
    "            result_dict = evaluator.eval(input_dict)\n",
    "            score = result_dict[eval_metric]\n",
    "            total_score += score\n",
    "            num_label_ts += 1\n",
    "\n",
    "    metric_dict = {}\n",
    "    metric_dict[eval_metric] = total_score / num_label_ts\n",
    "    return metric_dict"
   ]
  },
  {
   "cell_type": "code",
   "execution_count": 13,
   "id": "1f18c0b8-9024-4911-8e52-0e4f13e4e7f8",
   "metadata": {},
   "outputs": [
    {
     "name": "stderr",
     "output_type": "stream",
     "text": [
      "100%|████████████████████████████████████████████████████████████████████████████████████████████████████████████████████████████████████████████████████████████████| 95110/95110 [08:40<00:00, 182.56it/s]"
     ]
    },
    {
     "name": "stdout",
     "output_type": "stream",
     "text": [
      "{'ndcg': 0.3690056115931992}\n"
     ]
    },
    {
     "name": "stderr",
     "output_type": "stream",
     "text": [
      "\n"
     ]
    }
   ],
   "source": [
    "metric_dict = test_n_upate(train_loader)\n",
    "print(metric_dict)"
   ]
  },
  {
   "cell_type": "code",
   "execution_count": 14,
   "id": "aaf9941c-1654-4440-858f-ea8a241fac37",
   "metadata": {},
   "outputs": [
    {
     "name": "stderr",
     "output_type": "stream",
     "text": [
      "100%|████████████████████████████████████████████████████████████████████████████████████████████████████████████████████████████████████████████████████████████████| 20381/20381 [01:14<00:00, 271.78it/s]"
     ]
    },
    {
     "name": "stdout",
     "output_type": "stream",
     "text": [
      "{'ndcg': 0.379930210287905}\n"
     ]
    },
    {
     "name": "stderr",
     "output_type": "stream",
     "text": [
      "\n"
     ]
    }
   ],
   "source": [
    "val_dict = test_n_upate(val_loader)\n",
    "print(val_dict)"
   ]
  },
  {
   "cell_type": "code",
   "execution_count": 15,
   "id": "77b64e10-e409-4641-b855-e175e37aa1c0",
   "metadata": {},
   "outputs": [
    {
     "name": "stderr",
     "output_type": "stream",
     "text": [
      " 93%|████████████████████████████████████████████████████████████████████████████████████████████████████████████████████████████████████████████████████▋           | 18944/20381 [01:09<00:05, 272.46it/s]"
     ]
    },
    {
     "name": "stdout",
     "output_type": "stream",
     "text": [
      "{'ndcg': 0.3690928451278102}\n"
     ]
    },
    {
     "name": "stderr",
     "output_type": "stream",
     "text": [
      "\n"
     ]
    }
   ],
   "source": [
    "test_dict = test_n_upate(test_loader)\n",
    "print(test_dict)"
   ]
  },
  {
   "cell_type": "code",
   "execution_count": null,
   "id": "af91cc67-8a70-41ae-89ab-842a106e664e",
   "metadata": {},
   "outputs": [],
   "source": []
  }
 ],
 "metadata": {
  "kernelspec": {
   "display_name": "Python 3 (ipykernel)",
   "language": "python",
   "name": "python3"
  },
  "language_info": {
   "codemirror_mode": {
    "name": "ipython",
    "version": 3
   },
   "file_extension": ".py",
   "mimetype": "text/x-python",
   "name": "python",
   "nbconvert_exporter": "python",
   "pygments_lexer": "ipython3",
   "version": "3.10.13"
  }
 },
 "nbformat": 4,
 "nbformat_minor": 5
}
