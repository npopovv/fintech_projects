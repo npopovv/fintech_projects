{
 "cells": [
  {
   "cell_type": "code",
   "execution_count": 1,
   "id": "762ae3a3-65cc-4569-877f-805132a8d731",
   "metadata": {},
   "outputs": [
    {
     "name": "stdout",
     "output_type": "stream",
     "text": [
      "Intel MKL WARNING: Support of Intel(R) Streaming SIMD Extensions 4.2 (Intel(R) SSE4.2) enabled only processors has been deprecated. Intel oneAPI Math Kernel Library 2025.0 will require Intel(R) Advanced Vector Extensions (Intel(R) AVX) instructions.\n",
      "Intel MKL WARNING: Support of Intel(R) Streaming SIMD Extensions 4.2 (Intel(R) SSE4.2) enabled only processors has been deprecated. Intel oneAPI Math Kernel Library 2025.0 will require Intel(R) Advanced Vector Extensions (Intel(R) AVX) instructions.\n"
     ]
    }
   ],
   "source": [
    "import timeit\n",
    "import numpy as np\n",
    "from torch_geometric.loader import TemporalDataLoader\n",
    "\n",
    "from tgb.nodeproppred.dataset_pyg import PyGNodePropPredDataset\n",
    "from tgb.nodeproppred.evaluate import Evaluator"
   ]
  },
  {
   "cell_type": "code",
   "execution_count": 2,
   "id": "486834cb-32fc-4da1-9885-370796ed1cf6",
   "metadata": {},
   "outputs": [],
   "source": [
    "class MovingAverage:\n",
    "    def __init__(self, num_class, K=7):\n",
    "        self.dict = {}\n",
    "        self.num_class = num_class\n",
    "        self.K = K\n",
    "\n",
    "    def update_dict(self, node_id, label):\n",
    "        if node_id in self.dict:\n",
    "            total = self.dict[node_id] * (self.K - 1) + label\n",
    "            self.dict[node_id] = total / self.K\n",
    "        else:\n",
    "            self.dict[node_id] = label\n",
    "\n",
    "    def query_dict(self, node_id):\n",
    "        \n",
    "        #node_id: the node to query\n",
    "        if node_id in self.dict:\n",
    "            return self.dict[node_id]\n",
    "        else:\n",
    "            return np.zeros(self.num_class)\n",
    "\n"
   ]
  },
  {
   "cell_type": "code",
   "execution_count": 3,
   "id": "ea89558e-ec22-4375-864a-0b5739729ca2",
   "metadata": {},
   "outputs": [],
   "source": [
    "def test_n_upate(loader):\n",
    "    label_t = dataset.get_label_time()  # check when does the first label start\n",
    "    num_label_ts = 0\n",
    "    total_score = 0\n",
    "\n",
    "    for batch in loader:\n",
    "        batch = batch.to(device)\n",
    "        src, pos_dst, t, msg = batch.src, batch.dst, batch.t, batch.msg\n",
    "\n",
    "        query_t = batch.t[-1]\n",
    "        if query_t > label_t:\n",
    "            label_tuple = dataset.get_node_label(query_t)\n",
    "            if label_tuple is None:\n",
    "                break\n",
    "            label_ts, label_srcs, labels = (\n",
    "                label_tuple[0],\n",
    "                label_tuple[1],\n",
    "                label_tuple[2],\n",
    "            )\n",
    "            label_ts = label_ts.numpy()\n",
    "            label_srcs = label_srcs.numpy()\n",
    "            labels = labels.numpy()\n",
    "            label_t = dataset.get_label_time()\n",
    "\n",
    "            preds = []\n",
    "\n",
    "            for i in range(0, label_srcs.shape[0]):\n",
    "                node_id = label_srcs[i]\n",
    "                pred_vec = forecaster.query_dict(node_id)\n",
    "                preds.append(pred_vec)\n",
    "                forecaster.update_dict(node_id, labels[i])\n",
    "\n",
    "            np_pred = np.stack(preds, axis=0)\n",
    "            np_true = labels\n",
    "\n",
    "            input_dict = {\n",
    "                \"y_true\": np_true,\n",
    "                \"y_pred\": np_pred,\n",
    "                \"eval_metric\": [eval_metric],\n",
    "            }\n",
    "            result_dict = evaluator.eval(input_dict)\n",
    "            score = result_dict[eval_metric]\n",
    "\n",
    "            total_score += score\n",
    "            num_label_ts += 1\n",
    "\n",
    "    metric_dict = {}\n",
    "    metric_dict[eval_metric] = total_score / num_label_ts\n",
    "    return metric_dict"
   ]
  },
  {
   "cell_type": "code",
   "execution_count": 4,
   "id": "cc1f8700-b18f-4239-93e1-83a88284e90e",
   "metadata": {},
   "outputs": [
    {
     "name": "stdout",
     "output_type": "stream",
     "text": [
      "raw file found, skipping download\n",
      "Dataset directory is  /Users/anastasiiaizotova/opt/anaconda3/envs/env_3_12/lib/python3.10/site-packages/tgb/datasets/tgbn_reddit\n"
     ]
    },
    {
     "name": "stderr",
     "output_type": "stream",
     "text": [
      "12077151it [00:33, 361268.72it/s]\n"
     ]
    }
   ],
   "source": [
    "K = 7\n",
    "device = \"cpu\"\n",
    "name = \"tgbn-reddit\"\n",
    "dataset = PyGNodePropPredDataset(name=name, root=\"datasets\")"
   ]
  },
  {
   "cell_type": "code",
   "execution_count": 5,
   "id": "154c65aa-167e-487a-ac36-b61a43e24ce6",
   "metadata": {},
   "outputs": [],
   "source": [
    "num_classes = dataset.num_classes\n",
    "data = dataset.get_TemporalData()\n",
    "data = data.to(device)"
   ]
  },
  {
   "cell_type": "code",
   "execution_count": 6,
   "id": "71ceaba9-97d9-426d-8778-1d2597c9f87e",
   "metadata": {},
   "outputs": [
    {
     "data": {
      "text/plain": [
       "698"
      ]
     },
     "execution_count": 6,
     "metadata": {},
     "output_type": "execute_result"
    }
   ],
   "source": [
    "num_classes"
   ]
  },
  {
   "cell_type": "code",
   "execution_count": 7,
   "id": "2ba92134-fc87-4e92-aca9-4cad6203f785",
   "metadata": {},
   "outputs": [],
   "source": [
    "eval_metric = dataset.eval_metric\n",
    "forecaster = MovingAverage(num_classes, K=K)\n",
    "evaluator = Evaluator(name=name)"
   ]
  },
  {
   "cell_type": "code",
   "execution_count": 8,
   "id": "246472b9-300f-4a0e-bd7a-1ca203d1d482",
   "metadata": {},
   "outputs": [],
   "source": [
    "# Ensure to only sample actual destination nodes as negatives.\n",
    "min_dst_idx, max_dst_idx = int(data.dst.min()), int(data.dst.max())\n",
    "train_data, val_data, test_data = data.train_val_test_split(\n",
    "    val_ratio=0.15, test_ratio=0.15\n",
    ")"
   ]
  },
  {
   "cell_type": "code",
   "execution_count": 9,
   "id": "f801367b-2a93-4404-9fb5-18ca595b7aa9",
   "metadata": {},
   "outputs": [],
   "source": [
    "batch_size = 200"
   ]
  },
  {
   "cell_type": "code",
   "execution_count": 10,
   "id": "8e4ec094-725a-4ac8-ab31-cf24af07c200",
   "metadata": {},
   "outputs": [],
   "source": [
    "train_loader = TemporalDataLoader(train_data, batch_size=batch_size)\n",
    "val_loader = TemporalDataLoader(val_data, batch_size=batch_size)\n",
    "test_loader = TemporalDataLoader(test_data, batch_size=batch_size)"
   ]
  },
  {
   "cell_type": "code",
   "execution_count": 11,
   "id": "8ad10c29-1b01-4d5b-9398-18fa2f94a91d",
   "metadata": {},
   "outputs": [
    {
     "name": "stdout",
     "output_type": "stream",
     "text": [
      "{'ndcg': 0.5770426324129679}\n"
     ]
    }
   ],
   "source": [
    "metric_dict = test_n_upate(train_loader)\n",
    "print(metric_dict)"
   ]
  },
  {
   "cell_type": "code",
   "execution_count": 12,
   "id": "7fac8d48-5ea8-4245-9f85-174775a924c1",
   "metadata": {},
   "outputs": [
    {
     "name": "stdout",
     "output_type": "stream",
     "text": [
      "{'ndcg': 0.5740962485683613}\n"
     ]
    }
   ],
   "source": [
    "val_dict = test_n_upate(val_loader)\n",
    "print(val_dict)"
   ]
  },
  {
   "cell_type": "code",
   "execution_count": 13,
   "id": "cab7fbb5-28cf-4197-a47e-e5d3c05d05d2",
   "metadata": {},
   "outputs": [
    {
     "name": "stdout",
     "output_type": "stream",
     "text": [
      "{'ndcg': 0.5592638307834997}\n"
     ]
    }
   ],
   "source": [
    "test_dict = test_n_upate(test_loader)\n",
    "print(test_dict)"
   ]
  }
 ],
 "metadata": {
  "kernelspec": {
   "display_name": "Python 3 (ipykernel)",
   "language": "python",
   "name": "python3"
  },
  "language_info": {
   "codemirror_mode": {
    "name": "ipython",
    "version": 3
   },
   "file_extension": ".py",
   "mimetype": "text/x-python",
   "name": "python",
   "nbconvert_exporter": "python",
   "pygments_lexer": "ipython3",
   "version": "3.10.13"
  }
 },
 "nbformat": 4,
 "nbformat_minor": 5
}
