{
  "cells": [
    {
      "cell_type": "code",
      "execution_count": null,
      "id": "6aa75ef7-2360-4740-8bfa-62c39dc6de7f",
      "metadata": {
        "id": "6aa75ef7-2360-4740-8bfa-62c39dc6de7f"
      },
      "outputs": [],
      "source": [
        "import numpy as np\n",
        "import pandas as pd\n",
        "import json\n",
        "import tqdm\n",
        "from sklearn.model_selection import train_test_split, RandomizedSearchCV, GridSearchCV\n",
        "from sklearn.model_selection import PredefinedSplit\n",
        "from scipy.stats import randint as sp_randint\n",
        "from sklearn.metrics import mean_absolute_error as mae, mean_squared_log_error as msle, make_scorer\n",
        "tqdm.tqdm.pandas()\n",
        "from dateutil.relativedelta import *\n",
        "from sklearn.ensemble import RandomForestRegressor\n",
        "from lightgbm import LGBMRegressor\n",
        "from matplotlib import pyplot as plt\n",
        "import warnings\n",
        "warnings.filterwarnings(\"ignore\",category=DeprecationWarning)\n",
        "# warnings.filterwarnings('BokehDeprecationWarning')"
      ]
    },
    {
      "cell_type": "code",
      "source": [
        "from plotting import plot_ts\n",
        "from statsmodels.tsa.arima.model import ARIMA"
      ],
      "metadata": {
        "id": "SyQrcL1qzQS-"
      },
      "id": "SyQrcL1qzQS-",
      "execution_count": null,
      "outputs": []
    },
    {
      "cell_type": "code",
      "execution_count": null,
      "id": "ada8925b",
      "metadata": {
        "id": "ada8925b"
      },
      "outputs": [],
      "source": [
        "start_date = '2017-01-09'\n",
        "end_date = '2021-03-31'"
      ]
    },
    {
      "cell_type": "markdown",
      "id": "e36e46c0",
      "metadata": {
        "id": "e36e46c0"
      },
      "source": [
        "# Модуль выявления разладок\n"
      ]
    },
    {
      "cell_type": "code",
      "execution_count": null,
      "id": "2f6ad904",
      "metadata": {
        "id": "2f6ad904"
      },
      "outputs": [],
      "source": [
        "class AnomalyDetector(object):\n",
        "    \"\"\"\n",
        "    Класс для детектирования аномалий методом CUSUM\n",
        "\n",
        "    Параметры\n",
        "    ----------\n",
        "    backward_window_size : integer, optional, default 30\n",
        "        Размер временного окна для оценки статистик\n",
        "\n",
        "    forward_window_size : integer, optional, default 14\n",
        "        Размер временнего окна для сравнения с backward_window_size\n",
        "\n",
        "    threshold : float, optional, default 5.0\n",
        "        Порог\n",
        "\n",
        "    drift : float, optional, default 1.0\n",
        "        Отклонение от среднего\n",
        "\n",
        "    anomalies: pd.Series\n",
        "        последовательность нулей и единиц(с сохранением последовательности индексов изначально временного ряда), 1 - аномалия, 0 - не аномалия\n",
        "\n",
        "    \"\"\"\n",
        "\n",
        "    def __init__(self, backward_window_size=30, forward_window_size=14,\n",
        "                 threshold=5.0, drift=1.0):\n",
        "        self.backward_window_size = backward_window_size\n",
        "        self.forward_window_size = forward_window_size\n",
        "        self.threshold = threshold\n",
        "        self.drift = drift\n",
        "        self.anomalies_ = None\n",
        "\n",
        "\n",
        "    def one_pass(self, train_zone, prediction_zone, threshold=None, drift=None):\n",
        "        \"\"\"\n",
        "        Функция для обнаружения аномалий за один проход\n",
        "\n",
        "        Параметры\n",
        "        ----------\n",
        "        train_zone : pandas.Series or pandas.DataFrame\n",
        "            Обучающая выборка для подсчета нужных статистик\n",
        "\n",
        "        prediction_zone : pandas.Series or pandas.DataFrame\n",
        "            Тестовая выборка для обнаружения аномалий\n",
        "\n",
        "        threshold : float, optional, default 5.0\n",
        "            Порог\n",
        "\n",
        "        drift : float, optional, default 1.0\n",
        "            Смещение\n",
        "\n",
        "        Возвращает\n",
        "        -------\n",
        "        is_fault : numpy array\n",
        "            Является аномалией или нет\n",
        "        \"\"\"\n",
        "\n",
        "        if not threshold:\n",
        "            threshold = self.threshold\n",
        "        if not drift:\n",
        "            drift = self.drift\n",
        "\n",
        "        current_std = np.nanstd(train_zone, ddof=1)\n",
        "        current_mean = np.nanmean(train_zone)\n",
        "        drift = drift * current_std\n",
        "        threshold = threshold * current_std\n",
        "\n",
        "        x = prediction_zone.astype('float64')\n",
        "        gp, gn = np.zeros(x.size), np.zeros(x.size)\n",
        "\n",
        "        for i in range(1, x.size):\n",
        "            gp[i] = max(gp[i-1] + x[i] - current_mean - drift, 0)\n",
        "            gn[i] = min(gn[i-1] + x[i] - current_mean + drift, 0)\n",
        "\n",
        "        is_fault = np.logical_or(gp > threshold, gn < -threshold)\n",
        "        return is_fault\n",
        "\n",
        "    def detect(self, time_series, threshold=None, drift=None, excluded_points=None):\n",
        "        \"\"\"\n",
        "        Функция для обнаружения аномалий в скользящем окне\n",
        "\n",
        "        Параметры\n",
        "        ----------\n",
        "        time_series : pandas.Series\n",
        "            Временной ряд\n",
        "\n",
        "        threshold : float, optional, default 5.0\n",
        "            Порог\n",
        "\n",
        "        drift : float, optional, default 1.0\n",
        "            Смещение\n",
        "\n",
        "        excluded_points : pandas.Series.index\n",
        "            Точки, которые будем исключать\n",
        "\n",
        "        Возвращает\n",
        "        -------\n",
        "        self.anomalies_ : pandas.Series, shape = [len(time_series)]\n",
        "            последовательность нулей и единиц, 1 - аномалия, 0 - не аномалия\n",
        "\n",
        "        \"\"\"\n",
        "        if excluded_points is not None:\n",
        "            time_series[time_series.index.isin(excluded_points)] = np.nan\n",
        "\n",
        "        ts_values = time_series.values\n",
        "        ts_index = time_series.index\n",
        "\n",
        "        detection_series = np.zeros(len(ts_values)).astype('int32')\n",
        "\n",
        "        for ini_index in range(len(ts_values) - (self.backward_window_size + self.forward_window_size)):\n",
        "            sep_index = ini_index + self.backward_window_size\n",
        "            end_index = sep_index + self.forward_window_size\n",
        "            faults_indexes = self.one_pass(ts_values[ini_index:sep_index],\n",
        "                                           ts_values[sep_index:end_index],\n",
        "                                           threshold, drift)\n",
        "            detection_series[sep_index:end_index][faults_indexes] = 1\n",
        "        self.anomalies_ = pd.Series(detection_series, index=ts_index)\n",
        "\n",
        "        return self.anomalies_"
      ]
    },
    {
      "cell_type": "markdown",
      "id": "cfef42b1",
      "metadata": {
        "id": "cfef42b1"
      },
      "source": [
        "# Модуль отбора признаков\n"
      ]
    },
    {
      "cell_type": "code",
      "execution_count": null,
      "id": "915357eb",
      "metadata": {
        "id": "915357eb"
      },
      "outputs": [],
      "source": [
        "def make_features(time_series,\n",
        "                  calendar_features=None,\n",
        "                  is_mean_month=True,\n",
        "                  window_weekdays=3,\n",
        "                  window_days=7,\n",
        "                  lags=range(1, 5),\n",
        "                  usd_course_feature=None):\n",
        "    \"\"\"\n",
        "    Модуль для генерации признаков\n",
        "\n",
        "    Параметры\n",
        "    ----------\n",
        "    time_series : pandas.Series\n",
        "        Временной ряд\n",
        "    calendar_features : pandas.DataFrame\n",
        "        Набор календарных фичей\n",
        "\n",
        "    is_mean_month : bool, default True\n",
        "        Считаем ли среднее по месяцу\n",
        "\n",
        "    window_weekdays : integer, default 3\n",
        "        Размер недельного временнего окна\n",
        "\n",
        "    window_days : integer, default 7\n",
        "        Размер дневного временнего окна\n",
        "\n",
        "    lags : range, default (1, 5)\n",
        "        Размер лагов\n",
        "\n",
        "    usd_course_feature : pandas.Series\n",
        "        Курс рубль-доллар\n",
        "\n",
        "    Возвращает\n",
        "    -------\n",
        "    data: pd.DataFrame\n",
        "        Датафрейм с признаками\n",
        "    \"\"\"\n",
        "    data = pd.DataFrame(time_series).copy()\n",
        "    data.columns = ['y']\n",
        "\n",
        "\n",
        "    # лаги\n",
        "    if lags is not None:\n",
        "        for i in lags:\n",
        "            data['lag_{}'.format(i)] = data.y.shift(i)\n",
        "        m_lag_1 = []\n",
        "        m_lag0 = []\n",
        "        m_lag1 = []\n",
        "        for i in range(data.shape[0]):\n",
        "            date_1 = data.iloc[i].name - relativedelta(months=1) - relativedelta(days=1)\n",
        "            if date_1 in data.index:\n",
        "                m_lag_1.append(data.loc[date_1, 'y'])\n",
        "            else:\n",
        "                m_lag_1.append(np.nan)\n",
        "\n",
        "            date0 = data.iloc[i].name - relativedelta(months=1)\n",
        "            if date0 in data.index:\n",
        "                m_lag0.append(data.loc[date0, 'y'])\n",
        "            else:\n",
        "                m_lag0.append(np.nan)\n",
        "\n",
        "            date1 = data.iloc[i].name - relativedelta(months=1) + relativedelta(days=1)\n",
        "            if date1 in data.index:\n",
        "                m_lag1.append(data.loc[date1, 'y'])\n",
        "            else:\n",
        "                m_lag1.append(np.nan)\n",
        "        data['lag_month_1'] = m_lag_1\n",
        "        data['lag_month0'] = m_lag0\n",
        "        data['lag_month1'] = m_lag1\n",
        "\n",
        "    # скользящие статистики по дням\n",
        "    if window_days is not None:\n",
        "        for stat_type in ['mean', 'median', 'max', 'min', 'std']:\n",
        "            data['rolling_' + stat_type] = getattr(pd.Series.rolling(data['y'], window_days), stat_type)().shift(1)\n",
        "\n",
        "    # скользящие статистики по неделям\n",
        "    if window_weekdays is not None:\n",
        "        for stat_type in ['mean', 'median', 'max', 'min', 'std']:\n",
        "            data_group = data['y'].groupby(data.index.weekday)\n",
        "            data['rolling_' + stat_type + '_weekday'] = data_group.transform\\\n",
        "                        (lambda x: getattr(pd.Series.rolling(x, window_weekdays), stat_type)().shift(1))\n",
        "\n",
        "    # скользящие статистики по месяцу\n",
        "    if is_mean_month is not None:\n",
        "        for stat_type in ['mean', 'median', 'max', 'min']:#, 'std']:\n",
        "            data_group = data['y'].groupby(data['y'].index.month)\n",
        "            if stat_type != 'std':\n",
        "                data_stat = data_group.transform(lambda x: getattr(np, 'nan' + stat_type)(x)).copy()\n",
        "            else:\n",
        "                data_stat = data_group.transform(lambda x: getattr(np, 'nan' + stat_type)(x, ddof=1)).copy()\n",
        "            data[stat_type + '_month'] = list(map(dict(zip(data_stat.index.month, data_stat)).get, data.index.month))\n",
        "\n",
        "    # доп фичи\n",
        "    if calendar_features is not None:\n",
        "        data = pd.concat([data, calendar_features], axis=1, join='inner')\n",
        "\n",
        "    if usd_course_feature is not None:\n",
        "        data = pd.concat([data, usd_course_feature], axis=1, join='inner')\n",
        "    return data"
      ]
    },
    {
      "cell_type": "code",
      "execution_count": null,
      "id": "1ed8dd7a",
      "metadata": {
        "id": "1ed8dd7a"
      },
      "outputs": [],
      "source": [
        "import pandas as pd\n",
        "import datetime\n",
        "from pandas.tseries.holiday import AbstractHolidayCalendar, Holiday\n",
        "from pandas.tseries.offsets import CustomBusinessDay\n",
        "\n",
        "open_data_calendar = pd.read_csv('./calendar.csv')\n",
        "holiday_list = []\n",
        "\n",
        "for i in range(open_data_calendar.shape[0]):\n",
        "    row = open_data_calendar.iloc[i]\n",
        "\n",
        "    year = int(open_data_calendar.iloc[i]['Год/Месяц'])\n",
        "    for i_month, month_name in enumerate(open_data_calendar.columns[1:13]):\n",
        "        month = i_month + 1\n",
        "        for day_str in row[month_name].split(','):\n",
        "            if day_str[-1] != '*':\n",
        "                if day_str[-1] == '+':\n",
        "                    day_str = day_str[:-1]\n",
        "                day = int(day_str)\n",
        "                holiday_list.append(datetime.datetime(year, month, day))\n",
        "\n",
        "holiday_df = pd.DataFrame(holiday_list, columns=['holidays'])\n",
        "holiday_df.index = pd.to_datetime(holiday_list)\n",
        "holiday_df = holiday_df.sort_index()\n",
        "holiday_df.to_csv('./holidays_df.csv', index=False)\n",
        "\n",
        "class RussianBusinessCalendar(AbstractHolidayCalendar):\n",
        "    start_date = datetime.datetime(1999, 1, 1)\n",
        "    end_date = datetime.datetime(2022, 12, 31)\n",
        "    rules = [\n",
        "        Holiday(name='Russian Day Off', year=d.year, month=d.month, day=d.day)\n",
        "        for d in pd.to_datetime(holiday_df['holidays'])\n",
        "    ]\n",
        "\n",
        "russian_busday = CustomBusinessDay(weekmask='Mon Tue Wed Thu Fri Sat Sun', calendar=RussianBusinessCalendar())\n",
        "\n",
        "\n",
        "# Формирование календарных признаков\n",
        "\n",
        "events = pd.DataFrame(index=pd.date_range(start_date, end_date))\n",
        "events = pd.merge(events, holiday_df, how='left', left_index=True, right_index=True).fillna('Work')\n",
        "events.index = pd.to_datetime(events.index)\n",
        "\n",
        "# выходной\n",
        "events.loc[events.holidays != 'Work', 'holidays'] = 1\n",
        "events.loc[events.holidays == 'Work', 'holidays'] = 0\n",
        "events.rename(columns={'holidays':'выходной'}, inplace=True)\n",
        "\n",
        "\n",
        "# Даты налоговых дней\n",
        "events['налоговый_день'] = 0\n",
        "events.loc[events.index.day == 28, 'налоговый_день'] = 1\n",
        "\n",
        "# дни недели\n",
        "for i, name in enumerate(['пн', 'вт', 'ср', 'чт', 'пт', 'сб', 'вс']):\n",
        "    events[name] = [1 if day == i else 0 for day in events.index.weekday]\n",
        "\n",
        "# месяцы\n",
        "for i, name in enumerate(['январь', 'февраль', 'март', 'апрель', 'май', 'июнь',\n",
        "                          'июль', 'август', 'сентябрь', 'октябрь', 'ноябрь', 'декабрь']):\n",
        "    events[name] = [1 if month == i + 1 else 0 for month in events.index.month]\n",
        "\n",
        "\n",
        "\n",
        "events.to_csv('./calendar_features.csv')"
      ]
    },
    {
      "cell_type": "markdown",
      "id": "31052fd4",
      "metadata": {
        "id": "31052fd4"
      },
      "source": [
        "# Считываем данные"
      ]
    },
    {
      "cell_type": "code",
      "execution_count": null,
      "id": "1eb6c848",
      "metadata": {
        "id": "1eb6c848"
      },
      "outputs": [],
      "source": [
        "calendar_features = pd.read_csv('./calendar_features.csv', index_col=0, parse_dates=True)"
      ]
    },
    {
      "cell_type": "code",
      "execution_count": null,
      "id": "c1815ca6",
      "metadata": {
        "id": "c1815ca6"
      },
      "outputs": [],
      "source": [
        "df = pd.read_excel('./Project 1_2024.xlsx', index_col=0, parse_dates=True)"
      ]
    },
    {
      "cell_type": "code",
      "execution_count": null,
      "id": "b9d8782a",
      "metadata": {
        "id": "b9d8782a"
      },
      "outputs": [],
      "source": [
        "ts = df['Balance'].to_frame()#.T.reset_index(drop=True)"
      ]
    },
    {
      "cell_type": "code",
      "execution_count": null,
      "id": "34225329",
      "metadata": {
        "colab": {
          "base_uri": "https://localhost:8080/",
          "height": 455
        },
        "id": "34225329",
        "outputId": "ea3fce34-1281-47ae-a33c-814b35bf5f37"
      },
      "outputs": [
        {
          "data": {
            "text/html": [
              "<div>\n",
              "<style scoped>\n",
              "    .dataframe tbody tr th:only-of-type {\n",
              "        vertical-align: middle;\n",
              "    }\n",
              "\n",
              "    .dataframe tbody tr th {\n",
              "        vertical-align: top;\n",
              "    }\n",
              "\n",
              "    .dataframe thead th {\n",
              "        text-align: right;\n",
              "    }\n",
              "</style>\n",
              "<table border=\"1\" class=\"dataframe\">\n",
              "  <thead>\n",
              "    <tr style=\"text-align: right;\">\n",
              "      <th></th>\n",
              "      <th>usd_rub_course</th>\n",
              "    </tr>\n",
              "    <tr>\n",
              "      <th>Date</th>\n",
              "      <th></th>\n",
              "    </tr>\n",
              "  </thead>\n",
              "  <tbody>\n",
              "    <tr>\n",
              "      <th>2003-12-02</th>\n",
              "      <td>29.700001</td>\n",
              "    </tr>\n",
              "    <tr>\n",
              "      <th>2003-12-03</th>\n",
              "      <td>29.690001</td>\n",
              "    </tr>\n",
              "    <tr>\n",
              "      <th>2003-12-04</th>\n",
              "      <td>29.690001</td>\n",
              "    </tr>\n",
              "    <tr>\n",
              "      <th>2003-12-05</th>\n",
              "      <td>29.680000</td>\n",
              "    </tr>\n",
              "    <tr>\n",
              "      <th>2003-12-06</th>\n",
              "      <td>29.620001</td>\n",
              "    </tr>\n",
              "    <tr>\n",
              "      <th>...</th>\n",
              "      <td>...</td>\n",
              "    </tr>\n",
              "    <tr>\n",
              "      <th>2022-12-01</th>\n",
              "      <td>60.810001</td>\n",
              "    </tr>\n",
              "    <tr>\n",
              "      <th>2022-12-02</th>\n",
              "      <td>60.990002</td>\n",
              "    </tr>\n",
              "    <tr>\n",
              "      <th>2022-12-03</th>\n",
              "      <td>61.180000</td>\n",
              "    </tr>\n",
              "    <tr>\n",
              "      <th>2022-12-04</th>\n",
              "      <td>0.000000</td>\n",
              "    </tr>\n",
              "    <tr>\n",
              "      <th>2022-12-05</th>\n",
              "      <td>0.000000</td>\n",
              "    </tr>\n",
              "  </tbody>\n",
              "</table>\n",
              "<p>6944 rows × 1 columns</p>\n",
              "</div>"
            ],
            "text/plain": [
              "            usd_rub_course\n",
              "Date                      \n",
              "2003-12-02       29.700001\n",
              "2003-12-03       29.690001\n",
              "2003-12-04       29.690001\n",
              "2003-12-05       29.680000\n",
              "2003-12-06       29.620001\n",
              "...                    ...\n",
              "2022-12-01       60.810001\n",
              "2022-12-02       60.990002\n",
              "2022-12-03       61.180000\n",
              "2022-12-04        0.000000\n",
              "2022-12-05        0.000000\n",
              "\n",
              "[6944 rows x 1 columns]"
            ]
          },
          "execution_count": 263,
          "metadata": {},
          "output_type": "execute_result"
        }
      ],
      "source": [
        "usd_course = pd.read_csv('./usd_rub_course.csv', index_col=0,\n",
        "                 parse_dates=True).resample('1D').sum()['Close']\\\n",
        "                    .shift(1).dropna().to_frame()\n",
        "usd_course.columns = ['usd_rub_course']\n",
        "usd_course"
      ]
    },
    {
      "cell_type": "markdown",
      "id": "1f35a2cd",
      "metadata": {
        "id": "1f35a2cd"
      },
      "source": [
        "# Временной ряд"
      ]
    },
    {
      "cell_type": "code",
      "execution_count": null,
      "id": "76159767",
      "metadata": {
        "id": "76159767",
        "outputId": "d054698e-b27d-4d5c-fd25-ce93bb98cd50"
      },
      "outputs": [
        {
          "data": {
            "image/png": "[encoded data removed]",
            "text/plain": [
              "<Figure size 1700x400 with 1 Axes>"
            ]
          },
          "metadata": {},
          "output_type": "display_data"
        }
      ],
      "source": [
        "from matplotlib import pyplot as plt\n",
        "plt.figure(figsize=(17, 4))\n",
        "plt.plot(ts['Balance'])\n",
        "plt.grid()\n",
        "plt.show()"
      ]
    },
    {
      "cell_type": "code",
      "execution_count": null,
      "id": "09a0cd97-c0de-4815-8bf1-d103147b26af",
      "metadata": {
        "id": "09a0cd97-c0de-4815-8bf1-d103147b26af",
        "outputId": "8e8625f5-e0c1-49ab-d8ea-5f3024669677"
      },
      "outputs": [
        {
          "data": {
            "text/html": [
              "<style>\n",
              "        .bk-notebook-logo {\n",
              "            display: block;\n",
              "            width: 20px;\n",
              "            height: 20px;\n",
              "            background-image: url(data:image/png;base64,iVBORw0KGgoAAAANSUhEUgAAABQAAAAUCAYAAACNiR0NAAAABHNCSVQICAgIfAhkiAAAAAlwSFlzAAALEgAACxIB0t1+/AAAABx0RVh0U29mdHdhcmUAQWRvYmUgRmlyZXdvcmtzIENTNui8sowAAAOkSURBVDiNjZRtaJVlGMd/1/08zzln5zjP1LWcU9N0NkN8m2CYjpgQYQXqSs0I84OLIC0hkEKoPtiH3gmKoiJDU7QpLgoLjLIQCpEsNJ1vqUOdO7ppbuec5+V+rj4ctwzd8IIbbi6u+8f1539dt3A78eXC7QizUF7gyV1fD1Yqg4JWz84yffhm0qkFqBogB9rM8tZdtwVsPUhWhGcFJngGeWrPzHm5oaMmkfEg1usvLFyc8jLRqDOMru7AyC8saQr7GG7f5fvDeH7Ej8CM66nIF+8yngt6HWaKh7k49Soy9nXurCi1o3qUbS3zWfrYeQDTB/Qj6kX6Ybhw4B+bOYoLKCC9H3Nu/leUTZ1JdRWkkn2ldcCamzrcf47KKXdAJllSlxAOkRgyHsGC/zRday5Qld9DyoM4/q/rUoy/CXh3jzOu3bHUVZeU+DEn8FInkPBFlu3+nW3Nw0mk6vCDiWg8CeJaxEwuHS3+z5RgY+YBR6V1Z1nxSOfoaPa4LASWxxdNp+VWTk7+4vzaou8v8PN+xo+KY2xsw6une2frhw05CTYOmQvsEhjhWjn0bmXPjpE1+kplmmkP3suftwTubK9Vq22qKmrBhpY4jvd5afdRA3wGjFAgcnTK2s4hY0/GPNIb0nErGMCRxWOOX64Z8RAC4oCXdklmEvcL8o0BfkNK4lUg9HTl+oPlQxdNo3Mg4Nv175e/1LDGzZen30MEjRUtmXSfiTVu1kK8W4txyV6BMKlbgk3lMwYCiusNy9fVfvvwMxv8Ynl6vxoByANLTWplvuj/nF9m2+PDtt1eiHPBr1oIfhCChQMBw6Aw0UulqTKZdfVvfG7VcfIqLG9bcldL/+pdWTLxLUy8Qq38heUIjh4XlzZxzQm19lLFlr8vdQ97rjZVOLf8nclzckbcD4wxXMidpX30sFd37Fv/GtwwhzhxGVAprjbg0gCAEeIgwCZyTV2Z1REEW8O4py0wsjeloKoMr6iCY6dP92H6Vw/oTyICIthibxjm/DfN9lVz8IqtqKYLUXfoKVMVQVVJOElGjrnnUt9T9wbgp8AyYKaGlqingHZU/uG2NTZSVqwHQTWkx9hxjkpWDaCg6Ckj5qebgBVbT3V3NNXMSiWSDdGV3hrtzla7J+duwPOToIg42ChPQOQjspnSlp1V+Gjdged7+8UN5CRAV7a5EdFNwCjEaBR27b3W890TE7g24NAP/mMDXRWrGoFPQI9ls/MWO2dWFAar/xcOIImbbpA3zgAAAABJRU5ErkJggg==);\n",
              "        }\n",
              "    </style>\n",
              "    <div>\n",
              "        <a href=\"https://bokeh.org\" target=\"_blank\" class=\"bk-notebook-logo\"></a>\n",
              "        <span id=\"p3660\">Loading BokehJS ...</span>\n",
              "    </div>\n"
            ]
          },
          "metadata": {},
          "output_type": "display_data"
        },
        {
          "data": {
            "application/javascript": [
              "(function(root) {\n",
              "  function now() {\n",
              "    return new Date();\n",
              "  }\n",
              "\n",
              "  const force = true;\n",
              "\n",
              "  if (typeof root._bokeh_onload_callbacks === \"undefined\" || force === true) {\n",
              "    root._bokeh_onload_callbacks = [];\n",
              "    root._bokeh_is_loading = undefined;\n",
              "  }\n",
              "\n",
              "const JS_MIME_TYPE = 'application/javascript';\n",
              "  const HTML_MIME_TYPE = 'text/html';\n",
              "  const EXEC_MIME_TYPE = 'application/vnd.bokehjs_exec.v0+json';\n",
              "  const CLASS_NAME = 'output_bokeh rendered_html';\n",
              "\n",
              "  /**\n",
              "   * Render data to the DOM node\n",
              "   */\n",
              "  function render(props, node) {\n",
              "    const script = document.createElement(\"script\");\n",
              "    node.appendChild(script);\n",
              "  }\n",
              "\n",
              "  /**\n",
              "   * Handle when an output is cleared or removed\n",
              "   */\n",
              "  function handleClearOutput(event, handle) {\n",
              "    const cell = handle.cell;\n",
              "\n",
              "    const id = cell.output_area._bokeh_element_id;\n",
              "    const server_id = cell.output_area._bokeh_server_id;\n",
              "    // Clean up Bokeh references\n",
              "    if (id != null && id in Bokeh.index) {\n",
              "      Bokeh.index[id].model.document.clear();\n",
              "      delete Bokeh.index[id];\n",
              "    }\n",
              "\n",
              "    if (server_id !== undefined) {\n",
              "      // Clean up Bokeh references\n",
              "      const cmd_clean = \"from bokeh.io.state import curstate; print(curstate().uuid_to_server['\" + server_id + \"'].get_sessions()[0].document.roots[0]._id)\";\n",
              "      cell.notebook.kernel.execute(cmd_clean, {\n",
              "        iopub: {\n",
              "          output: function(msg) {\n",
              "            const id = msg.content.text.trim();\n",
              "            if (id in Bokeh.index) {\n",
              "              Bokeh.index[id].model.document.clear();\n",
              "              delete Bokeh.index[id];\n",
              "            }\n",
              "          }\n",
              "        }\n",
              "      });\n",
              "      // Destroy server and session\n",
              "      const cmd_destroy = \"import bokeh.io.notebook as ion; ion.destroy_server('\" + server_id + \"')\";\n",
              "      cell.notebook.kernel.execute(cmd_destroy);\n",
              "    }\n",
              "  }\n",
              "\n",
              "  /**\n",
              "   * Handle when a new output is added\n",
              "   */\n",
              "  function handleAddOutput(event, handle) {\n",
              "    const output_area = handle.output_area;\n",
              "    const output = handle.output;\n",
              "\n",
              "    // limit handleAddOutput to display_data with EXEC_MIME_TYPE content only\n",
              "    if ((output.output_type != \"display_data\") || (!Object.prototype.hasOwnProperty.call(output.data, EXEC_MIME_TYPE))) {\n",
              "      return\n",
              "    }\n",
              "\n",
              "    const toinsert = output_area.element.find(\".\" + CLASS_NAME.split(' ')[0]);\n",
              "\n",
              "    if (output.metadata[EXEC_MIME_TYPE][\"id\"] !== undefined) {\n",
              "      toinsert[toinsert.length - 1].firstChild.textContent = output.data[JS_MIME_TYPE];\n",
              "      // store reference to embed id on output_area\n",
              "      output_area._bokeh_element_id = output.metadata[EXEC_MIME_TYPE][\"id\"];\n",
              "    }\n",
              "    if (output.metadata[EXEC_MIME_TYPE][\"server_id\"] !== undefined) {\n",
              "      const bk_div = document.createElement(\"div\");\n",
              "      bk_div.innerHTML = output.data[HTML_MIME_TYPE];\n",
              "      const script_attrs = bk_div.children[0].attributes;\n",
              "      for (let i = 0; i < script_attrs.length; i++) {\n",
              "        toinsert[toinsert.length - 1].firstChild.setAttribute(script_attrs[i].name, script_attrs[i].value);\n",
              "        toinsert[toinsert.length - 1].firstChild.textContent = bk_div.children[0].textContent\n",
              "      }\n",
              "      // store reference to server id on output_area\n",
              "      output_area._bokeh_server_id = output.metadata[EXEC_MIME_TYPE][\"server_id\"];\n",
              "    }\n",
              "  }\n",
              "\n",
              "  function register_renderer(events, OutputArea) {\n",
              "\n",
              "    function append_mime(data, metadata, element) {\n",
              "      // create a DOM node to render to\n",
              "      const toinsert = this.create_output_subarea(\n",
              "        metadata,\n",
              "        CLASS_NAME,\n",
              "        EXEC_MIME_TYPE\n",
              "      );\n",
              "      this.keyboard_manager.register_events(toinsert);\n",
              "      // Render to node\n",
              "      const props = {data: data, metadata: metadata[EXEC_MIME_TYPE]};\n",
              "      render(props, toinsert[toinsert.length - 1]);\n",
              "      element.append(toinsert);\n",
              "      return toinsert\n",
              "    }\n",
              "\n",
              "    /* Handle when an output is cleared or removed */\n",
              "    events.on('clear_output.CodeCell', handleClearOutput);\n",
              "    events.on('delete.Cell', handleClearOutput);\n",
              "\n",
              "    /* Handle when a new output is added */\n",
              "    events.on('output_added.OutputArea', handleAddOutput);\n",
              "\n",
              "    /**\n",
              "     * Register the mime type and append_mime function with output_area\n",
              "     */\n",
              "    OutputArea.prototype.register_mime_type(EXEC_MIME_TYPE, append_mime, {\n",
              "      /* Is output safe? */\n",
              "      safe: true,\n",
              "      /* Index of renderer in `output_area.display_order` */\n",
              "      index: 0\n",
              "    });\n",
              "  }\n",
              "\n",
              "  // register the mime type if in Jupyter Notebook environment and previously unregistered\n",
              "  if (root.Jupyter !== undefined) {\n",
              "    const events = require('base/js/events');\n",
              "    const OutputArea = require('notebook/js/outputarea').OutputArea;\n",
              "\n",
              "    if (OutputArea.prototype.mime_types().indexOf(EXEC_MIME_TYPE) == -1) {\n",
              "      register_renderer(events, OutputArea);\n",
              "    }\n",
              "  }\n",
              "  if (typeof (root._bokeh_timeout) === \"undefined\" || force === true) {\n",
              "    root._bokeh_timeout = Date.now() + 5000;\n",
              "    root._bokeh_failed_load = false;\n",
              "  }\n",
              "\n",
              "  const NB_LOAD_WARNING = {'data': {'text/html':\n",
              "     \"<div style='background-color: #fdd'>\\n\"+\n",
              "     \"<p>\\n\"+\n",
              "     \"BokehJS does not appear to have successfully loaded. If loading BokehJS from CDN, this \\n\"+\n",
              "     \"may be due to a slow or bad network connection. Possible fixes:\\n\"+\n",
              "     \"</p>\\n\"+\n",
              "     \"<ul>\\n\"+\n",
              "     \"<li>re-rerun `output_notebook()` to attempt to load from CDN again, or</li>\\n\"+\n",
              "     \"<li>use INLINE resources instead, as so:</li>\\n\"+\n",
              "     \"</ul>\\n\"+\n",
              "     \"<code>\\n\"+\n",
              "     \"from bokeh.resources import INLINE\\n\"+\n",
              "     \"output_notebook(resources=INLINE)\\n\"+\n",
              "     \"</code>\\n\"+\n",
              "     \"</div>\"}};\n",
              "\n",
              "  function display_loaded() {\n",
              "    const el = document.getElementById(\"p3660\");\n",
              "    if (el != null) {\n",
              "      el.textContent = \"BokehJS is loading...\";\n",
              "    }\n",
              "    if (root.Bokeh !== undefined) {\n",
              "      if (el != null) {\n",
              "        el.textContent = \"BokehJS \" + root.Bokeh.version + \" successfully loaded.\";\n",
              "      }\n",
              "    } else if (Date.now() < root._bokeh_timeout) {\n",
              "      setTimeout(display_loaded, 100)\n",
              "    }\n",
              "  }\n",
              "\n",
              "  function run_callbacks() {\n",
              "    try {\n",
              "      root._bokeh_onload_callbacks.forEach(function(callback) {\n",
              "        if (callback != null)\n",
              "          callback();\n",
              "      });\n",
              "    } finally {\n",
              "      delete root._bokeh_onload_callbacks\n",
              "    }\n",
              "    console.debug(\"Bokeh: all callbacks have finished\");\n",
              "  }\n",
              "\n",
              "  function load_libs(css_urls, js_urls, callback) {\n",
              "    if (css_urls == null) css_urls = [];\n",
              "    if (js_urls == null) js_urls = [];\n",
              "\n",
              "    root._bokeh_onload_callbacks.push(callback);\n",
              "    if (root._bokeh_is_loading > 0) {\n",
              "      console.debug(\"Bokeh: BokehJS is being loaded, scheduling callback at\", now());\n",
              "      return null;\n",
              "    }\n",
              "    if (js_urls == null || js_urls.length === 0) {\n",
              "      run_callbacks();\n",
              "      return null;\n",
              "    }\n",
              "    console.debug(\"Bokeh: BokehJS not loaded, scheduling load and callback at\", now());\n",
              "    root._bokeh_is_loading = css_urls.length + js_urls.length;\n",
              "\n",
              "    function on_load() {\n",
              "      root._bokeh_is_loading--;\n",
              "      if (root._bokeh_is_loading === 0) {\n",
              "        console.debug(\"Bokeh: all BokehJS libraries/stylesheets loaded\");\n",
              "        run_callbacks()\n",
              "      }\n",
              "    }\n",
              "\n",
              "    function on_error(url) {\n",
              "      console.error(\"failed to load \" + url);\n",
              "    }\n",
              "\n",
              "    for (let i = 0; i < css_urls.length; i++) {\n",
              "      const url = css_urls[i];\n",
              "      const element = document.createElement(\"link\");\n",
              "      element.onload = on_load;\n",
              "      element.onerror = on_error.bind(null, url);\n",
              "      element.rel = \"stylesheet\";\n",
              "      element.type = \"text/css\";\n",
              "      element.href = url;\n",
              "      console.debug(\"Bokeh: injecting link tag for BokehJS stylesheet: \", url);\n",
              "      document.body.appendChild(element);\n",
              "    }\n",
              "\n",
              "    for (let i = 0; i < js_urls.length; i++) {\n",
              "      const url = js_urls[i];\n",
              "      const element = document.createElement('script');\n",
              "      element.onload = on_load;\n",
              "      element.onerror = on_error.bind(null, url);\n",
              "      element.async = false;\n",
              "      element.src = url;\n",
              "      console.debug(\"Bokeh: injecting script tag for BokehJS library: \", url);\n",
              "      document.head.appendChild(element);\n",
              "    }\n",
              "  };\n",
              "\n",
              "  function inject_raw_css(css) {\n",
              "    const element = document.createElement(\"style\");\n",
              "    element.appendChild(document.createTextNode(css));\n",
              "    document.body.appendChild(element);\n",
              "  }\n",
              "\n",
              "  const js_urls = [\"https://cdn.bokeh.org/bokeh/release/bokeh-3.0.1.min.js\", \"https://cdn.bokeh.org/bokeh/release/bokeh-gl-3.0.1.min.js\", \"https://cdn.bokeh.org/bokeh/release/bokeh-widgets-3.0.1.min.js\", \"https://cdn.bokeh.org/bokeh/release/bokeh-tables-3.0.1.min.js\", \"https://cdn.bokeh.org/bokeh/release/bokeh-mathjax-3.0.1.min.js\"];\n",
              "  const css_urls = [];\n",
              "\n",
              "  const inline_js = [    function(Bokeh) {\n",
              "      Bokeh.set_log_level(\"info\");\n",
              "    },\n",
              "function(Bokeh) {\n",
              "    }\n",
              "  ];\n",
              "\n",
              "  function run_inline_js() {\n",
              "    if (root.Bokeh !== undefined || force === true) {\n",
              "          for (let i = 0; i < inline_js.length; i++) {\n",
              "      inline_js[i].call(root, root.Bokeh);\n",
              "    }\n",
              "if (force === true) {\n",
              "        display_loaded();\n",
              "      }} else if (Date.now() < root._bokeh_timeout) {\n",
              "      setTimeout(run_inline_js, 100);\n",
              "    } else if (!root._bokeh_failed_load) {\n",
              "      console.log(\"Bokeh: BokehJS failed to load within specified timeout.\");\n",
              "      root._bokeh_failed_load = true;\n",
              "    } else if (force !== true) {\n",
              "      const cell = $(document.getElementById(\"p3660\")).parents('.cell').data().cell;\n",
              "      cell.output_area.append_execute_result(NB_LOAD_WARNING)\n",
              "    }\n",
              "  }\n",
              "\n",
              "  if (root._bokeh_is_loading === 0) {\n",
              "    console.debug(\"Bokeh: BokehJS loaded, going straight to plotting\");\n",
              "    run_inline_js();\n",
              "  } else {\n",
              "    load_libs(css_urls, js_urls, function() {\n",
              "      console.debug(\"Bokeh: BokehJS plotting callback run at\", now());\n",
              "      run_inline_js();\n",
              "    });\n",
              "  }\n",
              "}(window));"
            ],
            "application/vnd.bokehjs_load.v0+json": "(function(root) {\n  function now() {\n    return new Date();\n  }\n\n  const force = true;\n\n  if (typeof root._bokeh_onload_callbacks === \"undefined\" || force === true) {\n    root._bokeh_onload_callbacks = [];\n    root._bokeh_is_loading = undefined;\n  }\n\n\n  if (typeof (root._bokeh_timeout) === \"undefined\" || force === true) {\n    root._bokeh_timeout = Date.now() + 5000;\n    root._bokeh_failed_load = false;\n  }\n\n  const NB_LOAD_WARNING = {'data': {'text/html':\n     \"<div style='background-color: #fdd'>\\n\"+\n     \"<p>\\n\"+\n     \"BokehJS does not appear to have successfully loaded. If loading BokehJS from CDN, this \\n\"+\n     \"may be due to a slow or bad network connection. Possible fixes:\\n\"+\n     \"</p>\\n\"+\n     \"<ul>\\n\"+\n     \"<li>re-rerun `output_notebook()` to attempt to load from CDN again, or</li>\\n\"+\n     \"<li>use INLINE resources instead, as so:</li>\\n\"+\n     \"</ul>\\n\"+\n     \"<code>\\n\"+\n     \"from bokeh.resources import INLINE\\n\"+\n     \"output_notebook(resources=INLINE)\\n\"+\n     \"</code>\\n\"+\n     \"</div>\"}};\n\n  function display_loaded() {\n    const el = document.getElementById(\"p3660\");\n    if (el != null) {\n      el.textContent = \"BokehJS is loading...\";\n    }\n    if (root.Bokeh !== undefined) {\n      if (el != null) {\n        el.textContent = \"BokehJS \" + root.Bokeh.version + \" successfully loaded.\";\n      }\n    } else if (Date.now() < root._bokeh_timeout) {\n      setTimeout(display_loaded, 100)\n    }\n  }\n\n  function run_callbacks() {\n    try {\n      root._bokeh_onload_callbacks.forEach(function(callback) {\n        if (callback != null)\n          callback();\n      });\n    } finally {\n      delete root._bokeh_onload_callbacks\n    }\n    console.debug(\"Bokeh: all callbacks have finished\");\n  }\n\n  function load_libs(css_urls, js_urls, callback) {\n    if (css_urls == null) css_urls = [];\n    if (js_urls == null) js_urls = [];\n\n    root._bokeh_onload_callbacks.push(callback);\n    if (root._bokeh_is_loading > 0) {\n      console.debug(\"Bokeh: BokehJS is being loaded, scheduling callback at\", now());\n      return null;\n    }\n    if (js_urls == null || js_urls.length === 0) {\n      run_callbacks();\n      return null;\n    }\n    console.debug(\"Bokeh: BokehJS not loaded, scheduling load and callback at\", now());\n    root._bokeh_is_loading = css_urls.length + js_urls.length;\n\n    function on_load() {\n      root._bokeh_is_loading--;\n      if (root._bokeh_is_loading === 0) {\n        console.debug(\"Bokeh: all BokehJS libraries/stylesheets loaded\");\n        run_callbacks()\n      }\n    }\n\n    function on_error(url) {\n      console.error(\"failed to load \" + url);\n    }\n\n    for (let i = 0; i < css_urls.length; i++) {\n      const url = css_urls[i];\n      const element = document.createElement(\"link\");\n      element.onload = on_load;\n      element.onerror = on_error.bind(null, url);\n      element.rel = \"stylesheet\";\n      element.type = \"text/css\";\n      element.href = url;\n      console.debug(\"Bokeh: injecting link tag for BokehJS stylesheet: \", url);\n      document.body.appendChild(element);\n    }\n\n    for (let i = 0; i < js_urls.length; i++) {\n      const url = js_urls[i];\n      const element = document.createElement('script');\n      element.onload = on_load;\n      element.onerror = on_error.bind(null, url);\n      element.async = false;\n      element.src = url;\n      console.debug(\"Bokeh: injecting script tag for BokehJS library: \", url);\n      document.head.appendChild(element);\n    }\n  };\n\n  function inject_raw_css(css) {\n    const element = document.createElement(\"style\");\n    element.appendChild(document.createTextNode(css));\n    document.body.appendChild(element);\n  }\n\n  const js_urls = [\"https://cdn.bokeh.org/bokeh/release/bokeh-3.0.1.min.js\", \"https://cdn.bokeh.org/bokeh/release/bokeh-gl-3.0.1.min.js\", \"https://cdn.bokeh.org/bokeh/release/bokeh-widgets-3.0.1.min.js\", \"https://cdn.bokeh.org/bokeh/release/bokeh-tables-3.0.1.min.js\", \"https://cdn.bokeh.org/bokeh/release/bokeh-mathjax-3.0.1.min.js\"];\n  const css_urls = [];\n\n  const inline_js = [    function(Bokeh) {\n      Bokeh.set_log_level(\"info\");\n    },\nfunction(Bokeh) {\n    }\n  ];\n\n  function run_inline_js() {\n    if (root.Bokeh !== undefined || force === true) {\n          for (let i = 0; i < inline_js.length; i++) {\n      inline_js[i].call(root, root.Bokeh);\n    }\nif (force === true) {\n        display_loaded();\n      }} else if (Date.now() < root._bokeh_timeout) {\n      setTimeout(run_inline_js, 100);\n    } else if (!root._bokeh_failed_load) {\n      console.log(\"Bokeh: BokehJS failed to load within specified timeout.\");\n      root._bokeh_failed_load = true;\n    } else if (force !== true) {\n      const cell = $(document.getElementById(\"p3660\")).parents('.cell').data().cell;\n      cell.output_area.append_execute_result(NB_LOAD_WARNING)\n    }\n  }\n\n  if (root._bokeh_is_loading === 0) {\n    console.debug(\"Bokeh: BokehJS loaded, going straight to plotting\");\n    run_inline_js();\n  } else {\n    load_libs(css_urls, js_urls, function() {\n      console.debug(\"Bokeh: BokehJS plotting callback run at\", now());\n      run_inline_js();\n    });\n  }\n}(window));"
          },
          "metadata": {},
          "output_type": "display_data"
        },
        {
          "data": {
            "text/html": [
              "\n",
              "  <div id=\"21b02f00-b36d-43e1-b463-aaaa0b4fa952\" data-root-id=\"p3663\" style=\"display: contents;\"></div>\n"
            ]
          },
          "metadata": {},
          "output_type": "display_data"
        },
        {
          "data": {
            "application/javascript": [
              "(function(root) {\n",
              "  function embed_document(root) {\n",
              "  const docs_json = {\"ed4c603a-1000-4a9b-b1f1-690650b0ccbc\":{\"version\":\"3.0.1\",\"title\":\"Bokeh Application\",\"defs\":[],\"roots\":[{\"type\":\"object\",\"name\":\"Figure\",\"id\":\"p3663\",\"attributes\":{\"width\":900,\"x_range\":{\"type\":\"object\",\"name\":\"DataRange1d\",\"id\":\"p3664\"},\"y_range\":{\"type\":\"object\",\"name\":\"DataRange1d\",\"id\":\"p3665\"},\"x_scale\":{\"type\":\"object\",\"name\":\"LinearScale\",\"id\":\"p3677\"},\"y_scale\":{\"type\":\"object\",\"name\":\"LinearScale\",\"id\":\"p3679\"},\"title\":{\"type\":\"object\",\"name\":\"Title\",\"id\":\"p3666\"},\"renderers\":[{\"type\":\"object\",\"name\":\"GlyphRenderer\",\"id\":\"p3756\",\"attributes\":{\"data_source\":{\"type\":\"object\",\"name\":\"ColumnDataSource\",\"id\":\"p3750\",\"attributes\":{\"selected\":{\"type\":\"object\",\"name\":\"Selection\",\"id\":\"p3751\",\"attributes\":{\"indices\":[],\"line_indices\":[]}},\"selection_policy\":{\"type\":\"object\",\"name\":\"UnionRenderers\",\"id\":\"p3752\"},\"data\":{\"type\":\"map\",\"entries\":[[\"x\",{\"type\":\"ndarray\",\"array\":{\"type\":\"bytes\",\"data\":\"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\"},\"shape\":[1543],\"dtype\":\"float64\",\"order\":\"little\"}],[\"y\",{\"type\":\"ndarray\",\"array\":{\"type\":\"bytes\",\"data\":\"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\"},\"shape\":[1543],\"dtype\":\"float64\",\"order\":\"little\"}]]}}},\"view\":{\"type\":\"object\",\"name\":\"CDSView\",\"id\":\"p3757\",\"attributes\":{\"filter\":{\"type\":\"object\",\"name\":\"AllIndices\",\"id\":\"p3758\"}}},\"glyph\":{\"type\":\"object\",\"name\":\"Line\",\"id\":\"p3753\",\"attributes\":{\"x\":{\"type\":\"field\",\"field\":\"x\"},\"y\":{\"type\":\"field\",\"field\":\"y\"},\"line_color\":\"#1f77b4\",\"line_width\":2}},\"nonselection_glyph\":{\"type\":\"object\",\"name\":\"Line\",\"id\":\"p3754\",\"attributes\":{\"x\":{\"type\":\"field\",\"field\":\"x\"},\"y\":{\"type\":\"field\",\"field\":\"y\"},\"line_color\":\"#1f77b4\",\"line_alpha\":0.1,\"line_width\":2}},\"muted_glyph\":{\"type\":\"object\",\"name\":\"Line\",\"id\":\"p3755\",\"attributes\":{\"x\":{\"type\":\"field\",\"field\":\"x\"},\"y\":{\"type\":\"field\",\"field\":\"y\"},\"line_color\":\"#1f77b4\",\"line_alpha\":0.2,\"line_width\":2}}}}],\"toolbar\":{\"type\":\"object\",\"name\":\"Toolbar\",\"id\":\"p3671\",\"attributes\":{\"tools\":[{\"type\":\"object\",\"name\":\"PanTool\",\"id\":\"p3731\"},{\"type\":\"object\",\"name\":\"WheelZoomTool\",\"id\":\"p3732\"},{\"type\":\"object\",\"name\":\"BoxZoomTool\",\"id\":\"p3733\",\"attributes\":{\"overlay\":{\"type\":\"object\",\"name\":\"BoxAnnotation\",\"id\":\"p3734\",\"attributes\":{\"syncable\":false,\"level\":\"overlay\",\"visible\":false,\"left_units\":\"canvas\",\"right_units\":\"canvas\",\"bottom_units\":\"canvas\",\"top_units\":\"canvas\",\"line_color\":\"black\",\"line_alpha\":1.0,\"line_width\":2,\"line_dash\":[4,4],\"fill_color\":\"lightgrey\",\"fill_alpha\":0.5}}}},{\"type\":\"object\",\"name\":\"ResetTool\",\"id\":\"p3735\"},{\"type\":\"object\",\"name\":\"SaveTool\",\"id\":\"p3736\"},{\"type\":\"object\",\"name\":\"BoxSelectTool\",\"id\":\"p3737\",\"attributes\":{\"renderers\":\"auto\",\"overlay\":{\"type\":\"object\",\"name\":\"BoxAnnotation\",\"id\":\"p3738\",\"attributes\":{\"syncable\":false,\"level\":\"overlay\",\"visible\":false,\"left_units\":\"canvas\",\"right_units\":\"canvas\",\"bottom_units\":\"canvas\",\"top_units\":\"canvas\",\"line_color\":\"black\",\"line_alpha\":1.0,\"line_width\":2,\"line_dash\":[4,4],\"fill_color\":\"lightgrey\",\"fill_alpha\":0.5}}}},{\"type\":\"object\",\"name\":\"HoverTool\",\"id\":\"p3662\",\"attributes\":{\"renderers\":\"auto\",\"tooltips\":[[\"date\",\"@x{%d-%m-%YT%H:%M:%S}\"],[\"value\",\"@y\"]],\"formatters\":{\"type\":\"map\",\"entries\":[[\"@x\",\"datetime\"]]},\"mode\":\"vline\"}}],\"active_scroll\":{\"id\":\"p3732\"}}},\"left\":[{\"type\":\"object\",\"name\":\"LinearAxis\",\"id\":\"p3724\",\"attributes\":{\"ticker\":{\"type\":\"object\",\"name\":\"BasicTicker\",\"id\":\"p3727\",\"attributes\":{\"mantissas\":[1,2,5]}},\"formatter\":{\"type\":\"object\",\"name\":\"BasicTickFormatter\",\"id\":\"p3725\"},\"axis_label\":\"value\",\"major_label_policy\":{\"type\":\"object\",\"name\":\"AllLabels\",\"id\":\"p3726\"}}}],\"below\":[{\"type\":\"object\",\"name\":\"DatetimeAxis\",\"id\":\"p3681\",\"attributes\":{\"ticker\":{\"type\":\"object\",\"name\":\"DatetimeTicker\",\"id\":\"p3684\",\"attributes\":{\"num_minor_ticks\":5,\"tickers\":[{\"type\":\"object\",\"name\":\"AdaptiveTicker\",\"id\":\"p3685\",\"attributes\":{\"num_minor_ticks\":0,\"mantissas\":[1,2,5],\"max_interval\":500.0}},{\"type\":\"object\",\"name\":\"AdaptiveTicker\",\"id\":\"p3686\",\"attributes\":{\"num_minor_ticks\":0,\"base\":60,\"mantissas\":[1,2,5,10,15,20,30],\"min_interval\":1000.0,\"max_interval\":1800000.0}},{\"type\":\"object\",\"name\":\"AdaptiveTicker\",\"id\":\"p3687\",\"attributes\":{\"num_minor_ticks\":0,\"base\":24,\"mantissas\":[1,2,4,6,8,12],\"min_interval\":3600000.0,\"max_interval\":43200000.0}},{\"type\":\"object\",\"name\":\"DaysTicker\",\"id\":\"p3688\",\"attributes\":{\"days\":[1,2,3,4,5,6,7,8,9,10,11,12,13,14,15,16,17,18,19,20,21,22,23,24,25,26,27,28,29,30,31]}},{\"type\":\"object\",\"name\":\"DaysTicker\",\"id\":\"p3689\",\"attributes\":{\"days\":[1,4,7,10,13,16,19,22,25,28]}},{\"type\":\"object\",\"name\":\"DaysTicker\",\"id\":\"p3690\",\"attributes\":{\"days\":[1,8,15,22]}},{\"type\":\"object\",\"name\":\"DaysTicker\",\"id\":\"p3691\",\"attributes\":{\"days\":[1,15]}},{\"type\":\"object\",\"name\":\"MonthsTicker\",\"id\":\"p3692\",\"attributes\":{\"months\":[0,1,2,3,4,5,6,7,8,9,10,11]}},{\"type\":\"object\",\"name\":\"MonthsTicker\",\"id\":\"p3693\",\"attributes\":{\"months\":[0,2,4,6,8,10]}},{\"type\":\"object\",\"name\":\"MonthsTicker\",\"id\":\"p3694\",\"attributes\":{\"months\":[0,4,8]}},{\"type\":\"object\",\"name\":\"MonthsTicker\",\"id\":\"p3695\",\"attributes\":{\"months\":[0,6]}},{\"type\":\"object\",\"name\":\"YearsTicker\",\"id\":\"p3696\"}]}},\"formatter\":{\"type\":\"object\",\"name\":\"DatetimeTickFormatter\",\"id\":\"p3661\",\"attributes\":{\"hours\":\"%d %B %Y\",\"days\":\"%d %B %Y\",\"months\":\"%d %B %Y\",\"years\":\"%d %B %Y\"}},\"axis_label\":\"time\",\"major_label_policy\":{\"type\":\"object\",\"name\":\"AllLabels\",\"id\":\"p3683\"}}}],\"center\":[{\"type\":\"object\",\"name\":\"Grid\",\"id\":\"p3723\",\"attributes\":{\"axis\":{\"id\":\"p3681\"}}},{\"type\":\"object\",\"name\":\"Grid\",\"id\":\"p3730\",\"attributes\":{\"dimension\":1,\"axis\":{\"id\":\"p3724\"}}}]}}]}};\n",
              "  const render_items = [{\"docid\":\"ed4c603a-1000-4a9b-b1f1-690650b0ccbc\",\"roots\":{\"p3663\":\"21b02f00-b36d-43e1-b463-aaaa0b4fa952\"},\"root_ids\":[\"p3663\"]}];\n",
              "  root.Bokeh.embed.embed_items_notebook(docs_json, render_items);\n",
              "  }\n",
              "  if (root.Bokeh !== undefined) {\n",
              "    embed_document(root);\n",
              "  } else {\n",
              "    let attempts = 0;\n",
              "    const timer = setInterval(function(root) {\n",
              "      if (root.Bokeh !== undefined) {\n",
              "        clearInterval(timer);\n",
              "        embed_document(root);\n",
              "      } else {\n",
              "        attempts++;\n",
              "        if (attempts > 100) {\n",
              "          clearInterval(timer);\n",
              "          console.log(\"Bokeh: ERROR: Unable to run BokehJS code because BokehJS library is missing\");\n",
              "        }\n",
              "      }\n",
              "    }, 10, root)\n",
              "  }\n",
              "})(window);"
            ],
            "application/vnd.bokehjs_exec.v0+json": ""
          },
          "metadata": {
            "application/vnd.bokehjs_exec.v0+json": {
              "id": "p3663"
            }
          },
          "output_type": "display_data"
        }
      ],
      "source": [
        "plot_ts(ts['Balance'])"
      ]
    },
    {
      "cell_type": "markdown",
      "id": "1166db13-fa0a-41cd-a9c8-4e552eb10f55",
      "metadata": {
        "id": "1166db13-fa0a-41cd-a9c8-4e552eb10f55"
      },
      "source": [
        "# Попробуем авторегрессионные модели"
      ]
    },
    {
      "cell_type": "code",
      "execution_count": null,
      "id": "83a64e29-fe19-4e31-b5fe-82655d4dbede",
      "metadata": {
        "id": "83a64e29-fe19-4e31-b5fe-82655d4dbede"
      },
      "outputs": [],
      "source": [
        "from statsmodels.tsa.stattools import adfuller, kpss"
      ]
    },
    {
      "cell_type": "markdown",
      "id": "8b3e0928-477c-4ebb-b75a-70f8cfd31136",
      "metadata": {
        "id": "8b3e0928-477c-4ebb-b75a-70f8cfd31136"
      },
      "source": [
        "исследуем ряд на стаионарность"
      ]
    },
    {
      "cell_type": "code",
      "execution_count": null,
      "id": "0ca8998f-97cc-4d17-904d-a49f60f21313",
      "metadata": {
        "id": "0ca8998f-97cc-4d17-904d-a49f60f21313",
        "outputId": "2ec03eca-58bc-4abe-c791-451746d55b81"
      },
      "outputs": [
        {
          "name": "stdout",
          "output_type": "stream",
          "text": [
            "Results of Dickey-Fuller Test:\n",
            "0.0009178315649531535\n",
            "Test Statistic                   -4.114101\n",
            "p-value                           0.000918\n",
            "#Lags Used                       20.000000\n",
            "Number of Observations Used    1522.000000\n",
            "Critical Value (1%)              -3.434654\n",
            "Critical Value (5%)              -2.863441\n",
            "Critical Value (10%)             -2.567782\n",
            "dtype: float64\n"
          ]
        }
      ],
      "source": [
        "def adf_test(timeseries):\n",
        "    # Выполняем тест Дики-Фуллера:\n",
        "    print ('Results of Dickey-Fuller Test:')\n",
        "    dftest = adfuller(timeseries, autolag='AIC')\n",
        "    print(dftest[1])\n",
        "    dfoutput = pd.Series(dftest[0:4], index=['Test Statistic','p-value','#Lags Used','Number of Observations Used'])\n",
        "    for key,value in dftest[4].items():\n",
        "        dfoutput['Critical Value (%s)'%key] = value\n",
        "    print (dfoutput)\n",
        "\n",
        "# применяем к ряду тест adf\n",
        "adf_test(df['Balance'].dropna())"
      ]
    },
    {
      "cell_type": "markdown",
      "id": "4ca975c4-923f-4768-a2e7-a58b3dd78fb9",
      "metadata": {
        "id": "4ca975c4-923f-4768-a2e7-a58b3dd78fb9"
      },
      "source": [
        "видим, что p-value ниже порога, значит мы можем отвергнуть нулевую гипотезу, следовательно - по критерию Дики_фуллера нестационарность не выявлена"
      ]
    },
    {
      "cell_type": "code",
      "execution_count": null,
      "id": "bb8a2ab5-74ff-43b6-adc6-e9bcf857ec4b",
      "metadata": {
        "id": "bb8a2ab5-74ff-43b6-adc6-e9bcf857ec4b",
        "outputId": "12603dca-037c-4aff-ac35-7a814762f971"
      },
      "outputs": [
        {
          "name": "stdout",
          "output_type": "stream",
          "text": [
            "Results of KPSS Test:\n",
            "Test Statistic            3.132618\n",
            "p-value                   0.010000\n",
            "Lags Used                14.000000\n",
            "Critical Value (10%)      0.347000\n",
            "Critical Value (5%)       0.463000\n",
            "Critical Value (2.5%)     0.574000\n",
            "Critical Value (1%)       0.739000\n",
            "dtype: float64\n"
          ]
        },
        {
          "name": "stderr",
          "output_type": "stream",
          "text": [
            "C:\\Users\\ICereal\\AppData\\Local\\Temp\\ipykernel_18020\\698062597.py:3: InterpolationWarning: The test statistic is outside of the range of p-values available in the\n",
            "look-up table. The actual p-value is smaller than the p-value returned.\n",
            "\n",
            "  kpsstest = kpss(timeseries, regression=\"c\", nlags=\"auto\")\n"
          ]
        }
      ],
      "source": [
        "def kpss_test(timeseries):\n",
        "    print(\"Results of KPSS Test:\")\n",
        "    kpsstest = kpss(timeseries, regression=\"c\", nlags=\"auto\")\n",
        "    kpss_output = pd.Series(\n",
        "        kpsstest[0:3], index=[\"Test Statistic\", \"p-value\", \"Lags Used\"]\n",
        "    )\n",
        "    for key, value in kpsstest[3].items():\n",
        "        kpss_output[\"Critical Value (%s)\" % key] = value\n",
        "    print(kpss_output)\n",
        "\n",
        "kpss_test(df['Balance'].dropna())"
      ]
    },
    {
      "cell_type": "markdown",
      "id": "ae862327-3ec3-4bfa-8e85-27bb21037cc6",
      "metadata": {
        "id": "ae862327-3ec3-4bfa-8e85-27bb21037cc6"
      },
      "source": [
        "По тесту KPSS ряд не стационарный"
      ]
    },
    {
      "cell_type": "markdown",
      "id": "a53d502d-a236-4d3e-b3e6-480dad969176",
      "metadata": {
        "id": "a53d502d-a236-4d3e-b3e6-480dad969176"
      },
      "source": [
        "смотрим автокорреляции"
      ]
    },
    {
      "cell_type": "code",
      "execution_count": null,
      "id": "07f4e19b-fc04-496c-acbb-b872804b2a16",
      "metadata": {
        "id": "07f4e19b-fc04-496c-acbb-b872804b2a16",
        "outputId": "0d66fe80-dc68-4d5b-85da-75875b6d891e"
      },
      "outputs": [
        {
          "data": {
            "image/png": "[encoded data removed]",
            "text/plain": [
              "<Figure size 640x480 with 1 Axes>"
            ]
          },
          "metadata": {},
          "output_type": "display_data"
        },
        {
          "data": {
            "image/png": "[encoded data removed]",
            "text/plain": [
              "<Figure size 640x480 with 1 Axes>"
            ]
          },
          "metadata": {},
          "output_type": "display_data"
        }
      ],
      "source": [
        "from statsmodels.graphics.tsaplots import plot_acf, plot_pacf\n",
        "plot_acf(ts.dropna());\n",
        "plot_pacf(ts, lags=50);"
      ]
    },
    {
      "cell_type": "markdown",
      "id": "7b158042-3741-4603-bb3a-62b1dda1b4a9",
      "metadata": {
        "id": "7b158042-3741-4603-bb3a-62b1dda1b4a9"
      },
      "source": [
        "Есть слабо выраженная недельная сезонность(лаг 7 дней)"
      ]
    },
    {
      "cell_type": "code",
      "execution_count": null,
      "id": "ea1d2084-a7c8-45d9-9f81-1a84e6c2ea42",
      "metadata": {
        "id": "ea1d2084-a7c8-45d9-9f81-1a84e6c2ea42",
        "outputId": "07bd4b1a-9722-4c8d-91cf-5467d30311cc"
      },
      "outputs": [
        {
          "data": {
            "image/png": "[encoded data removed]",
            "text/plain": [
              "<Figure size 640x480 with 1 Axes>"
            ]
          },
          "metadata": {},
          "output_type": "display_data"
        },
        {
          "data": {
            "image/png": "[encoded data removed]",
            "text/plain": [
              "<Figure size 640x480 with 1 Axes>"
            ]
          },
          "metadata": {},
          "output_type": "display_data"
        }
      ],
      "source": [
        "plot_acf(ts.diff(7).dropna());\n",
        "plot_pacf(ts.diff(7).dropna(), lags=50);"
      ]
    },
    {
      "cell_type": "markdown",
      "id": "7ee374a3-6fae-4fac-be41-78a0488167a3",
      "metadata": {
        "id": "7ee374a3-6fae-4fac-be41-78a0488167a3"
      },
      "source": [
        "Дивверенцирование с лагом сезонности не помогает. Сезонность не слишком выражена."
      ]
    },
    {
      "cell_type": "code",
      "execution_count": null,
      "id": "75d89601-b9a9-442d-a03b-56b1db2fa4e7",
      "metadata": {
        "id": "75d89601-b9a9-442d-a03b-56b1db2fa4e7",
        "outputId": "87b91819-12e3-40c3-9bba-63e0f9169d0e"
      },
      "outputs": [
        {
          "data": {
            "image/png": "[encoded data removed]",
            "text/plain": [
              "<Figure size 640x480 with 1 Axes>"
            ]
          },
          "metadata": {},
          "output_type": "display_data"
        },
        {
          "data": {
            "image/png": "[encoded data removed]",
            "text/plain": [
              "<Figure size 640x480 with 1 Axes>"
            ]
          },
          "metadata": {},
          "output_type": "display_data"
        }
      ],
      "source": [
        "plot_acf(ts.diff().dropna());\n",
        "plot_pacf(ts.diff().dropna(), lags=50);"
      ]
    },
    {
      "cell_type": "code",
      "execution_count": null,
      "id": "8274e855-b4b6-470b-9e98-559a182b6728",
      "metadata": {
        "id": "8274e855-b4b6-470b-9e98-559a182b6728",
        "outputId": "94934f93-946e-441d-e168-2e56ce0c90bf"
      },
      "outputs": [
        {
          "name": "stdout",
          "output_type": "stream",
          "text": [
            "Results of KPSS Test:\n",
            "Test Statistic             0.045695\n",
            "p-value                    0.100000\n",
            "Lags Used                126.000000\n",
            "Critical Value (10%)       0.347000\n",
            "Critical Value (5%)        0.463000\n",
            "Critical Value (2.5%)      0.574000\n",
            "Critical Value (1%)        0.739000\n",
            "dtype: float64\n"
          ]
        },
        {
          "name": "stderr",
          "output_type": "stream",
          "text": [
            "C:\\Users\\ICereal\\AppData\\Local\\Temp\\ipykernel_18020\\698062597.py:3: InterpolationWarning: The test statistic is outside of the range of p-values available in the\n",
            "look-up table. The actual p-value is greater than the p-value returned.\n",
            "\n",
            "  kpsstest = kpss(timeseries, regression=\"c\", nlags=\"auto\")\n"
          ]
        }
      ],
      "source": [
        "kpss_test(df['Balance'].diff().dropna())"
      ]
    },
    {
      "cell_type": "code",
      "execution_count": null,
      "id": "72f8de5f-6a99-401e-b176-761361d4feb6",
      "metadata": {
        "id": "72f8de5f-6a99-401e-b176-761361d4feb6",
        "outputId": "2bb9feb2-18e8-4d16-ca44-c1e26b2cdc0e"
      },
      "outputs": [
        {
          "name": "stdout",
          "output_type": "stream",
          "text": [
            "Results of Dickey-Fuller Test:\n",
            "2.3669747390451018e-27\n",
            "Test Statistic                -1.476539e+01\n",
            "p-value                        2.366975e-27\n",
            "#Lags Used                     1.900000e+01\n",
            "Number of Observations Used    1.522000e+03\n",
            "Critical Value (1%)           -3.434654e+00\n",
            "Critical Value (5%)           -2.863441e+00\n",
            "Critical Value (10%)          -2.567782e+00\n",
            "dtype: float64\n"
          ]
        }
      ],
      "source": [
        "adf_test(df['Balance'].diff().dropna())"
      ]
    },
    {
      "cell_type": "markdown",
      "id": "cf0adee5-d5e1-4867-a841-fa567b1ef841",
      "metadata": {
        "id": "cf0adee5-d5e1-4867-a841-fa567b1ef841"
      },
      "source": [
        "Глазами кажется, что после дифференцирования с лагом 1 ряд становится более походящим для аврорегрессионной модели, выделяются лаги на которые есть корреляция. Также тесты говорят о том, что дифференцированный ряд стационарен. Так что оставим d = 1"
      ]
    },
    {
      "cell_type": "markdown",
      "id": "642f5e43-2275-470c-97a8-4868209763dc",
      "metadata": {
        "id": "642f5e43-2275-470c-97a8-4868209763dc"
      },
      "source": [
        "q = 1 - кол-во значимых лагов в ACF\\\n",
        "p = 7 - кол-во значимых лагов в PACF"
      ]
    },
    {
      "cell_type": "code",
      "execution_count": null,
      "id": "68fcc120-348c-4829-95a0-d2fc0be07993",
      "metadata": {
        "id": "68fcc120-348c-4829-95a0-d2fc0be07993"
      },
      "outputs": [],
      "source": [
        "from statsmodels.tsa.arima.model import ARIMA"
      ]
    },
    {
      "cell_type": "code",
      "execution_count": null,
      "id": "b074e1e5-a1a0-476f-9e8e-ef43dd1625e5",
      "metadata": {
        "id": "b074e1e5-a1a0-476f-9e8e-ef43dd1625e5",
        "outputId": "91cb593e-6e75-4991-d11a-769543105798"
      },
      "outputs": [
        {
          "name": "stderr",
          "output_type": "stream",
          "text": [
            "D:\\Anaconda\\Lib\\site-packages\\statsmodels\\tsa\\base\\tsa_model.py:473: ValueWarning: No frequency information was provided, so inferred frequency D will be used.\n",
            "  self._init_dates(dates, freq)\n",
            "D:\\Anaconda\\Lib\\site-packages\\statsmodels\\tsa\\base\\tsa_model.py:473: ValueWarning: No frequency information was provided, so inferred frequency D will be used.\n",
            "  self._init_dates(dates, freq)\n",
            "D:\\Anaconda\\Lib\\site-packages\\statsmodels\\tsa\\base\\tsa_model.py:473: ValueWarning: No frequency information was provided, so inferred frequency D will be used.\n",
            "  self._init_dates(dates, freq)\n",
            "D:\\Anaconda\\Lib\\site-packages\\statsmodels\\tsa\\statespace\\sarimax.py:966: UserWarning: Non-stationary starting autoregressive parameters found. Using zeros as starting parameters.\n",
            "  warn('Non-stationary starting autoregressive parameters'\n"
          ]
        }
      ],
      "source": [
        "pdq = (7, 1, 1)\n",
        "seasonal_order=(0, 0, 0, 0) #без сезонности\n",
        "model = ARIMA(ts, order=pdq).fit()"
      ]
    },
    {
      "cell_type": "markdown",
      "id": "86c79143-e647-4051-b1fa-762abef441b1",
      "metadata": {
        "id": "86c79143-e647-4051-b1fa-762abef441b1"
      },
      "source": [
        "Смотрим коррелляции остатков"
      ]
    },
    {
      "cell_type": "code",
      "execution_count": null,
      "id": "d34edcd6-ee77-46b9-9653-155ea1e5c89d",
      "metadata": {
        "id": "d34edcd6-ee77-46b9-9653-155ea1e5c89d",
        "outputId": "c435cf0b-9668-4c0a-eccb-b77227549142"
      },
      "outputs": [
        {
          "data": {
            "image/png": "[encoded data removed]",
            "text/plain": [
              "<Figure size 1200x800 with 2 Axes>"
            ]
          },
          "metadata": {},
          "output_type": "display_data"
        }
      ],
      "source": [
        "resid = model.resid\n",
        "fig = plt.figure(figsize=(12, 8))\n",
        "ax1 = fig.add_subplot(211)\n",
        "fig = plot_acf(resid.values.squeeze(), lags=40, ax=ax1)\n",
        "ax2 = fig.add_subplot(212)\n",
        "fig = plot_pacf(resid, lags=40, ax=ax2)"
      ]
    },
    {
      "cell_type": "markdown",
      "id": "5c733200-bdc4-40f6-a449-86e1184fddbf",
      "metadata": {
        "id": "5c733200-bdc4-40f6-a449-86e1184fddbf"
      },
      "source": [
        "Остатки между собой не коррелируют, значит, все линейные зависимости учтены в модели.\\\n",
        "Вывод: использование авторегрессионных моделей возможно, будем сравнивать их с бустингами"
      ]
    },
    {
      "cell_type": "markdown",
      "id": "e3859642",
      "metadata": {
        "id": "e3859642"
      },
      "source": [
        "# Модуль подбора гиперапарметров"
      ]
    },
    {
      "cell_type": "code",
      "execution_count": null,
      "id": "3f7a7337",
      "metadata": {
        "id": "3f7a7337"
      },
      "outputs": [],
      "source": [
        "def custom_metric(y_true, y_pred, th = 3):\n",
        "    series = y_true - y_pred\n",
        "    n_days=len(series)\n",
        "    intervals=np.linspace(th,1001)\n",
        "    ths=list()\n",
        "    for interval in intervals:\n",
        "        k=0\n",
        "        for d in range(n_days):\n",
        "            if np.abs(series[d])<interval:\n",
        "                k+=1\n",
        "        ths.append(k/n_days*100)\n",
        "    area=0\n",
        "    delta = intervals[1] - intervals[0]\n",
        "    for q in ths[1:]:\n",
        "        area+=q*delta\n",
        "    return area/(100*th)*100\n",
        "\n",
        "our_metric = make_scorer(custom_metric)"
      ]
    },
    {
      "cell_type": "code",
      "execution_count": null,
      "id": "81866f74-14b9-47a7-b634-7ecbadc710ee",
      "metadata": {
        "id": "81866f74-14b9-47a7-b634-7ecbadc710ee"
      },
      "outputs": [],
      "source": [
        "def find_params(curr_data, model):\n",
        "    '''\n",
        "    Модуль для подбора гиперпараметров\n",
        "    Модели: LGBMRegressor/RandomForrestRegressor\n",
        "    '''\n",
        "    test_num = 90\n",
        "    X = curr_data.drop('y', axis=1)\n",
        "    y = curr_data['y']\n",
        "\n",
        "    # Создаем список, где тренировочные индексы помечена -1, а валидационные 0\n",
        "    split_index = [-1] * (X.shape[0] - test_num) + [0] * test_num\n",
        "\n",
        "    pds = PredefinedSplit(test_fold = split_index)\n",
        "\n",
        "    # описание сетки гиперпараметров\n",
        "    if isinstance(model, RandomForestRegressor):\n",
        "        param_grid = {\n",
        "            'max_depth' : [2, 3, 5, 7, 9, 11, 13],\n",
        "            'max_features' : [0.5, 0.6, 0.7, 0.8],\n",
        "            'max_samples' : [None, 0.5, 0.6, 0.7, 0.8],\n",
        "            'min_samples_split' : [2, 5, 7],\n",
        "            'min_samples_leaf' : [1, 2, 4, 6],\n",
        "            'n_estimators' : [150],\n",
        "            'criterion' : ['absolute_error'],\n",
        "            'random_state' : [4],\n",
        "            'n_jobs' : [1]\n",
        "\n",
        "        }\n",
        "    elif isinstance(model, LGBMRegressor):\n",
        "        param_grid = {\n",
        "        'boosting_type': ['gbdt', 'dart', 'goss'],\n",
        "        'num_leaves': sp_randint(20, 100),\n",
        "        'learning_rate': np.linspace(0.01, 0.2, 10),\n",
        "        'n_estimators': sp_randint(50, 500),\n",
        "        'subsample_for_bin': sp_randint(20000, 50000),\n",
        "        'min_child_samples': sp_randint(10, 50),\n",
        "        'reg_alpha': np.linspace(0.0, 1.0, 10),\n",
        "        'reg_lambda': np.linspace(0.0, 1.0, 10),\n",
        "        'colsample_bytree': np.linspace(0.6, 1.0, 10),\n",
        "        'subsample': np.linspace(0.6, 1.0, 10)\n",
        "        }\n",
        "\n",
        "    clf = RandomizedSearchCV(estimator = model,\n",
        "                             cv=pds,\n",
        "                             param_distributions=param_grid,\n",
        "                             n_jobs=-1,\n",
        "                             refit=False,\n",
        "                             n_iter=100,\n",
        "                             scoring=our_metric,\n",
        "                             verbose=1)\n",
        "    search = clf.fit(X, y)\n",
        "    return search.best_params_\n"
      ]
    },
    {
      "cell_type": "markdown",
      "id": "0ea3d0ce",
      "metadata": {
        "id": "0ea3d0ce"
      },
      "source": [
        "## Методы фильтрации"
      ]
    },
    {
      "cell_type": "markdown",
      "id": "a5453da1",
      "metadata": {
        "id": "a5453da1"
      },
      "source": [
        "## Оберточный метод"
      ]
    },
    {
      "cell_type": "markdown",
      "id": "3379a09d",
      "metadata": {
        "id": "3379a09d"
      },
      "source": [
        "Forward selection"
      ]
    },
    {
      "cell_type": "code",
      "execution_count": null,
      "id": "e4525101",
      "metadata": {
        "id": "e4525101"
      },
      "outputs": [],
      "source": [
        "def best_feature(model, X, y, features_in, features_out):\n",
        "    lag = 40\n",
        "    X_train, y_train = X.iloc[:-lag] , y.iloc[:-lag]\n",
        "    X_test, y_test = X.iloc[-lag:] , y.iloc[-lag:]\n",
        "    model.fit(X_train[features_in], y_train)\n",
        "    metric_baseline = mae(y_test, model.predict(X_test[features_in]))\n",
        "    feature_to_add = None\n",
        "    for name in features_out:\n",
        "        model.fit(X_train[features_in + [name]], y_train)\n",
        "        metric_new = mae(y_test, model.predict(X_test[features_in + [name]]))\n",
        "        if metric_new > metric_baseline:\n",
        "            feature_to_add = name\n",
        "            metric_baseline = metric_new\n",
        "    return feature_to_add"
      ]
    },
    {
      "cell_type": "code",
      "execution_count": null,
      "id": "c3be15a0",
      "metadata": {
        "id": "c3be15a0"
      },
      "outputs": [],
      "source": [
        "def find_best_feature_space(model, X, y):\n",
        "    features_importance = dict(zip(X.columns, model.feature_importances_))\n",
        "    top_10_features = []\n",
        "    for _ in range(10):\n",
        "        max_key = max(features_importance, key=features_importance.get)\n",
        "        features_importance[max_key] = .0\n",
        "        top_10_features.append(max_key)\n",
        "    features_to_select = list(set(X.columns) - set(top_10_features))\n",
        "    while True:\n",
        "        add = best_feature(model, X, y, top_10_features, features_to_select)\n",
        "        if add == None:\n",
        "            break\n",
        "        else:\n",
        "            top_10_features+= [add]\n",
        "    return top_10_features"
      ]
    },
    {
      "cell_type": "markdown",
      "id": "9cda62a0",
      "metadata": {
        "id": "9cda62a0"
      },
      "source": [
        "## Встроенный метод"
      ]
    },
    {
      "cell_type": "markdown",
      "id": "18f1c80a",
      "metadata": {
        "id": "18f1c80a"
      },
      "source": [
        "Прогоняем линейную регрессию, выбираем топ самых влиятельных фичей"
      ]
    },
    {
      "cell_type": "code",
      "execution_count": null,
      "id": "685e90e5",
      "metadata": {
        "id": "685e90e5"
      },
      "outputs": [],
      "source": [
        "from sklearn.linear_model import Ridge\n",
        "from sklearn.preprocessing import StandardScaler\n",
        "\n",
        "def linear_feature_selection(X, y):\n",
        "    feature_standartization = [None if len(X[x_name].unique()) == 2 else x_name for x_name in X.columns]\n",
        "    feature_standartization = list(filter(None , feature_standartization))\n",
        "    ssc = StandardScaler()\n",
        "    X[feature_standartization] = ssc.fit_transform(X[feature_standartization])\n",
        "    regressor = Ridge()\n",
        "    regressor.fit(X, y)\n",
        "    feature_selection = dict(zip(X.columns, [abs(number) for number in regressor.coef_]))\n",
        "    top_features = []\n",
        "    for _ in range(15):\n",
        "        max_key = max(feature_selection, key=feature_selection.get)\n",
        "        feature_selection[max_key] = .0\n",
        "        top_features.append(max_key)\n",
        "    return  top_features\n"
      ]
    },
    {
      "cell_type": "markdown",
      "id": "5cf73a8e",
      "metadata": {
        "id": "5cf73a8e"
      },
      "source": [
        "## Фильтрационный метод"
      ]
    },
    {
      "cell_type": "markdown",
      "id": "1003bb64",
      "metadata": {
        "id": "1003bb64"
      },
      "source": [
        "Выбор по корреляции между фичей и таргетом"
      ]
    },
    {
      "cell_type": "code",
      "execution_count": null,
      "id": "e8e03986",
      "metadata": {
        "id": "e8e03986"
      },
      "outputs": [],
      "source": [
        "def filter_feature_selection(X, y, n = 15):\n",
        "    return list(X.corrwith(y).sort_values(ascending=False).head(n).index)"
      ]
    },
    {
      "cell_type": "code",
      "execution_count": null,
      "id": "e074e439",
      "metadata": {
        "id": "e074e439",
        "outputId": "dff8b9ef-a35d-4558-a6b2-16445024c1b6"
      },
      "outputs": [
        {
          "data": {
            "text/html": [
              "<div>\n",
              "<style scoped>\n",
              "    .dataframe tbody tr th:only-of-type {\n",
              "        vertical-align: middle;\n",
              "    }\n",
              "\n",
              "    .dataframe tbody tr th {\n",
              "        vertical-align: top;\n",
              "    }\n",
              "\n",
              "    .dataframe thead th {\n",
              "        text-align: right;\n",
              "    }\n",
              "</style>\n",
              "<table border=\"1\" class=\"dataframe\">\n",
              "  <thead>\n",
              "    <tr style=\"text-align: right;\">\n",
              "      <th></th>\n",
              "      <th>Balance</th>\n",
              "    </tr>\n",
              "    <tr>\n",
              "      <th>Date</th>\n",
              "      <th></th>\n",
              "    </tr>\n",
              "  </thead>\n",
              "  <tbody>\n",
              "    <tr>\n",
              "      <th>2017-01-09</th>\n",
              "      <td>-0.155904</td>\n",
              "    </tr>\n",
              "    <tr>\n",
              "      <th>2017-01-10</th>\n",
              "      <td>-0.125572</td>\n",
              "    </tr>\n",
              "    <tr>\n",
              "      <th>2017-01-11</th>\n",
              "      <td>0.007767</td>\n",
              "    </tr>\n",
              "    <tr>\n",
              "      <th>2017-01-12</th>\n",
              "      <td>0.800391</td>\n",
              "    </tr>\n",
              "    <tr>\n",
              "      <th>2017-01-13</th>\n",
              "      <td>-0.019721</td>\n",
              "    </tr>\n",
              "    <tr>\n",
              "      <th>...</th>\n",
              "      <td>...</td>\n",
              "    </tr>\n",
              "    <tr>\n",
              "      <th>2021-03-27</th>\n",
              "      <td>0.000000</td>\n",
              "    </tr>\n",
              "    <tr>\n",
              "      <th>2021-03-28</th>\n",
              "      <td>0.000000</td>\n",
              "    </tr>\n",
              "    <tr>\n",
              "      <th>2021-03-29</th>\n",
              "      <td>-1.017679</td>\n",
              "    </tr>\n",
              "    <tr>\n",
              "      <th>2021-03-30</th>\n",
              "      <td>-0.259687</td>\n",
              "    </tr>\n",
              "    <tr>\n",
              "      <th>2021-03-31</th>\n",
              "      <td>-0.004878</td>\n",
              "    </tr>\n",
              "  </tbody>\n",
              "</table>\n",
              "<p>1543 rows × 1 columns</p>\n",
              "</div>"
            ],
            "text/plain": [
              "             Balance\n",
              "Date                \n",
              "2017-01-09 -0.155904\n",
              "2017-01-10 -0.125572\n",
              "2017-01-11  0.007767\n",
              "2017-01-12  0.800391\n",
              "2017-01-13 -0.019721\n",
              "...              ...\n",
              "2021-03-27  0.000000\n",
              "2021-03-28  0.000000\n",
              "2021-03-29 -1.017679\n",
              "2021-03-30 -0.259687\n",
              "2021-03-31 -0.004878\n",
              "\n",
              "[1543 rows x 1 columns]"
            ]
          },
          "execution_count": 288,
          "metadata": {},
          "output_type": "execute_result"
        }
      ],
      "source": [
        "ts"
      ]
    },
    {
      "cell_type": "markdown",
      "id": "0b568c73-61bb-4c53-a801-e8ab17142ee8",
      "metadata": {
        "id": "0b568c73-61bb-4c53-a801-e8ab17142ee8"
      },
      "source": [
        "# Сравниваем модели"
      ]
    },
    {
      "cell_type": "code",
      "execution_count": null,
      "id": "e774bfb4-0421-4d42-afbc-16b92b7e5755",
      "metadata": {
        "id": "e774bfb4-0421-4d42-afbc-16b92b7e5755"
      },
      "outputs": [],
      "source": [
        "data = make_features(calendar_features=calendar_features,\n",
        "                         time_series=ts,\n",
        "                        usd_course_feature=usd_course).dropna()"
      ]
    },
    {
      "cell_type": "code",
      "execution_count": null,
      "id": "44e494c2",
      "metadata": {
        "id": "44e494c2",
        "outputId": "978e964c-c356-4747-9f9f-32290436fb0c"
      },
      "outputs": [
        {
          "data": {
            "text/html": [
              "<div>\n",
              "<style scoped>\n",
              "    .dataframe tbody tr th:only-of-type {\n",
              "        vertical-align: middle;\n",
              "    }\n",
              "\n",
              "    .dataframe tbody tr th {\n",
              "        vertical-align: top;\n",
              "    }\n",
              "\n",
              "    .dataframe thead th {\n",
              "        text-align: right;\n",
              "    }\n",
              "</style>\n",
              "<table border=\"1\" class=\"dataframe\">\n",
              "  <thead>\n",
              "    <tr style=\"text-align: right;\">\n",
              "      <th></th>\n",
              "      <th>y</th>\n",
              "      <th>lag_1</th>\n",
              "      <th>lag_2</th>\n",
              "      <th>lag_3</th>\n",
              "      <th>lag_4</th>\n",
              "      <th>lag_month_1</th>\n",
              "      <th>lag_month0</th>\n",
              "      <th>lag_month1</th>\n",
              "      <th>rolling_mean</th>\n",
              "      <th>rolling_median</th>\n",
              "      <th>...</th>\n",
              "      <th>июнь</th>\n",
              "      <th>июль</th>\n",
              "      <th>август</th>\n",
              "      <th>сентябрь</th>\n",
              "      <th>октябрь</th>\n",
              "      <th>ноябрь</th>\n",
              "      <th>декабрь</th>\n",
              "      <th>usd_rub_course</th>\n",
              "      <th>RTS</th>\n",
              "      <th>rate</th>\n",
              "    </tr>\n",
              "  </thead>\n",
              "  <tbody>\n",
              "    <tr>\n",
              "      <th>2017-02-10</th>\n",
              "      <td>0.183553</td>\n",
              "      <td>0.434681</td>\n",
              "      <td>0.196944</td>\n",
              "      <td>-0.041289</td>\n",
              "      <td>-0.032282</td>\n",
              "      <td>-0.155904</td>\n",
              "      <td>-0.125572</td>\n",
              "      <td>0.007767</td>\n",
              "      <td>0.080692</td>\n",
              "      <td>0.000000</td>\n",
              "      <td>...</td>\n",
              "      <td>0</td>\n",
              "      <td>0</td>\n",
              "      <td>0</td>\n",
              "      <td>0</td>\n",
              "      <td>0</td>\n",
              "      <td>0</td>\n",
              "      <td>0</td>\n",
              "      <td>59.173100</td>\n",
              "      <td>1642.05</td>\n",
              "      <td>10.0</td>\n",
              "    </tr>\n",
              "    <tr>\n",
              "      <th>2017-02-11</th>\n",
              "      <td>0.000000</td>\n",
              "      <td>0.183553</td>\n",
              "      <td>0.434681</td>\n",
              "      <td>0.196944</td>\n",
              "      <td>-0.041289</td>\n",
              "      <td>-0.125572</td>\n",
              "      <td>0.007767</td>\n",
              "      <td>0.800391</td>\n",
              "      <td>0.105944</td>\n",
              "      <td>0.000000</td>\n",
              "      <td>...</td>\n",
              "      <td>0</td>\n",
              "      <td>0</td>\n",
              "      <td>0</td>\n",
              "      <td>0</td>\n",
              "      <td>0</td>\n",
              "      <td>0</td>\n",
              "      <td>0</td>\n",
              "      <td>58.961201</td>\n",
              "      <td>1642.05</td>\n",
              "      <td>10.0</td>\n",
              "    </tr>\n",
              "    <tr>\n",
              "      <th>2017-02-12</th>\n",
              "      <td>0.000000</td>\n",
              "      <td>0.000000</td>\n",
              "      <td>0.183553</td>\n",
              "      <td>0.434681</td>\n",
              "      <td>0.196944</td>\n",
              "      <td>0.007767</td>\n",
              "      <td>0.800391</td>\n",
              "      <td>-0.019721</td>\n",
              "      <td>0.105944</td>\n",
              "      <td>0.000000</td>\n",
              "      <td>...</td>\n",
              "      <td>0</td>\n",
              "      <td>0</td>\n",
              "      <td>0</td>\n",
              "      <td>0</td>\n",
              "      <td>0</td>\n",
              "      <td>0</td>\n",
              "      <td>0</td>\n",
              "      <td>0.000000</td>\n",
              "      <td>1642.05</td>\n",
              "      <td>10.0</td>\n",
              "    </tr>\n",
              "    <tr>\n",
              "      <th>2017-02-13</th>\n",
              "      <td>-0.190470</td>\n",
              "      <td>0.000000</td>\n",
              "      <td>0.000000</td>\n",
              "      <td>0.183553</td>\n",
              "      <td>0.434681</td>\n",
              "      <td>0.800391</td>\n",
              "      <td>-0.019721</td>\n",
              "      <td>0.000000</td>\n",
              "      <td>0.105944</td>\n",
              "      <td>0.000000</td>\n",
              "      <td>...</td>\n",
              "      <td>0</td>\n",
              "      <td>0</td>\n",
              "      <td>0</td>\n",
              "      <td>0</td>\n",
              "      <td>0</td>\n",
              "      <td>0</td>\n",
              "      <td>0</td>\n",
              "      <td>0.000000</td>\n",
              "      <td>1654.68</td>\n",
              "      <td>10.0</td>\n",
              "    </tr>\n",
              "    <tr>\n",
              "      <th>2017-02-14</th>\n",
              "      <td>-0.086178</td>\n",
              "      <td>-0.190470</td>\n",
              "      <td>0.000000</td>\n",
              "      <td>0.000000</td>\n",
              "      <td>0.183553</td>\n",
              "      <td>-0.019721</td>\n",
              "      <td>0.000000</td>\n",
              "      <td>0.000000</td>\n",
              "      <td>0.083345</td>\n",
              "      <td>0.000000</td>\n",
              "      <td>...</td>\n",
              "      <td>0</td>\n",
              "      <td>0</td>\n",
              "      <td>0</td>\n",
              "      <td>0</td>\n",
              "      <td>0</td>\n",
              "      <td>0</td>\n",
              "      <td>0</td>\n",
              "      <td>58.222301</td>\n",
              "      <td>1655.81</td>\n",
              "      <td>10.0</td>\n",
              "    </tr>\n",
              "    <tr>\n",
              "      <th>...</th>\n",
              "      <td>...</td>\n",
              "      <td>...</td>\n",
              "      <td>...</td>\n",
              "      <td>...</td>\n",
              "      <td>...</td>\n",
              "      <td>...</td>\n",
              "      <td>...</td>\n",
              "      <td>...</td>\n",
              "      <td>...</td>\n",
              "      <td>...</td>\n",
              "      <td>...</td>\n",
              "      <td>...</td>\n",
              "      <td>...</td>\n",
              "      <td>...</td>\n",
              "      <td>...</td>\n",
              "      <td>...</td>\n",
              "      <td>...</td>\n",
              "      <td>...</td>\n",
              "      <td>...</td>\n",
              "      <td>...</td>\n",
              "      <td>...</td>\n",
              "    </tr>\n",
              "    <tr>\n",
              "      <th>2021-03-27</th>\n",
              "      <td>0.000000</td>\n",
              "      <td>-2.514887</td>\n",
              "      <td>-0.869810</td>\n",
              "      <td>-0.587778</td>\n",
              "      <td>0.098041</td>\n",
              "      <td>-0.355811</td>\n",
              "      <td>0.000000</td>\n",
              "      <td>0.000000</td>\n",
              "      <td>-0.669331</td>\n",
              "      <td>-0.587778</td>\n",
              "      <td>...</td>\n",
              "      <td>0</td>\n",
              "      <td>0</td>\n",
              "      <td>0</td>\n",
              "      <td>0</td>\n",
              "      <td>0</td>\n",
              "      <td>0</td>\n",
              "      <td>0</td>\n",
              "      <td>76.117104</td>\n",
              "      <td>2626.09</td>\n",
              "      <td>4.5</td>\n",
              "    </tr>\n",
              "    <tr>\n",
              "      <th>2021-03-28</th>\n",
              "      <td>0.000000</td>\n",
              "      <td>0.000000</td>\n",
              "      <td>-2.514887</td>\n",
              "      <td>-0.869810</td>\n",
              "      <td>-0.587778</td>\n",
              "      <td>0.000000</td>\n",
              "      <td>0.000000</td>\n",
              "      <td>-0.877702</td>\n",
              "      <td>-0.669331</td>\n",
              "      <td>-0.587778</td>\n",
              "      <td>...</td>\n",
              "      <td>0</td>\n",
              "      <td>0</td>\n",
              "      <td>0</td>\n",
              "      <td>0</td>\n",
              "      <td>0</td>\n",
              "      <td>0</td>\n",
              "      <td>0</td>\n",
              "      <td>0.000000</td>\n",
              "      <td>2626.09</td>\n",
              "      <td>4.5</td>\n",
              "    </tr>\n",
              "    <tr>\n",
              "      <th>2021-03-29</th>\n",
              "      <td>-1.017679</td>\n",
              "      <td>0.000000</td>\n",
              "      <td>0.000000</td>\n",
              "      <td>-2.514887</td>\n",
              "      <td>-0.869810</td>\n",
              "      <td>0.000000</td>\n",
              "      <td>0.000000</td>\n",
              "      <td>-0.877702</td>\n",
              "      <td>-0.669331</td>\n",
              "      <td>-0.587778</td>\n",
              "      <td>...</td>\n",
              "      <td>0</td>\n",
              "      <td>0</td>\n",
              "      <td>0</td>\n",
              "      <td>0</td>\n",
              "      <td>0</td>\n",
              "      <td>0</td>\n",
              "      <td>0</td>\n",
              "      <td>0.000000</td>\n",
              "      <td>2659.22</td>\n",
              "      <td>4.5</td>\n",
              "    </tr>\n",
              "    <tr>\n",
              "      <th>2021-03-30</th>\n",
              "      <td>-0.259687</td>\n",
              "      <td>-1.017679</td>\n",
              "      <td>0.000000</td>\n",
              "      <td>0.000000</td>\n",
              "      <td>-2.514887</td>\n",
              "      <td>0.000000</td>\n",
              "      <td>0.000000</td>\n",
              "      <td>-0.877702</td>\n",
              "      <td>-0.698873</td>\n",
              "      <td>-0.587778</td>\n",
              "      <td>...</td>\n",
              "      <td>0</td>\n",
              "      <td>0</td>\n",
              "      <td>0</td>\n",
              "      <td>0</td>\n",
              "      <td>0</td>\n",
              "      <td>0</td>\n",
              "      <td>0</td>\n",
              "      <td>75.661102</td>\n",
              "      <td>2645.04</td>\n",
              "      <td>4.5</td>\n",
              "    </tr>\n",
              "    <tr>\n",
              "      <th>2021-03-31</th>\n",
              "      <td>-0.004878</td>\n",
              "      <td>-0.259687</td>\n",
              "      <td>-1.017679</td>\n",
              "      <td>0.000000</td>\n",
              "      <td>0.000000</td>\n",
              "      <td>0.000000</td>\n",
              "      <td>0.000000</td>\n",
              "      <td>-0.877702</td>\n",
              "      <td>-0.749977</td>\n",
              "      <td>-0.587778</td>\n",
              "      <td>...</td>\n",
              "      <td>0</td>\n",
              "      <td>0</td>\n",
              "      <td>0</td>\n",
              "      <td>0</td>\n",
              "      <td>0</td>\n",
              "      <td>0</td>\n",
              "      <td>0</td>\n",
              "      <td>75.654602</td>\n",
              "      <td>2675.49</td>\n",
              "      <td>4.5</td>\n",
              "    </tr>\n",
              "  </tbody>\n",
              "</table>\n",
              "<p>1511 rows × 46 columns</p>\n",
              "</div>"
            ],
            "text/plain": [
              "                   y     lag_1     lag_2     lag_3     lag_4  lag_month_1  \\\n",
              "2017-02-10  0.183553  0.434681  0.196944 -0.041289 -0.032282    -0.155904   \n",
              "2017-02-11  0.000000  0.183553  0.434681  0.196944 -0.041289    -0.125572   \n",
              "2017-02-12  0.000000  0.000000  0.183553  0.434681  0.196944     0.007767   \n",
              "2017-02-13 -0.190470  0.000000  0.000000  0.183553  0.434681     0.800391   \n",
              "2017-02-14 -0.086178 -0.190470  0.000000  0.000000  0.183553    -0.019721   \n",
              "...              ...       ...       ...       ...       ...          ...   \n",
              "2021-03-27  0.000000 -2.514887 -0.869810 -0.587778  0.098041    -0.355811   \n",
              "2021-03-28  0.000000  0.000000 -2.514887 -0.869810 -0.587778     0.000000   \n",
              "2021-03-29 -1.017679  0.000000  0.000000 -2.514887 -0.869810     0.000000   \n",
              "2021-03-30 -0.259687 -1.017679  0.000000  0.000000 -2.514887     0.000000   \n",
              "2021-03-31 -0.004878 -0.259687 -1.017679  0.000000  0.000000     0.000000   \n",
              "\n",
              "            lag_month0  lag_month1  rolling_mean  rolling_median  ...  июнь  \\\n",
              "2017-02-10   -0.125572    0.007767      0.080692        0.000000  ...     0   \n",
              "2017-02-11    0.007767    0.800391      0.105944        0.000000  ...     0   \n",
              "2017-02-12    0.800391   -0.019721      0.105944        0.000000  ...     0   \n",
              "2017-02-13   -0.019721    0.000000      0.105944        0.000000  ...     0   \n",
              "2017-02-14    0.000000    0.000000      0.083345        0.000000  ...     0   \n",
              "...                ...         ...           ...             ...  ...   ...   \n",
              "2021-03-27    0.000000    0.000000     -0.669331       -0.587778  ...     0   \n",
              "2021-03-28    0.000000   -0.877702     -0.669331       -0.587778  ...     0   \n",
              "2021-03-29    0.000000   -0.877702     -0.669331       -0.587778  ...     0   \n",
              "2021-03-30    0.000000   -0.877702     -0.698873       -0.587778  ...     0   \n",
              "2021-03-31    0.000000   -0.877702     -0.749977       -0.587778  ...     0   \n",
              "\n",
              "            июль  август  сентябрь  октябрь  ноябрь  декабрь  usd_rub_course  \\\n",
              "2017-02-10     0       0         0        0       0        0       59.173100   \n",
              "2017-02-11     0       0         0        0       0        0       58.961201   \n",
              "2017-02-12     0       0         0        0       0        0        0.000000   \n",
              "2017-02-13     0       0         0        0       0        0        0.000000   \n",
              "2017-02-14     0       0         0        0       0        0       58.222301   \n",
              "...          ...     ...       ...      ...     ...      ...             ...   \n",
              "2021-03-27     0       0         0        0       0        0       76.117104   \n",
              "2021-03-28     0       0         0        0       0        0        0.000000   \n",
              "2021-03-29     0       0         0        0       0        0        0.000000   \n",
              "2021-03-30     0       0         0        0       0        0       75.661102   \n",
              "2021-03-31     0       0         0        0       0        0       75.654602   \n",
              "\n",
              "                RTS  rate  \n",
              "2017-02-10  1642.05  10.0  \n",
              "2017-02-11  1642.05  10.0  \n",
              "2017-02-12  1642.05  10.0  \n",
              "2017-02-13  1654.68  10.0  \n",
              "2017-02-14  1655.81  10.0  \n",
              "...             ...   ...  \n",
              "2021-03-27  2626.09   4.5  \n",
              "2021-03-28  2626.09   4.5  \n",
              "2021-03-29  2659.22   4.5  \n",
              "2021-03-30  2645.04   4.5  \n",
              "2021-03-31  2675.49   4.5  \n",
              "\n",
              "[1511 rows x 46 columns]"
            ]
          },
          "execution_count": 290,
          "metadata": {},
          "output_type": "execute_result"
        }
      ],
      "source": [
        "df = pd.read_csv('C:\\\\Users\\\\ICereal\\\\Downloads\\\\RTS.csv', sep=';',encoding='cp1251')\n",
        "df1 = pd.read_csv('C:\\\\Users\\\\ICereal\\\\Downloads\\\\key_rate.csv')\n",
        "df1 = df1.rename(columns={'date': 'Date'})\n",
        "df = df.rename(columns={'TRADEDATE': 'Date'})\n",
        "data1 =data.copy().reset_index()\n",
        "data1 = data1.rename(columns={'index': 'Date'})\n",
        "\n",
        "df['Date'] = df['Date'].astype('datetime64[ns]')\n",
        "data1 = pd.merge(data1, df[['Date','CLOSE']], on='Date', how='left')\n",
        "df1['Date'] = df1['Date'].astype('datetime64[ns]')\n",
        "data1= pd.merge(data1, df1, on='Date', how='left')\n",
        "data1 = data1.rename(columns={'CLOSE':'RTS'})\n",
        "data1= data1.fillna(method='ffill')\n",
        "\n",
        "data1 = data1.drop(columns=['Date'])\n",
        "data['RTS'] = data1['RTS'].tolist()\n",
        "data['rate'] = data1['rate'].tolist()\n",
        "data"
      ]
    },
    {
      "cell_type": "code",
      "execution_count": null,
      "id": "d6bb963f-2dc5-4fb9-90d7-50a1701a5a1a",
      "metadata": {
        "id": "d6bb963f-2dc5-4fb9-90d7-50a1701a5a1a",
        "colab": {
          "base_uri": "https://localhost:8080/",
          "height": 159
        },
        "outputId": "0da6ba78-3b66-46a7-9a09-bd2a1b218702"
      },
      "outputs": [
        {
          "output_type": "error",
          "ename": "NameError",
          "evalue": "name 'data' is not defined",
          "traceback": [
            "\u001b[0;31m---------------------------------------------------------------------------\u001b[0m",
            "\u001b[0;31mNameError\u001b[0m                                 Traceback (most recent call last)",
            "\u001b[0;32m<ipython-input-1-de0434d3398e>\u001b[0m in \u001b[0;36m<cell line: 1>\u001b[0;34m()\u001b[0m\n\u001b[0;32m----> 1\u001b[0;31m \u001b[0msplit_idx\u001b[0m \u001b[0;34m=\u001b[0m \u001b[0mint\u001b[0m\u001b[0;34m(\u001b[0m\u001b[0mlen\u001b[0m\u001b[0;34m(\u001b[0m\u001b[0mdata\u001b[0m\u001b[0;34m)\u001b[0m \u001b[0;34m*\u001b[0m \u001b[0;36m0.7\u001b[0m\u001b[0;34m)\u001b[0m\u001b[0;34m\u001b[0m\u001b[0;34m\u001b[0m\u001b[0m\n\u001b[0m\u001b[1;32m      2\u001b[0m \u001b[0mts_train\u001b[0m\u001b[0;34m,\u001b[0m \u001b[0mts_test\u001b[0m \u001b[0;34m=\u001b[0m \u001b[0mdata\u001b[0m\u001b[0;34m[\u001b[0m\u001b[0;34m:\u001b[0m\u001b[0msplit_idx\u001b[0m\u001b[0;34m]\u001b[0m\u001b[0;34m,\u001b[0m \u001b[0mdata\u001b[0m\u001b[0;34m[\u001b[0m\u001b[0msplit_idx\u001b[0m\u001b[0;34m:\u001b[0m\u001b[0;34m]\u001b[0m\u001b[0;34m\u001b[0m\u001b[0;34m\u001b[0m\u001b[0m\n",
            "\u001b[0;31mNameError\u001b[0m: name 'data' is not defined"
          ]
        }
      ],
      "source": [
        "split_idx = int(len(data) * 0.7)\n",
        "ts_train, ts_test = data[:split_idx], data[split_idx:]"
      ]
    },
    {
      "cell_type": "code",
      "execution_count": null,
      "id": "38a183b0-fc09-4589-86e9-f7ed48b28061",
      "metadata": {
        "id": "38a183b0-fc09-4589-86e9-f7ed48b28061"
      },
      "outputs": [],
      "source": [
        "best_features = filter_feature_selection(ts_train.drop('y', axis=1), data['y'], n = 20)"
      ]
    },
    {
      "cell_type": "code",
      "execution_count": null,
      "id": "5HD6fWnwuI3b",
      "metadata": {
        "colab": {
          "base_uri": "https://localhost:8080/"
        },
        "id": "5HD6fWnwuI3b",
        "outputId": "01bb2754-6a97-4af3-b078-4d5985a7f99e"
      },
      "outputs": [
        {
          "data": {
            "text/plain": [
              "['rolling_median_weekday',\n",
              " 'rolling_mean_weekday',\n",
              " 'rolling_median',\n",
              " 'rolling_min_weekday',\n",
              " 'usd_rub_course',\n",
              " 'rolling_max_weekday',\n",
              " 'rolling_mean',\n",
              " 'чт',\n",
              " 'lag_1',\n",
              " 'rolling_min',\n",
              " 'lag_2',\n",
              " 'mean_month',\n",
              " 'сентябрь',\n",
              " 'lag_month1',\n",
              " 'max_month',\n",
              " 'rate',\n",
              " 'rolling_max',\n",
              " 'min_month',\n",
              " 'lag_month0',\n",
              " 'пт']"
            ]
          },
          "execution_count": 300,
          "metadata": {},
          "output_type": "execute_result"
        }
      ],
      "source": [
        "best_features"
      ]
    },
    {
      "cell_type": "code",
      "execution_count": null,
      "id": "Z3SxMpP4uBAU",
      "metadata": {
        "id": "Z3SxMpP4uBAU"
      },
      "outputs": [],
      "source": [
        "change_name = {'чт':'cht', 'пт':'fr'}"
      ]
    },
    {
      "cell_type": "code",
      "execution_count": null,
      "id": "xJDF_WVGupdj",
      "metadata": {
        "id": "xJDF_WVGupdj"
      },
      "outputs": [],
      "source": [
        "for key, item in change_name.items():\n",
        "    best_features.remove(key)\n",
        "    best_features += [item]"
      ]
    },
    {
      "cell_type": "code",
      "execution_count": null,
      "id": "7uOV7A_QuuIC",
      "metadata": {
        "colab": {
          "base_uri": "https://localhost:8080/"
        },
        "id": "7uOV7A_QuuIC",
        "outputId": "66be845c-5f8c-4652-a851-756aa976918f"
      },
      "outputs": [
        {
          "data": {
            "text/plain": [
              "['rolling_median_weekday',\n",
              " 'rolling_mean_weekday',\n",
              " 'rolling_median',\n",
              " 'rolling_min_weekday',\n",
              " 'usd_rub_course',\n",
              " 'rolling_max_weekday',\n",
              " 'rolling_mean',\n",
              " 'lag_1',\n",
              " 'rolling_min',\n",
              " 'lag_2',\n",
              " 'mean_month',\n",
              " 'сентябрь',\n",
              " 'lag_month1',\n",
              " 'max_month',\n",
              " 'rate',\n",
              " 'rolling_max',\n",
              " 'min_month',\n",
              " 'lag_month0',\n",
              " 'cht',\n",
              " 'fr']"
            ]
          },
          "execution_count": 328,
          "metadata": {},
          "output_type": "execute_result"
        }
      ],
      "source": [
        "best_features"
      ]
    },
    {
      "cell_type": "code",
      "execution_count": null,
      "id": "8uiFKU9Qt9Kd",
      "metadata": {
        "id": "8uiFKU9Qt9Kd"
      },
      "outputs": [],
      "source": [
        "ts_train = ts_train.rename(columns = change_name)\n",
        "ts_test = ts_test.rename(columns = change_name)"
      ]
    },
    {
      "cell_type": "code",
      "execution_count": null,
      "id": "05c4adc8-150a-4cd6-bfbb-e584e00d6d77",
      "metadata": {
        "colab": {
          "base_uri": "https://localhost:8080/"
        },
        "id": "05c4adc8-150a-4cd6-bfbb-e584e00d6d77",
        "outputId": "68c2102a-aec1-4fb5-c5f6-adee3d2964df"
      },
      "outputs": [
        {
          "name": "stdout",
          "output_type": "stream",
          "text": [
            "Fitting 1 folds for each of 100 candidates, totalling 100 fits\n"
          ]
        }
      ],
      "source": [
        "forrest_params = find_params(ts_train[best_features + ['y']], RandomForestRegressor())\n",
        "\n",
        "RF_model = RandomForestRegressor(**forrest_params)"
      ]
    },
    {
      "cell_type": "code",
      "execution_count": null,
      "id": "MJIxJQayynf2",
      "metadata": {
        "id": "MJIxJQayynf2"
      },
      "outputs": [],
      "source": [
        "RF_model.fit(ts_train[best_features], ts_train['y'])\n",
        "rf_pred = RF_model.predict(ts_test[best_features])"
      ]
    },
    {
      "cell_type": "code",
      "execution_count": null,
      "id": "c28dcfb6-c6dc-41d1-b8ef-74cf9b7f1e9b",
      "metadata": {
        "colab": {
          "base_uri": "https://localhost:8080/"
        },
        "id": "c28dcfb6-c6dc-41d1-b8ef-74cf9b7f1e9b",
        "outputId": "8bd806db-7ad9-4da1-acd3-ce96b838da20"
      },
      "outputs": [
        {
          "name": "stdout",
          "output_type": "stream",
          "text": [
            "Fitting 1 folds for each of 100 candidates, totalling 100 fits\n"
          ]
        }
      ],
      "source": [
        "lgbm_params = find_params(ts_train[best_features + ['y']], LGBMRegressor())\n",
        "LGBM_model = LGBMRegressor(**forrest_params)"
      ]
    },
    {
      "cell_type": "code",
      "execution_count": null,
      "id": "7a665420-04a8-4ddb-aba8-391e7e236358",
      "metadata": {
        "id": "7a665420-04a8-4ddb-aba8-391e7e236358"
      },
      "outputs": [],
      "source": [
        "LGBM_model.fit(ts_train[best_features], ts_train['y'])\n",
        "lgbm_pred = LGBM_model.predict(ts_test[best_features])"
      ]
    },
    {
      "cell_type": "code",
      "execution_count": null,
      "id": "3a16c7a2-7f0d-45fc-8242-0d82be947769",
      "metadata": {
        "colab": {
          "base_uri": "https://localhost:8080/"
        },
        "id": "3a16c7a2-7f0d-45fc-8242-0d82be947769",
        "outputId": "3b2c3b8d-ee2b-40d0-8ced-938e4ee0364c"
      },
      "outputs": [
        {
          "name": "stdout",
          "output_type": "stream",
          "text": [
            "Performing stepwise search to minimize aic\n",
            " ARIMA(1,1,1)(0,0,0)[0] intercept   : AIC=356.885, Time=0.56 sec\n",
            " ARIMA(0,1,0)(0,0,0)[0] intercept   : AIC=990.595, Time=0.22 sec\n",
            " ARIMA(1,1,0)(0,0,0)[0] intercept   : AIC=710.598, Time=0.19 sec\n",
            " ARIMA(0,1,1)(0,0,0)[0] intercept   : AIC=357.888, Time=0.71 sec\n",
            " ARIMA(0,1,0)(0,0,0)[0]             : AIC=988.595, Time=0.10 sec\n",
            " ARIMA(2,1,1)(0,0,0)[0] intercept   : AIC=inf, Time=1.04 sec\n",
            " ARIMA(1,1,2)(0,0,0)[0] intercept   : AIC=361.628, Time=0.94 sec\n",
            " ARIMA(0,1,2)(0,0,0)[0] intercept   : AIC=357.080, Time=1.30 sec\n",
            " ARIMA(2,1,0)(0,0,0)[0] intercept   : AIC=649.606, Time=0.31 sec\n",
            " ARIMA(2,1,2)(0,0,0)[0] intercept   : AIC=360.782, Time=2.14 sec\n",
            " ARIMA(1,1,1)(0,0,0)[0]             : AIC=354.933, Time=0.36 sec\n",
            " ARIMA(0,1,1)(0,0,0)[0]             : AIC=355.928, Time=0.23 sec\n",
            " ARIMA(1,1,0)(0,0,0)[0]             : AIC=708.598, Time=0.09 sec\n",
            " ARIMA(2,1,1)(0,0,0)[0]             : AIC=356.216, Time=0.77 sec\n",
            " ARIMA(1,1,2)(0,0,0)[0]             : AIC=359.669, Time=0.54 sec\n",
            " ARIMA(0,1,2)(0,0,0)[0]             : AIC=355.127, Time=0.41 sec\n",
            " ARIMA(2,1,0)(0,0,0)[0]             : AIC=647.606, Time=0.17 sec\n",
            " ARIMA(2,1,2)(0,0,0)[0]             : AIC=356.246, Time=1.53 sec\n",
            "\n",
            "Best model:  ARIMA(1,1,1)(0,0,0)[0]          \n",
            "Total fit time: 11.646 seconds\n"
          ]
        }
      ],
      "source": [
        "from pmdarima import auto_arima\n",
        "# на вход подается ряд со всеми преобразованиями кроме дифференцирования, границы поиска параметров p, q, P, Q,\n",
        "# периодом сезонности m, параметрами дифференцирования d, D\n",
        "arima = auto_arima(\n",
        "     ts_train['y'], start_p=1, start_q=1,\n",
        "     max_p=7, max_q=7,seasonal=False,\n",
        "     trace=True,\n",
        "     error_action='ignore',\n",
        "     suppress_warnings=True,\n",
        "     stepwise=True\n",
        ")"
      ]
    },
    {
      "cell_type": "code",
      "execution_count": null,
      "id": "E-ayenRRz8Je",
      "metadata": {
        "id": "E-ayenRRz8Je"
      },
      "outputs": [],
      "source": [
        "arima_pred = arima.predict(len(ts_test))"
      ]
    },
    {
      "cell_type": "code",
      "execution_count": null,
      "id": "2WAB-s250KXf",
      "metadata": {
        "id": "2WAB-s250KXf"
      },
      "outputs": [],
      "source": [
        "def confidence_bands(series, th):\n",
        "    n_days=len(series)\n",
        "    intervals=np.linspace(0,th,1001)\n",
        "    delta = intervals[1] - intervals[0]\n",
        "    ths=list()\n",
        "    for interval in intervals:\n",
        "        k=0\n",
        "        for d in range(n_days):\n",
        "            if np.abs(series[d])<interval:\n",
        "                k+=1\n",
        "        ths.append(k/n_days*100)\n",
        "    area=0\n",
        "    for q in ths[1:]:\n",
        "        area+=q*delta\n",
        "    return [intervals,ths],area/(100*th)*100"
      ]
    },
    {
      "cell_type": "code",
      "execution_count": null,
      "id": "0e9g3jV70aot",
      "metadata": {
        "id": "0e9g3jV70aot"
      },
      "outputs": [],
      "source": [
        "model_predictions ={'ARIMA': arima_pred, 'LGBM': lgbm_pred, 'RF': rf_pred}"
      ]
    },
    {
      "cell_type": "code",
      "execution_count": null,
      "id": "lTZJWyLu0CM2",
      "metadata": {
        "colab": {
          "base_uri": "https://localhost:8080/",
          "height": 445
        },
        "id": "lTZJWyLu0CM2",
        "outputId": "519d662b-9f43-4b6a-be02-6cfbbd1f1102"
      },
      "outputs": [
        {
          "data": {
            "image/png": "[encoded data removed]",
            "text/plain": [
              "<Figure size 1000x500 with 1 Axes>"
            ]
          },
          "metadata": {},
          "output_type": "display_data"
        }
      ],
      "source": [
        "fig, axes = plt.subplots(figsize=(10,5))\n",
        "for name, preds in model_predictions.items():\n",
        "    coordinates,area=confidence_bands(ts_test['y']-preds, th = 3)\n",
        "    axes.plot(coordinates[0],coordinates[1],label=name+' area under curve  : '+str(round(area,3))+'%')\n",
        "    axes.set_ylabel('TH%',fontsize=14)\n",
        "    axes.legend()\n",
        "plt.show()\n"
      ]
    },
    {
      "cell_type": "markdown",
      "id": "DUM_2gvT2JES",
      "metadata": {
        "id": "DUM_2gvT2JES"
      },
      "source": [
        "Посмотрим предикт"
      ]
    },
    {
      "cell_type": "code",
      "execution_count": null,
      "id": "X3NhFsPa2u8w",
      "metadata": {
        "id": "X3NhFsPa2u8w"
      },
      "outputs": [],
      "source": [
        "lgbm_pred = pd.Series(lgbm_pred, index = ts_test.index)\n",
        "rf_pred = pd.Series(rf_pred, index = ts_test.index)\n",
        "arima_pred = pd.Series(arima_pred, index = ts_test.index)"
      ]
    },
    {
      "cell_type": "code",
      "execution_count": null,
      "id": "Zccz6EJX0CRS",
      "metadata": {
        "colab": {
          "base_uri": "https://localhost:8080/",
          "height": 637
        },
        "id": "Zccz6EJX0CRS",
        "outputId": "5204477a-6582-4d8b-9156-282abff3527d"
      },
      "outputs": [
        {
          "data": {
            "text/html": [
              "<style>\n",
              "        .bk-notebook-logo {\n",
              "            display: block;\n",
              "            width: 20px;\n",
              "            height: 20px;\n",
              "            background-image: url(data:image/png;base64,iVBORw0KGgoAAAANSUhEUgAAABQAAAAUCAYAAACNiR0NAAAABHNCSVQICAgIfAhkiAAAAAlwSFlzAAALEgAACxIB0t1+/AAAABx0RVh0U29mdHdhcmUAQWRvYmUgRmlyZXdvcmtzIENTNui8sowAAAOkSURBVDiNjZRtaJVlGMd/1/08zzln5zjP1LWcU9N0NkN8m2CYjpgQYQXqSs0I84OLIC0hkEKoPtiH3gmKoiJDU7QpLgoLjLIQCpEsNJ1vqUOdO7ppbuec5+V+rj4ctwzd8IIbbi6u+8f1539dt3A78eXC7QizUF7gyV1fD1Yqg4JWz84yffhm0qkFqBogB9rM8tZdtwVsPUhWhGcFJngGeWrPzHm5oaMmkfEg1usvLFyc8jLRqDOMru7AyC8saQr7GG7f5fvDeH7Ej8CM66nIF+8yngt6HWaKh7k49Soy9nXurCi1o3qUbS3zWfrYeQDTB/Qj6kX6Ybhw4B+bOYoLKCC9H3Nu/leUTZ1JdRWkkn2ldcCamzrcf47KKXdAJllSlxAOkRgyHsGC/zRday5Qld9DyoM4/q/rUoy/CXh3jzOu3bHUVZeU+DEn8FInkPBFlu3+nW3Nw0mk6vCDiWg8CeJaxEwuHS3+z5RgY+YBR6V1Z1nxSOfoaPa4LASWxxdNp+VWTk7+4vzaou8v8PN+xo+KY2xsw6une2frhw05CTYOmQvsEhjhWjn0bmXPjpE1+kplmmkP3suftwTubK9Vq22qKmrBhpY4jvd5afdRA3wGjFAgcnTK2s4hY0/GPNIb0nErGMCRxWOOX64Z8RAC4oCXdklmEvcL8o0BfkNK4lUg9HTl+oPlQxdNo3Mg4Nv175e/1LDGzZen30MEjRUtmXSfiTVu1kK8W4txyV6BMKlbgk3lMwYCiusNy9fVfvvwMxv8Ynl6vxoByANLTWplvuj/nF9m2+PDtt1eiHPBr1oIfhCChQMBw6Aw0UulqTKZdfVvfG7VcfIqLG9bcldL/+pdWTLxLUy8Qq38heUIjh4XlzZxzQm19lLFlr8vdQ97rjZVOLf8nclzckbcD4wxXMidpX30sFd37Fv/GtwwhzhxGVAprjbg0gCAEeIgwCZyTV2Z1REEW8O4py0wsjeloKoMr6iCY6dP92H6Vw/oTyICIthibxjm/DfN9lVz8IqtqKYLUXfoKVMVQVVJOElGjrnnUt9T9wbgp8AyYKaGlqingHZU/uG2NTZSVqwHQTWkx9hxjkpWDaCg6Ckj5qebgBVbT3V3NNXMSiWSDdGV3hrtzla7J+duwPOToIg42ChPQOQjspnSlp1V+Gjdged7+8UN5CRAV7a5EdFNwCjEaBR27b3W890TE7g24NAP/mMDXRWrGoFPQI9ls/MWO2dWFAar/xcOIImbbpA3zgAAAABJRU5ErkJggg==);\n",
              "        }\n",
              "    </style>\n",
              "    <div>\n",
              "        <a href=\"https://bokeh.org\" target=\"_blank\" class=\"bk-notebook-logo\"></a>\n",
              "        <span id=\"p4223\">Loading BokehJS ...</span>\n",
              "    </div>\n"
            ]
          },
          "metadata": {},
          "output_type": "display_data"
        },
        {
          "data": {
            "application/javascript": [
              "(function(root) {\n",
              "  function now() {\n",
              "    return new Date();\n",
              "  }\n",
              "\n",
              "  const force = true;\n",
              "\n",
              "  if (typeof root._bokeh_onload_callbacks === \"undefined\" || force === true) {\n",
              "    root._bokeh_onload_callbacks = [];\n",
              "    root._bokeh_is_loading = undefined;\n",
              "  }\n",
              "\n",
              "const JS_MIME_TYPE = 'application/javascript';\n",
              "  const HTML_MIME_TYPE = 'text/html';\n",
              "  const EXEC_MIME_TYPE = 'application/vnd.bokehjs_exec.v0+json';\n",
              "  const CLASS_NAME = 'output_bokeh rendered_html';\n",
              "\n",
              "  /**\n",
              "   * Render data to the DOM node\n",
              "   */\n",
              "  function render(props, node) {\n",
              "    const script = document.createElement(\"script\");\n",
              "    node.appendChild(script);\n",
              "  }\n",
              "\n",
              "  /**\n",
              "   * Handle when an output is cleared or removed\n",
              "   */\n",
              "  function handleClearOutput(event, handle) {\n",
              "    const cell = handle.cell;\n",
              "\n",
              "    const id = cell.output_area._bokeh_element_id;\n",
              "    const server_id = cell.output_area._bokeh_server_id;\n",
              "    // Clean up Bokeh references\n",
              "    if (id != null && id in Bokeh.index) {\n",
              "      Bokeh.index[id].model.document.clear();\n",
              "      delete Bokeh.index[id];\n",
              "    }\n",
              "\n",
              "    if (server_id !== undefined) {\n",
              "      // Clean up Bokeh references\n",
              "      const cmd_clean = \"from bokeh.io.state import curstate; print(curstate().uuid_to_server['\" + server_id + \"'].get_sessions()[0].document.roots[0]._id)\";\n",
              "      cell.notebook.kernel.execute(cmd_clean, {\n",
              "        iopub: {\n",
              "          output: function(msg) {\n",
              "            const id = msg.content.text.trim();\n",
              "            if (id in Bokeh.index) {\n",
              "              Bokeh.index[id].model.document.clear();\n",
              "              delete Bokeh.index[id];\n",
              "            }\n",
              "          }\n",
              "        }\n",
              "      });\n",
              "      // Destroy server and session\n",
              "      const cmd_destroy = \"import bokeh.io.notebook as ion; ion.destroy_server('\" + server_id + \"')\";\n",
              "      cell.notebook.kernel.execute(cmd_destroy);\n",
              "    }\n",
              "  }\n",
              "\n",
              "  /**\n",
              "   * Handle when a new output is added\n",
              "   */\n",
              "  function handleAddOutput(event, handle) {\n",
              "    const output_area = handle.output_area;\n",
              "    const output = handle.output;\n",
              "\n",
              "    // limit handleAddOutput to display_data with EXEC_MIME_TYPE content only\n",
              "    if ((output.output_type != \"display_data\") || (!Object.prototype.hasOwnProperty.call(output.data, EXEC_MIME_TYPE))) {\n",
              "      return\n",
              "    }\n",
              "\n",
              "    const toinsert = output_area.element.find(\".\" + CLASS_NAME.split(' ')[0]);\n",
              "\n",
              "    if (output.metadata[EXEC_MIME_TYPE][\"id\"] !== undefined) {\n",
              "      toinsert[toinsert.length - 1].firstChild.textContent = output.data[JS_MIME_TYPE];\n",
              "      // store reference to embed id on output_area\n",
              "      output_area._bokeh_element_id = output.metadata[EXEC_MIME_TYPE][\"id\"];\n",
              "    }\n",
              "    if (output.metadata[EXEC_MIME_TYPE][\"server_id\"] !== undefined) {\n",
              "      const bk_div = document.createElement(\"div\");\n",
              "      bk_div.innerHTML = output.data[HTML_MIME_TYPE];\n",
              "      const script_attrs = bk_div.children[0].attributes;\n",
              "      for (let i = 0; i < script_attrs.length; i++) {\n",
              "        toinsert[toinsert.length - 1].firstChild.setAttribute(script_attrs[i].name, script_attrs[i].value);\n",
              "        toinsert[toinsert.length - 1].firstChild.textContent = bk_div.children[0].textContent\n",
              "      }\n",
              "      // store reference to server id on output_area\n",
              "      output_area._bokeh_server_id = output.metadata[EXEC_MIME_TYPE][\"server_id\"];\n",
              "    }\n",
              "  }\n",
              "\n",
              "  function register_renderer(events, OutputArea) {\n",
              "\n",
              "    function append_mime(data, metadata, element) {\n",
              "      // create a DOM node to render to\n",
              "      const toinsert = this.create_output_subarea(\n",
              "        metadata,\n",
              "        CLASS_NAME,\n",
              "        EXEC_MIME_TYPE\n",
              "      );\n",
              "      this.keyboard_manager.register_events(toinsert);\n",
              "      // Render to node\n",
              "      const props = {data: data, metadata: metadata[EXEC_MIME_TYPE]};\n",
              "      render(props, toinsert[toinsert.length - 1]);\n",
              "      element.append(toinsert);\n",
              "      return toinsert\n",
              "    }\n",
              "\n",
              "    /* Handle when an output is cleared or removed */\n",
              "    events.on('clear_output.CodeCell', handleClearOutput);\n",
              "    events.on('delete.Cell', handleClearOutput);\n",
              "\n",
              "    /* Handle when a new output is added */\n",
              "    events.on('output_added.OutputArea', handleAddOutput);\n",
              "\n",
              "    /**\n",
              "     * Register the mime type and append_mime function with output_area\n",
              "     */\n",
              "    OutputArea.prototype.register_mime_type(EXEC_MIME_TYPE, append_mime, {\n",
              "      /* Is output safe? */\n",
              "      safe: true,\n",
              "      /* Index of renderer in `output_area.display_order` */\n",
              "      index: 0\n",
              "    });\n",
              "  }\n",
              "\n",
              "  // register the mime type if in Jupyter Notebook environment and previously unregistered\n",
              "  if (root.Jupyter !== undefined) {\n",
              "    const events = require('base/js/events');\n",
              "    const OutputArea = require('notebook/js/outputarea').OutputArea;\n",
              "\n",
              "    if (OutputArea.prototype.mime_types().indexOf(EXEC_MIME_TYPE) == -1) {\n",
              "      register_renderer(events, OutputArea);\n",
              "    }\n",
              "  }\n",
              "  if (typeof (root._bokeh_timeout) === \"undefined\" || force === true) {\n",
              "    root._bokeh_timeout = Date.now() + 5000;\n",
              "    root._bokeh_failed_load = false;\n",
              "  }\n",
              "\n",
              "  const NB_LOAD_WARNING = {'data': {'text/html':\n",
              "     \"<div style='background-color: #fdd'>\\n\"+\n",
              "     \"<p>\\n\"+\n",
              "     \"BokehJS does not appear to have successfully loaded. If loading BokehJS from CDN, this \\n\"+\n",
              "     \"may be due to a slow or bad network connection. Possible fixes:\\n\"+\n",
              "     \"</p>\\n\"+\n",
              "     \"<ul>\\n\"+\n",
              "     \"<li>re-rerun `output_notebook()` to attempt to load from CDN again, or</li>\\n\"+\n",
              "     \"<li>use INLINE resources instead, as so:</li>\\n\"+\n",
              "     \"</ul>\\n\"+\n",
              "     \"<code>\\n\"+\n",
              "     \"from bokeh.resources import INLINE\\n\"+\n",
              "     \"output_notebook(resources=INLINE)\\n\"+\n",
              "     \"</code>\\n\"+\n",
              "     \"</div>\"}};\n",
              "\n",
              "  function display_loaded() {\n",
              "    const el = document.getElementById(\"p4223\");\n",
              "    if (el != null) {\n",
              "      el.textContent = \"BokehJS is loading...\";\n",
              "    }\n",
              "    if (root.Bokeh !== undefined) {\n",
              "      if (el != null) {\n",
              "        el.textContent = \"BokehJS \" + root.Bokeh.version + \" successfully loaded.\";\n",
              "      }\n",
              "    } else if (Date.now() < root._bokeh_timeout) {\n",
              "      setTimeout(display_loaded, 100)\n",
              "    }\n",
              "  }\n",
              "\n",
              "  function run_callbacks() {\n",
              "    try {\n",
              "      root._bokeh_onload_callbacks.forEach(function(callback) {\n",
              "        if (callback != null)\n",
              "          callback();\n",
              "      });\n",
              "    } finally {\n",
              "      delete root._bokeh_onload_callbacks\n",
              "    }\n",
              "    console.debug(\"Bokeh: all callbacks have finished\");\n",
              "  }\n",
              "\n",
              "  function load_libs(css_urls, js_urls, callback) {\n",
              "    if (css_urls == null) css_urls = [];\n",
              "    if (js_urls == null) js_urls = [];\n",
              "\n",
              "    root._bokeh_onload_callbacks.push(callback);\n",
              "    if (root._bokeh_is_loading > 0) {\n",
              "      console.debug(\"Bokeh: BokehJS is being loaded, scheduling callback at\", now());\n",
              "      return null;\n",
              "    }\n",
              "    if (js_urls == null || js_urls.length === 0) {\n",
              "      run_callbacks();\n",
              "      return null;\n",
              "    }\n",
              "    console.debug(\"Bokeh: BokehJS not loaded, scheduling load and callback at\", now());\n",
              "    root._bokeh_is_loading = css_urls.length + js_urls.length;\n",
              "\n",
              "    function on_load() {\n",
              "      root._bokeh_is_loading--;\n",
              "      if (root._bokeh_is_loading === 0) {\n",
              "        console.debug(\"Bokeh: all BokehJS libraries/stylesheets loaded\");\n",
              "        run_callbacks()\n",
              "      }\n",
              "    }\n",
              "\n",
              "    function on_error(url) {\n",
              "      console.error(\"failed to load \" + url);\n",
              "    }\n",
              "\n",
              "    for (let i = 0; i < css_urls.length; i++) {\n",
              "      const url = css_urls[i];\n",
              "      const element = document.createElement(\"link\");\n",
              "      element.onload = on_load;\n",
              "      element.onerror = on_error.bind(null, url);\n",
              "      element.rel = \"stylesheet\";\n",
              "      element.type = \"text/css\";\n",
              "      element.href = url;\n",
              "      console.debug(\"Bokeh: injecting link tag for BokehJS stylesheet: \", url);\n",
              "      document.body.appendChild(element);\n",
              "    }\n",
              "\n",
              "    for (let i = 0; i < js_urls.length; i++) {\n",
              "      const url = js_urls[i];\n",
              "      const element = document.createElement('script');\n",
              "      element.onload = on_load;\n",
              "      element.onerror = on_error.bind(null, url);\n",
              "      element.async = false;\n",
              "      element.src = url;\n",
              "      console.debug(\"Bokeh: injecting script tag for BokehJS library: \", url);\n",
              "      document.head.appendChild(element);\n",
              "    }\n",
              "  };\n",
              "\n",
              "  function inject_raw_css(css) {\n",
              "    const element = document.createElement(\"style\");\n",
              "    element.appendChild(document.createTextNode(css));\n",
              "    document.body.appendChild(element);\n",
              "  }\n",
              "\n",
              "  const js_urls = [\"https://cdn.bokeh.org/bokeh/release/bokeh-3.0.1.min.js\", \"https://cdn.bokeh.org/bokeh/release/bokeh-gl-3.0.1.min.js\", \"https://cdn.bokeh.org/bokeh/release/bokeh-widgets-3.0.1.min.js\", \"https://cdn.bokeh.org/bokeh/release/bokeh-tables-3.0.1.min.js\", \"https://cdn.bokeh.org/bokeh/release/bokeh-mathjax-3.0.1.min.js\"];\n",
              "  const css_urls = [];\n",
              "\n",
              "  const inline_js = [    function(Bokeh) {\n",
              "      Bokeh.set_log_level(\"info\");\n",
              "    },\n",
              "function(Bokeh) {\n",
              "    }\n",
              "  ];\n",
              "\n",
              "  function run_inline_js() {\n",
              "    if (root.Bokeh !== undefined || force === true) {\n",
              "          for (let i = 0; i < inline_js.length; i++) {\n",
              "      inline_js[i].call(root, root.Bokeh);\n",
              "    }\n",
              "if (force === true) {\n",
              "        display_loaded();\n",
              "      }} else if (Date.now() < root._bokeh_timeout) {\n",
              "      setTimeout(run_inline_js, 100);\n",
              "    } else if (!root._bokeh_failed_load) {\n",
              "      console.log(\"Bokeh: BokehJS failed to load within specified timeout.\");\n",
              "      root._bokeh_failed_load = true;\n",
              "    } else if (force !== true) {\n",
              "      const cell = $(document.getElementById(\"p4223\")).parents('.cell').data().cell;\n",
              "      cell.output_area.append_execute_result(NB_LOAD_WARNING)\n",
              "    }\n",
              "  }\n",
              "\n",
              "  if (root._bokeh_is_loading === 0) {\n",
              "    console.debug(\"Bokeh: BokehJS loaded, going straight to plotting\");\n",
              "    run_inline_js();\n",
              "  } else {\n",
              "    load_libs(css_urls, js_urls, function() {\n",
              "      console.debug(\"Bokeh: BokehJS plotting callback run at\", now());\n",
              "      run_inline_js();\n",
              "    });\n",
              "  }\n",
              "}(window));"
            ],
            "application/vnd.bokehjs_load.v0+json": "(function(root) {\n  function now() {\n    return new Date();\n  }\n\n  const force = true;\n\n  if (typeof root._bokeh_onload_callbacks === \"undefined\" || force === true) {\n    root._bokeh_onload_callbacks = [];\n    root._bokeh_is_loading = undefined;\n  }\n\n\n  if (typeof (root._bokeh_timeout) === \"undefined\" || force === true) {\n    root._bokeh_timeout = Date.now() + 5000;\n    root._bokeh_failed_load = false;\n  }\n\n  const NB_LOAD_WARNING = {'data': {'text/html':\n     \"<div style='background-color: #fdd'>\\n\"+\n     \"<p>\\n\"+\n     \"BokehJS does not appear to have successfully loaded. If loading BokehJS from CDN, this \\n\"+\n     \"may be due to a slow or bad network connection. Possible fixes:\\n\"+\n     \"</p>\\n\"+\n     \"<ul>\\n\"+\n     \"<li>re-rerun `output_notebook()` to attempt to load from CDN again, or</li>\\n\"+\n     \"<li>use INLINE resources instead, as so:</li>\\n\"+\n     \"</ul>\\n\"+\n     \"<code>\\n\"+\n     \"from bokeh.resources import INLINE\\n\"+\n     \"output_notebook(resources=INLINE)\\n\"+\n     \"</code>\\n\"+\n     \"</div>\"}};\n\n  function display_loaded() {\n    const el = document.getElementById(\"p4223\");\n    if (el != null) {\n      el.textContent = \"BokehJS is loading...\";\n    }\n    if (root.Bokeh !== undefined) {\n      if (el != null) {\n        el.textContent = \"BokehJS \" + root.Bokeh.version + \" successfully loaded.\";\n      }\n    } else if (Date.now() < root._bokeh_timeout) {\n      setTimeout(display_loaded, 100)\n    }\n  }\n\n  function run_callbacks() {\n    try {\n      root._bokeh_onload_callbacks.forEach(function(callback) {\n        if (callback != null)\n          callback();\n      });\n    } finally {\n      delete root._bokeh_onload_callbacks\n    }\n    console.debug(\"Bokeh: all callbacks have finished\");\n  }\n\n  function load_libs(css_urls, js_urls, callback) {\n    if (css_urls == null) css_urls = [];\n    if (js_urls == null) js_urls = [];\n\n    root._bokeh_onload_callbacks.push(callback);\n    if (root._bokeh_is_loading > 0) {\n      console.debug(\"Bokeh: BokehJS is being loaded, scheduling callback at\", now());\n      return null;\n    }\n    if (js_urls == null || js_urls.length === 0) {\n      run_callbacks();\n      return null;\n    }\n    console.debug(\"Bokeh: BokehJS not loaded, scheduling load and callback at\", now());\n    root._bokeh_is_loading = css_urls.length + js_urls.length;\n\n    function on_load() {\n      root._bokeh_is_loading--;\n      if (root._bokeh_is_loading === 0) {\n        console.debug(\"Bokeh: all BokehJS libraries/stylesheets loaded\");\n        run_callbacks()\n      }\n    }\n\n    function on_error(url) {\n      console.error(\"failed to load \" + url);\n    }\n\n    for (let i = 0; i < css_urls.length; i++) {\n      const url = css_urls[i];\n      const element = document.createElement(\"link\");\n      element.onload = on_load;\n      element.onerror = on_error.bind(null, url);\n      element.rel = \"stylesheet\";\n      element.type = \"text/css\";\n      element.href = url;\n      console.debug(\"Bokeh: injecting link tag for BokehJS stylesheet: \", url);\n      document.body.appendChild(element);\n    }\n\n    for (let i = 0; i < js_urls.length; i++) {\n      const url = js_urls[i];\n      const element = document.createElement('script');\n      element.onload = on_load;\n      element.onerror = on_error.bind(null, url);\n      element.async = false;\n      element.src = url;\n      console.debug(\"Bokeh: injecting script tag for BokehJS library: \", url);\n      document.head.appendChild(element);\n    }\n  };\n\n  function inject_raw_css(css) {\n    const element = document.createElement(\"style\");\n    element.appendChild(document.createTextNode(css));\n    document.body.appendChild(element);\n  }\n\n  const js_urls = [\"https://cdn.bokeh.org/bokeh/release/bokeh-3.0.1.min.js\", \"https://cdn.bokeh.org/bokeh/release/bokeh-gl-3.0.1.min.js\", \"https://cdn.bokeh.org/bokeh/release/bokeh-widgets-3.0.1.min.js\", \"https://cdn.bokeh.org/bokeh/release/bokeh-tables-3.0.1.min.js\", \"https://cdn.bokeh.org/bokeh/release/bokeh-mathjax-3.0.1.min.js\"];\n  const css_urls = [];\n\n  const inline_js = [    function(Bokeh) {\n      Bokeh.set_log_level(\"info\");\n    },\nfunction(Bokeh) {\n    }\n  ];\n\n  function run_inline_js() {\n    if (root.Bokeh !== undefined || force === true) {\n          for (let i = 0; i < inline_js.length; i++) {\n      inline_js[i].call(root, root.Bokeh);\n    }\nif (force === true) {\n        display_loaded();\n      }} else if (Date.now() < root._bokeh_timeout) {\n      setTimeout(run_inline_js, 100);\n    } else if (!root._bokeh_failed_load) {\n      console.log(\"Bokeh: BokehJS failed to load within specified timeout.\");\n      root._bokeh_failed_load = true;\n    } else if (force !== true) {\n      const cell = $(document.getElementById(\"p4223\")).parents('.cell').data().cell;\n      cell.output_area.append_execute_result(NB_LOAD_WARNING)\n    }\n  }\n\n  if (root._bokeh_is_loading === 0) {\n    console.debug(\"Bokeh: BokehJS loaded, going straight to plotting\");\n    run_inline_js();\n  } else {\n    load_libs(css_urls, js_urls, function() {\n      console.debug(\"Bokeh: BokehJS plotting callback run at\", now());\n      run_inline_js();\n    });\n  }\n}(window));"
          },
          "metadata": {},
          "output_type": "display_data"
        },
        {
          "data": {
            "text/html": [
              "\n",
              "  <div id=\"91f5725d-0083-49e0-a87b-a328b5803b10\" data-root-id=\"p4226\" style=\"display: contents;\"></div>\n"
            ]
          },
          "metadata": {},
          "output_type": "display_data"
        },
        {
          "data": {
            "application/javascript": [
              "(function(root) {\n",
              "  function embed_document(root) {\n",
              "  const docs_json = {\"c05e674f-f171-4105-8bc6-2a381cd63e72\":{\"version\":\"3.0.1\",\"title\":\"Bokeh Application\",\"defs\":[],\"roots\":[{\"type\":\"object\",\"name\":\"Figure\",\"id\":\"p4226\",\"attributes\":{\"width\":900,\"x_range\":{\"type\":\"object\",\"name\":\"DataRange1d\",\"id\":\"p4227\"},\"y_range\":{\"type\":\"object\",\"name\":\"DataRange1d\",\"id\":\"p4228\"},\"x_scale\":{\"type\":\"object\",\"name\":\"LinearScale\",\"id\":\"p4240\"},\"y_scale\":{\"type\":\"object\",\"name\":\"LinearScale\",\"id\":\"p4242\"},\"title\":{\"type\":\"object\",\"name\":\"Title\",\"id\":\"p4229\",\"attributes\":{\"text\":\"LGBM\"}},\"renderers\":[{\"type\":\"object\",\"name\":\"GlyphRenderer\",\"id\":\"p4319\",\"attributes\":{\"data_source\":{\"type\":\"object\",\"name\":\"ColumnDataSource\",\"id\":\"p4313\",\"attributes\":{\"selected\":{\"type\":\"object\",\"name\":\"Selection\",\"id\":\"p4314\",\"attributes\":{\"indices\":[],\"line_indices\":[]}},\"selection_policy\":{\"type\":\"object\",\"name\":\"UnionRenderers\",\"id\":\"p4315\"},\"data\":{\"type\":\"map\",\"entries\":[[\"x\",{\"type\":\"ndarray\",\"array\":{\"type\":\"bytes\",\"data\":\"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\"},\"shape\":[454],\"dtype\":\"float64\",\"order\":\"little\"}],[\"y\",{\"type\":\"ndarray\",\"array\":{\"type\":\"bytes\",\"data\":\"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\"},\"shape\":[454],\"dtype\":\"float64\",\"order\":\"little\"}]]}}},\"view\":{\"type\":\"object\",\"name\":\"CDSView\",\"id\":\"p4320\",\"attributes\":{\"filter\":{\"type\":\"object\",\"name\":\"AllIndices\",\"id\":\"p4321\"}}},\"glyph\":{\"type\":\"object\",\"name\":\"Line\",\"id\":\"p4316\",\"attributes\":{\"x\":{\"type\":\"field\",\"field\":\"x\"},\"y\":{\"type\":\"field\",\"field\":\"y\"},\"line_color\":\"#1f77b4\",\"line_width\":2}},\"nonselection_glyph\":{\"type\":\"object\",\"name\":\"Line\",\"id\":\"p4317\",\"attributes\":{\"x\":{\"type\":\"field\",\"field\":\"x\"},\"y\":{\"type\":\"field\",\"field\":\"y\"},\"line_color\":\"#1f77b4\",\"line_alpha\":0.1,\"line_width\":2}},\"muted_glyph\":{\"type\":\"object\",\"name\":\"Line\",\"id\":\"p4318\",\"attributes\":{\"x\":{\"type\":\"field\",\"field\":\"x\"},\"y\":{\"type\":\"field\",\"field\":\"y\"},\"line_color\":\"#1f77b4\",\"line_alpha\":0.2,\"line_width\":2}}}},{\"type\":\"object\",\"name\":\"GlyphRenderer\",\"id\":\"p4328\",\"attributes\":{\"data_source\":{\"type\":\"object\",\"name\":\"ColumnDataSource\",\"id\":\"p4322\",\"attributes\":{\"selected\":{\"type\":\"object\",\"name\":\"Selection\",\"id\":\"p4323\",\"attributes\":{\"indices\":[],\"line_indices\":[]}},\"selection_policy\":{\"type\":\"object\",\"name\":\"UnionRenderers\",\"id\":\"p4324\"},\"data\":{\"type\":\"map\",\"entries\":[[\"x\",{\"type\":\"ndarray\",\"array\":{\"type\":\"bytes\",\"data\":\"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\"},\"shape\":[454],\"dtype\":\"float64\",\"order\":\"little\"}],[\"y\",{\"type\":\"ndarray\",\"array\":{\"type\":\"bytes\",\"data\":\"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\"},\"shape\":[454],\"dtype\":\"float64\",\"order\":\"little\"}]]}}},\"view\":{\"type\":\"object\",\"name\":\"CDSView\",\"id\":\"p4329\",\"attributes\":{\"filter\":{\"type\":\"object\",\"name\":\"AllIndices\",\"id\":\"p4330\"}}},\"glyph\":{\"type\":\"object\",\"name\":\"Line\",\"id\":\"p4325\",\"attributes\":{\"x\":{\"type\":\"field\",\"field\":\"x\"},\"y\":{\"type\":\"field\",\"field\":\"y\"},\"line_color\":\"orange\",\"line_width\":2}},\"nonselection_glyph\":{\"type\":\"object\",\"name\":\"Line\",\"id\":\"p4326\",\"attributes\":{\"x\":{\"type\":\"field\",\"field\":\"x\"},\"y\":{\"type\":\"field\",\"field\":\"y\"},\"line_color\":\"orange\",\"line_alpha\":0.1,\"line_width\":2}},\"muted_glyph\":{\"type\":\"object\",\"name\":\"Line\",\"id\":\"p4327\",\"attributes\":{\"x\":{\"type\":\"field\",\"field\":\"x\"},\"y\":{\"type\":\"field\",\"field\":\"y\"},\"line_color\":\"orange\",\"line_alpha\":0.2,\"line_width\":2}}}}],\"toolbar\":{\"type\":\"object\",\"name\":\"Toolbar\",\"id\":\"p4234\",\"attributes\":{\"tools\":[{\"type\":\"object\",\"name\":\"PanTool\",\"id\":\"p4294\"},{\"type\":\"object\",\"name\":\"WheelZoomTool\",\"id\":\"p4295\"},{\"type\":\"object\",\"name\":\"BoxZoomTool\",\"id\":\"p4296\",\"attributes\":{\"overlay\":{\"type\":\"object\",\"name\":\"BoxAnnotation\",\"id\":\"p4297\",\"attributes\":{\"syncable\":false,\"level\":\"overlay\",\"visible\":false,\"left_units\":\"canvas\",\"right_units\":\"canvas\",\"bottom_units\":\"canvas\",\"top_units\":\"canvas\",\"line_color\":\"black\",\"line_alpha\":1.0,\"line_width\":2,\"line_dash\":[4,4],\"fill_color\":\"lightgrey\",\"fill_alpha\":0.5}}}},{\"type\":\"object\",\"name\":\"ResetTool\",\"id\":\"p4298\"},{\"type\":\"object\",\"name\":\"SaveTool\",\"id\":\"p4299\"},{\"type\":\"object\",\"name\":\"BoxSelectTool\",\"id\":\"p4300\",\"attributes\":{\"renderers\":\"auto\",\"overlay\":{\"type\":\"object\",\"name\":\"BoxAnnotation\",\"id\":\"p4301\",\"attributes\":{\"syncable\":false,\"level\":\"overlay\",\"visible\":false,\"left_units\":\"canvas\",\"right_units\":\"canvas\",\"bottom_units\":\"canvas\",\"top_units\":\"canvas\",\"line_color\":\"black\",\"line_alpha\":1.0,\"line_width\":2,\"line_dash\":[4,4],\"fill_color\":\"lightgrey\",\"fill_alpha\":0.5}}}},{\"type\":\"object\",\"name\":\"HoverTool\",\"id\":\"p4225\",\"attributes\":{\"renderers\":\"auto\",\"tooltips\":[[\"date\",\"@x{%d-%m-%YT%H:%M:%S}\"],[\"value\",\"@y\"]],\"formatters\":{\"type\":\"map\",\"entries\":[[\"@x\",\"datetime\"]]},\"mode\":\"vline\"}}],\"active_scroll\":{\"id\":\"p4295\"}}},\"left\":[{\"type\":\"object\",\"name\":\"LinearAxis\",\"id\":\"p4287\",\"attributes\":{\"ticker\":{\"type\":\"object\",\"name\":\"BasicTicker\",\"id\":\"p4290\",\"attributes\":{\"mantissas\":[1,2,5]}},\"formatter\":{\"type\":\"object\",\"name\":\"BasicTickFormatter\",\"id\":\"p4288\"},\"axis_label\":\"value\",\"major_label_policy\":{\"type\":\"object\",\"name\":\"AllLabels\",\"id\":\"p4289\"}}}],\"below\":[{\"type\":\"object\",\"name\":\"DatetimeAxis\",\"id\":\"p4244\",\"attributes\":{\"ticker\":{\"type\":\"object\",\"name\":\"DatetimeTicker\",\"id\":\"p4247\",\"attributes\":{\"num_minor_ticks\":5,\"tickers\":[{\"type\":\"object\",\"name\":\"AdaptiveTicker\",\"id\":\"p4248\",\"attributes\":{\"num_minor_ticks\":0,\"mantissas\":[1,2,5],\"max_interval\":500.0}},{\"type\":\"object\",\"name\":\"AdaptiveTicker\",\"id\":\"p4249\",\"attributes\":{\"num_minor_ticks\":0,\"base\":60,\"mantissas\":[1,2,5,10,15,20,30],\"min_interval\":1000.0,\"max_interval\":1800000.0}},{\"type\":\"object\",\"name\":\"AdaptiveTicker\",\"id\":\"p4250\",\"attributes\":{\"num_minor_ticks\":0,\"base\":24,\"mantissas\":[1,2,4,6,8,12],\"min_interval\":3600000.0,\"max_interval\":43200000.0}},{\"type\":\"object\",\"name\":\"DaysTicker\",\"id\":\"p4251\",\"attributes\":{\"days\":[1,2,3,4,5,6,7,8,9,10,11,12,13,14,15,16,17,18,19,20,21,22,23,24,25,26,27,28,29,30,31]}},{\"type\":\"object\",\"name\":\"DaysTicker\",\"id\":\"p4252\",\"attributes\":{\"days\":[1,4,7,10,13,16,19,22,25,28]}},{\"type\":\"object\",\"name\":\"DaysTicker\",\"id\":\"p4253\",\"attributes\":{\"days\":[1,8,15,22]}},{\"type\":\"object\",\"name\":\"DaysTicker\",\"id\":\"p4254\",\"attributes\":{\"days\":[1,15]}},{\"type\":\"object\",\"name\":\"MonthsTicker\",\"id\":\"p4255\",\"attributes\":{\"months\":[0,1,2,3,4,5,6,7,8,9,10,11]}},{\"type\":\"object\",\"name\":\"MonthsTicker\",\"id\":\"p4256\",\"attributes\":{\"months\":[0,2,4,6,8,10]}},{\"type\":\"object\",\"name\":\"MonthsTicker\",\"id\":\"p4257\",\"attributes\":{\"months\":[0,4,8]}},{\"type\":\"object\",\"name\":\"MonthsTicker\",\"id\":\"p4258\",\"attributes\":{\"months\":[0,6]}},{\"type\":\"object\",\"name\":\"YearsTicker\",\"id\":\"p4259\"}]}},\"formatter\":{\"type\":\"object\",\"name\":\"DatetimeTickFormatter\",\"id\":\"p4224\",\"attributes\":{\"hours\":\"%d %B %Y\",\"days\":\"%d %B %Y\",\"months\":\"%d %B %Y\",\"years\":\"%d %B %Y\"}},\"axis_label\":\"time\",\"major_label_policy\":{\"type\":\"object\",\"name\":\"AllLabels\",\"id\":\"p4246\"}}}],\"center\":[{\"type\":\"object\",\"name\":\"Grid\",\"id\":\"p4286\",\"attributes\":{\"axis\":{\"id\":\"p4244\"}}},{\"type\":\"object\",\"name\":\"Grid\",\"id\":\"p4293\",\"attributes\":{\"dimension\":1,\"axis\":{\"id\":\"p4287\"}}}]}}]}};\n",
              "  const render_items = [{\"docid\":\"c05e674f-f171-4105-8bc6-2a381cd63e72\",\"roots\":{\"p4226\":\"91f5725d-0083-49e0-a87b-a328b5803b10\"},\"root_ids\":[\"p4226\"]}];\n",
              "  root.Bokeh.embed.embed_items_notebook(docs_json, render_items);\n",
              "  }\n",
              "  if (root.Bokeh !== undefined) {\n",
              "    embed_document(root);\n",
              "  } else {\n",
              "    let attempts = 0;\n",
              "    const timer = setInterval(function(root) {\n",
              "      if (root.Bokeh !== undefined) {\n",
              "        clearInterval(timer);\n",
              "        embed_document(root);\n",
              "      } else {\n",
              "        attempts++;\n",
              "        if (attempts > 100) {\n",
              "          clearInterval(timer);\n",
              "          console.log(\"Bokeh: ERROR: Unable to run BokehJS code because BokehJS library is missing\");\n",
              "        }\n",
              "      }\n",
              "    }, 10, root)\n",
              "  }\n",
              "})(window);"
            ],
            "application/vnd.bokehjs_exec.v0+json": ""
          },
          "metadata": {
            "application/vnd.bokehjs_exec.v0+json": {
              "id": "p4226"
            }
          },
          "output_type": "display_data"
        }
      ],
      "source": [
        "plot_ts(ts_test['y'], lgbm_pred, title = 'LGBM')"
      ]
    },
    {
      "cell_type": "code",
      "execution_count": null,
      "id": "sTSqImfE2gnN",
      "metadata": {
        "colab": {
          "base_uri": "https://localhost:8080/",
          "height": 637
        },
        "id": "sTSqImfE2gnN",
        "outputId": "704ad0e9-91b8-45b4-a79d-70500ef62e35"
      },
      "outputs": [
        {
          "data": {
            "text/html": [
              "<style>\n",
              "        .bk-notebook-logo {\n",
              "            display: block;\n",
              "            width: 20px;\n",
              "            height: 20px;\n",
              "            background-image: url(data:image/png;base64,iVBORw0KGgoAAAANSUhEUgAAABQAAAAUCAYAAACNiR0NAAAABHNCSVQICAgIfAhkiAAAAAlwSFlzAAALEgAACxIB0t1+/AAAABx0RVh0U29mdHdhcmUAQWRvYmUgRmlyZXdvcmtzIENTNui8sowAAAOkSURBVDiNjZRtaJVlGMd/1/08zzln5zjP1LWcU9N0NkN8m2CYjpgQYQXqSs0I84OLIC0hkEKoPtiH3gmKoiJDU7QpLgoLjLIQCpEsNJ1vqUOdO7ppbuec5+V+rj4ctwzd8IIbbi6u+8f1539dt3A78eXC7QizUF7gyV1fD1Yqg4JWz84yffhm0qkFqBogB9rM8tZdtwVsPUhWhGcFJngGeWrPzHm5oaMmkfEg1usvLFyc8jLRqDOMru7AyC8saQr7GG7f5fvDeH7Ej8CM66nIF+8yngt6HWaKh7k49Soy9nXurCi1o3qUbS3zWfrYeQDTB/Qj6kX6Ybhw4B+bOYoLKCC9H3Nu/leUTZ1JdRWkkn2ldcCamzrcf47KKXdAJllSlxAOkRgyHsGC/zRday5Qld9DyoM4/q/rUoy/CXh3jzOu3bHUVZeU+DEn8FInkPBFlu3+nW3Nw0mk6vCDiWg8CeJaxEwuHS3+z5RgY+YBR6V1Z1nxSOfoaPa4LASWxxdNp+VWTk7+4vzaou8v8PN+xo+KY2xsw6une2frhw05CTYOmQvsEhjhWjn0bmXPjpE1+kplmmkP3suftwTubK9Vq22qKmrBhpY4jvd5afdRA3wGjFAgcnTK2s4hY0/GPNIb0nErGMCRxWOOX64Z8RAC4oCXdklmEvcL8o0BfkNK4lUg9HTl+oPlQxdNo3Mg4Nv175e/1LDGzZen30MEjRUtmXSfiTVu1kK8W4txyV6BMKlbgk3lMwYCiusNy9fVfvvwMxv8Ynl6vxoByANLTWplvuj/nF9m2+PDtt1eiHPBr1oIfhCChQMBw6Aw0UulqTKZdfVvfG7VcfIqLG9bcldL/+pdWTLxLUy8Qq38heUIjh4XlzZxzQm19lLFlr8vdQ97rjZVOLf8nclzckbcD4wxXMidpX30sFd37Fv/GtwwhzhxGVAprjbg0gCAEeIgwCZyTV2Z1REEW8O4py0wsjeloKoMr6iCY6dP92H6Vw/oTyICIthibxjm/DfN9lVz8IqtqKYLUXfoKVMVQVVJOElGjrnnUt9T9wbgp8AyYKaGlqingHZU/uG2NTZSVqwHQTWkx9hxjkpWDaCg6Ckj5qebgBVbT3V3NNXMSiWSDdGV3hrtzla7J+duwPOToIg42ChPQOQjspnSlp1V+Gjdged7+8UN5CRAV7a5EdFNwCjEaBR27b3W890TE7g24NAP/mMDXRWrGoFPQI9ls/MWO2dWFAar/xcOIImbbpA3zgAAAABJRU5ErkJggg==);\n",
              "        }\n",
              "    </style>\n",
              "    <div>\n",
              "        <a href=\"https://bokeh.org\" target=\"_blank\" class=\"bk-notebook-logo\"></a>\n",
              "        <span id=\"p4867\">Loading BokehJS ...</span>\n",
              "    </div>\n"
            ]
          },
          "metadata": {},
          "output_type": "display_data"
        },
        {
          "data": {
            "application/javascript": [
              "(function(root) {\n",
              "  function now() {\n",
              "    return new Date();\n",
              "  }\n",
              "\n",
              "  const force = true;\n",
              "\n",
              "  if (typeof root._bokeh_onload_callbacks === \"undefined\" || force === true) {\n",
              "    root._bokeh_onload_callbacks = [];\n",
              "    root._bokeh_is_loading = undefined;\n",
              "  }\n",
              "\n",
              "const JS_MIME_TYPE = 'application/javascript';\n",
              "  const HTML_MIME_TYPE = 'text/html';\n",
              "  const EXEC_MIME_TYPE = 'application/vnd.bokehjs_exec.v0+json';\n",
              "  const CLASS_NAME = 'output_bokeh rendered_html';\n",
              "\n",
              "  /**\n",
              "   * Render data to the DOM node\n",
              "   */\n",
              "  function render(props, node) {\n",
              "    const script = document.createElement(\"script\");\n",
              "    node.appendChild(script);\n",
              "  }\n",
              "\n",
              "  /**\n",
              "   * Handle when an output is cleared or removed\n",
              "   */\n",
              "  function handleClearOutput(event, handle) {\n",
              "    const cell = handle.cell;\n",
              "\n",
              "    const id = cell.output_area._bokeh_element_id;\n",
              "    const server_id = cell.output_area._bokeh_server_id;\n",
              "    // Clean up Bokeh references\n",
              "    if (id != null && id in Bokeh.index) {\n",
              "      Bokeh.index[id].model.document.clear();\n",
              "      delete Bokeh.index[id];\n",
              "    }\n",
              "\n",
              "    if (server_id !== undefined) {\n",
              "      // Clean up Bokeh references\n",
              "      const cmd_clean = \"from bokeh.io.state import curstate; print(curstate().uuid_to_server['\" + server_id + \"'].get_sessions()[0].document.roots[0]._id)\";\n",
              "      cell.notebook.kernel.execute(cmd_clean, {\n",
              "        iopub: {\n",
              "          output: function(msg) {\n",
              "            const id = msg.content.text.trim();\n",
              "            if (id in Bokeh.index) {\n",
              "              Bokeh.index[id].model.document.clear();\n",
              "              delete Bokeh.index[id];\n",
              "            }\n",
              "          }\n",
              "        }\n",
              "      });\n",
              "      // Destroy server and session\n",
              "      const cmd_destroy = \"import bokeh.io.notebook as ion; ion.destroy_server('\" + server_id + \"')\";\n",
              "      cell.notebook.kernel.execute(cmd_destroy);\n",
              "    }\n",
              "  }\n",
              "\n",
              "  /**\n",
              "   * Handle when a new output is added\n",
              "   */\n",
              "  function handleAddOutput(event, handle) {\n",
              "    const output_area = handle.output_area;\n",
              "    const output = handle.output;\n",
              "\n",
              "    // limit handleAddOutput to display_data with EXEC_MIME_TYPE content only\n",
              "    if ((output.output_type != \"display_data\") || (!Object.prototype.hasOwnProperty.call(output.data, EXEC_MIME_TYPE))) {\n",
              "      return\n",
              "    }\n",
              "\n",
              "    const toinsert = output_area.element.find(\".\" + CLASS_NAME.split(' ')[0]);\n",
              "\n",
              "    if (output.metadata[EXEC_MIME_TYPE][\"id\"] !== undefined) {\n",
              "      toinsert[toinsert.length - 1].firstChild.textContent = output.data[JS_MIME_TYPE];\n",
              "      // store reference to embed id on output_area\n",
              "      output_area._bokeh_element_id = output.metadata[EXEC_MIME_TYPE][\"id\"];\n",
              "    }\n",
              "    if (output.metadata[EXEC_MIME_TYPE][\"server_id\"] !== undefined) {\n",
              "      const bk_div = document.createElement(\"div\");\n",
              "      bk_div.innerHTML = output.data[HTML_MIME_TYPE];\n",
              "      const script_attrs = bk_div.children[0].attributes;\n",
              "      for (let i = 0; i < script_attrs.length; i++) {\n",
              "        toinsert[toinsert.length - 1].firstChild.setAttribute(script_attrs[i].name, script_attrs[i].value);\n",
              "        toinsert[toinsert.length - 1].firstChild.textContent = bk_div.children[0].textContent\n",
              "      }\n",
              "      // store reference to server id on output_area\n",
              "      output_area._bokeh_server_id = output.metadata[EXEC_MIME_TYPE][\"server_id\"];\n",
              "    }\n",
              "  }\n",
              "\n",
              "  function register_renderer(events, OutputArea) {\n",
              "\n",
              "    function append_mime(data, metadata, element) {\n",
              "      // create a DOM node to render to\n",
              "      const toinsert = this.create_output_subarea(\n",
              "        metadata,\n",
              "        CLASS_NAME,\n",
              "        EXEC_MIME_TYPE\n",
              "      );\n",
              "      this.keyboard_manager.register_events(toinsert);\n",
              "      // Render to node\n",
              "      const props = {data: data, metadata: metadata[EXEC_MIME_TYPE]};\n",
              "      render(props, toinsert[toinsert.length - 1]);\n",
              "      element.append(toinsert);\n",
              "      return toinsert\n",
              "    }\n",
              "\n",
              "    /* Handle when an output is cleared or removed */\n",
              "    events.on('clear_output.CodeCell', handleClearOutput);\n",
              "    events.on('delete.Cell', handleClearOutput);\n",
              "\n",
              "    /* Handle when a new output is added */\n",
              "    events.on('output_added.OutputArea', handleAddOutput);\n",
              "\n",
              "    /**\n",
              "     * Register the mime type and append_mime function with output_area\n",
              "     */\n",
              "    OutputArea.prototype.register_mime_type(EXEC_MIME_TYPE, append_mime, {\n",
              "      /* Is output safe? */\n",
              "      safe: true,\n",
              "      /* Index of renderer in `output_area.display_order` */\n",
              "      index: 0\n",
              "    });\n",
              "  }\n",
              "\n",
              "  // register the mime type if in Jupyter Notebook environment and previously unregistered\n",
              "  if (root.Jupyter !== undefined) {\n",
              "    const events = require('base/js/events');\n",
              "    const OutputArea = require('notebook/js/outputarea').OutputArea;\n",
              "\n",
              "    if (OutputArea.prototype.mime_types().indexOf(EXEC_MIME_TYPE) == -1) {\n",
              "      register_renderer(events, OutputArea);\n",
              "    }\n",
              "  }\n",
              "  if (typeof (root._bokeh_timeout) === \"undefined\" || force === true) {\n",
              "    root._bokeh_timeout = Date.now() + 5000;\n",
              "    root._bokeh_failed_load = false;\n",
              "  }\n",
              "\n",
              "  const NB_LOAD_WARNING = {'data': {'text/html':\n",
              "     \"<div style='background-color: #fdd'>\\n\"+\n",
              "     \"<p>\\n\"+\n",
              "     \"BokehJS does not appear to have successfully loaded. If loading BokehJS from CDN, this \\n\"+\n",
              "     \"may be due to a slow or bad network connection. Possible fixes:\\n\"+\n",
              "     \"</p>\\n\"+\n",
              "     \"<ul>\\n\"+\n",
              "     \"<li>re-rerun `output_notebook()` to attempt to load from CDN again, or</li>\\n\"+\n",
              "     \"<li>use INLINE resources instead, as so:</li>\\n\"+\n",
              "     \"</ul>\\n\"+\n",
              "     \"<code>\\n\"+\n",
              "     \"from bokeh.resources import INLINE\\n\"+\n",
              "     \"output_notebook(resources=INLINE)\\n\"+\n",
              "     \"</code>\\n\"+\n",
              "     \"</div>\"}};\n",
              "\n",
              "  function display_loaded() {\n",
              "    const el = document.getElementById(\"p4867\");\n",
              "    if (el != null) {\n",
              "      el.textContent = \"BokehJS is loading...\";\n",
              "    }\n",
              "    if (root.Bokeh !== undefined) {\n",
              "      if (el != null) {\n",
              "        el.textContent = \"BokehJS \" + root.Bokeh.version + \" successfully loaded.\";\n",
              "      }\n",
              "    } else if (Date.now() < root._bokeh_timeout) {\n",
              "      setTimeout(display_loaded, 100)\n",
              "    }\n",
              "  }\n",
              "\n",
              "  function run_callbacks() {\n",
              "    try {\n",
              "      root._bokeh_onload_callbacks.forEach(function(callback) {\n",
              "        if (callback != null)\n",
              "          callback();\n",
              "      });\n",
              "    } finally {\n",
              "      delete root._bokeh_onload_callbacks\n",
              "    }\n",
              "    console.debug(\"Bokeh: all callbacks have finished\");\n",
              "  }\n",
              "\n",
              "  function load_libs(css_urls, js_urls, callback) {\n",
              "    if (css_urls == null) css_urls = [];\n",
              "    if (js_urls == null) js_urls = [];\n",
              "\n",
              "    root._bokeh_onload_callbacks.push(callback);\n",
              "    if (root._bokeh_is_loading > 0) {\n",
              "      console.debug(\"Bokeh: BokehJS is being loaded, scheduling callback at\", now());\n",
              "      return null;\n",
              "    }\n",
              "    if (js_urls == null || js_urls.length === 0) {\n",
              "      run_callbacks();\n",
              "      return null;\n",
              "    }\n",
              "    console.debug(\"Bokeh: BokehJS not loaded, scheduling load and callback at\", now());\n",
              "    root._bokeh_is_loading = css_urls.length + js_urls.length;\n",
              "\n",
              "    function on_load() {\n",
              "      root._bokeh_is_loading--;\n",
              "      if (root._bokeh_is_loading === 0) {\n",
              "        console.debug(\"Bokeh: all BokehJS libraries/stylesheets loaded\");\n",
              "        run_callbacks()\n",
              "      }\n",
              "    }\n",
              "\n",
              "    function on_error(url) {\n",
              "      console.error(\"failed to load \" + url);\n",
              "    }\n",
              "\n",
              "    for (let i = 0; i < css_urls.length; i++) {\n",
              "      const url = css_urls[i];\n",
              "      const element = document.createElement(\"link\");\n",
              "      element.onload = on_load;\n",
              "      element.onerror = on_error.bind(null, url);\n",
              "      element.rel = \"stylesheet\";\n",
              "      element.type = \"text/css\";\n",
              "      element.href = url;\n",
              "      console.debug(\"Bokeh: injecting link tag for BokehJS stylesheet: \", url);\n",
              "      document.body.appendChild(element);\n",
              "    }\n",
              "\n",
              "    for (let i = 0; i < js_urls.length; i++) {\n",
              "      const url = js_urls[i];\n",
              "      const element = document.createElement('script');\n",
              "      element.onload = on_load;\n",
              "      element.onerror = on_error.bind(null, url);\n",
              "      element.async = false;\n",
              "      element.src = url;\n",
              "      console.debug(\"Bokeh: injecting script tag for BokehJS library: \", url);\n",
              "      document.head.appendChild(element);\n",
              "    }\n",
              "  };\n",
              "\n",
              "  function inject_raw_css(css) {\n",
              "    const element = document.createElement(\"style\");\n",
              "    element.appendChild(document.createTextNode(css));\n",
              "    document.body.appendChild(element);\n",
              "  }\n",
              "\n",
              "  const js_urls = [\"https://cdn.bokeh.org/bokeh/release/bokeh-3.0.1.min.js\", \"https://cdn.bokeh.org/bokeh/release/bokeh-gl-3.0.1.min.js\", \"https://cdn.bokeh.org/bokeh/release/bokeh-widgets-3.0.1.min.js\", \"https://cdn.bokeh.org/bokeh/release/bokeh-tables-3.0.1.min.js\", \"https://cdn.bokeh.org/bokeh/release/bokeh-mathjax-3.0.1.min.js\"];\n",
              "  const css_urls = [];\n",
              "\n",
              "  const inline_js = [    function(Bokeh) {\n",
              "      Bokeh.set_log_level(\"info\");\n",
              "    },\n",
              "function(Bokeh) {\n",
              "    }\n",
              "  ];\n",
              "\n",
              "  function run_inline_js() {\n",
              "    if (root.Bokeh !== undefined || force === true) {\n",
              "          for (let i = 0; i < inline_js.length; i++) {\n",
              "      inline_js[i].call(root, root.Bokeh);\n",
              "    }\n",
              "if (force === true) {\n",
              "        display_loaded();\n",
              "      }} else if (Date.now() < root._bokeh_timeout) {\n",
              "      setTimeout(run_inline_js, 100);\n",
              "    } else if (!root._bokeh_failed_load) {\n",
              "      console.log(\"Bokeh: BokehJS failed to load within specified timeout.\");\n",
              "      root._bokeh_failed_load = true;\n",
              "    } else if (force !== true) {\n",
              "      const cell = $(document.getElementById(\"p4867\")).parents('.cell').data().cell;\n",
              "      cell.output_area.append_execute_result(NB_LOAD_WARNING)\n",
              "    }\n",
              "  }\n",
              "\n",
              "  if (root._bokeh_is_loading === 0) {\n",
              "    console.debug(\"Bokeh: BokehJS loaded, going straight to plotting\");\n",
              "    run_inline_js();\n",
              "  } else {\n",
              "    load_libs(css_urls, js_urls, function() {\n",
              "      console.debug(\"Bokeh: BokehJS plotting callback run at\", now());\n",
              "      run_inline_js();\n",
              "    });\n",
              "  }\n",
              "}(window));"
            ],
            "application/vnd.bokehjs_load.v0+json": "(function(root) {\n  function now() {\n    return new Date();\n  }\n\n  const force = true;\n\n  if (typeof root._bokeh_onload_callbacks === \"undefined\" || force === true) {\n    root._bokeh_onload_callbacks = [];\n    root._bokeh_is_loading = undefined;\n  }\n\n\n  if (typeof (root._bokeh_timeout) === \"undefined\" || force === true) {\n    root._bokeh_timeout = Date.now() + 5000;\n    root._bokeh_failed_load = false;\n  }\n\n  const NB_LOAD_WARNING = {'data': {'text/html':\n     \"<div style='background-color: #fdd'>\\n\"+\n     \"<p>\\n\"+\n     \"BokehJS does not appear to have successfully loaded. If loading BokehJS from CDN, this \\n\"+\n     \"may be due to a slow or bad network connection. Possible fixes:\\n\"+\n     \"</p>\\n\"+\n     \"<ul>\\n\"+\n     \"<li>re-rerun `output_notebook()` to attempt to load from CDN again, or</li>\\n\"+\n     \"<li>use INLINE resources instead, as so:</li>\\n\"+\n     \"</ul>\\n\"+\n     \"<code>\\n\"+\n     \"from bokeh.resources import INLINE\\n\"+\n     \"output_notebook(resources=INLINE)\\n\"+\n     \"</code>\\n\"+\n     \"</div>\"}};\n\n  function display_loaded() {\n    const el = document.getElementById(\"p4867\");\n    if (el != null) {\n      el.textContent = \"BokehJS is loading...\";\n    }\n    if (root.Bokeh !== undefined) {\n      if (el != null) {\n        el.textContent = \"BokehJS \" + root.Bokeh.version + \" successfully loaded.\";\n      }\n    } else if (Date.now() < root._bokeh_timeout) {\n      setTimeout(display_loaded, 100)\n    }\n  }\n\n  function run_callbacks() {\n    try {\n      root._bokeh_onload_callbacks.forEach(function(callback) {\n        if (callback != null)\n          callback();\n      });\n    } finally {\n      delete root._bokeh_onload_callbacks\n    }\n    console.debug(\"Bokeh: all callbacks have finished\");\n  }\n\n  function load_libs(css_urls, js_urls, callback) {\n    if (css_urls == null) css_urls = [];\n    if (js_urls == null) js_urls = [];\n\n    root._bokeh_onload_callbacks.push(callback);\n    if (root._bokeh_is_loading > 0) {\n      console.debug(\"Bokeh: BokehJS is being loaded, scheduling callback at\", now());\n      return null;\n    }\n    if (js_urls == null || js_urls.length === 0) {\n      run_callbacks();\n      return null;\n    }\n    console.debug(\"Bokeh: BokehJS not loaded, scheduling load and callback at\", now());\n    root._bokeh_is_loading = css_urls.length + js_urls.length;\n\n    function on_load() {\n      root._bokeh_is_loading--;\n      if (root._bokeh_is_loading === 0) {\n        console.debug(\"Bokeh: all BokehJS libraries/stylesheets loaded\");\n        run_callbacks()\n      }\n    }\n\n    function on_error(url) {\n      console.error(\"failed to load \" + url);\n    }\n\n    for (let i = 0; i < css_urls.length; i++) {\n      const url = css_urls[i];\n      const element = document.createElement(\"link\");\n      element.onload = on_load;\n      element.onerror = on_error.bind(null, url);\n      element.rel = \"stylesheet\";\n      element.type = \"text/css\";\n      element.href = url;\n      console.debug(\"Bokeh: injecting link tag for BokehJS stylesheet: \", url);\n      document.body.appendChild(element);\n    }\n\n    for (let i = 0; i < js_urls.length; i++) {\n      const url = js_urls[i];\n      const element = document.createElement('script');\n      element.onload = on_load;\n      element.onerror = on_error.bind(null, url);\n      element.async = false;\n      element.src = url;\n      console.debug(\"Bokeh: injecting script tag for BokehJS library: \", url);\n      document.head.appendChild(element);\n    }\n  };\n\n  function inject_raw_css(css) {\n    const element = document.createElement(\"style\");\n    element.appendChild(document.createTextNode(css));\n    document.body.appendChild(element);\n  }\n\n  const js_urls = [\"https://cdn.bokeh.org/bokeh/release/bokeh-3.0.1.min.js\", \"https://cdn.bokeh.org/bokeh/release/bokeh-gl-3.0.1.min.js\", \"https://cdn.bokeh.org/bokeh/release/bokeh-widgets-3.0.1.min.js\", \"https://cdn.bokeh.org/bokeh/release/bokeh-tables-3.0.1.min.js\", \"https://cdn.bokeh.org/bokeh/release/bokeh-mathjax-3.0.1.min.js\"];\n  const css_urls = [];\n\n  const inline_js = [    function(Bokeh) {\n      Bokeh.set_log_level(\"info\");\n    },\nfunction(Bokeh) {\n    }\n  ];\n\n  function run_inline_js() {\n    if (root.Bokeh !== undefined || force === true) {\n          for (let i = 0; i < inline_js.length; i++) {\n      inline_js[i].call(root, root.Bokeh);\n    }\nif (force === true) {\n        display_loaded();\n      }} else if (Date.now() < root._bokeh_timeout) {\n      setTimeout(run_inline_js, 100);\n    } else if (!root._bokeh_failed_load) {\n      console.log(\"Bokeh: BokehJS failed to load within specified timeout.\");\n      root._bokeh_failed_load = true;\n    } else if (force !== true) {\n      const cell = $(document.getElementById(\"p4867\")).parents('.cell').data().cell;\n      cell.output_area.append_execute_result(NB_LOAD_WARNING)\n    }\n  }\n\n  if (root._bokeh_is_loading === 0) {\n    console.debug(\"Bokeh: BokehJS loaded, going straight to plotting\");\n    run_inline_js();\n  } else {\n    load_libs(css_urls, js_urls, function() {\n      console.debug(\"Bokeh: BokehJS plotting callback run at\", now());\n      run_inline_js();\n    });\n  }\n}(window));"
          },
          "metadata": {},
          "output_type": "display_data"
        },
        {
          "data": {
            "text/html": [
              "\n",
              "  <div id=\"30a46163-b473-4e3c-8b25-7fdc7d4f7225\" data-root-id=\"p4870\" style=\"display: contents;\"></div>\n"
            ]
          },
          "metadata": {},
          "output_type": "display_data"
        },
        {
          "data": {
            "application/javascript": [
              "(function(root) {\n",
              "  function embed_document(root) {\n",
              "  const docs_json = {\"78ac49e4-6778-42ab-98a6-a01fb562bba1\":{\"version\":\"3.0.1\",\"title\":\"Bokeh Application\",\"defs\":[],\"roots\":[{\"type\":\"object\",\"name\":\"Figure\",\"id\":\"p4870\",\"attributes\":{\"width\":900,\"x_range\":{\"type\":\"object\",\"name\":\"DataRange1d\",\"id\":\"p4871\"},\"y_range\":{\"type\":\"object\",\"name\":\"DataRange1d\",\"id\":\"p4872\"},\"x_scale\":{\"type\":\"object\",\"name\":\"LinearScale\",\"id\":\"p4884\"},\"y_scale\":{\"type\":\"object\",\"name\":\"LinearScale\",\"id\":\"p4886\"},\"title\":{\"type\":\"object\",\"name\":\"Title\",\"id\":\"p4873\",\"attributes\":{\"text\":\"ARIMA\"}},\"renderers\":[{\"type\":\"object\",\"name\":\"GlyphRenderer\",\"id\":\"p4963\",\"attributes\":{\"data_source\":{\"type\":\"object\",\"name\":\"ColumnDataSource\",\"id\":\"p4957\",\"attributes\":{\"selected\":{\"type\":\"object\",\"name\":\"Selection\",\"id\":\"p4958\",\"attributes\":{\"indices\":[],\"line_indices\":[]}},\"selection_policy\":{\"type\":\"object\",\"name\":\"UnionRenderers\",\"id\":\"p4959\"},\"data\":{\"type\":\"map\",\"entries\":[[\"x\",{\"type\":\"ndarray\",\"array\":{\"type\":\"bytes\",\"data\":\"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\"},\"shape\":[454],\"dtype\":\"float64\",\"order\":\"little\"}],[\"y\",{\"type\":\"ndarray\",\"array\":{\"type\":\"bytes\",\"data\":\"jzvxS3kAtb+fREszbs9/vgAAAAAAAAAAFRdgBFimtb8AAAAAAAAAAIBvKRpNIUu/FNNNm58M278NWLDLwJTUPwAAAAAAAAAAMpsC8hgfwr4w8NMxrkTGv/DYDnNwjsW/AbuE43fwvz84PT9NT6ywP7yN2KsQRNi/AAAAAAAAAAAAAAAAAAAAAHgHAhEjYOK/JHmIhSTozD9kgr3bvE/Sv6n+8n5PMa2/dMCxWMz11r8AAAAAAAAAAAAAAAAAAAAANfnO9THL8r8/mPSWDXjfvxPfsJBBuaQ/MewjRe2J17/p4rettya7PwAAAAAAAAAAAAAAAAAAAADPdDBq75vgvzGoXmgWWqA/m31a47Jhuz/NnG8BN/SnP+M2Kdnb5t8/AAAAAAAAAAAAAAAAAAAAAEeZLrCi3b6/8Oj29YlD179qLki3px/MP9Oy9c/Q1NM/4WQwf7fDtj8AAAAAAAAAAAAAAAAAAAAApcqO4Q6t1L/drnzqKqS3vzCVAT9bX8S/Ie0CvQSn1T/hmu0ZKZjJvwAAAAAAAAAAAAAAAAAAAAC3J2ST3syXviAQPH6w1tm/bzn8RT3H0r9yODb4jOO8v8aVmXZgkq8/AAAAAAAAAAAAAAAAAAAAAEKBzHujddO/ZV5090ffnT/u1m5neYORP1SpfA+Pw84/a5lJfnD+0b8AAAAAAAAAAAAAAAAAAAAA927I/QXLM75A2H7/743EvzKLoxpZ7b0/92pgZTGSnz9HaqtqcFPGPwAAAAAAAAAAAAAAAAAAAAB33eanI6DTv+LY0BvWEsa/gLEkYK0c0L84OiMvkL7AvywJgY/ZHLG/AAAAAAAAAAAAAAAAAAAAAA8MU13WS8a/IPC4DKtRsL8DwqMkvDfDv57yMrG4OcW/sxjnxseRvr8AAAAAAAAAAAAAAAAAAAAAjoWs7yoC4L+foEjQyiDOv1XIZt5WtsE/vPG9xpnDwD9ki93gUn3AvwAAAAAAAAAALNdThwbT6r6v/2DCcxDVvxG14P/fLNq/X22MGUrovT8N/yqpdZHFPyCDJsu0oYg/lzgnlGGJdr9LfIlnGABTP5j6bI+WpMO/R0YCCx6ltz8GSD+/k76yv614Iw2CIsS/DjoHckZ9sL8814xg8Zpjvyv4PdK+o42+LmofXxSpxL9rXw46sTi1vyWbOol8wsS/YPJAhCC21b9acozGctyPvyYpB/jMrHi/AAAAAAAAAADXBhuEfF3hv1vrW9vCk6K/UFKWlrtdwz9as6p331/SPwAAAAAAAAAAAAAAAAAAAAAAAAAAAAAAACGyXJON9bi/TMvrWqfYez9bEwXJ3YLuvx1e0ke7Gs8/EPlxJBfGsD8AAAAAAAAAAKyEfD/PQH6/wy+OqYr/4b47ekAhLmvOvyHNn07QUr0/hDt3eQ+Goj9M0ai0E/bTP3rLdty8U6Y/+u75jY9kgD/0fMUDY+jZv2A8AXZ8WsM/mDfZpGGXcT/yu/xGx9mzv+9O+93zzty/a03lKD6nYj8AAAAAAAAAAJEdDjoO/Mi/dflD/z6N1b9xJZFaAz3av23Ke0mlSr4/gim412vWvL/Daz7F15AiPwAAAAAAAAAA5xQ/0DTSqL+Rn1tYBrPAv4rm0NSY5Le/D7ej+ZyvxT+/VoP2Z+TSP7k++uJSh3y/AAAAAAAAAADsXbfGLUO+v3BoadNcmPe/T1jswG3XzT+ofn3HaXLQPwAAAAAAAAAAAAAAAAAAAACwHxGesKeRv+ma5sf2Ndu/L1lfT3t71b9Hk6AgWEW2P0h9iosXtqy/cqIXIfgrxr9CZkm4dUiavwAAAAAAAAAA9BgfVXoVz78qiz1lNIjZvwAAAAAAAAAA9v/2bDcNwr8omXCItLfivw++eZDcoIO/AAAAAAAAAAC2LBl22rOyv7lVP9Irkcw/10eTrpq8nb+F53EwdOPTv45VzkVu77w/AAAAAAAAAAAAAAAAAAAAAKV9PGMFVNC/4VQXqpowwz+N6/aypZyZPzBr7gre+rw/tQx0MivSxj+z5cnw+g6CvgAAAAAAAAAAq/zUHczMxr8rb+aFoDW2v8NXj/Bx6Ze/XxYnVNZOwz+CNAMxlzbOvwAAAAAAAAAAAAAAAAAAAAAFndtjN169v2yT0KcAaMU/P/9QmgNnlT/XOkddZRi5v++B64A68Mw/AAAAAAAAAAAAAAAAAAAAALPH2eqO/O+/5PyJ/l62wb87ga9Qh//Bv4YC4JwGQ7o/Seb0gZiobT8AAAAAAAAAAAAAAAAAAAAA0gHlRO540L/YZd3v6xOav4FYG48zNMs/9kyYJ8ywsT/RTk8qjjHGPwAAAAAAAAAAAAAAAAAAAADx+6qJqOylv/51lMclJmQ/xEETHPk9tj/sDWh1e5fDv5G8uhAYgrC/2uTU7kK8ub4AAAAAAAAAAJjKqmrBxdy/eBtrD9ws2L+kFgnOqmvAv1SgGPbTz9O/WWpnr2w6vL+q50LYmkZ8vgAAAAAAAAAAbshT5nxA1r8cyUfP6bu1v4Sc457/ItK/PCddm5QycL8mrrupM9rTvwAAAAAAAAAAAAAAAAAAAAA+Gwj7kTXSv7KWav5d3NK/FJNrBFfVp79A5x+xUIitvx13R9ExH8C/AAAAAAAAAAAAAAAAAAAAABvgIjDWs8e/KZffgq09xr/Ine9LQSq+PwBVmFf1fMk/WxZsX+1En78AAAAAAAAAAAAAAAAAAAAAzjqLdBo51L9W6srYPvOwPzKA3lVmPb+/jDthLicwzr/ibCd1kuW6PwAAAAAAAAAAAAAAAAAAAAAd+spZGjW6v6s2ob1Jxs2/yfqw7oehzb90hApw1x6/vxndimSkfcu/wC0yIvQ0hb4AAAAAAAAAAF/IEg2rDdC/RrJDyVLsmz8s5Nj0HSjEv8M99ovxj9i/fOOWg4hxsL+q50LYmkZcvhJ01zFPaXq+60PPzfUi1L+QWAEw2EC+v4nPArK2jb6/OK2Q/HVnsL/+MuiapKWiPyQSwswHoqe+AAAAAAAAAABaRpZUW4zLv61SWKgU4qU/ukk4XuAK5r8LCqPBm3R2v3A1Up8vvcq/AAAAAAAAAAAAAAAAAAAAAIskL/O4Rty/fnSYZl9qyb8YctilY8LRv9/b+PEj8Nm/ggBKc079x78AAAAAAAAAAAAAAAAAAAAAtV6ebV487L+7IaSrL2TSvx1EFmAtFuW/NrarEfzj4b/PQs/2eqzTv242flyM6ZO/AAAAAAAAAAACJc8kLrbqv8y48SObpLe/AAAAAAAAAACsRzjeMwWvv3F68To6VYK/AAAAAAAAAAAAAAAAAAAAAO2ztZEp2NS/Q0gGKXEwz79r1F1Ok0izP3DaXQJYMrS/egzQ6oXrzr8AAAAAAAAAAAAAAAAAAAAAxplpvAMG8L/XJaPah1LSv+kr0U54gtO/9AZ9sRCDt79OhO4ZpOTIvwAAAAAAAAAAAAAAAAAAAACbYQTCVfXdv7azS36KTcy/pFt9jn6A5b/WI1gW/37jvxWP2J1ONtS/AAAAAAAAAAAAAAAAAAAAALVZaINQt+G/LPYAZdwq6L8vACXGhbbGv9+Q8rkoKMy/1zZSlN/Uw78AAAAAAAAAAAAAAAAAAAAAvvb/HvM20r//9B345k7Vv+CfotiC2p6/A2CmoEY5wz+2VAH+xvXXPwAAAAAAAAAAAAAAAAAAAAAEdGyJj+jhv1YUKEAqV82/gcbYMinAtz/dHVWKC5Ddv8OEw+52hru/AAAAAAAAAAAAAAAAAAAAAFxZHvgnNOq/TsF85MASy7/xXILY1ei5P7kJzTFj8sw/rpyajVSkxD+Ugdh8RDnBPwAAAAAAAAAARgauckltvD+CcVL7CB55P66pPgB5ZMQ//PaJu12H078AAAAAAAAAAAAAAAAAAAAAAAAAAAAAAAC4h0T9n53Cv6eUwB0x8Yi/fwOrjdlkNr8AAAAAAAAAAAV8423khcC/AAAAAAAAAAAAAAAAAAAAAI4Oct+N7NG/SgsiIMsB7b99qVvZeEvHv8BpD00fxsa/1nGeqled5r8AAAAAAAAAAAAAAAAAAAAAIc7zPb9f6r/KsiQ6xUrYv3leWtj0k8S/9iugUUe52L8NyNjfVCblvymrr5QIBJy/AAAAAAAAAAB7yv0hNEz0vxuVGsP8HNi/AQzduiDOxb/h8DCUEsTRPyPvsgtJr9m/AAAAAAAAAAAAAAAAAAAAADIJrwlW0ty/J+QASh8Z2b/FW9cSCrDev9fNnyzakdi/TD2mbR/er78AAAAAAAAAAAAAAAAAAAAAIVLYIBx36b/BJ70QzoXgv2jiiQdhsss/djaP1X59wL/dx2QkfH3VvwAAAAAAAAAAAAAAAAAAAABRR8qGU5TSv26yPM0GgM6/3SvZlBwRyL8VhmMkUDrev+Mc12g1P9+//ezVVwEH0b8AAAAAAAAAAMe5AAE354O/AAAAAAAAAADsqfa8H/Xrv2jF+T6y8eC/uFrsU5rF1r8AAAAAAAAAAAAAAAAAAAAA0SxyNiIW7L9BHr/VobPcv2etNFEHsc2/t9fuV0CegD881FgaBqKKPwAAAAAAAAAAAAAAAAAAAAD69q8WJdrwvlUAHrJQKPS/nnax4wUrmT8q97WVjV3Uv0Y5vRGKVuG/AAAAAAAAAAAAAAAAAAAAALvOMUfwy+O/1a6TyStl4L8xOjy87nHav7wS4MkhSd6/KqrAow8C478AAAAAAAAAAAAAAAAAAAAAb63728Ly6b9H/F1CMxm5P4MwKwQUz+K/EnMv1nvV6797vGjdfB4EwAAAAAAAAAAAAAAAAAAAAABAZH9Makjwv5Xhlb21ntC/xYA8yRf7c78=\"},\"shape\":[454],\"dtype\":\"float64\",\"order\":\"little\"}]]}}},\"view\":{\"type\":\"object\",\"name\":\"CDSView\",\"id\":\"p4964\",\"attributes\":{\"filter\":{\"type\":\"object\",\"name\":\"AllIndices\",\"id\":\"p4965\"}}},\"glyph\":{\"type\":\"object\",\"name\":\"Line\",\"id\":\"p4960\",\"attributes\":{\"x\":{\"type\":\"field\",\"field\":\"x\"},\"y\":{\"type\":\"field\",\"field\":\"y\"},\"line_color\":\"#1f77b4\",\"line_width\":2}},\"nonselection_glyph\":{\"type\":\"object\",\"name\":\"Line\",\"id\":\"p4961\",\"attributes\":{\"x\":{\"type\":\"field\",\"field\":\"x\"},\"y\":{\"type\":\"field\",\"field\":\"y\"},\"line_color\":\"#1f77b4\",\"line_alpha\":0.1,\"line_width\":2}},\"muted_glyph\":{\"type\":\"object\",\"name\":\"Line\",\"id\":\"p4962\",\"attributes\":{\"x\":{\"type\":\"field\",\"field\":\"x\"},\"y\":{\"type\":\"field\",\"field\":\"y\"},\"line_color\":\"#1f77b4\",\"line_alpha\":0.2,\"line_width\":2}}}},{\"type\":\"object\",\"name\":\"GlyphRenderer\",\"id\":\"p4972\",\"attributes\":{\"data_source\":{\"type\":\"object\",\"name\":\"ColumnDataSource\",\"id\":\"p4966\",\"attributes\":{\"selected\":{\"type\":\"object\",\"name\":\"Selection\",\"id\":\"p4967\",\"attributes\":{\"indices\":[],\"line_indices\":[]}},\"selection_policy\":{\"type\":\"object\",\"name\":\"UnionRenderers\",\"id\":\"p4968\"},\"data\":{\"type\":\"map\",\"entries\":[[\"x\",{\"type\":\"ndarray\",\"array\":{\"type\":\"bytes\",\"data\":\"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\"},\"shape\":[454],\"dtype\":\"float64\",\"order\":\"little\"}],[\"y\",{\"type\":\"ndarray\",\"array\":{\"type\":\"bytes\",\"data\":\"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\"},\"shape\":[454],\"dtype\":\"float64\",\"order\":\"little\"}]]}}},\"view\":{\"type\":\"object\",\"name\":\"CDSView\",\"id\":\"p4973\",\"attributes\":{\"filter\":{\"type\":\"object\",\"name\":\"AllIndices\",\"id\":\"p4974\"}}},\"glyph\":{\"type\":\"object\",\"name\":\"Line\",\"id\":\"p4969\",\"attributes\":{\"x\":{\"type\":\"field\",\"field\":\"x\"},\"y\":{\"type\":\"field\",\"field\":\"y\"},\"line_color\":\"orange\",\"line_width\":2}},\"nonselection_glyph\":{\"type\":\"object\",\"name\":\"Line\",\"id\":\"p4970\",\"attributes\":{\"x\":{\"type\":\"field\",\"field\":\"x\"},\"y\":{\"type\":\"field\",\"field\":\"y\"},\"line_color\":\"orange\",\"line_alpha\":0.1,\"line_width\":2}},\"muted_glyph\":{\"type\":\"object\",\"name\":\"Line\",\"id\":\"p4971\",\"attributes\":{\"x\":{\"type\":\"field\",\"field\":\"x\"},\"y\":{\"type\":\"field\",\"field\":\"y\"},\"line_color\":\"orange\",\"line_alpha\":0.2,\"line_width\":2}}}}],\"toolbar\":{\"type\":\"object\",\"name\":\"Toolbar\",\"id\":\"p4878\",\"attributes\":{\"tools\":[{\"type\":\"object\",\"name\":\"PanTool\",\"id\":\"p4938\"},{\"type\":\"object\",\"name\":\"WheelZoomTool\",\"id\":\"p4939\"},{\"type\":\"object\",\"name\":\"BoxZoomTool\",\"id\":\"p4940\",\"attributes\":{\"overlay\":{\"type\":\"object\",\"name\":\"BoxAnnotation\",\"id\":\"p4941\",\"attributes\":{\"syncable\":false,\"level\":\"overlay\",\"visible\":false,\"left_units\":\"canvas\",\"right_units\":\"canvas\",\"bottom_units\":\"canvas\",\"top_units\":\"canvas\",\"line_color\":\"black\",\"line_alpha\":1.0,\"line_width\":2,\"line_dash\":[4,4],\"fill_color\":\"lightgrey\",\"fill_alpha\":0.5}}}},{\"type\":\"object\",\"name\":\"ResetTool\",\"id\":\"p4942\"},{\"type\":\"object\",\"name\":\"SaveTool\",\"id\":\"p4943\"},{\"type\":\"object\",\"name\":\"BoxSelectTool\",\"id\":\"p4944\",\"attributes\":{\"renderers\":\"auto\",\"overlay\":{\"type\":\"object\",\"name\":\"BoxAnnotation\",\"id\":\"p4945\",\"attributes\":{\"syncable\":false,\"level\":\"overlay\",\"visible\":false,\"left_units\":\"canvas\",\"right_units\":\"canvas\",\"bottom_units\":\"canvas\",\"top_units\":\"canvas\",\"line_color\":\"black\",\"line_alpha\":1.0,\"line_width\":2,\"line_dash\":[4,4],\"fill_color\":\"lightgrey\",\"fill_alpha\":0.5}}}},{\"type\":\"object\",\"name\":\"HoverTool\",\"id\":\"p4869\",\"attributes\":{\"renderers\":\"auto\",\"tooltips\":[[\"date\",\"@x{%d-%m-%YT%H:%M:%S}\"],[\"value\",\"@y\"]],\"formatters\":{\"type\":\"map\",\"entries\":[[\"@x\",\"datetime\"]]},\"mode\":\"vline\"}}],\"active_scroll\":{\"id\":\"p4939\"}}},\"left\":[{\"type\":\"object\",\"name\":\"LinearAxis\",\"id\":\"p4931\",\"attributes\":{\"ticker\":{\"type\":\"object\",\"name\":\"BasicTicker\",\"id\":\"p4934\",\"attributes\":{\"mantissas\":[1,2,5]}},\"formatter\":{\"type\":\"object\",\"name\":\"BasicTickFormatter\",\"id\":\"p4932\"},\"axis_label\":\"value\",\"major_label_policy\":{\"type\":\"object\",\"name\":\"AllLabels\",\"id\":\"p4933\"}}}],\"below\":[{\"type\":\"object\",\"name\":\"DatetimeAxis\",\"id\":\"p4888\",\"attributes\":{\"ticker\":{\"type\":\"object\",\"name\":\"DatetimeTicker\",\"id\":\"p4891\",\"attributes\":{\"num_minor_ticks\":5,\"tickers\":[{\"type\":\"object\",\"name\":\"AdaptiveTicker\",\"id\":\"p4892\",\"attributes\":{\"num_minor_ticks\":0,\"mantissas\":[1,2,5],\"max_interval\":500.0}},{\"type\":\"object\",\"name\":\"AdaptiveTicker\",\"id\":\"p4893\",\"attributes\":{\"num_minor_ticks\":0,\"base\":60,\"mantissas\":[1,2,5,10,15,20,30],\"min_interval\":1000.0,\"max_interval\":1800000.0}},{\"type\":\"object\",\"name\":\"AdaptiveTicker\",\"id\":\"p4894\",\"attributes\":{\"num_minor_ticks\":0,\"base\":24,\"mantissas\":[1,2,4,6,8,12],\"min_interval\":3600000.0,\"max_interval\":43200000.0}},{\"type\":\"object\",\"name\":\"DaysTicker\",\"id\":\"p4895\",\"attributes\":{\"days\":[1,2,3,4,5,6,7,8,9,10,11,12,13,14,15,16,17,18,19,20,21,22,23,24,25,26,27,28,29,30,31]}},{\"type\":\"object\",\"name\":\"DaysTicker\",\"id\":\"p4896\",\"attributes\":{\"days\":[1,4,7,10,13,16,19,22,25,28]}},{\"type\":\"object\",\"name\":\"DaysTicker\",\"id\":\"p4897\",\"attributes\":{\"days\":[1,8,15,22]}},{\"type\":\"object\",\"name\":\"DaysTicker\",\"id\":\"p4898\",\"attributes\":{\"days\":[1,15]}},{\"type\":\"object\",\"name\":\"MonthsTicker\",\"id\":\"p4899\",\"attributes\":{\"months\":[0,1,2,3,4,5,6,7,8,9,10,11]}},{\"type\":\"object\",\"name\":\"MonthsTicker\",\"id\":\"p4900\",\"attributes\":{\"months\":[0,2,4,6,8,10]}},{\"type\":\"object\",\"name\":\"MonthsTicker\",\"id\":\"p4901\",\"attributes\":{\"months\":[0,4,8]}},{\"type\":\"object\",\"name\":\"MonthsTicker\",\"id\":\"p4902\",\"attributes\":{\"months\":[0,6]}},{\"type\":\"object\",\"name\":\"YearsTicker\",\"id\":\"p4903\"}]}},\"formatter\":{\"type\":\"object\",\"name\":\"DatetimeTickFormatter\",\"id\":\"p4868\",\"attributes\":{\"hours\":\"%d %B %Y\",\"days\":\"%d %B %Y\",\"months\":\"%d %B %Y\",\"years\":\"%d %B %Y\"}},\"axis_label\":\"time\",\"major_label_policy\":{\"type\":\"object\",\"name\":\"AllLabels\",\"id\":\"p4890\"}}}],\"center\":[{\"type\":\"object\",\"name\":\"Grid\",\"id\":\"p4930\",\"attributes\":{\"axis\":{\"id\":\"p4888\"}}},{\"type\":\"object\",\"name\":\"Grid\",\"id\":\"p4937\",\"attributes\":{\"dimension\":1,\"axis\":{\"id\":\"p4931\"}}}]}}]}};\n",
              "  const render_items = [{\"docid\":\"78ac49e4-6778-42ab-98a6-a01fb562bba1\",\"roots\":{\"p4870\":\"30a46163-b473-4e3c-8b25-7fdc7d4f7225\"},\"root_ids\":[\"p4870\"]}];\n",
              "  root.Bokeh.embed.embed_items_notebook(docs_json, render_items);\n",
              "  }\n",
              "  if (root.Bokeh !== undefined) {\n",
              "    embed_document(root);\n",
              "  } else {\n",
              "    let attempts = 0;\n",
              "    const timer = setInterval(function(root) {\n",
              "      if (root.Bokeh !== undefined) {\n",
              "        clearInterval(timer);\n",
              "        embed_document(root);\n",
              "      } else {\n",
              "        attempts++;\n",
              "        if (attempts > 100) {\n",
              "          clearInterval(timer);\n",
              "          console.log(\"Bokeh: ERROR: Unable to run BokehJS code because BokehJS library is missing\");\n",
              "        }\n",
              "      }\n",
              "    }, 10, root)\n",
              "  }\n",
              "})(window);"
            ],
            "application/vnd.bokehjs_exec.v0+json": ""
          },
          "metadata": {
            "application/vnd.bokehjs_exec.v0+json": {
              "id": "p4870"
            }
          },
          "output_type": "display_data"
        }
      ],
      "source": [
        "plot_ts(ts_test['y'], arima_pred, title = 'ARIMA')"
      ]
    },
    {
      "cell_type": "code",
      "execution_count": null,
      "id": "m2xTVMYu2-1m",
      "metadata": {
        "colab": {
          "base_uri": "https://localhost:8080/",
          "height": 637
        },
        "id": "m2xTVMYu2-1m",
        "outputId": "d8afc16f-7578-450b-9610-9a6a7b179401"
      },
      "outputs": [
        {
          "data": {
            "text/html": [
              "<style>\n",
              "        .bk-notebook-logo {\n",
              "            display: block;\n",
              "            width: 20px;\n",
              "            height: 20px;\n",
              "            background-image: url(data:image/png;base64,iVBORw0KGgoAAAANSUhEUgAAABQAAAAUCAYAAACNiR0NAAAABHNCSVQICAgIfAhkiAAAAAlwSFlzAAALEgAACxIB0t1+/AAAABx0RVh0U29mdHdhcmUAQWRvYmUgRmlyZXdvcmtzIENTNui8sowAAAOkSURBVDiNjZRtaJVlGMd/1/08zzln5zjP1LWcU9N0NkN8m2CYjpgQYQXqSs0I84OLIC0hkEKoPtiH3gmKoiJDU7QpLgoLjLIQCpEsNJ1vqUOdO7ppbuec5+V+rj4ctwzd8IIbbi6u+8f1539dt3A78eXC7QizUF7gyV1fD1Yqg4JWz84yffhm0qkFqBogB9rM8tZdtwVsPUhWhGcFJngGeWrPzHm5oaMmkfEg1usvLFyc8jLRqDOMru7AyC8saQr7GG7f5fvDeH7Ej8CM66nIF+8yngt6HWaKh7k49Soy9nXurCi1o3qUbS3zWfrYeQDTB/Qj6kX6Ybhw4B+bOYoLKCC9H3Nu/leUTZ1JdRWkkn2ldcCamzrcf47KKXdAJllSlxAOkRgyHsGC/zRday5Qld9DyoM4/q/rUoy/CXh3jzOu3bHUVZeU+DEn8FInkPBFlu3+nW3Nw0mk6vCDiWg8CeJaxEwuHS3+z5RgY+YBR6V1Z1nxSOfoaPa4LASWxxdNp+VWTk7+4vzaou8v8PN+xo+KY2xsw6une2frhw05CTYOmQvsEhjhWjn0bmXPjpE1+kplmmkP3suftwTubK9Vq22qKmrBhpY4jvd5afdRA3wGjFAgcnTK2s4hY0/GPNIb0nErGMCRxWOOX64Z8RAC4oCXdklmEvcL8o0BfkNK4lUg9HTl+oPlQxdNo3Mg4Nv175e/1LDGzZen30MEjRUtmXSfiTVu1kK8W4txyV6BMKlbgk3lMwYCiusNy9fVfvvwMxv8Ynl6vxoByANLTWplvuj/nF9m2+PDtt1eiHPBr1oIfhCChQMBw6Aw0UulqTKZdfVvfG7VcfIqLG9bcldL/+pdWTLxLUy8Qq38heUIjh4XlzZxzQm19lLFlr8vdQ97rjZVOLf8nclzckbcD4wxXMidpX30sFd37Fv/GtwwhzhxGVAprjbg0gCAEeIgwCZyTV2Z1REEW8O4py0wsjeloKoMr6iCY6dP92H6Vw/oTyICIthibxjm/DfN9lVz8IqtqKYLUXfoKVMVQVVJOElGjrnnUt9T9wbgp8AyYKaGlqingHZU/uG2NTZSVqwHQTWkx9hxjkpWDaCg6Ckj5qebgBVbT3V3NNXMSiWSDdGV3hrtzla7J+duwPOToIg42ChPQOQjspnSlp1V+Gjdged7+8UN5CRAV7a5EdFNwCjEaBR27b3W890TE7g24NAP/mMDXRWrGoFPQI9ls/MWO2dWFAar/xcOIImbbpA3zgAAAABJRU5ErkJggg==);\n",
              "        }\n",
              "    </style>\n",
              "    <div>\n",
              "        <a href=\"https://bokeh.org\" target=\"_blank\" class=\"bk-notebook-logo\"></a>\n",
              "        <span id=\"p5553\">Loading BokehJS ...</span>\n",
              "    </div>\n"
            ]
          },
          "metadata": {},
          "output_type": "display_data"
        },
        {
          "data": {
            "application/javascript": [
              "(function(root) {\n",
              "  function now() {\n",
              "    return new Date();\n",
              "  }\n",
              "\n",
              "  const force = true;\n",
              "\n",
              "  if (typeof root._bokeh_onload_callbacks === \"undefined\" || force === true) {\n",
              "    root._bokeh_onload_callbacks = [];\n",
              "    root._bokeh_is_loading = undefined;\n",
              "  }\n",
              "\n",
              "const JS_MIME_TYPE = 'application/javascript';\n",
              "  const HTML_MIME_TYPE = 'text/html';\n",
              "  const EXEC_MIME_TYPE = 'application/vnd.bokehjs_exec.v0+json';\n",
              "  const CLASS_NAME = 'output_bokeh rendered_html';\n",
              "\n",
              "  /**\n",
              "   * Render data to the DOM node\n",
              "   */\n",
              "  function render(props, node) {\n",
              "    const script = document.createElement(\"script\");\n",
              "    node.appendChild(script);\n",
              "  }\n",
              "\n",
              "  /**\n",
              "   * Handle when an output is cleared or removed\n",
              "   */\n",
              "  function handleClearOutput(event, handle) {\n",
              "    const cell = handle.cell;\n",
              "\n",
              "    const id = cell.output_area._bokeh_element_id;\n",
              "    const server_id = cell.output_area._bokeh_server_id;\n",
              "    // Clean up Bokeh references\n",
              "    if (id != null && id in Bokeh.index) {\n",
              "      Bokeh.index[id].model.document.clear();\n",
              "      delete Bokeh.index[id];\n",
              "    }\n",
              "\n",
              "    if (server_id !== undefined) {\n",
              "      // Clean up Bokeh references\n",
              "      const cmd_clean = \"from bokeh.io.state import curstate; print(curstate().uuid_to_server['\" + server_id + \"'].get_sessions()[0].document.roots[0]._id)\";\n",
              "      cell.notebook.kernel.execute(cmd_clean, {\n",
              "        iopub: {\n",
              "          output: function(msg) {\n",
              "            const id = msg.content.text.trim();\n",
              "            if (id in Bokeh.index) {\n",
              "              Bokeh.index[id].model.document.clear();\n",
              "              delete Bokeh.index[id];\n",
              "            }\n",
              "          }\n",
              "        }\n",
              "      });\n",
              "      // Destroy server and session\n",
              "      const cmd_destroy = \"import bokeh.io.notebook as ion; ion.destroy_server('\" + server_id + \"')\";\n",
              "      cell.notebook.kernel.execute(cmd_destroy);\n",
              "    }\n",
              "  }\n",
              "\n",
              "  /**\n",
              "   * Handle when a new output is added\n",
              "   */\n",
              "  function handleAddOutput(event, handle) {\n",
              "    const output_area = handle.output_area;\n",
              "    const output = handle.output;\n",
              "\n",
              "    // limit handleAddOutput to display_data with EXEC_MIME_TYPE content only\n",
              "    if ((output.output_type != \"display_data\") || (!Object.prototype.hasOwnProperty.call(output.data, EXEC_MIME_TYPE))) {\n",
              "      return\n",
              "    }\n",
              "\n",
              "    const toinsert = output_area.element.find(\".\" + CLASS_NAME.split(' ')[0]);\n",
              "\n",
              "    if (output.metadata[EXEC_MIME_TYPE][\"id\"] !== undefined) {\n",
              "      toinsert[toinsert.length - 1].firstChild.textContent = output.data[JS_MIME_TYPE];\n",
              "      // store reference to embed id on output_area\n",
              "      output_area._bokeh_element_id = output.metadata[EXEC_MIME_TYPE][\"id\"];\n",
              "    }\n",
              "    if (output.metadata[EXEC_MIME_TYPE][\"server_id\"] !== undefined) {\n",
              "      const bk_div = document.createElement(\"div\");\n",
              "      bk_div.innerHTML = output.data[HTML_MIME_TYPE];\n",
              "      const script_attrs = bk_div.children[0].attributes;\n",
              "      for (let i = 0; i < script_attrs.length; i++) {\n",
              "        toinsert[toinsert.length - 1].firstChild.setAttribute(script_attrs[i].name, script_attrs[i].value);\n",
              "        toinsert[toinsert.length - 1].firstChild.textContent = bk_div.children[0].textContent\n",
              "      }\n",
              "      // store reference to server id on output_area\n",
              "      output_area._bokeh_server_id = output.metadata[EXEC_MIME_TYPE][\"server_id\"];\n",
              "    }\n",
              "  }\n",
              "\n",
              "  function register_renderer(events, OutputArea) {\n",
              "\n",
              "    function append_mime(data, metadata, element) {\n",
              "      // create a DOM node to render to\n",
              "      const toinsert = this.create_output_subarea(\n",
              "        metadata,\n",
              "        CLASS_NAME,\n",
              "        EXEC_MIME_TYPE\n",
              "      );\n",
              "      this.keyboard_manager.register_events(toinsert);\n",
              "      // Render to node\n",
              "      const props = {data: data, metadata: metadata[EXEC_MIME_TYPE]};\n",
              "      render(props, toinsert[toinsert.length - 1]);\n",
              "      element.append(toinsert);\n",
              "      return toinsert\n",
              "    }\n",
              "\n",
              "    /* Handle when an output is cleared or removed */\n",
              "    events.on('clear_output.CodeCell', handleClearOutput);\n",
              "    events.on('delete.Cell', handleClearOutput);\n",
              "\n",
              "    /* Handle when a new output is added */\n",
              "    events.on('output_added.OutputArea', handleAddOutput);\n",
              "\n",
              "    /**\n",
              "     * Register the mime type and append_mime function with output_area\n",
              "     */\n",
              "    OutputArea.prototype.register_mime_type(EXEC_MIME_TYPE, append_mime, {\n",
              "      /* Is output safe? */\n",
              "      safe: true,\n",
              "      /* Index of renderer in `output_area.display_order` */\n",
              "      index: 0\n",
              "    });\n",
              "  }\n",
              "\n",
              "  // register the mime type if in Jupyter Notebook environment and previously unregistered\n",
              "  if (root.Jupyter !== undefined) {\n",
              "    const events = require('base/js/events');\n",
              "    const OutputArea = require('notebook/js/outputarea').OutputArea;\n",
              "\n",
              "    if (OutputArea.prototype.mime_types().indexOf(EXEC_MIME_TYPE) == -1) {\n",
              "      register_renderer(events, OutputArea);\n",
              "    }\n",
              "  }\n",
              "  if (typeof (root._bokeh_timeout) === \"undefined\" || force === true) {\n",
              "    root._bokeh_timeout = Date.now() + 5000;\n",
              "    root._bokeh_failed_load = false;\n",
              "  }\n",
              "\n",
              "  const NB_LOAD_WARNING = {'data': {'text/html':\n",
              "     \"<div style='background-color: #fdd'>\\n\"+\n",
              "     \"<p>\\n\"+\n",
              "     \"BokehJS does not appear to have successfully loaded. If loading BokehJS from CDN, this \\n\"+\n",
              "     \"may be due to a slow or bad network connection. Possible fixes:\\n\"+\n",
              "     \"</p>\\n\"+\n",
              "     \"<ul>\\n\"+\n",
              "     \"<li>re-rerun `output_notebook()` to attempt to load from CDN again, or</li>\\n\"+\n",
              "     \"<li>use INLINE resources instead, as so:</li>\\n\"+\n",
              "     \"</ul>\\n\"+\n",
              "     \"<code>\\n\"+\n",
              "     \"from bokeh.resources import INLINE\\n\"+\n",
              "     \"output_notebook(resources=INLINE)\\n\"+\n",
              "     \"</code>\\n\"+\n",
              "     \"</div>\"}};\n",
              "\n",
              "  function display_loaded() {\n",
              "    const el = document.getElementById(\"p5553\");\n",
              "    if (el != null) {\n",
              "      el.textContent = \"BokehJS is loading...\";\n",
              "    }\n",
              "    if (root.Bokeh !== undefined) {\n",
              "      if (el != null) {\n",
              "        el.textContent = \"BokehJS \" + root.Bokeh.version + \" successfully loaded.\";\n",
              "      }\n",
              "    } else if (Date.now() < root._bokeh_timeout) {\n",
              "      setTimeout(display_loaded, 100)\n",
              "    }\n",
              "  }\n",
              "\n",
              "  function run_callbacks() {\n",
              "    try {\n",
              "      root._bokeh_onload_callbacks.forEach(function(callback) {\n",
              "        if (callback != null)\n",
              "          callback();\n",
              "      });\n",
              "    } finally {\n",
              "      delete root._bokeh_onload_callbacks\n",
              "    }\n",
              "    console.debug(\"Bokeh: all callbacks have finished\");\n",
              "  }\n",
              "\n",
              "  function load_libs(css_urls, js_urls, callback) {\n",
              "    if (css_urls == null) css_urls = [];\n",
              "    if (js_urls == null) js_urls = [];\n",
              "\n",
              "    root._bokeh_onload_callbacks.push(callback);\n",
              "    if (root._bokeh_is_loading > 0) {\n",
              "      console.debug(\"Bokeh: BokehJS is being loaded, scheduling callback at\", now());\n",
              "      return null;\n",
              "    }\n",
              "    if (js_urls == null || js_urls.length === 0) {\n",
              "      run_callbacks();\n",
              "      return null;\n",
              "    }\n",
              "    console.debug(\"Bokeh: BokehJS not loaded, scheduling load and callback at\", now());\n",
              "    root._bokeh_is_loading = css_urls.length + js_urls.length;\n",
              "\n",
              "    function on_load() {\n",
              "      root._bokeh_is_loading--;\n",
              "      if (root._bokeh_is_loading === 0) {\n",
              "        console.debug(\"Bokeh: all BokehJS libraries/stylesheets loaded\");\n",
              "        run_callbacks()\n",
              "      }\n",
              "    }\n",
              "\n",
              "    function on_error(url) {\n",
              "      console.error(\"failed to load \" + url);\n",
              "    }\n",
              "\n",
              "    for (let i = 0; i < css_urls.length; i++) {\n",
              "      const url = css_urls[i];\n",
              "      const element = document.createElement(\"link\");\n",
              "      element.onload = on_load;\n",
              "      element.onerror = on_error.bind(null, url);\n",
              "      element.rel = \"stylesheet\";\n",
              "      element.type = \"text/css\";\n",
              "      element.href = url;\n",
              "      console.debug(\"Bokeh: injecting link tag for BokehJS stylesheet: \", url);\n",
              "      document.body.appendChild(element);\n",
              "    }\n",
              "\n",
              "    for (let i = 0; i < js_urls.length; i++) {\n",
              "      const url = js_urls[i];\n",
              "      const element = document.createElement('script');\n",
              "      element.onload = on_load;\n",
              "      element.onerror = on_error.bind(null, url);\n",
              "      element.async = false;\n",
              "      element.src = url;\n",
              "      console.debug(\"Bokeh: injecting script tag for BokehJS library: \", url);\n",
              "      document.head.appendChild(element);\n",
              "    }\n",
              "  };\n",
              "\n",
              "  function inject_raw_css(css) {\n",
              "    const element = document.createElement(\"style\");\n",
              "    element.appendChild(document.createTextNode(css));\n",
              "    document.body.appendChild(element);\n",
              "  }\n",
              "\n",
              "  const js_urls = [\"https://cdn.bokeh.org/bokeh/release/bokeh-3.0.1.min.js\", \"https://cdn.bokeh.org/bokeh/release/bokeh-gl-3.0.1.min.js\", \"https://cdn.bokeh.org/bokeh/release/bokeh-widgets-3.0.1.min.js\", \"https://cdn.bokeh.org/bokeh/release/bokeh-tables-3.0.1.min.js\", \"https://cdn.bokeh.org/bokeh/release/bokeh-mathjax-3.0.1.min.js\"];\n",
              "  const css_urls = [];\n",
              "\n",
              "  const inline_js = [    function(Bokeh) {\n",
              "      Bokeh.set_log_level(\"info\");\n",
              "    },\n",
              "function(Bokeh) {\n",
              "    }\n",
              "  ];\n",
              "\n",
              "  function run_inline_js() {\n",
              "    if (root.Bokeh !== undefined || force === true) {\n",
              "          for (let i = 0; i < inline_js.length; i++) {\n",
              "      inline_js[i].call(root, root.Bokeh);\n",
              "    }\n",
              "if (force === true) {\n",
              "        display_loaded();\n",
              "      }} else if (Date.now() < root._bokeh_timeout) {\n",
              "      setTimeout(run_inline_js, 100);\n",
              "    } else if (!root._bokeh_failed_load) {\n",
              "      console.log(\"Bokeh: BokehJS failed to load within specified timeout.\");\n",
              "      root._bokeh_failed_load = true;\n",
              "    } else if (force !== true) {\n",
              "      const cell = $(document.getElementById(\"p5553\")).parents('.cell').data().cell;\n",
              "      cell.output_area.append_execute_result(NB_LOAD_WARNING)\n",
              "    }\n",
              "  }\n",
              "\n",
              "  if (root._bokeh_is_loading === 0) {\n",
              "    console.debug(\"Bokeh: BokehJS loaded, going straight to plotting\");\n",
              "    run_inline_js();\n",
              "  } else {\n",
              "    load_libs(css_urls, js_urls, function() {\n",
              "      console.debug(\"Bokeh: BokehJS plotting callback run at\", now());\n",
              "      run_inline_js();\n",
              "    });\n",
              "  }\n",
              "}(window));"
            ],
            "application/vnd.bokehjs_load.v0+json": "(function(root) {\n  function now() {\n    return new Date();\n  }\n\n  const force = true;\n\n  if (typeof root._bokeh_onload_callbacks === \"undefined\" || force === true) {\n    root._bokeh_onload_callbacks = [];\n    root._bokeh_is_loading = undefined;\n  }\n\n\n  if (typeof (root._bokeh_timeout) === \"undefined\" || force === true) {\n    root._bokeh_timeout = Date.now() + 5000;\n    root._bokeh_failed_load = false;\n  }\n\n  const NB_LOAD_WARNING = {'data': {'text/html':\n     \"<div style='background-color: #fdd'>\\n\"+\n     \"<p>\\n\"+\n     \"BokehJS does not appear to have successfully loaded. If loading BokehJS from CDN, this \\n\"+\n     \"may be due to a slow or bad network connection. Possible fixes:\\n\"+\n     \"</p>\\n\"+\n     \"<ul>\\n\"+\n     \"<li>re-rerun `output_notebook()` to attempt to load from CDN again, or</li>\\n\"+\n     \"<li>use INLINE resources instead, as so:</li>\\n\"+\n     \"</ul>\\n\"+\n     \"<code>\\n\"+\n     \"from bokeh.resources import INLINE\\n\"+\n     \"output_notebook(resources=INLINE)\\n\"+\n     \"</code>\\n\"+\n     \"</div>\"}};\n\n  function display_loaded() {\n    const el = document.getElementById(\"p5553\");\n    if (el != null) {\n      el.textContent = \"BokehJS is loading...\";\n    }\n    if (root.Bokeh !== undefined) {\n      if (el != null) {\n        el.textContent = \"BokehJS \" + root.Bokeh.version + \" successfully loaded.\";\n      }\n    } else if (Date.now() < root._bokeh_timeout) {\n      setTimeout(display_loaded, 100)\n    }\n  }\n\n  function run_callbacks() {\n    try {\n      root._bokeh_onload_callbacks.forEach(function(callback) {\n        if (callback != null)\n          callback();\n      });\n    } finally {\n      delete root._bokeh_onload_callbacks\n    }\n    console.debug(\"Bokeh: all callbacks have finished\");\n  }\n\n  function load_libs(css_urls, js_urls, callback) {\n    if (css_urls == null) css_urls = [];\n    if (js_urls == null) js_urls = [];\n\n    root._bokeh_onload_callbacks.push(callback);\n    if (root._bokeh_is_loading > 0) {\n      console.debug(\"Bokeh: BokehJS is being loaded, scheduling callback at\", now());\n      return null;\n    }\n    if (js_urls == null || js_urls.length === 0) {\n      run_callbacks();\n      return null;\n    }\n    console.debug(\"Bokeh: BokehJS not loaded, scheduling load and callback at\", now());\n    root._bokeh_is_loading = css_urls.length + js_urls.length;\n\n    function on_load() {\n      root._bokeh_is_loading--;\n      if (root._bokeh_is_loading === 0) {\n        console.debug(\"Bokeh: all BokehJS libraries/stylesheets loaded\");\n        run_callbacks()\n      }\n    }\n\n    function on_error(url) {\n      console.error(\"failed to load \" + url);\n    }\n\n    for (let i = 0; i < css_urls.length; i++) {\n      const url = css_urls[i];\n      const element = document.createElement(\"link\");\n      element.onload = on_load;\n      element.onerror = on_error.bind(null, url);\n      element.rel = \"stylesheet\";\n      element.type = \"text/css\";\n      element.href = url;\n      console.debug(\"Bokeh: injecting link tag for BokehJS stylesheet: \", url);\n      document.body.appendChild(element);\n    }\n\n    for (let i = 0; i < js_urls.length; i++) {\n      const url = js_urls[i];\n      const element = document.createElement('script');\n      element.onload = on_load;\n      element.onerror = on_error.bind(null, url);\n      element.async = false;\n      element.src = url;\n      console.debug(\"Bokeh: injecting script tag for BokehJS library: \", url);\n      document.head.appendChild(element);\n    }\n  };\n\n  function inject_raw_css(css) {\n    const element = document.createElement(\"style\");\n    element.appendChild(document.createTextNode(css));\n    document.body.appendChild(element);\n  }\n\n  const js_urls = [\"https://cdn.bokeh.org/bokeh/release/bokeh-3.0.1.min.js\", \"https://cdn.bokeh.org/bokeh/release/bokeh-gl-3.0.1.min.js\", \"https://cdn.bokeh.org/bokeh/release/bokeh-widgets-3.0.1.min.js\", \"https://cdn.bokeh.org/bokeh/release/bokeh-tables-3.0.1.min.js\", \"https://cdn.bokeh.org/bokeh/release/bokeh-mathjax-3.0.1.min.js\"];\n  const css_urls = [];\n\n  const inline_js = [    function(Bokeh) {\n      Bokeh.set_log_level(\"info\");\n    },\nfunction(Bokeh) {\n    }\n  ];\n\n  function run_inline_js() {\n    if (root.Bokeh !== undefined || force === true) {\n          for (let i = 0; i < inline_js.length; i++) {\n      inline_js[i].call(root, root.Bokeh);\n    }\nif (force === true) {\n        display_loaded();\n      }} else if (Date.now() < root._bokeh_timeout) {\n      setTimeout(run_inline_js, 100);\n    } else if (!root._bokeh_failed_load) {\n      console.log(\"Bokeh: BokehJS failed to load within specified timeout.\");\n      root._bokeh_failed_load = true;\n    } else if (force !== true) {\n      const cell = $(document.getElementById(\"p5553\")).parents('.cell').data().cell;\n      cell.output_area.append_execute_result(NB_LOAD_WARNING)\n    }\n  }\n\n  if (root._bokeh_is_loading === 0) {\n    console.debug(\"Bokeh: BokehJS loaded, going straight to plotting\");\n    run_inline_js();\n  } else {\n    load_libs(css_urls, js_urls, function() {\n      console.debug(\"Bokeh: BokehJS plotting callback run at\", now());\n      run_inline_js();\n    });\n  }\n}(window));"
          },
          "metadata": {},
          "output_type": "display_data"
        },
        {
          "data": {
            "text/html": [
              "\n",
              "  <div id=\"2b1a0d3e-7a0b-4298-8cea-6026c3023b5f\" data-root-id=\"p5556\" style=\"display: contents;\"></div>\n"
            ]
          },
          "metadata": {},
          "output_type": "display_data"
        },
        {
          "data": {
            "application/javascript": [
              "(function(root) {\n",
              "  function embed_document(root) {\n",
              "  const docs_json = {\"81759925-d2a1-48f3-851f-bca9c532ed02\":{\"version\":\"3.0.1\",\"title\":\"Bokeh Application\",\"defs\":[],\"roots\":[{\"type\":\"object\",\"name\":\"Figure\",\"id\":\"p5556\",\"attributes\":{\"width\":900,\"x_range\":{\"type\":\"object\",\"name\":\"DataRange1d\",\"id\":\"p5557\"},\"y_range\":{\"type\":\"object\",\"name\":\"DataRange1d\",\"id\":\"p5558\"},\"x_scale\":{\"type\":\"object\",\"name\":\"LinearScale\",\"id\":\"p5570\"},\"y_scale\":{\"type\":\"object\",\"name\":\"LinearScale\",\"id\":\"p5572\"},\"title\":{\"type\":\"object\",\"name\":\"Title\",\"id\":\"p5559\",\"attributes\":{\"text\":\"RandomForrest\"}},\"renderers\":[{\"type\":\"object\",\"name\":\"GlyphRenderer\",\"id\":\"p5649\",\"attributes\":{\"data_source\":{\"type\":\"object\",\"name\":\"ColumnDataSource\",\"id\":\"p5643\",\"attributes\":{\"selected\":{\"type\":\"object\",\"name\":\"Selection\",\"id\":\"p5644\",\"attributes\":{\"indices\":[],\"line_indices\":[]}},\"selection_policy\":{\"type\":\"object\",\"name\":\"UnionRenderers\",\"id\":\"p5645\"},\"data\":{\"type\":\"map\",\"entries\":[[\"x\",{\"type\":\"ndarray\",\"array\":{\"type\":\"bytes\",\"data\":\"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\"},\"shape\":[454],\"dtype\":\"float64\",\"order\":\"little\"}],[\"y\",{\"type\":\"ndarray\",\"array\":{\"type\":\"bytes\",\"data\":\"jzvxS3kAtb+fREszbs9/vgAAAAAAAAAAFRdgBFimtb8AAAAAAAAAAIBvKRpNIUu/FNNNm58M278NWLDLwJTUPwAAAAAAAAAAMpsC8hgfwr4w8NMxrkTGv/DYDnNwjsW/AbuE43fwvz84PT9NT6ywP7yN2KsQRNi/AAAAAAAAAAAAAAAAAAAAAHgHAhEjYOK/JHmIhSTozD9kgr3bvE/Sv6n+8n5PMa2/dMCxWMz11r8AAAAAAAAAAAAAAAAAAAAANfnO9THL8r8/mPSWDXjfvxPfsJBBuaQ/MewjRe2J17/p4rettya7PwAAAAAAAAAAAAAAAAAAAADPdDBq75vgvzGoXmgWWqA/m31a47Jhuz/NnG8BN/SnP+M2Kdnb5t8/AAAAAAAAAAAAAAAAAAAAAEeZLrCi3b6/8Oj29YlD179qLki3px/MP9Oy9c/Q1NM/4WQwf7fDtj8AAAAAAAAAAAAAAAAAAAAApcqO4Q6t1L/drnzqKqS3vzCVAT9bX8S/Ie0CvQSn1T/hmu0ZKZjJvwAAAAAAAAAAAAAAAAAAAAC3J2ST3syXviAQPH6w1tm/bzn8RT3H0r9yODb4jOO8v8aVmXZgkq8/AAAAAAAAAAAAAAAAAAAAAEKBzHujddO/ZV5090ffnT/u1m5neYORP1SpfA+Pw84/a5lJfnD+0b8AAAAAAAAAAAAAAAAAAAAA927I/QXLM75A2H7/743EvzKLoxpZ7b0/92pgZTGSnz9HaqtqcFPGPwAAAAAAAAAAAAAAAAAAAAB33eanI6DTv+LY0BvWEsa/gLEkYK0c0L84OiMvkL7AvywJgY/ZHLG/AAAAAAAAAAAAAAAAAAAAAA8MU13WS8a/IPC4DKtRsL8DwqMkvDfDv57yMrG4OcW/sxjnxseRvr8AAAAAAAAAAAAAAAAAAAAAjoWs7yoC4L+foEjQyiDOv1XIZt5WtsE/vPG9xpnDwD9ki93gUn3AvwAAAAAAAAAALNdThwbT6r6v/2DCcxDVvxG14P/fLNq/X22MGUrovT8N/yqpdZHFPyCDJsu0oYg/lzgnlGGJdr9LfIlnGABTP5j6bI+WpMO/R0YCCx6ltz8GSD+/k76yv614Iw2CIsS/DjoHckZ9sL8814xg8Zpjvyv4PdK+o42+LmofXxSpxL9rXw46sTi1vyWbOol8wsS/YPJAhCC21b9acozGctyPvyYpB/jMrHi/AAAAAAAAAADXBhuEfF3hv1vrW9vCk6K/UFKWlrtdwz9as6p331/SPwAAAAAAAAAAAAAAAAAAAAAAAAAAAAAAACGyXJON9bi/TMvrWqfYez9bEwXJ3YLuvx1e0ke7Gs8/EPlxJBfGsD8AAAAAAAAAAKyEfD/PQH6/wy+OqYr/4b47ekAhLmvOvyHNn07QUr0/hDt3eQ+Goj9M0ai0E/bTP3rLdty8U6Y/+u75jY9kgD/0fMUDY+jZv2A8AXZ8WsM/mDfZpGGXcT/yu/xGx9mzv+9O+93zzty/a03lKD6nYj8AAAAAAAAAAJEdDjoO/Mi/dflD/z6N1b9xJZFaAz3av23Ke0mlSr4/gim412vWvL/Daz7F15AiPwAAAAAAAAAA5xQ/0DTSqL+Rn1tYBrPAv4rm0NSY5Le/D7ej+ZyvxT+/VoP2Z+TSP7k++uJSh3y/AAAAAAAAAADsXbfGLUO+v3BoadNcmPe/T1jswG3XzT+ofn3HaXLQPwAAAAAAAAAAAAAAAAAAAACwHxGesKeRv+ma5sf2Ndu/L1lfT3t71b9Hk6AgWEW2P0h9iosXtqy/cqIXIfgrxr9CZkm4dUiavwAAAAAAAAAA9BgfVXoVz78qiz1lNIjZvwAAAAAAAAAA9v/2bDcNwr8omXCItLfivw++eZDcoIO/AAAAAAAAAAC2LBl22rOyv7lVP9Irkcw/10eTrpq8nb+F53EwdOPTv45VzkVu77w/AAAAAAAAAAAAAAAAAAAAAKV9PGMFVNC/4VQXqpowwz+N6/aypZyZPzBr7gre+rw/tQx0MivSxj+z5cnw+g6CvgAAAAAAAAAAq/zUHczMxr8rb+aFoDW2v8NXj/Bx6Ze/XxYnVNZOwz+CNAMxlzbOvwAAAAAAAAAAAAAAAAAAAAAFndtjN169v2yT0KcAaMU/P/9QmgNnlT/XOkddZRi5v++B64A68Mw/AAAAAAAAAAAAAAAAAAAAALPH2eqO/O+/5PyJ/l62wb87ga9Qh//Bv4YC4JwGQ7o/Seb0gZiobT8AAAAAAAAAAAAAAAAAAAAA0gHlRO540L/YZd3v6xOav4FYG48zNMs/9kyYJ8ywsT/RTk8qjjHGPwAAAAAAAAAAAAAAAAAAAADx+6qJqOylv/51lMclJmQ/xEETHPk9tj/sDWh1e5fDv5G8uhAYgrC/2uTU7kK8ub4AAAAAAAAAAJjKqmrBxdy/eBtrD9ws2L+kFgnOqmvAv1SgGPbTz9O/WWpnr2w6vL+q50LYmkZ8vgAAAAAAAAAAbshT5nxA1r8cyUfP6bu1v4Sc457/ItK/PCddm5QycL8mrrupM9rTvwAAAAAAAAAAAAAAAAAAAAA+Gwj7kTXSv7KWav5d3NK/FJNrBFfVp79A5x+xUIitvx13R9ExH8C/AAAAAAAAAAAAAAAAAAAAABvgIjDWs8e/KZffgq09xr/Ine9LQSq+PwBVmFf1fMk/WxZsX+1En78AAAAAAAAAAAAAAAAAAAAAzjqLdBo51L9W6srYPvOwPzKA3lVmPb+/jDthLicwzr/ibCd1kuW6PwAAAAAAAAAAAAAAAAAAAAAd+spZGjW6v6s2ob1Jxs2/yfqw7oehzb90hApw1x6/vxndimSkfcu/wC0yIvQ0hb4AAAAAAAAAAF/IEg2rDdC/RrJDyVLsmz8s5Nj0HSjEv8M99ovxj9i/fOOWg4hxsL+q50LYmkZcvhJ01zFPaXq+60PPzfUi1L+QWAEw2EC+v4nPArK2jb6/OK2Q/HVnsL/+MuiapKWiPyQSwswHoqe+AAAAAAAAAABaRpZUW4zLv61SWKgU4qU/ukk4XuAK5r8LCqPBm3R2v3A1Up8vvcq/AAAAAAAAAAAAAAAAAAAAAIskL/O4Rty/fnSYZl9qyb8YctilY8LRv9/b+PEj8Nm/ggBKc079x78AAAAAAAAAAAAAAAAAAAAAtV6ebV487L+7IaSrL2TSvx1EFmAtFuW/NrarEfzj4b/PQs/2eqzTv242flyM6ZO/AAAAAAAAAAACJc8kLrbqv8y48SObpLe/AAAAAAAAAACsRzjeMwWvv3F68To6VYK/AAAAAAAAAAAAAAAAAAAAAO2ztZEp2NS/Q0gGKXEwz79r1F1Ok0izP3DaXQJYMrS/egzQ6oXrzr8AAAAAAAAAAAAAAAAAAAAAxplpvAMG8L/XJaPah1LSv+kr0U54gtO/9AZ9sRCDt79OhO4ZpOTIvwAAAAAAAAAAAAAAAAAAAACbYQTCVfXdv7azS36KTcy/pFt9jn6A5b/WI1gW/37jvxWP2J1ONtS/AAAAAAAAAAAAAAAAAAAAALVZaINQt+G/LPYAZdwq6L8vACXGhbbGv9+Q8rkoKMy/1zZSlN/Uw78AAAAAAAAAAAAAAAAAAAAAvvb/HvM20r//9B345k7Vv+CfotiC2p6/A2CmoEY5wz+2VAH+xvXXPwAAAAAAAAAAAAAAAAAAAAAEdGyJj+jhv1YUKEAqV82/gcbYMinAtz/dHVWKC5Ddv8OEw+52hru/AAAAAAAAAAAAAAAAAAAAAFxZHvgnNOq/TsF85MASy7/xXILY1ei5P7kJzTFj8sw/rpyajVSkxD+Ugdh8RDnBPwAAAAAAAAAARgauckltvD+CcVL7CB55P66pPgB5ZMQ//PaJu12H078AAAAAAAAAAAAAAAAAAAAAAAAAAAAAAAC4h0T9n53Cv6eUwB0x8Yi/fwOrjdlkNr8AAAAAAAAAAAV8423khcC/AAAAAAAAAAAAAAAAAAAAAI4Oct+N7NG/SgsiIMsB7b99qVvZeEvHv8BpD00fxsa/1nGeqled5r8AAAAAAAAAAAAAAAAAAAAAIc7zPb9f6r/KsiQ6xUrYv3leWtj0k8S/9iugUUe52L8NyNjfVCblvymrr5QIBJy/AAAAAAAAAAB7yv0hNEz0vxuVGsP8HNi/AQzduiDOxb/h8DCUEsTRPyPvsgtJr9m/AAAAAAAAAAAAAAAAAAAAADIJrwlW0ty/J+QASh8Z2b/FW9cSCrDev9fNnyzakdi/TD2mbR/er78AAAAAAAAAAAAAAAAAAAAAIVLYIBx36b/BJ70QzoXgv2jiiQdhsss/djaP1X59wL/dx2QkfH3VvwAAAAAAAAAAAAAAAAAAAABRR8qGU5TSv26yPM0GgM6/3SvZlBwRyL8VhmMkUDrev+Mc12g1P9+//ezVVwEH0b8AAAAAAAAAAMe5AAE354O/AAAAAAAAAADsqfa8H/Xrv2jF+T6y8eC/uFrsU5rF1r8AAAAAAAAAAAAAAAAAAAAA0SxyNiIW7L9BHr/VobPcv2etNFEHsc2/t9fuV0CegD881FgaBqKKPwAAAAAAAAAAAAAAAAAAAAD69q8WJdrwvlUAHrJQKPS/nnax4wUrmT8q97WVjV3Uv0Y5vRGKVuG/AAAAAAAAAAAAAAAAAAAAALvOMUfwy+O/1a6TyStl4L8xOjy87nHav7wS4MkhSd6/KqrAow8C478AAAAAAAAAAAAAAAAAAAAAb63728Ly6b9H/F1CMxm5P4MwKwQUz+K/EnMv1nvV6797vGjdfB4EwAAAAAAAAAAAAAAAAAAAAABAZH9Makjwv5Xhlb21ntC/xYA8yRf7c78=\"},\"shape\":[454],\"dtype\":\"float64\",\"order\":\"little\"}]]}}},\"view\":{\"type\":\"object\",\"name\":\"CDSView\",\"id\":\"p5650\",\"attributes\":{\"filter\":{\"type\":\"object\",\"name\":\"AllIndices\",\"id\":\"p5651\"}}},\"glyph\":{\"type\":\"object\",\"name\":\"Line\",\"id\":\"p5646\",\"attributes\":{\"x\":{\"type\":\"field\",\"field\":\"x\"},\"y\":{\"type\":\"field\",\"field\":\"y\"},\"line_color\":\"#1f77b4\",\"line_width\":2}},\"nonselection_glyph\":{\"type\":\"object\",\"name\":\"Line\",\"id\":\"p5647\",\"attributes\":{\"x\":{\"type\":\"field\",\"field\":\"x\"},\"y\":{\"type\":\"field\",\"field\":\"y\"},\"line_color\":\"#1f77b4\",\"line_alpha\":0.1,\"line_width\":2}},\"muted_glyph\":{\"type\":\"object\",\"name\":\"Line\",\"id\":\"p5648\",\"attributes\":{\"x\":{\"type\":\"field\",\"field\":\"x\"},\"y\":{\"type\":\"field\",\"field\":\"y\"},\"line_color\":\"#1f77b4\",\"line_alpha\":0.2,\"line_width\":2}}}},{\"type\":\"object\",\"name\":\"GlyphRenderer\",\"id\":\"p5658\",\"attributes\":{\"data_source\":{\"type\":\"object\",\"name\":\"ColumnDataSource\",\"id\":\"p5652\",\"attributes\":{\"selected\":{\"type\":\"object\",\"name\":\"Selection\",\"id\":\"p5653\",\"attributes\":{\"indices\":[],\"line_indices\":[]}},\"selection_policy\":{\"type\":\"object\",\"name\":\"UnionRenderers\",\"id\":\"p5654\"},\"data\":{\"type\":\"map\",\"entries\":[[\"x\",{\"type\":\"ndarray\",\"array\":{\"type\":\"bytes\",\"data\":\"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\"},\"shape\":[454],\"dtype\":\"float64\",\"order\":\"little\"}],[\"y\",{\"type\":\"ndarray\",\"array\":{\"type\":\"bytes\",\"data\":\"5moNzhW3wL8AAAAAAAAAAAAAAAAAAAAA1O3uXt1txb8nbtpC9TlhP1c3ujxN5lu/gz7StasGtD+4bV9E8WNev96ltyy82UM/AAAAAAAAAAAWMuztZLiZv7HM0SL7wAm/yfcDSiRyhb+nULQxTjWWP6ZbHQCrcHE/AAAAAAAAAAAAAAAAAAAAAP5J/4nkOKi/pjKzZri3rb/ghIa7ERxpvw67uA98DaU/EadEk5Xrrr/+EFMp0kZUPwAAAAAAAAAA2EUbOTfls7+05vnPhACgv1OQyDjn07K/UtnrSA6Frb/5mlkaRQXLv0MzbWXM7oG/H03Wv12Of79Dh9xIOiXOv35gZ/SgDa+/BsmG6+YRVz95hOmx32SvPwEm6H8t7bm/3qW3LLzZQz8AAAAAAAAAAPonDLePP8a/7m5GGlE+eL8GyYbr5hFXP+HNYyFnmrE/ToyoYRTsgj8AAAAAAAAAAAAAAAAAAAAAcl55eZwBv79256y8XMu8v8o+G0aIWYE/RUibiyEzoT+U8Y9y/jp/PwAAAAAAAAAAAAAAAAAAAACNAS/0NEjAvykNpnrsgIK/uLHudeGEjL+Cfn7NNL84v1qCrtEM5VY/AAAAAAAAAAAAAAAAAAAAAO/2qDHmBPW+IUDk4iirw7/0NJ28bX2Av3GiTmQKZLY/g2AOcKiBdT8AAAAAAAAAAAAAAAAAAAAAfYCsmO4str/eQE8xV1N7v9UwQomS2JG/qbuX03nXtj+7eX0zUsOnvwAAAAAAAAAAAAAAAAAAAABm433VITpnP+hVg6m9TZ2/fOft8J+PZD8k5YmDgaWwPw9P2/Tj32A/AAAAAAAAAAAAAAAAAAAAAH26WQL+I76/pqJaSp64jr+dos9PDXhMP/85B2gEQ7I/PXwslt1vSL8AAAAAAAAAAAAAAAAAAAAAbeMJY5wepL/06LzDpKegvz31BJ0lyHO/T/5xjHAorz+W8f9Sl30/PwAAAAAAAAAAAAAAAAAAAACns78SeHPFv02ISprK35a/RNuzn7Kobr+xiQni7PiyP9TknrZaK0O/AAAAAAAAAAAAAAAAAAAAAAJLEVEcfb2/dQJEgmrRt7/xy+waDLhaP8YjUrcSiLQ/uG1fRPFjXr8AAAAAAAAAAAAAAAAAAAAA1lgRk1URu78XrQuYkEy2v9XVb+qT1TE/JAY2vnXCsT93OhUBmHRUvwAAAAAAAAAAAAAAAAAAAABD6CtFMoeZv8M4UbGg2pu/AsWIstMCdr+8XVRQi9aeP7XpRfKb4WE/AAAAAAAAAAAAAAAAAAAAAIOewzqnEbG/4m2x83gIQ79XN7o8TeZbv3BmJIph/5a/Y0kKR4/LQb8AAAAAAAAAAAAAAAAAAAAAiPeEcYwJsL/ibbHzeAhDvx9z117Juqq/wFtzOsz2tz98ADDOWdZZP96ltyy82UM/AAAAAAAAAACK5asHXUSPv+JtsfN4CEO/UL9Zcx6Fiz8m0Ssn27S3P1FsxkSO62o/ickfZg5QVT8AAAAAAAAAAFPBqGcJooq/+RjLIGvMVr+YD5J/2Aejv3cPY5PBuqA/PdZszuvvZz8jI09Q5zw1PwAAAAAAAAAAvAGCKc/pvb8xMlniBaO3v8+Fop3920o/GgaoJ6BEtD+x/t8xJjJ9v58GGaBA4YC/AAAAAAAAAAC82u6/vNq4vw+Yk1HxJHo/800rvdyWsL/f9DpVzaOxP2PpktBSWkE/AAAAAAAAAAAAAAAAAAAAAEllFM3GSnq/2pVp6F2mxL+9xdAVVbRcv5/p2DevvLE/fAAwzlnWWT8AAAAAAAAAAAAAAAAAAAAAb8EC6qtslL8pTuwmuTu8v1yZD2t7qk0/o8rKabcdtD8Fsyk9IO0jv+jyqXzNQX6/V260xoASbr9G0X0C0bPIv1p3SzMVR8u/DTsadmGCZz+QWU5M79azPwZk6fNZw7G/AAAAAAAAAAAAAAAAAAAAACAIDONaor6/sOFzRzEUvL9xlXIR1T2Sv+CMwPAbRXw/AIlTjzkfhL8AAAAAAAAAAAAAAAAAAAAAVLpdyWbfur8nbtpC9TlhPwAAAAAAAAAALKDwrMTJsT+3mBT4u453PwAAAAAAAAAAAAAAAAAAAABXqAD9llaov32T36MZ4lg/AAAAAAAAAABUL+BM092xP0vxay8PfB8/PUZHh45kEj8AAAAAAAAAAGGo5Dh+RKi/d/qI3SD0or/NJing+Gxev24nwURpl7A/IG9YEe7JcD8AAAAAAAAAAAAAAAAAAAAAi8u2F4+rs79XN7o8TeZbvwAAAAAAAAAA0R55IyQBtj/m6As7MAlkPwAAAAAAAAAAAAAAAAAAAACiMW3STWy4vwAAAAAAAAAAnaLPTw14TD8gt9N3o661P15JJ5axLnw/AAAAAAAAAAAAAAAAAAAAALTQYvmQaLi/AAAAAAAAAABcmQ9re6pNP0Xe9aVgTLE/3DWFQMV8Rz8AAAAAAAAAAAAAAAAAAAAAhrudbdCUwr/FSob+w2WJv7c5tQQrBYe/T6Vgmr6BoL+W8f9Sl30/PwAAAAAAAAAAAAAAAAAAAADtcsz1bI3Av6DQf99TFJC/2+kY03Qvm79D+TKT4qSgP/1Q91t8snq/AAAAAAAAAAAAAAAAAAAAANHDgpsN1cO/UGfIhviVvb+Zad55zhN4v4WmKvFLELM/ZtesR58qdj8AAAAAAAAAAAAAAAAAAAAASe93R8WAv79vyiPqaO+nv4ypmz00eRS/wD4ljtInqT+De7oM8pB8vwAAAAAAAAAAAAAAAAAAAAA7f1tCFzTAv8X3Ac2Pz6O/4m2x83gIQ78puYqozB+uPwWzKT0g7SO/AAAAAAAAAAAAAAAAAAAAACAAG3+8L7G/SSVskEX4rL9XN7o8TeZbv9gAS4YSgbE/BbMpPSDtI78AAAAAAAAAAAAAAAAAAAAA9nfgDz7Eub9cmQ9re6pNP1GmqWhtS5m/V1NRPanUvb+W8f9Sl30/PwAAAAAAAAAAAAAAAAAAAABxK8ql2La3v5GdV9KcslC/FMfpo1ubcL/3uDP0zeWVvyZwVNzNImq/AAAAAAAAAAAAAAAAAAAAAIjz7WL9uMi/XJkPa3uqTT+t+NLfsE+wv1TzMHE0FJc/pm8EDxiOg78AAAAAAAAAAAAAAAAAAAAAyxaPgIMxx788Epe1WM6vv0u6O8G5Pc2/Fr7jwTaQvb/DJXpfAOrBv8kcPedRNJG/0ZawmAHAd7+/VjQZ8FDOv8YSLOqn38u/mXIQ4YLjyr83I6urvt/Gv2BVVaqK58C/AAAAAAAAAAAAAAAAAAAAALhaMiafJca/Uiw45XA2tL/SNRRqvEu3v39sDLkeNFe/lnfYfIrvpr/wD4Av/jWCvwAAAAAAAAAAkujTMsL+wL9HIUbaCmrFv8PbN4LOzKS/OtqKMeVQtb85AAc0kEbHvwcWZ2fn+IG/co8jIPOWdr99vcayT7LLv0+YPtqGqsC/qlTjWThJgL/S2gRYTke1v9py/0q1scO/Jvb6yOt5lr89J3cNF558vw61dWaBVs2/dm4r3uB30L/bX1sFlYzSv8u2N72YhLO/VX+TY9Xbzb9ld7q9Bwh9vx9N1r9djn+/D5CBJWnmzL9NtZjOc67Kv61KfkZ0E8S/WrAMbQuOvb/UpA1lpXGPv96ltyy82UM/AAAAAAAAAAAd7z4mKHnCv0GN17Fw08a/+KxSCJb4ub8PiXQYxROtvyAthzIGc4i/AAAAAAAAAAAAAAAAAAAAAOMbpEu2Dc6/0Kfv6/jPzL/W6210B/N1v+8nYGEmNb+/Z7OpBl4ZkL8AAAAAAAAAAA8W6bxH3Dg/XQXEGxWuyL/gMNbaE66Pv7S77Ut2V3m/GqWHagKRsT8uTCWFBfaBvwAAAAAAAAAAAAAAAAAAAAABWSXaXGm3v+vqKJLHqLG/h+QlOk4HWj8avPkL0/Wuv3wAMM5Z1lk/AAAAAAAAAAAAAAAAAAAAAJRedjjguaO/AAAAAAAAAAAoIQSrX5yZv9euBkvXlTw/Bwn0S8AkXr/HCr5B3Hakv0/jvsEZ0IK/+5nycvdilr+WSqrOlqi2v7aMsI6pg6K/FK+7YfJQuL/UwM2IJs63v8CxH2dhP6e/NxLEZ+fVkb+r9OhH/nvMv9JoCk1U/My/8jtyJw+ntr+WmtjsIUC9v8tKuZU8xbu/BxZnZ+f4gb9yjyMg85Z2v6KRmJxD1M6/d7KAzNSjxb+aJOwjhnmqv9MQjRBF57O/cRPGB9bvzL+o9wala2Z6v/5C85OkfHO/bRDpWr3Lyr+JYxVpDQPSv/NH+F/hhcW/hZP8oRN8vr/ufRNRJoLJv6fSTkQcp1u/DtQirTsPiL8F41w7HyHMv5RBYDAixsi/inlvtks4pb8A6vd6BCafv8ZmSsKXhMy/USnm7xa8cr+7nv9G8POVv2zIOWupRs+/mP5iZ5IF0L/Dqi5oaW+2v3sb3Bzlr9K/8zBTK7rE0b8z2ffH3hepvwAAAAAAAAAA+5uapvl1yb+MhjIdBsnRvylysgOSrMO/81FnKC0C0r+8mpUBR0PLv6fSTkQcp1u/DtQirTsPiL9xe2iUDUDJv/fpQYqBIr6/+xcWxxVDyb8PRHeNBLLBv9EzGgTUy8i/icSMhlnbn78mQpgRz0uHvwIvawasQa6/QXVC85Qhy7/BGyhijWrMvxBs8xPO5NG/SPJHfsJs0b93vOhGLGScv7o1WK79iJS/3iifTtqUzr+aUnIbGDnOv9irBnFs3Me/+70E/N5o0r8m8lLMlqTTv/PKUvwfHaq/mGZsnQOqpr+VQAe+N2/QvwxNL7vqCtC/vdQyi5S20r8=\"},\"shape\":[454],\"dtype\":\"float64\",\"order\":\"little\"}]]}}},\"view\":{\"type\":\"object\",\"name\":\"CDSView\",\"id\":\"p5659\",\"attributes\":{\"filter\":{\"type\":\"object\",\"name\":\"AllIndices\",\"id\":\"p5660\"}}},\"glyph\":{\"type\":\"object\",\"name\":\"Line\",\"id\":\"p5655\",\"attributes\":{\"x\":{\"type\":\"field\",\"field\":\"x\"},\"y\":{\"type\":\"field\",\"field\":\"y\"},\"line_color\":\"orange\",\"line_width\":2}},\"nonselection_glyph\":{\"type\":\"object\",\"name\":\"Line\",\"id\":\"p5656\",\"attributes\":{\"x\":{\"type\":\"field\",\"field\":\"x\"},\"y\":{\"type\":\"field\",\"field\":\"y\"},\"line_color\":\"orange\",\"line_alpha\":0.1,\"line_width\":2}},\"muted_glyph\":{\"type\":\"object\",\"name\":\"Line\",\"id\":\"p5657\",\"attributes\":{\"x\":{\"type\":\"field\",\"field\":\"x\"},\"y\":{\"type\":\"field\",\"field\":\"y\"},\"line_color\":\"orange\",\"line_alpha\":0.2,\"line_width\":2}}}}],\"toolbar\":{\"type\":\"object\",\"name\":\"Toolbar\",\"id\":\"p5564\",\"attributes\":{\"tools\":[{\"type\":\"object\",\"name\":\"PanTool\",\"id\":\"p5624\"},{\"type\":\"object\",\"name\":\"WheelZoomTool\",\"id\":\"p5625\"},{\"type\":\"object\",\"name\":\"BoxZoomTool\",\"id\":\"p5626\",\"attributes\":{\"overlay\":{\"type\":\"object\",\"name\":\"BoxAnnotation\",\"id\":\"p5627\",\"attributes\":{\"syncable\":false,\"level\":\"overlay\",\"visible\":false,\"left_units\":\"canvas\",\"right_units\":\"canvas\",\"bottom_units\":\"canvas\",\"top_units\":\"canvas\",\"line_color\":\"black\",\"line_alpha\":1.0,\"line_width\":2,\"line_dash\":[4,4],\"fill_color\":\"lightgrey\",\"fill_alpha\":0.5}}}},{\"type\":\"object\",\"name\":\"ResetTool\",\"id\":\"p5628\"},{\"type\":\"object\",\"name\":\"SaveTool\",\"id\":\"p5629\"},{\"type\":\"object\",\"name\":\"BoxSelectTool\",\"id\":\"p5630\",\"attributes\":{\"renderers\":\"auto\",\"overlay\":{\"type\":\"object\",\"name\":\"BoxAnnotation\",\"id\":\"p5631\",\"attributes\":{\"syncable\":false,\"level\":\"overlay\",\"visible\":false,\"left_units\":\"canvas\",\"right_units\":\"canvas\",\"bottom_units\":\"canvas\",\"top_units\":\"canvas\",\"line_color\":\"black\",\"line_alpha\":1.0,\"line_width\":2,\"line_dash\":[4,4],\"fill_color\":\"lightgrey\",\"fill_alpha\":0.5}}}},{\"type\":\"object\",\"name\":\"HoverTool\",\"id\":\"p5555\",\"attributes\":{\"renderers\":\"auto\",\"tooltips\":[[\"date\",\"@x{%d-%m-%YT%H:%M:%S}\"],[\"value\",\"@y\"]],\"formatters\":{\"type\":\"map\",\"entries\":[[\"@x\",\"datetime\"]]},\"mode\":\"vline\"}}],\"active_scroll\":{\"id\":\"p5625\"}}},\"left\":[{\"type\":\"object\",\"name\":\"LinearAxis\",\"id\":\"p5617\",\"attributes\":{\"ticker\":{\"type\":\"object\",\"name\":\"BasicTicker\",\"id\":\"p5620\",\"attributes\":{\"mantissas\":[1,2,5]}},\"formatter\":{\"type\":\"object\",\"name\":\"BasicTickFormatter\",\"id\":\"p5618\"},\"axis_label\":\"value\",\"major_label_policy\":{\"type\":\"object\",\"name\":\"AllLabels\",\"id\":\"p5619\"}}}],\"below\":[{\"type\":\"object\",\"name\":\"DatetimeAxis\",\"id\":\"p5574\",\"attributes\":{\"ticker\":{\"type\":\"object\",\"name\":\"DatetimeTicker\",\"id\":\"p5577\",\"attributes\":{\"num_minor_ticks\":5,\"tickers\":[{\"type\":\"object\",\"name\":\"AdaptiveTicker\",\"id\":\"p5578\",\"attributes\":{\"num_minor_ticks\":0,\"mantissas\":[1,2,5],\"max_interval\":500.0}},{\"type\":\"object\",\"name\":\"AdaptiveTicker\",\"id\":\"p5579\",\"attributes\":{\"num_minor_ticks\":0,\"base\":60,\"mantissas\":[1,2,5,10,15,20,30],\"min_interval\":1000.0,\"max_interval\":1800000.0}},{\"type\":\"object\",\"name\":\"AdaptiveTicker\",\"id\":\"p5580\",\"attributes\":{\"num_minor_ticks\":0,\"base\":24,\"mantissas\":[1,2,4,6,8,12],\"min_interval\":3600000.0,\"max_interval\":43200000.0}},{\"type\":\"object\",\"name\":\"DaysTicker\",\"id\":\"p5581\",\"attributes\":{\"days\":[1,2,3,4,5,6,7,8,9,10,11,12,13,14,15,16,17,18,19,20,21,22,23,24,25,26,27,28,29,30,31]}},{\"type\":\"object\",\"name\":\"DaysTicker\",\"id\":\"p5582\",\"attributes\":{\"days\":[1,4,7,10,13,16,19,22,25,28]}},{\"type\":\"object\",\"name\":\"DaysTicker\",\"id\":\"p5583\",\"attributes\":{\"days\":[1,8,15,22]}},{\"type\":\"object\",\"name\":\"DaysTicker\",\"id\":\"p5584\",\"attributes\":{\"days\":[1,15]}},{\"type\":\"object\",\"name\":\"MonthsTicker\",\"id\":\"p5585\",\"attributes\":{\"months\":[0,1,2,3,4,5,6,7,8,9,10,11]}},{\"type\":\"object\",\"name\":\"MonthsTicker\",\"id\":\"p5586\",\"attributes\":{\"months\":[0,2,4,6,8,10]}},{\"type\":\"object\",\"name\":\"MonthsTicker\",\"id\":\"p5587\",\"attributes\":{\"months\":[0,4,8]}},{\"type\":\"object\",\"name\":\"MonthsTicker\",\"id\":\"p5588\",\"attributes\":{\"months\":[0,6]}},{\"type\":\"object\",\"name\":\"YearsTicker\",\"id\":\"p5589\"}]}},\"formatter\":{\"type\":\"object\",\"name\":\"DatetimeTickFormatter\",\"id\":\"p5554\",\"attributes\":{\"hours\":\"%d %B %Y\",\"days\":\"%d %B %Y\",\"months\":\"%d %B %Y\",\"years\":\"%d %B %Y\"}},\"axis_label\":\"time\",\"major_label_policy\":{\"type\":\"object\",\"name\":\"AllLabels\",\"id\":\"p5576\"}}}],\"center\":[{\"type\":\"object\",\"name\":\"Grid\",\"id\":\"p5616\",\"attributes\":{\"axis\":{\"id\":\"p5574\"}}},{\"type\":\"object\",\"name\":\"Grid\",\"id\":\"p5623\",\"attributes\":{\"dimension\":1,\"axis\":{\"id\":\"p5617\"}}}]}}]}};\n",
              "  const render_items = [{\"docid\":\"81759925-d2a1-48f3-851f-bca9c532ed02\",\"roots\":{\"p5556\":\"2b1a0d3e-7a0b-4298-8cea-6026c3023b5f\"},\"root_ids\":[\"p5556\"]}];\n",
              "  root.Bokeh.embed.embed_items_notebook(docs_json, render_items);\n",
              "  }\n",
              "  if (root.Bokeh !== undefined) {\n",
              "    embed_document(root);\n",
              "  } else {\n",
              "    let attempts = 0;\n",
              "    const timer = setInterval(function(root) {\n",
              "      if (root.Bokeh !== undefined) {\n",
              "        clearInterval(timer);\n",
              "        embed_document(root);\n",
              "      } else {\n",
              "        attempts++;\n",
              "        if (attempts > 100) {\n",
              "          clearInterval(timer);\n",
              "          console.log(\"Bokeh: ERROR: Unable to run BokehJS code because BokehJS library is missing\");\n",
              "        }\n",
              "      }\n",
              "    }, 10, root)\n",
              "  }\n",
              "})(window);"
            ],
            "application/vnd.bokehjs_exec.v0+json": ""
          },
          "metadata": {
            "application/vnd.bokehjs_exec.v0+json": {
              "id": "p5556"
            }
          },
          "output_type": "display_data"
        }
      ],
      "source": [
        "plot_ts(ts_test['y'], rf_pred, title = 'RandomForrest')"
      ]
    },
    {
      "cell_type": "markdown",
      "id": "vPQO62-v3Fy1",
      "metadata": {
        "id": "vPQO62-v3Fy1"
      },
      "source": [
        "Лучшая модель в ходе тестов - RF\n"
      ]
    },
    {
      "cell_type": "markdown",
      "id": "1e98079c",
      "metadata": {
        "id": "1e98079c"
      },
      "source": [
        "Попробуем найти время, через какой период понадобится refit модели:\n",
        "\n",
        "Берем различные выборки на обучение. Для каждой считаем как качество ухудшается по мере удаления по времени от обучающей выборки. Если увидим, что в какой-то момент качество начинает проседать и этот паттерн повториться и на других обуч выборках, то рефит нужно делать раньше"
      ]
    },
    {
      "cell_type": "code",
      "execution_count": null,
      "id": "2bb73643",
      "metadata": {
        "id": "2bb73643"
      },
      "outputs": [],
      "source": [
        "best_features = filter_feature_selection(ts_train.drop('y', axis=1), data['y'], n = 20)"
      ]
    },
    {
      "cell_type": "code",
      "execution_count": null,
      "id": "976d5aa0",
      "metadata": {
        "id": "976d5aa0",
        "outputId": "4fcb0e91-a97a-4b3d-b95f-c05c7122a972"
      },
      "outputs": [
        {
          "data": {
            "image/png": "[encoded data removed]",
            "text/plain": [
              "<Figure size 800x1000 with 5 Axes>"
            ]
          },
          "metadata": {},
          "output_type": "display_data"
        }
      ],
      "source": [
        "model = RandomForestRegressor(criterion='absolute_error', max_depth=3, max_features=0.6,\n",
        "                      max_samples=0.8, min_samples_leaf=2, min_samples_split=5,\n",
        "                      n_estimators=150, n_jobs=1, random_state=4)\n",
        "\n",
        "step = 5\n",
        "metrics = []\n",
        "for frac_test in np.arange(0.5,1, 0.1):\n",
        "  split_idx = int(len(data) * frac_test)\n",
        "  ts_train, ts_test = data[:split_idx], data[split_idx:]\n",
        "  model.fit(ts_train[best_features], ts_train['y'])\n",
        "  preds = model.predict(ts_test[best_features])\n",
        "  preds = pd.Series(preds, index = ts_test.index)\n",
        "  metric = [confidence_bands(ts_test.iloc[i:i+step]['y']-preds.iloc[i: i+step], th = 3)[1]\\\n",
        "            for i in range(0, len(ts_test), step)]\n",
        "  metrics.append(metric)\n",
        "\n",
        "fig, axes = plt.subplots(5, 1, figsize=(8, 10))\n",
        "for i in range(5):\n",
        "  axes[i].plot(metrics[i])\n",
        "plt.show()"
      ]
    },
    {
      "cell_type": "markdown",
      "id": "ae683c43",
      "metadata": {
        "id": "ae683c43"
      },
      "source": [
        "У нас нет просадки видимой качества по мере отдаления от обучающей выборки. Но, поскольку, хуже от refit модели не будет, будем каждые 14 дней переобучать модель"
      ]
    },
    {
      "cell_type": "markdown",
      "id": "d7998f80",
      "metadata": {
        "id": "d7998f80"
      },
      "source": [
        "## Метрика стабильности"
      ]
    },
    {
      "cell_type": "markdown",
      "id": "d38e505c",
      "metadata": {
        "id": "d38e505c"
      },
      "source": [
        "В качестве метрики стабильности между i и j набором фичей будет рассматриваться мера схожести как евклидово расстояние есть (есть фича- (1 - 1), фича пропала - (1 - 0), за все итеррации будет браться среднее)"
      ]
    },
    {
      "cell_type": "code",
      "execution_count": null,
      "id": "4527d471",
      "metadata": {
        "id": "4527d471"
      },
      "outputs": [],
      "source": [
        "def euclidean_distance(feature_i, feature_j):\n",
        "    n = 0\n",
        "    for feature in feature_j:\n",
        "        if feature in feature_i:\n",
        "            n+=1\n",
        "    return np.sqrt(n)"
      ]
    },
    {
      "cell_type": "markdown",
      "id": "e7c7e8ce",
      "metadata": {
        "id": "e7c7e8ce"
      },
      "source": [
        "## Прогон модели"
      ]
    },
    {
      "cell_type": "code",
      "execution_count": null,
      "id": "a46d980f",
      "metadata": {
        "id": "a46d980f"
      },
      "outputs": [],
      "source": [
        "def find_params(curr_data):\n",
        "    '''\n",
        "    Модуль для подбора гиперпараметров\n",
        "    В качестве модели используем случайный лес\n",
        "    '''\n",
        "    test_num = 90\n",
        "    X = curr_data.drop('y', axis=1)\n",
        "    y = curr_data['y']\n",
        "    model = RandomForestRegressor()\n",
        "\n",
        "    # Создаем список, где тренировочные индексы помечена -1, а валидационные 0\n",
        "    split_index = [-1] * (X.shape[0] - test_num) + [0] * test_num\n",
        "\n",
        "    pds = PredefinedSplit(test_fold = split_index)\n",
        "\n",
        "    # описание сетки гиперпараметров\n",
        "    param_grid = {\n",
        "        'max_depth' : [2, 3, 5, 7, 9, 11, 13],\n",
        "        'max_features' : [0.5, 0.6, 0.7, 0.8],\n",
        "        'max_samples' : [None, 0.5, 0.6, 0.7, 0.8],\n",
        "        'min_samples_split' : [2, 5, 7],\n",
        "        'min_samples_leaf' : [1, 2, 4, 6],\n",
        "        'n_estimators' : [150],\n",
        "        'criterion' : ['absolute_error'],\n",
        "        'random_state' : [4],\n",
        "        'n_jobs' : [1]\n",
        "\n",
        "    }\n",
        "\n",
        "    clf = RandomizedSearchCV(estimator = model,\n",
        "                             cv=pds,\n",
        "                             param_distributions=param_grid,\n",
        "                             n_jobs=-1,\n",
        "                             refit=False,\n",
        "                             n_iter=30,\n",
        "                             scoring=our_metric,\n",
        "                             verbose=0)\n",
        "    search = clf.fit(X, y)\n",
        "    return search.best_params_"
      ]
    },
    {
      "cell_type": "code",
      "execution_count": null,
      "id": "3321b815",
      "metadata": {
        "id": "3321b815",
        "outputId": "9c9bf150-2dd3-461b-9e99-22949ceca68e",
        "scrolled": true
      },
      "outputs": [
        {
          "name": "stderr",
          "output_type": "stream",
          "text": [
            "100%|██████████████████████████████████████████████████████████████████████████████████| 20/20 [02:53<00:00,  8.65s/it]\n"
          ]
        }
      ],
      "source": [
        "from datetime import timedelta\n",
        "from tqdm import tqdm\n",
        "\n",
        "param_resel_freq = 14\n",
        "refit_freq = 14\n",
        "last_refit_date = pd.to_datetime('2000-01-01')\n",
        "last_param_resel_date = pd.to_datetime('2000-01-01')\n",
        "preds = []\n",
        "\n",
        "\n",
        "daterange = pd.date_range('2020-01-01', '2020-01-20')\n",
        "for curr_date in tqdm(daterange):\n",
        "    detector = AnomalyDetector(backward_window_size=30, forward_window_size=14,\n",
        "                               threshold=3, drift=1.1)\n",
        "\n",
        "    # если за последнюю неделю 6 или более аномалий, то разладка\n",
        "    anomalies = detector.detect(ts.loc[:curr_date, 'Balance'])\n",
        "    if anomalies.iloc[-7:].sum() >= 6:\n",
        "        print(f'Обнаружена разладка:')\n",
        "        plt.figure(figsize=(14, 4))\n",
        "        plt.plot(ts.loc[:curr_date, 'Balance'])\n",
        "        tmp_anoms = anomalies.replace(0, np.nan).dropna()\n",
        "        plt.scatter(tmp_anoms.index, ts.loc[tmp_anoms.index, 'Balance'],\n",
        "                    color='red')\n",
        "        plt.grid()\n",
        "        plt.show()\n",
        "\n",
        "    data = make_features(calendar_features=calendar_features,\n",
        "                         time_series=ts.loc[:curr_date+timedelta(days=1),\n",
        "                                            'Balance'],\n",
        "                        usd_course_feature=usd_course).dropna()\n",
        "    #break\n",
        "    if (curr_date - last_param_resel_date).days >= param_resel_freq or \\\n",
        "            anomalies.iloc[-7:].sum() >= 6:\n",
        "        params = find_params(data.loc[:curr_date])\n",
        "        last_param_resel_date = curr_date\n",
        "\n",
        "    if (curr_date - last_refit_date).days >= refit_freq or \\\n",
        "            anomalies.iloc[-7:].sum() >= 6:\n",
        "        model = RandomForestRegressor(**params)\n",
        "        model.fit(data.loc[:curr_date].drop('y', axis=1), data.loc[:curr_date, 'y'])\n",
        "        last_refit_date = curr_date\n",
        "    preds.append(model.predict(data.iloc[-1:].drop('y', axis=1)))"
      ]
    },
    {
      "cell_type": "code",
      "execution_count": null,
      "id": "ba0e45a3",
      "metadata": {
        "id": "ba0e45a3"
      },
      "outputs": [],
      "source": [
        "preds = np.asarray([i[0] for i in preds])"
      ]
    },
    {
      "cell_type": "code",
      "execution_count": null,
      "id": "6c32302f",
      "metadata": {
        "id": "6c32302f",
        "outputId": "5dd6b0dd-c4cc-4760-c6ac-fd85e4e558f1"
      },
      "outputs": [
        {
          "data": {
            "text/plain": [
              "array([ 0.00322523, -0.1644026 , -0.01017845, -0.00308352, -0.12969317,\n",
              "        0.06308782, -0.03463139,  0.06780116, -0.07653059, -0.00471786,\n",
              "       -0.00182833, -0.14340163,  0.03629958, -0.04002978,  0.01242516,\n",
              "       -0.04111052, -0.00448317, -0.00150225, -0.15695352, -0.08340534])"
            ]
          },
          "execution_count": 379,
          "metadata": {},
          "output_type": "execute_result"
        }
      ],
      "source": [
        "preds"
      ]
    },
    {
      "cell_type": "code",
      "execution_count": null,
      "id": "ce60aa48",
      "metadata": {
        "id": "ce60aa48"
      },
      "outputs": [],
      "source": [
        "y_true = ts.loc[daterange, 'Balance'].values"
      ]
    },
    {
      "cell_type": "code",
      "execution_count": null,
      "id": "9a094258",
      "metadata": {
        "id": "9a094258",
        "outputId": "139595d7-4b29-4b5b-ba3b-7588cf3b8909"
      },
      "outputs": [
        {
          "data": {
            "text/plain": [
              "0.15109933057367303"
            ]
          },
          "execution_count": 381,
          "metadata": {},
          "output_type": "execute_result"
        }
      ],
      "source": [
        "mae(y_true, preds)"
      ]
    },
    {
      "cell_type": "markdown",
      "id": "b1f0b4d9",
      "metadata": {
        "id": "b1f0b4d9"
      },
      "source": [
        "# Фильтрационные методы:"
      ]
    },
    {
      "cell_type": "code",
      "execution_count": null,
      "id": "94270c05",
      "metadata": {
        "id": "94270c05",
        "outputId": "e477fe59-f985-4e78-972d-43fa6ae57e6b"
      },
      "outputs": [
        {
          "data": {
            "text/plain": [
              "['rolling_median_weekday',\n",
              " 'lag_1',\n",
              " 'rolling_mean_weekday',\n",
              " 'rolling_min_weekday',\n",
              " 'rolling_mean',\n",
              " 'rolling_max_weekday',\n",
              " 'rolling_min',\n",
              " 'lag_month_1',\n",
              " 'rolling_std_weekday',\n",
              " 'lag_month1',\n",
              " 'чт',\n",
              " 'чт',\n",
              " 'median_month']"
            ]
          },
          "execution_count": 384,
          "metadata": {},
          "output_type": "execute_result"
        }
      ],
      "source": [
        "find_best_feature_space(model, data.loc[:curr_date].drop('y', axis=1), data.loc[:curr_date, 'y'])"
      ]
    },
    {
      "cell_type": "code",
      "execution_count": null,
      "id": "ddba01ac",
      "metadata": {
        "id": "ddba01ac",
        "outputId": "0ef2280c-9ac3-4831-b14e-f53d172e4c3e"
      },
      "outputs": [
        {
          "data": {
            "text/plain": [
              "['rolling_median_weekday',\n",
              " 'rolling_mean_weekday',\n",
              " 'rolling_median',\n",
              " 'rolling_min_weekday',\n",
              " 'usd_rub_course',\n",
              " 'rolling_mean',\n",
              " 'rolling_max_weekday',\n",
              " 'чт',\n",
              " 'mean_month',\n",
              " 'lag_1',\n",
              " 'rolling_min',\n",
              " 'lag_2',\n",
              " 'сентябрь',\n",
              " 'min_month',\n",
              " 'max_month']"
            ]
          },
          "execution_count": 385,
          "metadata": {},
          "output_type": "execute_result"
        }
      ],
      "source": [
        "filter_feature_selection(data.loc[:curr_date].drop('y', axis=1), data.loc[:curr_date, 'y'])"
      ]
    },
    {
      "cell_type": "code",
      "execution_count": null,
      "id": "535a7f18",
      "metadata": {
        "id": "535a7f18",
        "outputId": "dd8f0545-a6e2-474b-a17f-155f9b56b6eb"
      },
      "outputs": [
        {
          "data": {
            "text/plain": [
              "['rolling_std',\n",
              " 'rolling_min',\n",
              " 'пн',\n",
              " 'чт',\n",
              " 'выходной',\n",
              " 'налоговый_день',\n",
              " 'rolling_max',\n",
              " 'rolling_mean',\n",
              " 'сб',\n",
              " 'rolling_max_weekday',\n",
              " 'rolling_std_weekday',\n",
              " 'rolling_min_weekday',\n",
              " 'вс',\n",
              " 'lag_3',\n",
              " 'usd_rub_course']"
            ]
          },
          "execution_count": 386,
          "metadata": {},
          "output_type": "execute_result"
        }
      ],
      "source": [
        "linear_feature_selection(data.loc[:curr_date].drop('y', axis=1), data.loc[:curr_date, 'y'])"
      ]
    },
    {
      "cell_type": "markdown",
      "id": "c552123d",
      "metadata": {
        "id": "c552123d"
      },
      "source": [
        "# Бизнес-процесс:"
      ]
    },
    {
      "cell_type": "markdown",
      "id": "3ce40a19",
      "metadata": {
        "id": "3ce40a19"
      },
      "source": [
        "Посчитаем доход от размещения на рынке деривативов за период '2020-01-01' - '2020-01-20':\n",
        "За этот период процентная ставка равнялась 6.25%\n"
      ]
    },
    {
      "cell_type": "code",
      "execution_count": null,
      "id": "0558b142",
      "metadata": {
        "id": "0558b142",
        "outputId": "c6cfbd63-67c8-436f-f3f8-86f96f9e1c46"
      },
      "outputs": [
        {
          "data": {
            "text/plain": [
              "array([0.0625, 0.0625, 0.0625, 0.0625, 0.0625, 0.0625, 0.0625, 0.0625,\n",
              "       0.0625, 0.0625, 0.0625, 0.0625, 0.0625, 0.0625, 0.0625, 0.0625,\n",
              "       0.0625, 0.0625, 0.0625, 0.0625])"
            ]
          },
          "execution_count": 418,
          "metadata": {},
          "output_type": "execute_result"
        }
      ],
      "source": [
        "key_rates = np.ones(y_true.shape)*6.25/100\n",
        "key_rates"
      ]
    },
    {
      "cell_type": "code",
      "execution_count": null,
      "id": "aa9562d0",
      "metadata": {
        "id": "aa9562d0"
      },
      "outputs": [],
      "source": [
        "def fin_effect(y_preds, y_true, key_rates):\n",
        "    profits = []\n",
        "    for i in range(len(y_preds)):\n",
        "        if preds[i] > 0:\n",
        "            profit = (key_rates[i] + 0.5/100) * preds[i]\n",
        "            if y_true[i]> y_preds[i]:\n",
        "                profit += (y_true[i]- y_preds[i]) * (key_rates[i] + 0.9/100)\n",
        "            else:\n",
        "                profit -= (y_true[i]- y_preds[i]) * (key_rates[i] + 1/100)\n",
        "        else:\n",
        "            profit = 0\n",
        "        profits.append(profit)\n",
        "    return sum(profits)"
      ]
    },
    {
      "cell_type": "markdown",
      "id": "529db37c",
      "metadata": {
        "id": "529db37c"
      },
      "source": [
        "Получим доход за размещение на рынке деривативов за период '2020-01-01' - '2020-01-20':"
      ]
    },
    {
      "cell_type": "code",
      "execution_count": null,
      "id": "44e4d524",
      "metadata": {
        "id": "44e4d524",
        "outputId": "30308795-ed98-42d4-9db4-361d92a2aa4b"
      },
      "outputs": [
        {
          "data": {
            "text/plain": [
              "0.05153299042673326"
            ]
          },
          "execution_count": 420,
          "metadata": {},
          "output_type": "execute_result"
        }
      ],
      "source": [
        "fin_effect(preds, y_true, key_rates)"
      ]
    },
    {
      "cell_type": "code",
      "execution_count": null,
      "id": "46e5a798",
      "metadata": {
        "id": "46e5a798"
      },
      "outputs": [],
      "source": []
    }
  ],
  "metadata": {
    "colab": {
      "collapsed_sections": [
        "1166db13-fa0a-41cd-a9c8-4e552eb10f55"
      ],
      "provenance": []
    },
    "kernelspec": {
      "display_name": "Python 3 (ipykernel)",
      "language": "python",
      "name": "python3"
    },
    "language_info": {
      "codemirror_mode": {
        "name": "ipython",
        "version": 3
      },
      "file_extension": ".py",
      "mimetype": "text/x-python",
      "name": "python",
      "nbconvert_exporter": "python",
      "pygments_lexer": "ipython3",
      "version": "3.11.5"
    }
  },
  "nbformat": 4,
  "nbformat_minor": 5
}